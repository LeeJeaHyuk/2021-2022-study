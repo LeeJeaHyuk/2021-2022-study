{
  "nbformat": 4,
  "nbformat_minor": 0,
  "metadata": {
    "colab": {
      "name": "혼자 공분하는 머신러닝2",
      "provenance": [],
      "collapsed_sections": [
        "bp0Q3VAna4IX",
        "0UAcy_kinoTJ",
        "Hcp8lGD-n4Tx"
      ],
      "toc_visible": true,
      "authorship_tag": "ABX9TyP3gnCM+5pMw54DIjqaeExq",
      "include_colab_link": true
    },
    "kernelspec": {
      "name": "python3",
      "display_name": "Python 3"
    }
  },
  "cells": [
    {
      "cell_type": "markdown",
      "metadata": {
        "id": "view-in-github",
        "colab_type": "text"
      },
      "source": [
        "<a href=\"https://colab.research.google.com/github/LeeJeaHyuk/colab-sync-practice/blob/main/%ED%98%BC%EC%9E%90_%EA%B3%B5%EB%B6%84%ED%95%98%EB%8A%94_%EB%A8%B8%EC%8B%A0%EB%9F%AC%EB%8B%9D2.ipynb\" target=\"_parent\"><img src=\"https://colab.research.google.com/assets/colab-badge.svg\" alt=\"Open In Colab\"/></a>"
      ]
    },
    {
      "cell_type": "markdown",
      "metadata": {
        "id": "2CnlfwPa00Uq"
      },
      "source": [
        "#전체"
      ]
    },
    {
      "cell_type": "markdown",
      "metadata": {
        "id": "bp0Q3VAna4IX"
      },
      "source": [
        "## 3장 회귀 알고리즘\r\n"
      ]
    },
    {
      "cell_type": "markdown",
      "metadata": {
        "id": "jiLQ2ND5bBI6"
      },
      "source": [
        "회귀 : 두 변수 사이의 상관관계를 분석하는 방법\r\n"
      ]
    },
    {
      "cell_type": "code",
      "metadata": {
        "id": "O6WTEp9DKePS"
      },
      "source": [
        "import numpy as np\r\n",
        "perch_length = np.array([8.4, 13.7, 15.0, 16.2, 17.4, 18.0, 18.7, 19.0, 19.6, 20.0, 21.0,\r\n",
        "       21.0, 21.0, 21.3, 22.0, 22.0, 22.0, 22.0, 22.0, 22.5, 22.5, 22.7,\r\n",
        "       23.0, 23.5, 24.0, 24.0, 24.6, 25.0, 25.6, 26.5, 27.3, 27.5, 27.5,\r\n",
        "       27.5, 28.0, 28.7, 30.0, 32.8, 34.5, 35.0, 36.5, 36.0, 37.0, 37.0,\r\n",
        "       39.0, 39.0, 39.0, 40.0, 40.0, 40.0, 40.0, 42.0, 43.0, 43.0, 43.5,\r\n",
        "       44.0])\r\n",
        "perch_weight = np.array([5.9, 32.0, 40.0, 51.5, 70.0, 100.0, 78.0, 80.0, 85.0, 85.0, 110.0,\r\n",
        "       115.0, 125.0, 130.0, 120.0, 120.0, 130.0, 135.0, 110.0, 130.0,\r\n",
        "       150.0, 145.0, 150.0, 170.0, 225.0, 145.0, 188.0, 180.0, 197.0,\r\n",
        "       218.0, 300.0, 260.0, 265.0, 250.0, 250.0, 300.0, 320.0, 514.0,\r\n",
        "       556.0, 840.0, 685.0, 700.0, 700.0, 690.0, 900.0, 650.0, 820.0,\r\n",
        "       850.0, 900.0, 1015.0, 820.0, 1100.0, 1000.0, 1100.0, 1000.0,\r\n",
        "       1000.0])"
      ],
      "execution_count": 52,
      "outputs": []
    },
    {
      "cell_type": "code",
      "metadata": {
        "colab": {
          "base_uri": "https://localhost:8080/",
          "height": 0
        },
        "id": "QZmoVJtEbpOA",
        "outputId": "c1578ecf-9577-464b-841f-18885d8d253e"
      },
      "source": [
        "import matplotlib.pyplot as plt\r\n",
        "plt.scatter(perch_length, perch_weight)\r\n",
        "plt.xlabel('length')\r\n",
        "plt.ylabel('weight')\r\n",
        "plt.show()"
      ],
      "execution_count": 53,
      "outputs": [
        {
          "output_type": "display_data",
          "data": {
            "image/png": "[encoded data removed]",
            "text/plain": [
              "<Figure size 432x288 with 1 Axes>"
            ]
          },
          "metadata": {
            "tags": [],
            "needs_background": "light"
          }
        }
      ]
    },
    {
      "cell_type": "code",
      "metadata": {
        "id": "ST_htbFsb6EW"
      },
      "source": [
        "from sklearn.model_selection import train_test_split\r\n",
        "train_input, test_input, train_target, test_target = train_test_split(perch_length, perch_weight, random_state=42)"
      ],
      "execution_count": 54,
      "outputs": []
    },
    {
      "cell_type": "markdown",
      "metadata": {
        "id": "RPos8C54ckWm"
      },
      "source": [
        "크기를 바꿀 수 있는 넘파이 배열 reshape() 메서드\r\n",
        "\r\n",
        "변환 시 지정한 크기가 같아야 함\r\n"
      ]
    },
    {
      "cell_type": "code",
      "metadata": {
        "colab": {
          "base_uri": "https://localhost:8080/"
        },
        "id": "JJjeJtiocfQu",
        "outputId": "1ab9f49d-945d-4ac6-b681-fa8b50e5d9c8"
      },
      "source": [
        "#(4,)->(2,2)\r\n",
        "test_array = np.array([1,2,3,4])\r\n",
        "print(test_array.shape)\r\n",
        "test_array = test_array.reshape(2,2)\r\n",
        "print(test_array.shape)\r\n",
        "test_array = test_array.reshape(-1,1)\r\n",
        "print(test_array.shape)"
      ],
      "execution_count": 55,
      "outputs": [
        {
          "output_type": "stream",
          "text": [
            "(4,)\n",
            "(2, 2)\n",
            "(4, 1)\n"
          ],
          "name": "stdout"
        }
      ]
    },
    {
      "cell_type": "markdown",
      "metadata": {
        "id": "0UAcy_kinoTJ"
      },
      "source": [
        "## reshape 연습"
      ]
    },
    {
      "cell_type": "code",
      "metadata": {
        "colab": {
          "base_uri": "https://localhost:8080/"
        },
        "id": "LqbBa1brk-EJ",
        "outputId": "cbd25e6c-1c4b-4d70-a13f-0d1745942627"
      },
      "source": [
        "#(-1,n) : n만큼 열을 맞춰주고 나머지를 배열한다.\r\n",
        "test_array1 = np.array([[1,2,3,4],[5,6,7,8],[9,10,11,12]])\r\n",
        "print(test_array1.shape)\r\n",
        "test_array1 = test_array1.reshape(-1,1)\r\n",
        "print(test_array1.shape)\r\n",
        "test_array1 = test_array1.reshape(-1,2)\r\n",
        "print(test_array1.shape)\r\n",
        "test_array1 = test_array1.reshape(-1,3)\r\n",
        "print(test_array1.shape)\r\n",
        "print(test_array1)\r\n",
        "\r\n",
        "# (n,-1) : n만큼 행을 맞춰주고 나머지 배열\r\n",
        "test_array1 = test_array1.reshape(1,-1)\r\n",
        "print(test_array1.shape)"
      ],
      "execution_count": 56,
      "outputs": [
        {
          "output_type": "stream",
          "text": [
            "(3, 4)\n",
            "(12, 1)\n",
            "(6, 2)\n",
            "(4, 3)\n",
            "[[ 1  2  3]\n",
            " [ 4  5  6]\n",
            " [ 7  8  9]\n",
            " [10 11 12]]\n",
            "(1, 12)\n"
          ],
          "name": "stdout"
        }
      ]
    },
    {
      "cell_type": "code",
      "metadata": {
        "colab": {
          "base_uri": "https://localhost:8080/"
        },
        "id": "qrsA4YXqc_xF",
        "outputId": "97ba2c64-9af2-42d0-ac0f-9e3d8e85c738"
      },
      "source": [
        "print(train_input.shape, test_input.shape)\r\n",
        "train_input = train_input.reshape(-1,1)\r\n",
        "test_input = test_input.reshape(-1,1)\r\n",
        "print(train_input.shape, test_input.shape)"
      ],
      "execution_count": 57,
      "outputs": [
        {
          "output_type": "stream",
          "text": [
            "(42,) (14,)\n",
            "(42, 1) (14, 1)\n"
          ],
          "name": "stdout"
        }
      ]
    },
    {
      "cell_type": "markdown",
      "metadata": {
        "id": "Hcp8lGD-n4Tx"
      },
      "source": [
        "## $결정계수(R^2)$"
      ]
    },
    {
      "cell_type": "markdown",
      "metadata": {
        "id": "LxY0ZCvDn6nB"
      },
      "source": [
        "k-NN(KNN, k-Nearest Neighbor, k-최근접 이웃)\r\n",
        "\r\n",
        "**KNN-Regression(k-최근접 이웃 회귀) 알고리즘**\r\n",
        "\r\n",
        "\r\n"
      ]
    },
    {
      "cell_type": "code",
      "metadata": {
        "colab": {
          "base_uri": "https://localhost:8080/"
        },
        "id": "Ys0EkAzed83A",
        "outputId": "e00551e6-cc38-45f3-abfb-bb6bf6d027e4"
      },
      "source": [
        "from sklearn.neighbors import KNeighborsRegressor\r\n",
        "\r\n",
        "knr = KNeighborsRegressor()\r\n",
        "\r\n",
        "# k-최근접 이숫 회귀 모델 훈련\r\n",
        "knr.fit(train_input, train_target)\r\n",
        "print(knr.score(test_input, test_target))"
      ],
      "execution_count": 58,
      "outputs": [
        {
          "output_type": "stream",
          "text": [
            "0.9928094061010639\n"
          ],
          "name": "stdout"
        }
      ]
    },
    {
      "cell_type": "markdown",
      "metadata": {
        "id": "leXPF_xNq5U7"
      },
      "source": [
        "위의 점수의 의미: 정답을 맞힌 개수의 비율\r\n",
        "\r\n",
        "회귀에서는 이 값을 결정계수R^2라고 부른다\r\n",
        "\r\n",
        "$R^2 = 1-\\frac{(타깃-예측)^2의 합}{(타깃-평균)^2의 합}$\r\n"
      ]
    },
    {
      "cell_type": "code",
      "metadata": {
        "colab": {
          "base_uri": "https://localhost:8080/"
        },
        "id": "tCE83Uoeq29j",
        "outputId": "ee785adf-09ac-4b0c-f372-898a71c0f2f5"
      },
      "source": [
        "# mean_absolute_error는 타깃과 예측의 절댓값 오차를 평균하여 반환한다.\r\n",
        "from sklearn.metrics import mean_absolute_error\r\n",
        "\r\n",
        "# 테스트 세트에 대한 예측\r\n",
        "test_prediction = knr.predict(test_input)\r\n",
        "\r\n",
        "#테스트 세트에 대한 평균 절댓값 오차를 계산\r\n",
        "mae = mean_absolute_error(test_target, test_prediction)\r\n",
        "print(mae)\r\n",
        "\r\n",
        "\r\n"
      ],
      "execution_count": 59,
      "outputs": [
        {
          "output_type": "stream",
          "text": [
            "19.157142857142862\n"
          ],
          "name": "stdout"
        }
      ]
    },
    {
      "cell_type": "markdown",
      "metadata": {
        "id": "JH5c9VR3tCiq"
      },
      "source": [
        "예측이 평균적으로 19g정도 타깃값과 다르다는 것을 뜻한다."
      ]
    },
    {
      "cell_type": "markdown",
      "metadata": {
        "id": "-h4ahy0etLwi"
      },
      "source": [
        "## 과대적합 vs 과소적합"
      ]
    },
    {
      "cell_type": "code",
      "metadata": {
        "colab": {
          "base_uri": "https://localhost:8080/"
        },
        "id": "xlekJI2Js2x8",
        "outputId": "55671ebf-3168-4aa4-adc4-ec48f9c5d4af"
      },
      "source": [
        "# 훈련 세트의 R^2점수\r\n",
        "print(knr.score(train_input, train_target))\r\n"
      ],
      "execution_count": 60,
      "outputs": [
        {
          "output_type": "stream",
          "text": [
            "0.9698823289099255\n"
          ],
          "name": "stdout"
        }
      ]
    },
    {
      "cell_type": "markdown",
      "metadata": {
        "id": "kn_AxlT2thLz"
      },
      "source": [
        "훈련점수 > 테스트점수 = 훈련 세트에 \r\n",
        "**과대적합**되었다\r\n",
        "\r\n",
        "훈련점수 < 테스트점수 or 둘 다 낮음 = 훈련 세트에 \r\n",
        "**과소적합**되었다"
      ]
    },
    {
      "cell_type": "markdown",
      "metadata": {
        "id": "v6PhJ6X_uGBr"
      },
      "source": [
        "과소적합의 경우 해결법\r\n",
        "\r\n",
        "이웃의 개수 k를 줄이는 것\r\n",
        "\r\n",
        "의미 : 훈련 세트에 있는 국지적인 패턴에 민감해지고, 이웃의 개수를 늘리면 데이터 전반에 있는 일반적인 패턴을 따를 것\r\n",
        "\r\n",
        "기존에는 5개의 가까운 데이터를 평균내는데\r\n",
        "이제는 3개의 가까운 데이터를 평균낸다\r\n",
        "\r\n",
        "의문 : 더 적은 값을 참고하게 되는 것이 아닌가?"
      ]
    },
    {
      "cell_type": "code",
      "metadata": {
        "colab": {
          "base_uri": "https://localhost:8080/"
        },
        "id": "fcARnE05tWbb",
        "outputId": "36717025-ec51-4761-ba49-3ebebfcd02ac"
      },
      "source": [
        "# 이웃의 개수 설정\r\n",
        "knr.n_neighbors =3\r\n",
        "\r\n",
        "#모델 재훈련\r\n",
        "knr.fit(train_input, train_target)\r\n",
        "print(knr.score(train_input, train_target))"
      ],
      "execution_count": 61,
      "outputs": [
        {
          "output_type": "stream",
          "text": [
            "0.9804899950518966\n"
          ],
          "name": "stdout"
        }
      ]
    },
    {
      "cell_type": "code",
      "metadata": {
        "colab": {
          "base_uri": "https://localhost:8080/"
        },
        "id": "YMdeN7hl6yqb",
        "outputId": "97f099c0-2b1c-42f3-80e5-89c6fa2ce342"
      },
      "source": [
        "print(knr.score(test_input, test_target))"
      ],
      "execution_count": 62,
      "outputs": [
        {
          "output_type": "stream",
          "text": [
            "0.974645996398761\n"
          ],
          "name": "stdout"
        }
      ]
    },
    {
      "cell_type": "markdown",
      "metadata": {
        "id": "nRT8tdOSH80V"
      },
      "source": [
        "## 선형 회귀"
      ]
    },
    {
      "cell_type": "markdown",
      "metadata": {
        "id": "OgxiLazxV2AU"
      },
      "source": [
        "### 선형 회귀"
      ]
    },
    {
      "cell_type": "markdown",
      "metadata": {
        "id": "Ns6xVSIH9DFb"
      },
      "source": [
        "기존 값과 동떨어진 아주 큰 값의 오류를 어떻게 해결할 것인가?"
      ]
    },
    {
      "cell_type": "code",
      "metadata": {
        "colab": {
          "base_uri": "https://localhost:8080/"
        },
        "id": "ZjMxqSv59MvB",
        "outputId": "a0d45f89-eb71-4e1f-8a38-97305826d65d"
      },
      "source": [
        "print(knr.predict([[50]]))"
      ],
      "execution_count": 63,
      "outputs": [
        {
          "output_type": "stream",
          "text": [
            "[1033.33333333]\n"
          ],
          "name": "stdout"
        }
      ]
    },
    {
      "cell_type": "code",
      "metadata": {
        "colab": {
          "base_uri": "https://localhost:8080/",
          "height": 279
        },
        "id": "JwYIOMIo9Rd0",
        "outputId": "841f3e07-b19e-4cdf-f398-8bef7ca38fae"
      },
      "source": [
        "import matplotlib.pyplot as plt\r\n",
        "\r\n",
        "distance, indexes = knr.kneighbors([[50]])\r\n",
        "\r\n",
        "plt.scatter(train_input, train_target)\r\n",
        "plt.scatter(train_input[indexes], train_target[indexes], marker='D')\r\n",
        "\r\n",
        "#50cm 농어 데이터 \r\n",
        "plt.scatter(50, 1033, marker='^')\r\n",
        "plt.xlabel('length')\r\n",
        "plt.ylabel('weight')\r\n",
        "plt.show()"
      ],
      "execution_count": 64,
      "outputs": [
        {
          "output_type": "display_data",
          "data": {
            "image/png": "[encoded data removed]",
            "text/plain": [
              "<Figure size 432x288 with 1 Axes>"
            ]
          },
          "metadata": {
            "tags": [],
            "needs_background": "light"
          }
        }
      ]
    },
    {
      "cell_type": "markdown",
      "metadata": {
        "id": "VyiAIqzH-jal"
      },
      "source": [
        "모델은 가장 가까운 값을 찾아서 평균내므로 가장 큰 값이나 가장 작은 값이 문제로 나올 경우 엉뚱한 값을 예측한다."
      ]
    },
    {
      "cell_type": "code",
      "metadata": {
        "colab": {
          "base_uri": "https://localhost:8080/"
        },
        "id": "daWCm1F1r-GB",
        "outputId": "c97bc074-bcc0-425b-fe87-771cc6ac74a5"
      },
      "source": [
        "# 이웃 샘플의 평균\r\n",
        "print(np.mean(train_target[indexes]))"
      ],
      "execution_count": 65,
      "outputs": [
        {
          "output_type": "stream",
          "text": [
            "1033.3333333333333\n"
          ],
          "name": "stdout"
        }
      ]
    },
    {
      "cell_type": "markdown",
      "metadata": {
        "id": "Qa-wg4N1HZfA"
      },
      "source": [
        "가장 높은 샘플 값을 가져오면 항상 이웃 샘플의 평균 값으로 값을 측정하는 오류"
      ]
    },
    {
      "cell_type": "markdown",
      "metadata": {
        "id": "OoHyp7TfJOsO"
      },
      "source": [
        "### 데이터들을 표현하는 직선을 찾기\r\n",
        "\r\n"
      ]
    },
    {
      "cell_type": "code",
      "metadata": {
        "colab": {
          "base_uri": "https://localhost:8080/"
        },
        "id": "fkej9XFo95U9",
        "outputId": "3ada588f-9a65-47aa-e6cc-0b1ae9039fd5"
      },
      "source": [
        "from sklearn.linear_model import LinearRegression\r\n",
        "lr = LinearRegression()\r\n",
        "\r\n",
        "#선형 회귀 모델\r\n",
        "lr.fit(train_input, train_target)\r\n",
        "\r\n",
        "# 50cm 농어 예측\r\n",
        "print(lr.predict([[50]]))\r\n",
        "\r\n",
        "# 기울기coefficient(가중치) / 절편이 궁금하면\r\n",
        "print(lr.coef_,lr.intercept_)"
      ],
      "execution_count": 66,
      "outputs": [
        {
          "output_type": "stream",
          "text": [
            "[1241.83860323]\n",
            "[39.01714496] -709.0186449535477\n"
          ],
          "name": "stdout"
        }
      ]
    },
    {
      "cell_type": "markdown",
      "metadata": {
        "id": "lmKj0G81M9uJ"
      },
      "source": [
        "$농어 무게 = a*농어길이+b$\r\n",
        "\r\n",
        "a = lr.coef_ \\\\\r\n",
        "b = lr.intercept_\r\n"
      ]
    },
    {
      "cell_type": "code",
      "metadata": {
        "colab": {
          "base_uri": "https://localhost:8080/",
          "height": 279
        },
        "id": "ys0G-PLDJtLd",
        "outputId": "9cd66ee1-1e6a-4cd9-aba4-e325b7e3f4b2"
      },
      "source": [
        "#선형 그래프\r\n",
        "plt.scatter(train_input, train_target)\r\n",
        "\r\n",
        "#1차 방정식 그래프 \r\n",
        "plt.plot([15,50],[lr.coef_, lr.coef_])\r\n",
        "plt.plot([15,50],[15*lr.coef_, 50*lr.coef_])\r\n",
        "plt.plot([15, 50], [15*lr.coef_+lr.intercept_, 50*lr.coef_+lr.intercept_])\r\n",
        "\r\n",
        "#50cm 농어 데이터\r\n",
        "plt.scatter(50, 1241.8, marker='^')\r\n",
        "plt.xlabel('length')\r\n",
        "plt.ylabel('weight')\r\n",
        "plt.show()"
      ],
      "execution_count": 67,
      "outputs": [
        {
          "output_type": "display_data",
          "data": {
            "image/png": "[encoded data removed]",
            "text/plain": [
              "<Figure size 432x288 with 1 Axes>"
            ]
          },
          "metadata": {
            "tags": [],
            "needs_background": "light"
          }
        }
      ]
    },
    {
      "cell_type": "markdown",
      "metadata": {
        "id": "LayPNfNVT5ay"
      },
      "source": [
        "### 다항 회귀"
      ]
    },
    {
      "cell_type": "markdown",
      "metadata": {
        "id": "BhBhLRkCT7Xh"
      },
      "source": [
        "다항 회귀 : 다항식을 사용한 선형 회귀\r\n",
        "\r\n",
        "직선이 0이하가 될 수 있는 오류\r\n",
        "\r\n",
        "그래프의 산점도를 확인하면 직선보다는 곡선이 더 알맞음 : 2차 방정식의 그래프가 필요하다\r\n",
        "\r\n",
        "2차 방정식의 그래프를 그리기 위해서는 길이의 제곱 데이터가 필요하다"
      ]
    },
    {
      "cell_type": "code",
      "metadata": {
        "id": "GqiNIumhT5Ty"
      },
      "source": [
        "train_poly = np.column_stack((train_input ** 2, train_input))\r\n",
        "test_poly = np.column_stack((test_input ** 2, test_input))"
      ],
      "execution_count": 68,
      "outputs": []
    },
    {
      "cell_type": "markdown",
      "metadata": {
        "id": "Xwg9idI0VBPL"
      },
      "source": [
        "train_poly = np.column_stack((train_input ** 2, train_input)) \\\\\r\n",
        "train_input에 있는 모든 항을 제곱하여 train_poly를 만든다.\r\n",
        "\r\n",
        "\r\n",
        "train_input ** "
      ]
    },
    {
      "cell_type": "code",
      "metadata": {
        "colab": {
          "base_uri": "https://localhost:8080/"
        },
        "id": "bMm_J2mjJrv_",
        "outputId": "b9a5a581-723c-4013-800b-763b1e7209ca"
      },
      "source": [
        "print(train_poly.shape, test_poly.shape)"
      ],
      "execution_count": 69,
      "outputs": [
        {
          "output_type": "stream",
          "text": [
            "(42, 2) (14, 2)\n"
          ],
          "name": "stdout"
        }
      ]
    },
    {
      "cell_type": "code",
      "metadata": {
        "colab": {
          "base_uri": "https://localhost:8080/"
        },
        "id": "cstvILMIXnVs",
        "outputId": "a498443d-11bd-46fb-a57d-cdf609c3146a"
      },
      "source": [
        "lr = LinearRegression()\r\n",
        "lr.fit(train_poly, train_target)\r\n",
        "print(lr.predict([[50**2, 50]]))\r\n",
        "\r\n",
        "print(lr.coef_, lr.intercept_)"
      ],
      "execution_count": 70,
      "outputs": [
        {
          "output_type": "stream",
          "text": [
            "[1573.98423528]\n",
            "[  1.01433211 -21.55792498] 116.05021078278276\n"
          ],
          "name": "stdout"
        }
      ]
    },
    {
      "cell_type": "code",
      "metadata": {
        "colab": {
          "base_uri": "https://localhost:8080/",
          "height": 279
        },
        "id": "RnZj3XbeVk1t",
        "outputId": "b9112a58-c63e-4514-e0aa-e2c978368238"
      },
      "source": [
        "point = np.arange(15,50)\r\n",
        "\r\n",
        "plt.scatter(train_input, train_target)\r\n",
        "\r\n",
        "plt.plot(point, 1.01*point**2 -21.6*point + 116.05)\r\n",
        "\r\n",
        "plt.scatter(50, 1574, marker='^')\r\n",
        "plt.xlabel('length')\r\n",
        "plt.ylabel('weight')\r\n",
        "plt.show()"
      ],
      "execution_count": 71,
      "outputs": [
        {
          "output_type": "display_data",
          "data": {
            "image/png": "[encoded data removed]",
            "text/plain": [
              "<Figure size 432x288 with 1 Axes>"
            ]
          },
          "metadata": {
            "tags": [],
            "needs_background": "light"
          }
        }
      ]
    },
    {
      "cell_type": "code",
      "metadata": {
        "colab": {
          "base_uri": "https://localhost:8080/"
        },
        "id": "tkNZzvNFW_Af",
        "outputId": "fc26a384-24e4-4bfa-87d2-64cd1954672b"
      },
      "source": [
        "print(lr.score(train_poly, train_target))\r\n",
        "print(lr.score(test_poly, test_target))"
      ],
      "execution_count": 72,
      "outputs": [
        {
          "output_type": "stream",
          "text": [
            "0.9706807451768623\n",
            "0.9775935108325122\n"
          ],
          "name": "stdout"
        }
      ]
    },
    {
      "cell_type": "markdown",
      "metadata": {
        "id": "KJAlwbwvY2cL"
      },
      "source": [
        "## 특성 공학과 규제"
      ]
    },
    {
      "cell_type": "markdown",
      "metadata": {
        "id": "lyIikK95Y7i6"
      },
      "source": [
        "###다중 회귀"
      ]
    },
    {
      "cell_type": "markdown",
      "metadata": {
        "id": "GKoXefoMZEdk"
      },
      "source": [
        "다중 회귀 : 여러 개의 특성을 사용한 선형 회귀  \\\\\r\n",
        "특성 1개 : 선을 학습 \\\\\r\n",
        "특성 2개 : 평면을 학습 \\\\\r\n",
        "\r\n",
        "특성 공학 : 새로운 특성을 뽑아낸는 작업\r\n",
        "농어 길이 X 농어 높이 = 새로운 특성을 뽑기"
      ]
    },
    {
      "cell_type": "markdown",
      "metadata": {
        "id": "xKT3naFNZqr8"
      },
      "source": [
        "###판다스"
      ]
    },
    {
      "cell_type": "markdown",
      "metadata": {
        "id": "toA7kYO9Zu1D"
      },
      "source": [
        "판다스 : 데이터 분석 라이브러리\r\n",
        "\r\n",
        "CSV파일(  ,로 나누어져 있는 텍스트 파일)을 함수에 주소를 넣어서 불러올 수 있음"
      ]
    },
    {
      "cell_type": "code",
      "metadata": {
        "colab": {
          "base_uri": "https://localhost:8080/"
        },
        "id": "lr1SKa6nYsW0",
        "outputId": "e1221cdc-d749-451e-9094-d775090e0130"
      },
      "source": [
        "import pandas as pd\r\n",
        "df = pd.read_csv('https://bit.ly/perch_csv')\r\n",
        "\r\n",
        "# to_numpy()로 넘파이 배열로 바꾸기\r\n",
        "perch_full = df.to_numpy()\r\n",
        "print(perch_full)"
      ],
      "execution_count": 73,
      "outputs": [
        {
          "output_type": "stream",
          "text": [
            "[[ 8.4   2.11  1.41]\n",
            " [13.7   3.53  2.  ]\n",
            " [15.    3.82  2.43]\n",
            " [16.2   4.59  2.63]\n",
            " [17.4   4.59  2.94]\n",
            " [18.    5.22  3.32]\n",
            " [18.7   5.2   3.12]\n",
            " [19.    5.64  3.05]\n",
            " [19.6   5.14  3.04]\n",
            " [20.    5.08  2.77]\n",
            " [21.    5.69  3.56]\n",
            " [21.    5.92  3.31]\n",
            " [21.    5.69  3.67]\n",
            " [21.3   6.38  3.53]\n",
            " [22.    6.11  3.41]\n",
            " [22.    5.64  3.52]\n",
            " [22.    6.11  3.52]\n",
            " [22.    5.88  3.52]\n",
            " [22.    5.52  4.  ]\n",
            " [22.5   5.86  3.62]\n",
            " [22.5   6.79  3.62]\n",
            " [22.7   5.95  3.63]\n",
            " [23.    5.22  3.63]\n",
            " [23.5   6.28  3.72]\n",
            " [24.    7.29  3.72]\n",
            " [24.    6.38  3.82]\n",
            " [24.6   6.73  4.17]\n",
            " [25.    6.44  3.68]\n",
            " [25.6   6.56  4.24]\n",
            " [26.5   7.17  4.14]\n",
            " [27.3   8.32  5.14]\n",
            " [27.5   7.17  4.34]\n",
            " [27.5   7.05  4.34]\n",
            " [27.5   7.28  4.57]\n",
            " [28.    7.82  4.2 ]\n",
            " [28.7   7.59  4.64]\n",
            " [30.    7.62  4.77]\n",
            " [32.8  10.03  6.02]\n",
            " [34.5  10.26  6.39]\n",
            " [35.   11.49  7.8 ]\n",
            " [36.5  10.88  6.86]\n",
            " [36.   10.61  6.74]\n",
            " [37.   10.84  6.26]\n",
            " [37.   10.57  6.37]\n",
            " [39.   11.14  7.49]\n",
            " [39.   11.14  6.  ]\n",
            " [39.   12.43  7.35]\n",
            " [40.   11.93  7.11]\n",
            " [40.   11.73  7.22]\n",
            " [40.   12.38  7.46]\n",
            " [40.   11.14  6.63]\n",
            " [42.   12.8   6.87]\n",
            " [43.   11.93  7.28]\n",
            " [43.   12.51  7.42]\n",
            " [43.5  12.6   8.14]\n",
            " [44.   12.49  7.6 ]]\n"
          ],
          "name": "stdout"
        }
      ]
    },
    {
      "cell_type": "code",
      "metadata": {
        "id": "WI9uBArNaeyN"
      },
      "source": [
        "import numpy as np\r\n",
        "perch_weight = np.array([5.9, 32.0, 40.0, 51.5, 70.0, 100.0, 78.0, 80.0, 85.0, 85.0, 110.0,\r\n",
        "       115.0, 125.0, 130.0, 120.0, 120.0, 130.0, 135.0, 110.0, 130.0,\r\n",
        "       150.0, 145.0, 150.0, 170.0, 225.0, 145.0, 188.0, 180.0, 197.0,\r\n",
        "       218.0, 300.0, 260.0, 265.0, 250.0, 250.0, 300.0, 320.0, 514.0,\r\n",
        "       556.0, 840.0, 685.0, 700.0, 700.0, 690.0, 900.0, 650.0, 820.0,\r\n",
        "       850.0, 900.0, 1015.0, 820.0, 1100.0, 1000.0, 1100.0, 1000.0,\r\n",
        "       1000.0])"
      ],
      "execution_count": 74,
      "outputs": []
    },
    {
      "cell_type": "code",
      "metadata": {
        "id": "JCz5YKTtavt8"
      },
      "source": [
        "from sklearn.model_selection import train_test_split\r\n",
        "train_input, test_input, train_target, test_target = train_test_split(perch_full, perch_weight, random_state=42)"
      ],
      "execution_count": 75,
      "outputs": []
    },
    {
      "cell_type": "markdown",
      "metadata": {
        "id": "3cyNh2U-auAe"
      },
      "source": [
        "### 사이킷런의 변환기"
      ]
    },
    {
      "cell_type": "markdown",
      "metadata": {
        "id": "zZw6-gKtbvhJ"
      },
      "source": [
        "변환기 : 특성을 만들거나 전처리하기 위한 클래스 제공"
      ]
    },
    {
      "cell_type": "code",
      "metadata": {
        "id": "jg6sfcp9bf0V"
      },
      "source": [
        "from sklearn.preprocessing import PolynomialFeatures"
      ],
      "execution_count": 76,
      "outputs": []
    },
    {
      "cell_type": "code",
      "metadata": {
        "colab": {
          "base_uri": "https://localhost:8080/"
        },
        "id": "tN6JjqHhbuUD",
        "outputId": "2daa12da-5ab8-4120-84ec-6af989628938"
      },
      "source": [
        "poly = PolynomialFeatures()\r\n",
        "poly.fit([[2,3]])\r\n",
        "print(poly.transform([[2,3]]))\r\n"
      ],
      "execution_count": 77,
      "outputs": [
        {
          "output_type": "stream",
          "text": [
            "[[1. 2. 3. 4. 6. 9.]]\n"
          ],
          "name": "stdout"
        }
      ]
    },
    {
      "cell_type": "markdown",
      "metadata": {
        "id": "oD-Gai1Gca_E"
      },
      "source": [
        "PolynomialFeatures클래스는 각 특성을 제곱한 항을 추가하고 특성끼리 서로 곱한 항을 추가합니다 \\\\\r\n",
        "$1, 2, 3 , 2*2, 2*3, 3*3 $\r\n",
        "\r\n",
        "선형 방정식의 절편은 항상 값이 1일 특성과 곱해지는 계수이다. \\\\\r\n",
        "특성 (길이, 높이, 두깨, 1) \\\\\r\n",
        "하지만 사이킷런은 자동으로 절편을 추가하므로 1을 사용할 필요가 없다(p155) \\\\\r\n",
        "\r\n",
        "자동으로 절편을 추가한다는 것의 의미를 잘 모르겠음\r\n",
        "\r\n",
        "poly = PolynomialFeatures(include_bias=False)\r\n",
        "로 절편을 위한 항을 없앨 수 있다."
      ]
    },
    {
      "cell_type": "code",
      "metadata": {
        "colab": {
          "base_uri": "https://localhost:8080/"
        },
        "id": "K7iEeAiWcNoM",
        "outputId": "0ed31b11-ca12-4eb9-bfa2-c14ca604ab35"
      },
      "source": [
        "poly = PolynomialFeatures(include_bias=False)\r\n",
        "poly.fit(train_input)\r\n",
        "train_poly = poly.transform(train_input)\r\n",
        "test_poly = poly.transform(test_input)\r\n",
        "print(train_poly.shape)\r\n",
        "poly.get_feature_names()"
      ],
      "execution_count": 78,
      "outputs": [
        {
          "output_type": "stream",
          "text": [
            "(42, 9)\n"
          ],
          "name": "stdout"
        },
        {
          "output_type": "execute_result",
          "data": {
            "text/plain": [
              "['x0', 'x1', 'x2', 'x0^2', 'x0 x1', 'x0 x2', 'x1^2', 'x1 x2', 'x2^2']"
            ]
          },
          "metadata": {
            "tags": []
          },
          "execution_count": 78
        }
      ]
    },
    {
      "cell_type": "markdown",
      "metadata": {
        "id": "D5VnPrDHl5I_"
      },
      "source": [
        "###다중 회귀 모델 훈련"
      ]
    },
    {
      "cell_type": "code",
      "metadata": {
        "colab": {
          "base_uri": "https://localhost:8080/"
        },
        "id": "_-Y-ot71d41v",
        "outputId": "8ba1efa5-896b-4bce-d24e-b8c063ac8921"
      },
      "source": [
        "from sklearn.linear_model import LinearRegression\r\n",
        "lr = LinearRegression()\r\n",
        "lr.fit(train_poly, train_target)\r\n",
        "print(lr.score(train_poly, train_target))\r\n",
        "print(lr.score(test_poly, test_target))"
      ],
      "execution_count": 79,
      "outputs": [
        {
          "output_type": "stream",
          "text": [
            "0.9903183436982124\n",
            "0.9714559911594132\n"
          ],
          "name": "stdout"
        }
      ]
    },
    {
      "cell_type": "markdown",
      "metadata": {
        "id": "ah0QM8fgoOcE"
      },
      "source": [
        "PolynomialFeatures 클래스의 degree매개변수를 사용하여 고차항의 최대 개수를 지정하기\r\n",
        "\r\n",
        "degree=5 : 5제곱까지 특성을 만들어 출력"
      ]
    },
    {
      "cell_type": "code",
      "metadata": {
        "colab": {
          "base_uri": "https://localhost:8080/"
        },
        "id": "Gz4L7dcPmtLl",
        "outputId": "72a15133-26ab-4e12-a5f7-fcdca1820ab9"
      },
      "source": [
        "poly = PolynomialFeatures(degree=5, include_bias=False)\r\n",
        "poly.fit(train_input)\r\n",
        "train_poly = poly.transform(train_input)\r\n",
        "test_poly = poly.transform(test_input)\r\n",
        "print(train_poly.shape)"
      ],
      "execution_count": 80,
      "outputs": [
        {
          "output_type": "stream",
          "text": [
            "(42, 55)\n"
          ],
          "name": "stdout"
        }
      ]
    },
    {
      "cell_type": "markdown",
      "metadata": {
        "id": "tk0a_SrIoci0"
      },
      "source": [
        "특성의 개수가 55개가 됨을 확인할 수 있다."
      ]
    },
    {
      "cell_type": "code",
      "metadata": {
        "colab": {
          "base_uri": "https://localhost:8080/"
        },
        "id": "39lJEhw8npok",
        "outputId": "33dad9a1-4352-4f52-fbb4-275679201c64"
      },
      "source": [
        "lr.fit(train_poly, train_target)\r\n",
        "print(lr.score(train_poly, train_target))\r\n",
        "print(lr.score(test_poly, test_target))"
      ],
      "execution_count": 81,
      "outputs": [
        {
          "output_type": "stream",
          "text": [
            "0.9999999999991096\n",
            "-144.40579242335605\n"
          ],
          "name": "stdout"
        }
      ]
    },
    {
      "cell_type": "markdown",
      "metadata": {
        "id": "7KgFi3r_oz6U"
      },
      "source": [
        "훈련 세트는 1과 가까운 거의 완벽한 점수임을 확인할 수 있다.\r\n",
        "하지만 테스트 세트는 오히려 음수 값이 나온다\r\n",
        "= 훈련 세트에 너무 많이 과대적합 한 것"
      ]
    },
    {
      "cell_type": "markdown",
      "metadata": {
        "id": "rb5_2Xw291zq"
      },
      "source": [
        "## 규제"
      ]
    },
    {
      "cell_type": "markdown",
      "metadata": {
        "id": "2BTz2_av93Bq"
      },
      "source": [
        "StandardScaler 클래스 : 특성을 표준점수를 변환하는 클래스"
      ]
    },
    {
      "cell_type": "code",
      "metadata": {
        "id": "_J0KkNTgoyjK"
      },
      "source": [
        "from sklearn.preprocessing import StandardScaler\r\n",
        "ss = StandardScaler()\r\n",
        "ss.fit(train_poly)\r\n",
        "train_scaled = ss.transform(train_poly)\r\n",
        "test_scaled = ss.transform(test_poly)"
      ],
      "execution_count": 82,
      "outputs": []
    },
    {
      "cell_type": "markdown",
      "metadata": {
        "id": "vTfAHwz1EPcL"
      },
      "source": [
        "###릿지 회귀\r\n",
        "\r\n",
        "sklearn.linear_model 패키지 \\\\\r\n",
        "과대적합 해소"
      ]
    },
    {
      "cell_type": "code",
      "metadata": {
        "colab": {
          "base_uri": "https://localhost:8080/"
        },
        "id": "sdajgSrqD_iV",
        "outputId": "731ae70c-b14c-4942-e282-5f87065393ac"
      },
      "source": [
        "from sklearn.linear_model import Ridge\r\n",
        "ridge = Ridge()\r\n",
        "ridge.fit(train_scaled, train_target)\r\n",
        "print(ridge.score(train_scaled, train_target))\r\n",
        "print(ridge.score(test_scaled, test_target))"
      ],
      "execution_count": 83,
      "outputs": [
        {
          "output_type": "stream",
          "text": [
            "0.9903815817570366\n",
            "0.9827976465386916\n"
          ],
          "name": "stdout"
        }
      ]
    },
    {
      "cell_type": "markdown",
      "metadata": {
        "id": "yhAGTIovFIf0"
      },
      "source": [
        "릿지와 라소를 사용할 시 규제의 양를 임의로 조절할 수 있다. \\\\\r\n",
        "\r\n",
        "alpha 매개변수의 값이 크면 규제 강도가 강하다는 의미 -> 규제를 줄인다. \\\\\r\n",
        "alpha 매개변수의 값이 작으면 계수를 줄이는 역할이 줄어들고 선형 회귀 모델과 유사해지므로 과대적합일 가능성이 크다 -> 규제를 늘린다.\r\n"
      ]
    },
    {
      "cell_type": "markdown",
      "metadata": {
        "id": "-SkPPPU9FwMk"
      },
      "source": [
        "$적절한 alpha값을 찾는 방법 : alpha값에 대한 R^2값의 그래프를 그려보기$"
      ]
    },
    {
      "cell_type": "markdown",
      "metadata": {
        "id": "IGPyFY-gIFw6"
      },
      "source": [
        "훈련 세트와 테스트 세트의 점수가 가장 가까운 지점이 최적의 alpha값이 된다.\r\n"
      ]
    },
    {
      "cell_type": "code",
      "metadata": {
        "colab": {
          "base_uri": "https://localhost:8080/",
          "height": 279
        },
        "id": "TCGVQk34KF19",
        "outputId": "e431d2e7-44b9-4479-e617-b096bbb63a18"
      },
      "source": [
        "#그래프가 왼쪽으로 몰리므로 넘파이 로그 사용을 통해서 값을 지수로 표현\r\n",
        "plt.plot(alpha_list, train_score)\r\n",
        "plt.plot(alpha_list, test_score)\r\n",
        "plt.xlabel('alpha')\r\n",
        "plt.ylabel('R^2')\r\n",
        "plt.show()"
      ],
      "execution_count": 84,
      "outputs": [
        {
          "output_type": "display_data",
          "data": {
            "image/png": "[encoded data removed]",
            "text/plain": [
              "<Figure size 432x288 with 1 Axes>"
            ]
          },
          "metadata": {
            "tags": [],
            "needs_background": "light"
          }
        }
      ]
    },
    {
      "cell_type": "code",
      "metadata": {
        "colab": {
          "base_uri": "https://localhost:8080/",
          "height": 279
        },
        "id": "vHOUYyPGHsF8",
        "outputId": "bd4fe08f-a7e1-4f09-b436-73cbb9af1628"
      },
      "source": [
        "#score() 메서드의 결과를 저장할 리스트 생성\r\n",
        "import matplotlib.pyplot as plt\r\n",
        "train_score = []\r\n",
        "test_score = []\r\n",
        "\r\n",
        "alpha_list = [0.001, 0.01, 0.1, 1, 10, 100]\r\n",
        "for alpha in alpha_list:\r\n",
        "  #릿지 모델 만들기\r\n",
        "  ridge = Ridge (alpha=alpha)\r\n",
        "  #릿지 모델 훈련하기\r\n",
        "  ridge.fit(train_scaled, train_target)\r\n",
        "  #훈련 점수와 테스트 점수 지정\r\n",
        "  train_score.append(ridge.score(train_scaled, train_target))\r\n",
        "  test_score.append(ridge.score(test_scaled, test_target))\r\n",
        "\r\n",
        "#넘파이 상용로그 \r\n",
        "plt.plot(np.log10(alpha_list), train_score)\r\n",
        "plt.plot(np.log10(alpha_list), test_score)\r\n",
        "plt.xlabel('alpha')\r\n",
        "plt.ylabel('R^2')\r\n",
        "plt.show()"
      ],
      "execution_count": 90,
      "outputs": [
        {
          "output_type": "display_data",
          "data": {
            "image/png": "[encoded data removed]",
            "text/plain": [
              "<Figure size 432x288 with 1 Axes>"
            ]
          },
          "metadata": {
            "tags": [],
            "needs_background": "light"
          }
        }
      ]
    },
    {
      "cell_type": "markdown",
      "metadata": {
        "id": "jtgSyebZG4Jd"
      },
      "source": [
        "alpha값을 0.001부터 100까지 10배씩 늘려가며 릿지 모델을 훈련한 다음 훈련 세트와 테스트 세트의 점수를 파이썬 리스트에 저장\r\n",
        "\r\n",
        "alpha값이 10^-1에서 가장 가까우므로 10^-1로 선정"
      ]
    },
    {
      "cell_type": "code",
      "metadata": {
        "colab": {
          "base_uri": "https://localhost:8080/"
        },
        "id": "K5CqNBg6KVtE",
        "outputId": "fc936ca9-8816-41e6-944b-c9ef29eb4aac"
      },
      "source": [
        "ridge = Ridge(alpha= 0.1)\r\n",
        "ridge.fit(train_scaled, train_target)\r\n",
        "print(ridge.score(train_scaled, train_target))\r\n",
        "print(ridge.score(test_scaled, test_target))"
      ],
      "execution_count": 88,
      "outputs": [
        {
          "output_type": "stream",
          "text": [
            "0.9903815817570366\n",
            "0.9827976465386916\n"
          ],
          "name": "stdout"
        }
      ]
    },
    {
      "cell_type": "markdown",
      "metadata": {
        "id": "aOVySRxyKywN"
      },
      "source": [
        "### 라쏘 회귀"
      ]
    },
    {
      "cell_type": "code",
      "metadata": {
        "colab": {
          "base_uri": "https://localhost:8080/"
        },
        "id": "QuPRbEkxKpN2",
        "outputId": "1cfaee33-7c4d-487c-dea1-7f6940c002db"
      },
      "source": [
        "from sklearn.linear_model import Lasso\r\n",
        "lasso = Lasso()\r\n",
        "lasso.fit(train_scaled, train_target)\r\n",
        "print(lasso.score(train_scaled, train_target))\r\n",
        "print(lasso.score(test_scaled, test_target))"
      ],
      "execution_count": 89,
      "outputs": [
        {
          "output_type": "stream",
          "text": [
            "0.9897898972080961\n",
            "0.9800593698421883\n"
          ],
          "name": "stdout"
        }
      ]
    },
    {
      "cell_type": "markdown",
      "metadata": {
        "id": "-qKwTtpELyzd"
      },
      "source": [
        "lasso = Lasso (alpha=alpha, max_iter=10000)\r\n",
        "\r\n",
        "반복적인 계산을 통해서 최적의 계수를 찾아내는 모델이므로 충분히 큰 수 만큼 반복해주어야 한다."
      ]
    },
    {
      "cell_type": "code",
      "metadata": {
        "colab": {
          "base_uri": "https://localhost:8080/",
          "height": 372
        },
        "id": "C7fVmPX7LByZ",
        "outputId": "6e319953-00a1-4207-dcb7-524bbf0e3342"
      },
      "source": [
        "import matplotlib.pyplot as plt\r\n",
        "train_score = []\r\n",
        "test_score = []\r\n",
        "\r\n",
        "alpha_list = [0.001, 0.01, 0.1, 1, 10, 100]\r\n",
        "for alpha in alpha_list:\r\n",
        "  #라쏘 모델 만들기\r\n",
        "  lasso = Lasso (alpha=alpha, max_iter=10000)\r\n",
        "  #라쏘 모델 훈련\r\n",
        "  lasso.fit(train_scaled, train_target)\r\n",
        "  #훈련/ 테스트 점수 저장\r\n",
        "  train_score.append(lasso.score(train_scaled, train_target))\r\n",
        "  test_score.append(lasso.score(test_scaled, test_target))\r\n",
        "\r\n",
        "plt.plot(np.log10(alpha_list), train_score)\r\n",
        "plt.plot(np.log10(alpha_list), test_score)\r\n",
        "plt.xlabel('alpha')\r\n",
        "plt.ylabel('R^2')\r\n",
        "plt.show()"
      ],
      "execution_count": 92,
      "outputs": [
        {
          "output_type": "stream",
          "text": [
            "/usr/local/lib/python3.7/dist-packages/sklearn/linear_model/_coordinate_descent.py:476: ConvergenceWarning: Objective did not converge. You might want to increase the number of iterations. Duality gap: 18778.697957792876, tolerance: 518.2793833333334\n",
            "  positive)\n",
            "/usr/local/lib/python3.7/dist-packages/sklearn/linear_model/_coordinate_descent.py:476: ConvergenceWarning: Objective did not converge. You might want to increase the number of iterations. Duality gap: 12972.821345404844, tolerance: 518.2793833333334\n",
            "  positive)\n"
          ],
          "name": "stderr"
        },
        {
          "output_type": "display_data",
          "data": {
            "image/png": "[encoded data removed]",
            "text/plain": [
              "<Figure size 432x288 with 1 Axes>"
            ]
          },
          "metadata": {
            "tags": [],
            "needs_background": "light"
          }
        }
      ]
    },
    {
      "cell_type": "markdown",
      "metadata": {
        "id": "fiZHSMB2MBqx"
      },
      "source": [
        "위의 것이 훈련 세트(파란색) \\\\\r\n",
        "왼쪽으로 갈수록 과대적합\r\n",
        "오른쪽으로 갈수록 과소적합\r\n",
        "\r\n",
        "훈련점수 > 테스트점수 = 훈련 세트에 과대적합\r\n",
        "\r\n",
        "훈련점수 < 테스트점수 or 둘 다 낮음 = 훈련 세트에 과소적합\r\n",
        "\r\n",
        "lasso 규제에서 최적의 alpha값은 10^1으로 확인 가능"
      ]
    },
    {
      "cell_type": "code",
      "metadata": {
        "colab": {
          "base_uri": "https://localhost:8080/"
        },
        "id": "IIf4dkW0LTn1",
        "outputId": "5b42a88f-b160-430c-ba75-2f8014417810"
      },
      "source": [
        "lasso = Lasso(alpha= 10)\r\n",
        "lasso.fit(train_scaled, train_target)\r\n",
        "print(lasso.score(train_scaled, train_target))\r\n",
        "print(lasso.score(test_scaled, test_target))\r\n"
      ],
      "execution_count": 94,
      "outputs": [
        {
          "output_type": "stream",
          "text": [
            "0.9888067471131867\n",
            "0.9824470598706695\n"
          ],
          "name": "stdout"
        }
      ]
    },
    {
      "cell_type": "markdown",
      "metadata": {
        "id": "S1c9Ep1VML5F"
      },
      "source": [
        "라소 모델의 계수는 coef_ 속성에 저장되어 있음"
      ]
    },
    {
      "cell_type": "code",
      "metadata": {
        "colab": {
          "base_uri": "https://localhost:8080/"
        },
        "id": "4KrWB1rBM4n9",
        "outputId": "91a78cd3-5e8b-49e6-fedc-9d965a27c909"
      },
      "source": [
        "print(np.sum(lasso.coef_==0))\r\n",
        "#55개 특성 중 40개의 특성이 0이 됨을 확인 할 수 있음"
      ],
      "execution_count": 95,
      "outputs": [
        {
          "output_type": "stream",
          "text": [
            "40\n"
          ],
          "name": "stdout"
        }
      ]
    }
  ]
}