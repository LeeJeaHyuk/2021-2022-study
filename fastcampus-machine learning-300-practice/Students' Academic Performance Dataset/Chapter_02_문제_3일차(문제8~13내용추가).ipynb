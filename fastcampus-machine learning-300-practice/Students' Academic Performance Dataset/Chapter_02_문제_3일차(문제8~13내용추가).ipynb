{
  "nbformat": 4,
  "nbformat_minor": 0,
  "metadata": {
    "colab": {
      "name": "Chapter 02 문제 2일차(문제8~13내용추가)",
      "provenance": [],
      "collapsed_sections": [],
      "authorship_tag": "ABX9TyM2mW99hiInL7l/XEGoFWTb",
      "include_colab_link": true
    },
    "kernelspec": {
      "name": "python3",
      "display_name": "Python 3"
    },
    "language_info": {
      "name": "python"
    }
  },
  "cells": [
    {
      "cell_type": "markdown",
      "metadata": {
        "id": "view-in-github",
        "colab_type": "text"
      },
      "source": [
        "<a href=\"https://colab.research.google.com/github/LeeJeaHyuk/2021-2022-study/blob/main/fastcampus-machine%20learning-300-practice/Students'%20Academic%20Performance%20Dataset/Chapter_02_%EB%AC%B8%EC%A0%9C_2%EC%9D%BC%EC%B0%A8(%EB%AC%B8%EC%A0%9C8~13%EB%82%B4%EC%9A%A9%EC%B6%94%EA%B0%80).ipynb\" target=\"_parent\"><img src=\"https://colab.research.google.com/assets/colab-badge.svg\" alt=\"Open In Colab\"/></a>"
      ]
    },
    {
      "cell_type": "markdown",
      "metadata": {
        "id": "NqqLNJZjfi8U"
      },
      "source": [
        "# 주제 : <br>우리 애는 머리는 좋은데, 공부를 안해서 그래요 - 데이터로 살펴보는 우리 아이 학습 성공/실패 요소\n",
        "----------\n",
        "\n",
        "## 실습 가이드\n",
        "    1. 데이터를 다운로드하여 Colab에 불러옵니다.\n",
        "    2. 필요한 라이브러리는 모두 코드로 작성되어 있습니다.\n",
        "    3. 코드는 위에서부터 아래로 순서대로 실행합니다.\n",
        "    \n",
        "    \n",
        "## 데이터 소개\n",
        "    - 이번 주제는 xAPI-Edu-Data 데이터셋을 사용합니다.\n",
        "    \n",
        "    - 다음 1개의 csv 파일을 사용합니다.\n",
        "    xAPI-Edu-Data.csv\n",
        "    \n",
        "    - 각 파일의 컬럼은 아래와 같습니다.\n",
        "    gender: 학생의 성별 (M: 남성, F: 여성)\n",
        "    NationaliTy: 학생의 국적\n",
        "    PlaceofBirth: 학생이 태어난 국가\n",
        "    StageID: 학생이 다니는 학교 (초,중,고)\n",
        "    GradeID: 학생이 속한 성적 등급\n",
        "    SectionID: 학생이 속한 반 이름\n",
        "    Topic: 수강한 과목\n",
        "    Semester: 수강한 학기 (1학기/2학기)\n",
        "    Relation: 주 보호자와 학생의 관계\n",
        "    raisedhands: 학생이 수업 중 손을 든 횟수\n",
        "    VisITedResources: 학생이 과목 공지를 확인한 횟수\n",
        "    Discussion: 학생이 토론 그룹에 참여한 횟수\n",
        "    ParentAnsweringSurvey: 부모가 학교 설문에 참여했는지 여부\n",
        "    ParentschoolSatisfaction: 부모가 학교에 만족했는지 여부\n",
        "    StudentAbscenceDays: 학생의 결석 횟수 (7회 이상/미만)\n",
        "    Class: 학생의 성적 등급 (L: 낮음, M: 보통, H: 높음)\n",
        "        \n",
        "    \n",
        "    \n",
        "- 데이터 출처: https://www.kaggle.com/aljarah/xAPI-Edu-Data\n",
        "\n",
        "## 최종 목표\n",
        "    - 연구용 Tabular 데이터의 이해\n",
        "    - 데이터 시각화를 통한 인사이트 습득 방법의 이해\n",
        "    - Scikit-learn 기반의 모델 학습 방법 습득\n",
        "    - Logistic Regression, XGBoost 기반의 모델 학습 방법 습득\n",
        "    - 학습된 모델의 평가 방법 및 시각화 방법 습득\n",
        "\n",
        "- 출제자 : 신제용 강사\n",
        "---"
      ]
    },
    {
      "cell_type": "markdown",
      "source": [
        "Relevant Papers:\n",
        "Amrieh, E. A., Hamtini, T., & Aljarah, I. (2016). Mining Educational Data to Predict Student’s academic Performance using Ensemble Methods. International Journal of Database Theory and Application, 9(8), 119-136.\n",
        "\n",
        "Amrieh, E. A., Hamtini, T., & Aljarah, I. (2015, November). Preprocessing and analyzing educational data set using X-API for improving student's performance. In Applied Electrical Engineering and Computing Technologies (AEECT), 2015 IEEE Jordan Conference on (pp. 1-5). IEEE."
      ],
      "metadata": {
        "id": "3x4xUqEx_Nl3"
      }
    },
    {
      "cell_type": "markdown",
      "metadata": {
        "id": "ODJVmYvIP3x-"
      },
      "source": [
        "## Step 0. 의료 데이터셋에 대하여"
      ]
    },
    {
      "cell_type": "markdown",
      "metadata": {
        "id": "c0iKTnLNsraM"
      },
      "source": [
        "### 연구용 데이터의 목적\n"
      ]
    },
    {
      "cell_type": "markdown",
      "metadata": {
        "id": "cxZwPnfms0-9"
      },
      "source": [
        "### 연구용 데이터의 인용\n"
      ]
    },
    {
      "cell_type": "markdown",
      "metadata": {
        "id": "IRssoNrgP7So"
      },
      "source": [
        "## Step 1. 데이터셋 준비하기"
      ]
    },
    {
      "cell_type": "code",
      "metadata": {
        "id": "g49RuFGrBvt7"
      },
      "source": [
        "import pandas as pd\n",
        "import numpy as np\n",
        "import matplotlib.pyplot as plt\n",
        "import seaborn as sns"
      ],
      "execution_count": null,
      "outputs": []
    },
    {
      "cell_type": "markdown",
      "metadata": {
        "id": "paInbv8Ys-Qy"
      },
      "source": [
        "### 문제 1. Colab Notebook에 Kaggle API 세팅하기\n"
      ]
    },
    {
      "cell_type": "code",
      "metadata": {
        "id": "RRXGYV60B7FX"
      },
      "source": [
        "import os"
      ],
      "execution_count": null,
      "outputs": []
    },
    {
      "cell_type": "code",
      "metadata": {
        "id": "mMKFOC0OBtHO"
      },
      "source": [
        "# os.environ을 이용하여 Kaggle API Username, Key 세팅하기\n",
        "os.environ['KAGGLE_USERNAME'] ='leejeahyuk'\n",
        "os.environ['KAGGLE_KEY'] ='909dc28f843ffc03b80b5291757fd8f0'\n",
        "\n"
      ],
      "execution_count": null,
      "outputs": []
    },
    {
      "cell_type": "markdown",
      "metadata": {
        "id": "zvbeoB_WtBi-"
      },
      "source": [
        "### 문제 2. 데이터 다운로드 및 압축 해제하기\n"
      ]
    },
    {
      "cell_type": "code",
      "metadata": {
        "id": "JSblp2NsCGbh",
        "colab": {
          "base_uri": "https://localhost:8080/"
        },
        "outputId": "76358c27-04a5-46c0-f97b-0bbfe3de3e31"
      },
      "source": [
        "# Linux 명령어로 Kaggle API를 이용하여 데이터셋 다운로드하기 (!kaggle ~)\n",
        "# Linux 명령어로 압축 해제하기\n",
        "!kaggle datasets download -d aljarah/xAPI-Edu-Data\n",
        "!unzip '*.zip'"
      ],
      "execution_count": null,
      "outputs": [
        {
          "output_type": "stream",
          "name": "stdout",
          "text": [
            "Downloading xAPI-Edu-Data.zip to /content\n",
            "\r  0% 0.00/5.54k [00:00<?, ?B/s]\n",
            "\r100% 5.54k/5.54k [00:00<00:00, 1.88MB/s]\n",
            "Archive:  xAPI-Edu-Data.zip\n",
            "  inflating: xAPI-Edu-Data.csv       \n"
          ]
        }
      ]
    },
    {
      "cell_type": "code",
      "source": [
        "!ls"
      ],
      "metadata": {
        "colab": {
          "base_uri": "https://localhost:8080/"
        },
        "id": "jtMRwXG9AFAR",
        "outputId": "6b8bd738-92e2-4ffc-bd6b-066b16e70241"
      },
      "execution_count": null,
      "outputs": [
        {
          "output_type": "stream",
          "name": "stdout",
          "text": [
            "sample_data  xAPI-Edu-Data.csv\txAPI-Edu-Data.zip\n"
          ]
        }
      ]
    },
    {
      "cell_type": "markdown",
      "metadata": {
        "id": "aJ34SovLtFI8"
      },
      "source": [
        "### 문제 3. Pandas 라이브러리로 csv파일 읽어들이기\n"
      ]
    },
    {
      "cell_type": "code",
      "metadata": {
        "id": "RnJv-4YwCMSx"
      },
      "source": [
        "# pd.read_csv()로 csv파일 읽어들이기\n",
        "df = pd.read_csv('xAPI-Edu-Data.csv')"
      ],
      "execution_count": null,
      "outputs": []
    },
    {
      "cell_type": "code",
      "source": [
        "#df.[].value_counts()"
      ],
      "metadata": {
        "colab": {
          "base_uri": "https://localhost:8080/",
          "height": 136
        },
        "id": "lwIFTo5JBk9m",
        "outputId": "63c09f4b-1106-4ce8-aa25-276e39a4852f"
      },
      "execution_count": null,
      "outputs": [
        {
          "output_type": "error",
          "ename": "SyntaxError",
          "evalue": "ignored",
          "traceback": [
            "\u001b[0;36m  File \u001b[0;32m\"<ipython-input-10-3b7f8f84f3cb>\"\u001b[0;36m, line \u001b[0;32m1\u001b[0m\n\u001b[0;31m    df.[].value_counts()\u001b[0m\n\u001b[0m       ^\u001b[0m\n\u001b[0;31mSyntaxError\u001b[0m\u001b[0;31m:\u001b[0m invalid syntax\n"
          ]
        }
      ]
    },
    {
      "cell_type": "markdown",
      "metadata": {
        "id": "GD18QuastZy8"
      },
      "source": [
        "## Step 3. 모델 학습을 위한 데이터 전처리\n"
      ]
    },
    {
      "cell_type": "markdown",
      "metadata": {
        "id": "Dev2yLeMta85"
      },
      "source": [
        "### 문제 8. get_dummies()를 이용하여 범주형 데이터 전처리하기\n"
      ]
    },
    {
      "cell_type": "code",
      "metadata": {
        "id": "W3EO22NCE3wG"
      },
      "source": [
        "# pd.get_dummies()를 이용해 범주형 데이터를 one-hot 벡터로 변환하기\n",
        "# Hint) Multicollinearity를 피하기 위해 drop_first=True로 설정\n",
        "\n",
        "X = pd.get_dummies(df.drop(['ParentschoolSatisfaction', 'Class', 'Class_value'], axis=1),\n",
        "                   columns=['gender', 'NationalITy', 'PlaceofBirth',\n",
        "                            'StageID', 'GradeID','SectionID', 'Topic',\n",
        "                            'Semester', 'Relation', 'ParentAnsweringSurvey',\n",
        "                            'StudentAbsenceDays'],\n",
        "                   drop_first=True)\n",
        "\n",
        "y = df['Class']\n",
        "\n",
        "\n",
        "#drop_first : 첫번째 카테고리 값은 사용하지 않음.\n",
        "#Multicollinearity 다중공선성 다수의 독립변수가 서로 지나치게 높은 상관관계를 가지면서 회귀계수 추정에 오류가 발생하는 문제\n",
        "# 두 변수가 너무 상관성이 높으면 동일한 변수라고 생각해도 무방하다 이러한 경우 표준오차가 증가한다\n",
        "# t통계량을 구할 때 t값이 회귀계수/표준오차인데 이 표준오차값이 커지면 t값이 작아지므로 유의확률이 증가한다.\n",
        "# 유의확률이 커지면 귀무가설이 채택될 확률이 커지고 이로인해 회귀계수 추정의 오류가 발생한다 이 문제를 다중공선성이라 한다.\n",
        "# 언제 다중공선성인가\n",
        "# 공차 (tolerance)< 0.1인 경우\n",
        "# VIF(분산팽창지수) >= 10인 경우\n",
        "# 상관계수 r >= 0.9인경우\n",
        "#출처: https://hyeonnii.tistory.com/365 [From the bottom]\n",
        "\n",
        "# get_dummies df를 one-hot vactor로 만들어주는것\n",
        "# ParentschoolSatisfaction 은 Data Leakage의 가능성이 있다.\n",
        "\n"
      ],
      "execution_count": null,
      "outputs": []
    },
    {
      "cell_type": "markdown",
      "metadata": {
        "id": "x93Tb6lptcA2"
      },
      "source": [
        "### 문제 9. 학습데이터와 테스트데이터 분리하기\n"
      ]
    },
    {
      "cell_type": "code",
      "metadata": {
        "id": "C9kMQI8SEche"
      },
      "source": [
        "from sklearn.model_selection import train_test_split"
      ],
      "execution_count": null,
      "outputs": []
    },
    {
      "cell_type": "code",
      "metadata": {
        "id": "F07QjOFwFNEw"
      },
      "source": [
        "# train_test_split() 함수로 학습 데이터와 테스트 데이터 분리하기\n",
        "X_train, X_test, y_train, y_test = train_test_split(X, y, test_size=0.3, random_state=1)"
      ],
      "execution_count": null,
      "outputs": []
    },
    {
      "cell_type": "markdown",
      "metadata": {
        "id": "DTqb-HqPtc4I"
      },
      "source": [
        "## Step 4. Classification 모델 학습하기\n"
      ]
    },
    {
      "cell_type": "markdown",
      "metadata": {
        "id": "Ckexl202tmZI"
      },
      "source": [
        "### 문제 10. Logistic Regression 모델 생성/학습하기\n"
      ]
    },
    {
      "cell_type": "code",
      "metadata": {
        "id": "2Wt_0AdNFfbN"
      },
      "source": [
        "from sklearn.linear_model import LogisticRegression"
      ],
      "execution_count": null,
      "outputs": []
    },
    {
      "cell_type": "code",
      "metadata": {
        "id": "1lM57a_8Fdbh",
        "colab": {
          "base_uri": "https://localhost:8080/"
        },
        "outputId": "422d1ba4-03df-485c-c36f-7efc8ea9ed57"
      },
      "source": [
        "# LogisticRegression 모델 생성/학습\n",
        "model_lr = LogisticRegression(max_iter=10000)\n",
        "model_lr.fit(X_train, y_train)\n",
        "\n",
        "#iteration 경고는 회수를 늘려주면된다.\n"
      ],
      "execution_count": null,
      "outputs": [
        {
          "output_type": "execute_result",
          "data": {
            "text/plain": [
              "LogisticRegression(max_iter=10000)"
            ]
          },
          "metadata": {},
          "execution_count": 21
        }
      ]
    },
    {
      "cell_type": "markdown",
      "metadata": {
        "id": "APOI7Hc9tnvr"
      },
      "source": [
        "### 문제 11. 모델 학습 결과 평가하기\n"
      ]
    },
    {
      "cell_type": "code",
      "metadata": {
        "id": "2lIoyMjFFrif"
      },
      "source": [
        "from sklearn.metrics import classification_report"
      ],
      "execution_count": null,
      "outputs": []
    },
    {
      "cell_type": "code",
      "metadata": {
        "id": "1dD9JnN-FnpC",
        "colab": {
          "base_uri": "https://localhost:8080/"
        },
        "outputId": "a63bb5ff-6eed-450a-f7ed-a794c888acda"
      },
      "source": [
        "# Predict를 수행하고 classification_report() 결과 출력하기\n",
        "pred = model_lr.predict(X_test)\n",
        "print(classification_report(y_test, pred))\n",
        "\n"
      ],
      "execution_count": null,
      "outputs": [
        {
          "output_type": "stream",
          "name": "stdout",
          "text": [
            "              precision    recall  f1-score   support\n",
            "\n",
            "           H       0.77      0.67      0.72        55\n",
            "           L       0.78      0.76      0.77        33\n",
            "           M       0.59      0.68      0.63        56\n",
            "\n",
            "    accuracy                           0.69       144\n",
            "   macro avg       0.72      0.70      0.71       144\n",
            "weighted avg       0.70      0.69      0.70       144\n",
            "\n"
          ]
        }
      ]
    },
    {
      "cell_type": "markdown",
      "metadata": {
        "id": "xTRTOLTNto3h"
      },
      "source": [
        "### 문제 12. XGBoost 모델 생성/학습하기\n"
      ]
    },
    {
      "cell_type": "code",
      "metadata": {
        "id": "ow28ZRL4F7D5"
      },
      "source": [
        "from xgboost import XGBClassifier"
      ],
      "execution_count": null,
      "outputs": []
    },
    {
      "cell_type": "code",
      "metadata": {
        "id": "LSSNqFUrGM6R",
        "colab": {
          "base_uri": "https://localhost:8080/"
        },
        "outputId": "5b2ee668-7770-4e92-de78-1a01754a0265"
      },
      "source": [
        "# XGBClassifier 모델 생성/학습\n",
        "model_xgb = XGBClassifier()\n",
        "model_xgb.fit(X_train, y_train)\n"
      ],
      "execution_count": null,
      "outputs": [
        {
          "output_type": "execute_result",
          "data": {
            "text/plain": [
              "XGBClassifier(objective='multi:softprob')"
            ]
          },
          "metadata": {},
          "execution_count": 28
        }
      ]
    },
    {
      "cell_type": "markdown",
      "metadata": {
        "id": "kAisZoSEtp35"
      },
      "source": [
        "### 문제 13. 모델 학습 결과 평가하기\n"
      ]
    },
    {
      "cell_type": "code",
      "metadata": {
        "id": "WLnyYNJwGRgd",
        "colab": {
          "base_uri": "https://localhost:8080/"
        },
        "outputId": "32ffb0b4-c8d1-4613-cb9c-4c011fd31253"
      },
      "source": [
        "# Predict를 수행하고 classification_report() 결과 출력하기\n",
        "pred = model_xgb.predict(X_test)\n",
        "print(classification_report(y_test, pred))\n"
      ],
      "execution_count": null,
      "outputs": [
        {
          "output_type": "stream",
          "name": "stdout",
          "text": [
            "              precision    recall  f1-score   support\n",
            "\n",
            "           H       0.83      0.64      0.72        55\n",
            "           L       0.79      0.82      0.81        33\n",
            "           M       0.62      0.75      0.68        56\n",
            "\n",
            "    accuracy                           0.72       144\n",
            "   macro avg       0.75      0.73      0.74       144\n",
            "weighted avg       0.74      0.72      0.72       144\n",
            "\n"
          ]
        }
      ]
    },
    {
      "cell_type": "markdown",
      "source": [
        ""
      ],
      "metadata": {
        "id": "MFVDuEk2FPkE"
      }
    }
  ]
}
