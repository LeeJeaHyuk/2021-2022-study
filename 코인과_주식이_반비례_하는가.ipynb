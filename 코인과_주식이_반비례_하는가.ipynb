{
  "nbformat": 4,
  "nbformat_minor": 0,
  "metadata": {
    "colab": {
      "name": "코인과 주식이 반비례 하는가",
      "provenance": [],
      "collapsed_sections": [],
      "authorship_tag": "ABX9TyNpf4dhoy6KA/lo2RV/HQK0",
      "include_colab_link": true
    },
    "kernelspec": {
      "display_name": "Python 3",
      "name": "python3"
    },
    "language_info": {
      "name": "python"
    }
  },
  "cells": [
    {
      "cell_type": "markdown",
      "metadata": {
        "id": "view-in-github",
        "colab_type": "text"
      },
      "source": [
        "<a href=\"https://colab.research.google.com/github/LeeJeaHyuk/colab-sync-practice/blob/main/%EC%BD%94%EC%9D%B8%EA%B3%BC_%EC%A3%BC%EC%8B%9D%EC%9D%B4_%EB%B0%98%EB%B9%84%EB%A1%80_%ED%95%98%EB%8A%94%EA%B0%80.ipynb\" target=\"_parent\"><img src=\"https://colab.research.google.com/assets/colab-badge.svg\" alt=\"Open In Colab\"/></a>"
      ]
    },
    {
      "cell_type": "markdown",
      "metadata": {
        "id": "v2ObfCRi8mba"
      },
      "source": [
        "목표 : 코인 거래량과 주식의 거래량은 반비례하는지 알아보기\n",
        "이재혁 "
      ]
    },
    {
      "cell_type": "markdown",
      "metadata": {
        "id": "0u1m5MMiOUg1"
      },
      "source": [
        "# **설치**"
      ]
    },
    {
      "cell_type": "code",
      "metadata": {
        "colab": {
          "base_uri": "https://localhost:8080/"
        },
        "id": "tukvB1SWOBzs",
        "outputId": "00fb825a-6ff2-48c6-efba-d8502f4ead0e"
      },
      "source": [
        "!pip install pyupbit\n",
        "# api key 없이 업비트에서 시세를 받는 패키지\n",
        "\n"
      ],
      "execution_count": 54,
      "outputs": [
        {
          "output_type": "stream",
          "name": "stdout",
          "text": [
            "Collecting pyupbit\n",
            "  Downloading pyupbit-0.2.21-py3-none-any.whl (21 kB)\n",
            "Collecting websockets==9.1\n",
            "  Downloading websockets-9.1-cp37-cp37m-manylinux2010_x86_64.whl (103 kB)\n",
            "\u001b[K     |████████████████████████████████| 103 kB 6.8 MB/s \n",
            "\u001b[?25hRequirement already satisfied: pandas in /usr/local/lib/python3.7/dist-packages (from pyupbit) (1.1.5)\n",
            "Requirement already satisfied: requests in /usr/local/lib/python3.7/dist-packages (from pyupbit) (2.23.0)\n",
            "Collecting pyjwt>=2.0.0\n",
            "  Downloading PyJWT-2.3.0-py3-none-any.whl (16 kB)\n",
            "Requirement already satisfied: pytz>=2017.2 in /usr/local/lib/python3.7/dist-packages (from pandas->pyupbit) (2018.9)\n",
            "Requirement already satisfied: numpy>=1.15.4 in /usr/local/lib/python3.7/dist-packages (from pandas->pyupbit) (1.19.5)\n",
            "Requirement already satisfied: python-dateutil>=2.7.3 in /usr/local/lib/python3.7/dist-packages (from pandas->pyupbit) (2.8.2)\n",
            "Requirement already satisfied: six>=1.5 in /usr/local/lib/python3.7/dist-packages (from python-dateutil>=2.7.3->pandas->pyupbit) (1.15.0)\n",
            "Requirement already satisfied: urllib3!=1.25.0,!=1.25.1,<1.26,>=1.21.1 in /usr/local/lib/python3.7/dist-packages (from requests->pyupbit) (1.24.3)\n",
            "Requirement already satisfied: chardet<4,>=3.0.2 in /usr/local/lib/python3.7/dist-packages (from requests->pyupbit) (3.0.4)\n",
            "Requirement already satisfied: certifi>=2017.4.17 in /usr/local/lib/python3.7/dist-packages (from requests->pyupbit) (2021.10.8)\n",
            "Requirement already satisfied: idna<3,>=2.5 in /usr/local/lib/python3.7/dist-packages (from requests->pyupbit) (2.10)\n",
            "Installing collected packages: websockets, pyjwt, pyupbit\n",
            "Successfully installed pyjwt-2.3.0 pyupbit-0.2.21 websockets-9.1\n"
          ]
        }
      ]
    },
    {
      "cell_type": "code",
      "metadata": {
        "colab": {
          "base_uri": "https://localhost:8080/"
        },
        "id": "b7GwwA0_lLp6",
        "outputId": "e6e88d7f-1039-4567-ad17-a1de442af41a"
      },
      "source": [
        "!sudo apt-get install -y fonts-nanum\n",
        "!sudo fc-cache -fv\n",
        "!rm ~/.cache/matplotlib -rf\n",
        "#matplotlib 한글 쓰기 위해서 설치\n",
        "#https://teddylee777.github.io/colab/colab-korean 를 참고"
      ],
      "execution_count": 55,
      "outputs": [
        {
          "output_type": "stream",
          "name": "stdout",
          "text": [
            "Reading package lists... Done\n",
            "Building dependency tree       \n",
            "Reading state information... Done\n",
            "The following NEW packages will be installed:\n",
            "  fonts-nanum\n",
            "0 upgraded, 1 newly installed, 0 to remove and 37 not upgraded.\n",
            "Need to get 9,604 kB of archives.\n",
            "After this operation, 29.5 MB of additional disk space will be used.\n",
            "Get:1 http://archive.ubuntu.com/ubuntu bionic/universe amd64 fonts-nanum all 20170925-1 [9,604 kB]\n",
            "Fetched 9,604 kB in 1s (8,523 kB/s)\n",
            "debconf: unable to initialize frontend: Dialog\n",
            "debconf: (No usable dialog-like program is installed, so the dialog based frontend cannot be used. at /usr/share/perl5/Debconf/FrontEnd/Dialog.pm line 76, <> line 1.)\n",
            "debconf: falling back to frontend: Readline\n",
            "debconf: unable to initialize frontend: Readline\n",
            "debconf: (This frontend requires a controlling tty.)\n",
            "debconf: falling back to frontend: Teletype\n",
            "dpkg-preconfigure: unable to re-open stdin: \n",
            "Selecting previously unselected package fonts-nanum.\n",
            "(Reading database ... 155222 files and directories currently installed.)\n",
            "Preparing to unpack .../fonts-nanum_20170925-1_all.deb ...\n",
            "Unpacking fonts-nanum (20170925-1) ...\n",
            "Setting up fonts-nanum (20170925-1) ...\n",
            "Processing triggers for fontconfig (2.12.6-0ubuntu2) ...\n",
            "/usr/share/fonts: caching, new cache contents: 0 fonts, 1 dirs\n",
            "/usr/share/fonts/truetype: caching, new cache contents: 0 fonts, 3 dirs\n",
            "/usr/share/fonts/truetype/humor-sans: caching, new cache contents: 1 fonts, 0 dirs\n",
            "/usr/share/fonts/truetype/liberation: caching, new cache contents: 16 fonts, 0 dirs\n",
            "/usr/share/fonts/truetype/nanum: caching, new cache contents: 10 fonts, 0 dirs\n",
            "/usr/local/share/fonts: caching, new cache contents: 0 fonts, 0 dirs\n",
            "/root/.local/share/fonts: skipping, no such directory\n",
            "/root/.fonts: skipping, no such directory\n",
            "/var/cache/fontconfig: cleaning cache directory\n",
            "/root/.cache/fontconfig: not cleaning non-existent cache directory\n",
            "/root/.fontconfig: not cleaning non-existent cache directory\n",
            "fc-cache: succeeded\n"
          ]
        }
      ]
    },
    {
      "cell_type": "markdown",
      "metadata": {
        "id": "WagYuustOahz"
      },
      "source": [
        "# **코드**\n"
      ]
    },
    {
      "cell_type": "code",
      "metadata": {
        "id": "y9IZUKJhN_9M"
      },
      "source": [
        "import pandas as pd\n",
        "import matplotlib as mpl\n",
        "import numpy as np\n",
        "import matplotlib.pyplot as plt\n",
        "plt.rc('font', family='NanumBarunGothic')\n",
        "#matplotlib 한글 쓰기 위해서\n",
        "\n",
        "import pyupbit"
      ],
      "execution_count": 56,
      "outputs": []
    },
    {
      "cell_type": "code",
      "metadata": {
        "id": "HWeOBLlfQfMj"
      },
      "source": [
        "plt.rcParams[\"figure.figsize\"] = (12,6)\n",
        "plt.rcParams['axes.formatter.limits'] = -10000, 10000"
      ],
      "execution_count": 220,
      "outputs": []
    },
    {
      "cell_type": "markdown",
      "source": [
        "#https://wikidocs.net/113767"
      ],
      "metadata": {
        "id": "5UpxBsN7h94l"
      }
    },
    {
      "cell_type": "code",
      "metadata": {
        "colab": {
          "base_uri": "https://localhost:8080/",
          "height": 363
        },
        "id": "mDqLpifIMgbk",
        "outputId": "5121fcb4-69c8-466c-c89e-a0f3d6358ff4"
      },
      "source": [
        "pyupbit.get_current_price([\"KRW-BTC\",\"KRW-ETH\"])\n",
        "#현재가 비트/이더\n",
        "ticker = \"KRW-BTC\"\n",
        "interval = 'minute1'\n",
        "to = '2021-11-19 11:20'\n",
        "count = 10\n",
        "pyupbit.get_ohlcv(ticker=ticker, interval=interval, to=to, count=count)\n"
      ],
      "execution_count": 58,
      "outputs": [
        {
          "output_type": "execute_result",
          "data": {
            "text/html": [
              "<div>\n",
              "<style scoped>\n",
              "    .dataframe tbody tr th:only-of-type {\n",
              "        vertical-align: middle;\n",
              "    }\n",
              "\n",
              "    .dataframe tbody tr th {\n",
              "        vertical-align: top;\n",
              "    }\n",
              "\n",
              "    .dataframe thead th {\n",
              "        text-align: right;\n",
              "    }\n",
              "</style>\n",
              "<table border=\"1\" class=\"dataframe\">\n",
              "  <thead>\n",
              "    <tr style=\"text-align: right;\">\n",
              "      <th></th>\n",
              "      <th>open</th>\n",
              "      <th>high</th>\n",
              "      <th>low</th>\n",
              "      <th>close</th>\n",
              "      <th>volume</th>\n",
              "      <th>value</th>\n",
              "    </tr>\n",
              "  </thead>\n",
              "  <tbody>\n",
              "    <tr>\n",
              "      <th>2021-11-19 20:10:00</th>\n",
              "      <td>70996000.0</td>\n",
              "      <td>71000000.0</td>\n",
              "      <td>70965000.0</td>\n",
              "      <td>70976000.0</td>\n",
              "      <td>3.422203</td>\n",
              "      <td>2.429150e+08</td>\n",
              "    </tr>\n",
              "    <tr>\n",
              "      <th>2021-11-19 20:11:00</th>\n",
              "      <td>70985000.0</td>\n",
              "      <td>71001000.0</td>\n",
              "      <td>70947000.0</td>\n",
              "      <td>70974000.0</td>\n",
              "      <td>6.147862</td>\n",
              "      <td>4.364193e+08</td>\n",
              "    </tr>\n",
              "    <tr>\n",
              "      <th>2021-11-19 20:12:00</th>\n",
              "      <td>70970000.0</td>\n",
              "      <td>70970000.0</td>\n",
              "      <td>70871000.0</td>\n",
              "      <td>70871000.0</td>\n",
              "      <td>3.350727</td>\n",
              "      <td>2.376170e+08</td>\n",
              "    </tr>\n",
              "    <tr>\n",
              "      <th>2021-11-19 20:13:00</th>\n",
              "      <td>70871000.0</td>\n",
              "      <td>70871000.0</td>\n",
              "      <td>70750000.0</td>\n",
              "      <td>70768000.0</td>\n",
              "      <td>3.821744</td>\n",
              "      <td>2.705384e+08</td>\n",
              "    </tr>\n",
              "    <tr>\n",
              "      <th>2021-11-19 20:14:00</th>\n",
              "      <td>70768000.0</td>\n",
              "      <td>70768000.0</td>\n",
              "      <td>70693000.0</td>\n",
              "      <td>70695000.0</td>\n",
              "      <td>6.632237</td>\n",
              "      <td>4.691969e+08</td>\n",
              "    </tr>\n",
              "    <tr>\n",
              "      <th>2021-11-19 20:15:00</th>\n",
              "      <td>70693000.0</td>\n",
              "      <td>70754000.0</td>\n",
              "      <td>70670000.0</td>\n",
              "      <td>70754000.0</td>\n",
              "      <td>5.209070</td>\n",
              "      <td>3.682981e+08</td>\n",
              "    </tr>\n",
              "    <tr>\n",
              "      <th>2021-11-19 20:16:00</th>\n",
              "      <td>70753000.0</td>\n",
              "      <td>70845000.0</td>\n",
              "      <td>70753000.0</td>\n",
              "      <td>70790000.0</td>\n",
              "      <td>3.315635</td>\n",
              "      <td>2.346641e+08</td>\n",
              "    </tr>\n",
              "    <tr>\n",
              "      <th>2021-11-19 20:17:00</th>\n",
              "      <td>70778000.0</td>\n",
              "      <td>70790000.0</td>\n",
              "      <td>70754000.0</td>\n",
              "      <td>70758000.0</td>\n",
              "      <td>3.330040</td>\n",
              "      <td>2.357066e+08</td>\n",
              "    </tr>\n",
              "    <tr>\n",
              "      <th>2021-11-19 20:18:00</th>\n",
              "      <td>70758000.0</td>\n",
              "      <td>70758000.0</td>\n",
              "      <td>70722000.0</td>\n",
              "      <td>70734000.0</td>\n",
              "      <td>2.185169</td>\n",
              "      <td>1.545987e+08</td>\n",
              "    </tr>\n",
              "    <tr>\n",
              "      <th>2021-11-19 20:19:00</th>\n",
              "      <td>70740000.0</td>\n",
              "      <td>70749000.0</td>\n",
              "      <td>70734000.0</td>\n",
              "      <td>70740000.0</td>\n",
              "      <td>3.929992</td>\n",
              "      <td>2.780208e+08</td>\n",
              "    </tr>\n",
              "  </tbody>\n",
              "</table>\n",
              "</div>"
            ],
            "text/plain": [
              "                           open        high  ...    volume         value\n",
              "2021-11-19 20:10:00  70996000.0  71000000.0  ...  3.422203  2.429150e+08\n",
              "2021-11-19 20:11:00  70985000.0  71001000.0  ...  6.147862  4.364193e+08\n",
              "2021-11-19 20:12:00  70970000.0  70970000.0  ...  3.350727  2.376170e+08\n",
              "2021-11-19 20:13:00  70871000.0  70871000.0  ...  3.821744  2.705384e+08\n",
              "2021-11-19 20:14:00  70768000.0  70768000.0  ...  6.632237  4.691969e+08\n",
              "2021-11-19 20:15:00  70693000.0  70754000.0  ...  5.209070  3.682981e+08\n",
              "2021-11-19 20:16:00  70753000.0  70845000.0  ...  3.315635  2.346641e+08\n",
              "2021-11-19 20:17:00  70778000.0  70790000.0  ...  3.330040  2.357066e+08\n",
              "2021-11-19 20:18:00  70758000.0  70758000.0  ...  2.185169  1.545987e+08\n",
              "2021-11-19 20:19:00  70740000.0  70749000.0  ...  3.929992  2.780208e+08\n",
              "\n",
              "[10 rows x 6 columns]"
            ]
          },
          "metadata": {},
          "execution_count": 58
        }
      ]
    },
    {
      "cell_type": "code",
      "metadata": {
        "colab": {
          "base_uri": "https://localhost:8080/",
          "height": 790
        },
        "id": "rTyczzB6P0qL",
        "outputId": "0c9654ec-b767-4a31-bbb9-8ec10311af0b"
      },
      "source": [
        "# 시가 : open\n",
        "# 고가 : high\n",
        "# 저가 : low\n",
        "# 종가 : close\n",
        "# 거래량 : volum\n",
        "# 거래금액 : value\n",
        "df = pyupbit.get_ohlcv(\"KRW-BTC\", interval='month',count=200)\n",
        "df[[\"close\",'volume']].plot(secondary_y=[\"volume\"])\n",
        "plt.title(\"BTC 종가 거래량\")\n",
        "plt.show()  "
      ],
      "execution_count": 59,
      "outputs": [
        {
          "output_type": "stream",
          "name": "stderr",
          "text": [
            "findfont: Font family ['NanumBarunGothic'] not found. Falling back to DejaVu Sans.\n",
            "findfont: Font family ['NanumBarunGothic'] not found. Falling back to DejaVu Sans.\n",
            "/usr/local/lib/python3.7/dist-packages/matplotlib/backends/backend_agg.py:214: RuntimeWarning: Glyph 51333 missing from current font.\n",
            "  font.set_text(s, 0.0, flags=flags)\n",
            "/usr/local/lib/python3.7/dist-packages/matplotlib/backends/backend_agg.py:214: RuntimeWarning: Glyph 44032 missing from current font.\n",
            "  font.set_text(s, 0.0, flags=flags)\n",
            "/usr/local/lib/python3.7/dist-packages/matplotlib/backends/backend_agg.py:214: RuntimeWarning: Glyph 44144 missing from current font.\n",
            "  font.set_text(s, 0.0, flags=flags)\n",
            "/usr/local/lib/python3.7/dist-packages/matplotlib/backends/backend_agg.py:214: RuntimeWarning: Glyph 47000 missing from current font.\n",
            "  font.set_text(s, 0.0, flags=flags)\n",
            "/usr/local/lib/python3.7/dist-packages/matplotlib/backends/backend_agg.py:214: RuntimeWarning: Glyph 47049 missing from current font.\n",
            "  font.set_text(s, 0.0, flags=flags)\n",
            "/usr/local/lib/python3.7/dist-packages/matplotlib/backends/backend_agg.py:183: RuntimeWarning: Glyph 51333 missing from current font.\n",
            "  font.set_text(s, 0, flags=flags)\n",
            "/usr/local/lib/python3.7/dist-packages/matplotlib/backends/backend_agg.py:183: RuntimeWarning: Glyph 44032 missing from current font.\n",
            "  font.set_text(s, 0, flags=flags)\n",
            "/usr/local/lib/python3.7/dist-packages/matplotlib/backends/backend_agg.py:183: RuntimeWarning: Glyph 44144 missing from current font.\n",
            "  font.set_text(s, 0, flags=flags)\n",
            "/usr/local/lib/python3.7/dist-packages/matplotlib/backends/backend_agg.py:183: RuntimeWarning: Glyph 47000 missing from current font.\n",
            "  font.set_text(s, 0, flags=flags)\n",
            "/usr/local/lib/python3.7/dist-packages/matplotlib/backends/backend_agg.py:183: RuntimeWarning: Glyph 47049 missing from current font.\n",
            "  font.set_text(s, 0, flags=flags)\n"
          ]
        },
        {
          "output_type": "display_data",
          "data": {
            "image/png": "[encoded data removed]",
            "text/plain": [
              "<Figure size 864x432 with 2 Axes>"
            ]
          },
          "metadata": {
            "needs_background": "light"
          }
        }
      ]
    },
    {
      "cell_type": "markdown",
      "metadata": {
        "id": "DsD8hku-ngf6"
      },
      "source": [
        "가장 거래량이 높은 순서대로 나열하기\n",
        "1. 각 월의 거래량 높은 5종을 뽑을 수 있는가?"
      ]
    },
    {
      "cell_type": "code",
      "metadata": {
        "id": "fdt-H9x14HZU"
      },
      "source": [
        "tickers = pyupbit.get_tickers(fiat='KRW') #원화만 불러오기\n",
        "ohlcv_tem=pyupbit.get_ohlcv(tickers[0], interval='month',count=36) # 현재부터 3년 전까지 매 달\n",
        "ohlcv_tem=ohlcv_tem.drop(ohlcv_tem.columns[[0,1,2,3,5]],axis=1) # volume(거래량) 만남기고 다 제거"
      ],
      "execution_count": 60,
      "outputs": []
    },
    {
      "cell_type": "code",
      "source": [
        "tickers = pyupbit.get_tickers(fiat='KRW')\n",
        "ohlcv_tem_1=pyupbit.get_ohlcv(tickers[0], interval='month',count=12)\n",
        "\n",
        "ohlcv_tem_1.head()"
      ],
      "metadata": {
        "colab": {
          "base_uri": "https://localhost:8080/",
          "height": 293
        },
        "id": "PAed2_iRii9d",
        "outputId": "fa3cb0fd-f03f-48e8-eda2-ec1c1d97ea87"
      },
      "execution_count": 223,
      "outputs": [
        {
          "output_type": "execute_result",
          "data": {
            "text/html": [
              "<div>\n",
              "<style scoped>\n",
              "    .dataframe tbody tr th:only-of-type {\n",
              "        vertical-align: middle;\n",
              "    }\n",
              "\n",
              "    .dataframe tbody tr th {\n",
              "        vertical-align: top;\n",
              "    }\n",
              "\n",
              "    .dataframe thead th {\n",
              "        text-align: right;\n",
              "    }\n",
              "</style>\n",
              "<table border=\"1\" class=\"dataframe\">\n",
              "  <thead>\n",
              "    <tr style=\"text-align: right;\">\n",
              "      <th></th>\n",
              "      <th>open</th>\n",
              "      <th>high</th>\n",
              "      <th>low</th>\n",
              "      <th>close</th>\n",
              "      <th>volume</th>\n",
              "      <th>value</th>\n",
              "    </tr>\n",
              "  </thead>\n",
              "  <tbody>\n",
              "    <tr>\n",
              "      <th>2021-01-01 09:00:00</th>\n",
              "      <td>32037000.00000</td>\n",
              "      <td>48550000.00000</td>\n",
              "      <td>31662000.00000</td>\n",
              "      <td>36408000.00000</td>\n",
              "      <td>502401.95083</td>\n",
              "      <td>19486632348247.70312</td>\n",
              "    </tr>\n",
              "    <tr>\n",
              "      <th>2021-02-01 09:00:00</th>\n",
              "      <td>36408000.00000</td>\n",
              "      <td>65985000.00000</td>\n",
              "      <td>35907000.00000</td>\n",
              "      <td>51798000.00000</td>\n",
              "      <td>382508.39155</td>\n",
              "      <td>19746448449659.04688</td>\n",
              "    </tr>\n",
              "    <tr>\n",
              "      <th>2021-03-01 09:00:00</th>\n",
              "      <td>51798000.00000</td>\n",
              "      <td>72000000.00000</td>\n",
              "      <td>51560000.00000</td>\n",
              "      <td>71513000.00000</td>\n",
              "      <td>298657.88947</td>\n",
              "      <td>19093071779649.89844</td>\n",
              "    </tr>\n",
              "    <tr>\n",
              "      <th>2021-04-01 09:00:00</th>\n",
              "      <td>71480000.00000</td>\n",
              "      <td>81994000.00000</td>\n",
              "      <td>54964000.00000</td>\n",
              "      <td>67939000.00000</td>\n",
              "      <td>330778.82570</td>\n",
              "      <td>23452727467091.23047</td>\n",
              "    </tr>\n",
              "    <tr>\n",
              "      <th>2021-05-01 09:00:00</th>\n",
              "      <td>67956000.00000</td>\n",
              "      <td>73129000.00000</td>\n",
              "      <td>39331000.00000</td>\n",
              "      <td>43761000.00000</td>\n",
              "      <td>492361.91541</td>\n",
              "      <td>27679914276946.32422</td>\n",
              "    </tr>\n",
              "  </tbody>\n",
              "</table>\n",
              "</div>"
            ],
            "text/plain": [
              "                              open  ...                value\n",
              "2021-01-01 09:00:00 32037000.00000  ... 19486632348247.70312\n",
              "2021-02-01 09:00:00 36408000.00000  ... 19746448449659.04688\n",
              "2021-03-01 09:00:00 51798000.00000  ... 19093071779649.89844\n",
              "2021-04-01 09:00:00 71480000.00000  ... 23452727467091.23047\n",
              "2021-05-01 09:00:00 67956000.00000  ... 27679914276946.32422\n",
              "\n",
              "[5 rows x 6 columns]"
            ]
          },
          "metadata": {},
          "execution_count": 223
        }
      ]
    },
    {
      "cell_type": "code",
      "metadata": {
        "colab": {
          "base_uri": "https://localhost:8080/"
        },
        "id": "PnI5mHT31i6c",
        "outputId": "2c6f8dae-a39e-44b8-b9c9-97451c5978f7"
      },
      "source": [
        "tickers = pyupbit.get_tickers(fiat='KRW')\n",
        "for i in range(len(tickers)):\n",
        "    ohlcv_tem=pyupbit.get_ohlcv(tickers[i], interval='month',count=36)\n",
        "    ohlcv_tem=ohlcv_tem.drop(ohlcv_tem.columns[[0,1,2,3,5]],axis=1)\n",
        "    ohlcv_tem.rename(columns={'volume': tickers[i]},inplace=True)\n",
        "    if i==0:\n",
        "      ohlcv=ohlcv_tem\n",
        "    else:\n",
        "      ohlcv=pd.concat([ohlcv,ohlcv_tem],axis=1)#데이터를 오른쪽으로 쭉 합치기\n",
        "\n",
        "print(ohlcv)"
      ],
      "execution_count": 61,
      "outputs": [
        {
          "output_type": "stream",
          "name": "stdout",
          "text": [
            "                           KRW-BTC       KRW-ETH  ...     KRW-1INCH      KRW-ALGO\n",
            "2019-01-01 09:00:00  152628.164880  6.321393e+06  ...           NaN           NaN\n",
            "2019-02-01 09:00:00  149447.013308  3.818775e+06  ...           NaN           NaN\n",
            "2019-03-01 09:00:00  220183.662574  2.570495e+06  ...           NaN           NaN\n",
            "2019-04-01 09:00:00  286261.848102  4.130596e+06  ...           NaN           NaN\n",
            "2019-05-01 09:00:00  364387.763272  7.741474e+06  ...           NaN           NaN\n",
            "2019-06-01 09:00:00  395517.385698  3.927051e+06  ...           NaN           NaN\n",
            "2019-07-01 09:00:00  487170.940628  3.658565e+06  ...           NaN           NaN\n",
            "2019-08-01 09:00:00  283765.531371  1.958313e+06  ...           NaN           NaN\n",
            "2019-09-01 09:00:00  152291.291616  1.973330e+06  ...           NaN           NaN\n",
            "2019-10-01 09:00:00  158003.545596  1.950582e+06  ...           NaN           NaN\n",
            "2019-11-01 09:00:00  121988.838638  1.758410e+06  ...           NaN           NaN\n",
            "2019-12-01 09:00:00   88753.439498  7.705935e+05  ...           NaN           NaN\n",
            "2020-01-01 09:00:00  151081.461251  1.869713e+06  ...           NaN           NaN\n",
            "2020-02-01 09:00:00  141681.395126  3.167129e+06  ...           NaN           NaN\n",
            "2020-03-01 09:00:00  345309.781889  5.729425e+06  ...           NaN           NaN\n",
            "2020-04-01 09:00:00  171519.600640  3.618841e+06  ...           NaN           NaN\n",
            "2020-05-01 09:00:00  188722.045927  2.096138e+06  ...           NaN           NaN\n",
            "2020-06-01 09:00:00   82842.868263  1.509843e+06  ...           NaN           NaN\n",
            "2020-07-01 09:00:00   86752.460835  1.801784e+06  ...           NaN           NaN\n",
            "2020-08-01 09:00:00  147985.324754  2.317375e+06  ...           NaN           NaN\n",
            "2020-09-01 09:00:00   95987.451362  2.572664e+06  ...           NaN           NaN\n",
            "2020-10-01 09:00:00   81936.150069  1.139815e+06  ...           NaN           NaN\n",
            "2020-11-01 09:00:00  183580.502346  2.873251e+06  ...           NaN           NaN\n",
            "2020-12-01 09:00:00  225919.115769  3.060004e+06  ...           NaN           NaN\n",
            "2021-01-01 09:00:00  502401.950832  1.368004e+07  ...           NaN           NaN\n",
            "2021-02-01 09:00:00  382508.391547  5.333205e+06  ...           NaN           NaN\n",
            "2021-03-01 09:00:00  298657.889466  2.983301e+06  ...           NaN           NaN\n",
            "2021-04-01 09:00:00  330778.825698  3.778037e+06  ...           NaN           NaN\n",
            "2021-05-01 09:00:00  492361.915412  1.041877e+07  ...           NaN           NaN\n",
            "2021-06-01 09:00:00  393035.544376  5.225825e+06  ...           NaN           NaN\n",
            "2021-07-01 09:00:00  203043.114515  3.326704e+06  ...           NaN           NaN\n",
            "2021-08-01 09:00:00  317811.297216  3.011685e+06  ...           NaN           NaN\n",
            "2021-09-01 09:00:00  235755.194471  2.544241e+06  ...           NaN           NaN\n",
            "2021-10-01 09:00:00  270105.281408  2.157020e+06  ...  4.366676e+08           NaN\n",
            "2021-11-01 09:00:00  229428.341698  1.522486e+06  ...  1.120156e+08  6.830472e+08\n",
            "2021-12-01 09:00:00  119464.620383  9.397109e+05  ...  1.171649e+08  1.485504e+08\n",
            "\n",
            "[36 rows x 108 columns]\n"
          ]
        }
      ]
    },
    {
      "cell_type": "markdown",
      "source": [
        "5개를 뽑아서 비교하는 것보다 전부 다 합친 값이 더 잘 반영\n",
        "거래량을 합친 값을 만들어보기로 함"
      ],
      "metadata": {
        "id": "i3G1sGo-F6Hi"
      }
    },
    {
      "cell_type": "code",
      "metadata": {
        "colab": {
          "base_uri": "https://localhost:8080/"
        },
        "id": "wjDkNC8BpjnA",
        "outputId": "4f4d13d0-de40-4cab-80bc-f3bc139ddd03"
      },
      "source": [
        "pd.options.display.float_format = '{:.5f}'.format#지수표현식 바꾸기\n",
        "volum_sum=ohlcv.sum(axis=1)\n",
        "print(volum_sum)"
      ],
      "execution_count": 62,
      "outputs": [
        {
          "output_type": "stream",
          "name": "stdout",
          "text": [
            "2019-01-01 09:00:00      171636110161.09192\n",
            "2019-02-01 09:00:00     1608159458195.49780\n",
            "2019-03-01 09:00:00      367809518871.39844\n",
            "2019-04-01 09:00:00      189408258168.30518\n",
            "2019-05-01 09:00:00      819190937627.96289\n",
            "2019-06-01 09:00:00      523884697931.18469\n",
            "2019-07-01 09:00:00      316264213980.80298\n",
            "2019-08-01 09:00:00      118272854988.99100\n",
            "2019-09-01 09:00:00      139617653094.39481\n",
            "2019-10-01 09:00:00      178639119188.55853\n",
            "2019-11-01 09:00:00      170928567183.96896\n",
            "2019-12-01 09:00:00       74925497791.19089\n",
            "2020-01-01 09:00:00      174319412847.65887\n",
            "2020-02-01 09:00:00      612118850942.74536\n",
            "2020-03-01 09:00:00      357317308314.14221\n",
            "2020-04-01 09:00:00      146903180956.75558\n",
            "2020-05-01 09:00:00      337234344649.99036\n",
            "2020-06-01 09:00:00      268571973599.16675\n",
            "2020-07-01 09:00:00      372789165181.36060\n",
            "2020-08-01 09:00:00      333898652673.73694\n",
            "2020-09-01 09:00:00      211626408566.86365\n",
            "2020-10-01 09:00:00      611118288447.51636\n",
            "2020-11-01 09:00:00     6672382136124.26562\n",
            "2020-12-01 09:00:00     9993684746098.25195\n",
            "2021-01-01 09:00:00    12221606236540.51953\n",
            "2021-02-01 09:00:00    14880307683423.13672\n",
            "2021-03-01 09:00:00    73643973715926.53125\n",
            "2021-04-01 09:00:00    88241827475081.25000\n",
            "2021-05-01 09:00:00    49086458156727.18750\n",
            "2021-06-01 09:00:00    42047851941449.40625\n",
            "2021-07-01 09:00:00    54486228309534.69531\n",
            "2021-08-01 09:00:00   162507944172806.09375\n",
            "2021-09-01 09:00:00    79461539372368.09375\n",
            "2021-10-01 09:00:00    21387530542506.98047\n",
            "2021-11-01 09:00:00    14241664403830.75977\n",
            "2021-12-01 09:00:00     4167448057414.67285\n",
            "Freq: MS, dtype: float64\n"
          ]
        }
      ]
    },
    {
      "cell_type": "code",
      "metadata": {
        "id": "j83kA6mSnlPZ",
        "colab": {
          "base_uri": "https://localhost:8080/",
          "height": 379
        },
        "outputId": "17b63255-6c6b-4972-c723-6896f8432f1f"
      },
      "source": [
        "volum_sum.plot()"
      ],
      "execution_count": 63,
      "outputs": [
        {
          "output_type": "execute_result",
          "data": {
            "text/plain": [
              "<matplotlib.axes._subplots.AxesSubplot at 0x7ff25f4c1550>"
            ]
          },
          "metadata": {},
          "execution_count": 63
        },
        {
          "output_type": "display_data",
          "data": {
            "image/png": "[encoded data removed]",
            "text/plain": [
              "<Figure size 864x432 with 1 Axes>"
            ]
          },
          "metadata": {
            "needs_background": "light"
          }
        }
      ]
    },
    {
      "cell_type": "markdown",
      "source": [
        "코인은 2021년부터가 거래량이 많아지기 시작하였으므로 기간을 2021년부터로 조정할 필요를 느꼈다"
      ],
      "metadata": {
        "id": "N27euoTnJ0wi"
      }
    },
    {
      "cell_type": "code",
      "source": [
        "tickers = pyupbit.get_tickers(fiat='KRW')\n",
        "for i in range(len(tickers)):\n",
        "    ohlcv_tem=pyupbit.get_ohlcv(tickers[i], interval='month',count=12)\n",
        "    ohlcv_tem=ohlcv_tem.drop(ohlcv_tem.columns[[0,1,2,3,5]],axis=1)\n",
        "    ohlcv_tem.rename(columns={'volume': tickers[i]},inplace=True)\n",
        "    if i==0:\n",
        "      ohlcv=ohlcv_tem\n",
        "    else:\n",
        "      ohlcv=pd.concat([ohlcv,ohlcv_tem],axis=1)#데이터를 오른쪽으로 쭉 합치기\n",
        "\n",
        "pd.options.display.float_format = '{:.5f}'.format#지수표현식 바꾸기\n",
        "volum_sum=ohlcv.sum(axis=1)\n",
        "volum_sum.plot()"
      ],
      "metadata": {
        "colab": {
          "base_uri": "https://localhost:8080/",
          "height": 611
        },
        "id": "NPVd-nbWKBQC",
        "outputId": "71bfe550-865f-4025-8e1e-7b957131470e"
      },
      "execution_count": 173,
      "outputs": [
        {
          "output_type": "stream",
          "name": "stdout",
          "text": [
            "2021-01-01 09:00:00    12221606236540.51953\n",
            "2021-02-01 09:00:00    14880307683423.13672\n",
            "2021-03-01 09:00:00    73643973715926.53125\n",
            "2021-04-01 09:00:00    88241827475081.25000\n",
            "2021-05-01 09:00:00    49086458156727.18750\n",
            "2021-06-01 09:00:00    42047851941449.40625\n",
            "2021-07-01 09:00:00    54486228309534.69531\n",
            "2021-08-01 09:00:00   162507944172806.09375\n",
            "2021-09-01 09:00:00    79461539372368.09375\n",
            "2021-10-01 09:00:00    21387530542506.98047\n",
            "2021-11-01 09:00:00    14241664403830.75977\n",
            "2021-12-01 09:00:00     4175782127691.94775\n",
            "Freq: MS, dtype: float64\n"
          ]
        },
        {
          "output_type": "execute_result",
          "data": {
            "text/plain": [
              "<matplotlib.axes._subplots.AxesSubplot at 0x7ff249e04e10>"
            ]
          },
          "metadata": {},
          "execution_count": 173
        },
        {
          "output_type": "display_data",
          "data": {
            "image/png": "[encoded data removed]",
            "text/plain": [
              "<Figure size 864x432 with 1 Axes>"
            ]
          },
          "metadata": {
            "needs_background": "light"
          }
        }
      ]
    },
    {
      "cell_type": "markdown",
      "source": [
        "이제 주식 과거 데이터를 가져와서 비교해보기로 하였다\n"
      ],
      "metadata": {
        "id": "bkkhf18eJCbq"
      }
    },
    {
      "cell_type": "code",
      "source": [
        "!pip install yfinance\n",
        "import yfinance as yf"
      ],
      "metadata": {
        "colab": {
          "base_uri": "https://localhost:8080/"
        },
        "id": "1j7ZbZR9Ombj",
        "outputId": "137d88c6-5ecf-40b3-bf16-d19d8288ce24"
      },
      "execution_count": 65,
      "outputs": [
        {
          "output_type": "stream",
          "name": "stdout",
          "text": [
            "Requirement already satisfied: yfinance in /usr/local/lib/python3.7/dist-packages (0.1.67)\n",
            "Requirement already satisfied: lxml>=4.5.1 in /usr/local/lib/python3.7/dist-packages (from yfinance) (4.6.4)\n",
            "Requirement already satisfied: multitasking>=0.0.7 in /usr/local/lib/python3.7/dist-packages (from yfinance) (0.0.10)\n",
            "Requirement already satisfied: requests>=2.20 in /usr/local/lib/python3.7/dist-packages (from yfinance) (2.23.0)\n",
            "Requirement already satisfied: pandas>=0.24 in /usr/local/lib/python3.7/dist-packages (from yfinance) (1.1.5)\n",
            "Requirement already satisfied: numpy>=1.15 in /usr/local/lib/python3.7/dist-packages (from yfinance) (1.19.5)\n",
            "Requirement already satisfied: python-dateutil>=2.7.3 in /usr/local/lib/python3.7/dist-packages (from pandas>=0.24->yfinance) (2.8.2)\n",
            "Requirement already satisfied: pytz>=2017.2 in /usr/local/lib/python3.7/dist-packages (from pandas>=0.24->yfinance) (2018.9)\n",
            "Requirement already satisfied: six>=1.5 in /usr/local/lib/python3.7/dist-packages (from python-dateutil>=2.7.3->pandas>=0.24->yfinance) (1.15.0)\n",
            "Requirement already satisfied: chardet<4,>=3.0.2 in /usr/local/lib/python3.7/dist-packages (from requests>=2.20->yfinance) (3.0.4)\n",
            "Requirement already satisfied: urllib3!=1.25.0,!=1.25.1,<1.26,>=1.21.1 in /usr/local/lib/python3.7/dist-packages (from requests>=2.20->yfinance) (1.24.3)\n",
            "Requirement already satisfied: certifi>=2017.4.17 in /usr/local/lib/python3.7/dist-packages (from requests>=2.20->yfinance) (2021.10.8)\n",
            "Requirement already satisfied: idna<3,>=2.5 in /usr/local/lib/python3.7/dist-packages (from requests>=2.20->yfinance) (2.10)\n"
          ]
        }
      ]
    },
    {
      "cell_type": "code",
      "source": [
        "!pip install -U finance-datareader #한국 주식 종목코드 가져오기 위해서\n"
      ],
      "metadata": {
        "colab": {
          "base_uri": "https://localhost:8080/"
        },
        "id": "Dn4oZSD_w7mE",
        "outputId": "a5e1dfae-e9a7-4413-d7f6-65d463a337a5"
      },
      "execution_count": 66,
      "outputs": [
        {
          "output_type": "stream",
          "name": "stdout",
          "text": [
            "Requirement already satisfied: finance-datareader in /usr/local/lib/python3.7/dist-packages (0.9.31)\n",
            "Requirement already satisfied: tqdm in /usr/local/lib/python3.7/dist-packages (from finance-datareader) (4.62.3)\n",
            "Requirement already satisfied: requests>=2.3.0 in /usr/local/lib/python3.7/dist-packages (from finance-datareader) (2.23.0)\n",
            "Requirement already satisfied: pandas>=0.19.2 in /usr/local/lib/python3.7/dist-packages (from finance-datareader) (1.1.5)\n",
            "Requirement already satisfied: lxml in /usr/local/lib/python3.7/dist-packages (from finance-datareader) (4.6.4)\n",
            "Requirement already satisfied: requests-file in /usr/local/lib/python3.7/dist-packages (from finance-datareader) (1.5.1)\n",
            "Requirement already satisfied: numpy>=1.15.4 in /usr/local/lib/python3.7/dist-packages (from pandas>=0.19.2->finance-datareader) (1.19.5)\n",
            "Requirement already satisfied: python-dateutil>=2.7.3 in /usr/local/lib/python3.7/dist-packages (from pandas>=0.19.2->finance-datareader) (2.8.2)\n",
            "Requirement already satisfied: pytz>=2017.2 in /usr/local/lib/python3.7/dist-packages (from pandas>=0.19.2->finance-datareader) (2018.9)\n",
            "Requirement already satisfied: six>=1.5 in /usr/local/lib/python3.7/dist-packages (from python-dateutil>=2.7.3->pandas>=0.19.2->finance-datareader) (1.15.0)\n",
            "Requirement already satisfied: certifi>=2017.4.17 in /usr/local/lib/python3.7/dist-packages (from requests>=2.3.0->finance-datareader) (2021.10.8)\n",
            "Requirement already satisfied: urllib3!=1.25.0,!=1.25.1,<1.26,>=1.21.1 in /usr/local/lib/python3.7/dist-packages (from requests>=2.3.0->finance-datareader) (1.24.3)\n",
            "Requirement already satisfied: chardet<4,>=3.0.2 in /usr/local/lib/python3.7/dist-packages (from requests>=2.3.0->finance-datareader) (3.0.4)\n",
            "Requirement already satisfied: idna<3,>=2.5 in /usr/local/lib/python3.7/dist-packages (from requests>=2.3.0->finance-datareader) (2.10)\n"
          ]
        }
      ]
    },
    {
      "cell_type": "markdown",
      "source": [
        "BeautifulSoup로 종목코드50개를 추출하려고 하였지만 크롤링 할 시 한글깨짐현상 발생"
      ],
      "metadata": {
        "id": "wsHQRwngAUuu"
      }
    },
    {
      "cell_type": "code",
      "source": [
        "#종목코드 가져오기\n",
        "import requests\n",
        "from bs4 import BeautifulSoup as bs\n",
        "req=requests.get(\"https://vip.mk.co.kr/newSt/rate/best.php?gubn=kospi\")\n",
        "html = req.text\n",
        "soup=bs(html,'lxml')\n",
        "stockcounts=soup.select(\"#body > div:nth-of-type(12) > div > table > tbody > tr > td:nth-of-type(1) > table.table_4 > tbody > tr\")\n",
        "#body > div:nth-child(12) > div > table > tbody > tr > td:nth-child(1) > table.table_4 > tbody > tr:nth-child(1)\n",
        "print(html)"
      ],
      "metadata": {
        "colab": {
          "base_uri": "https://localhost:8080/"
        },
        "id": "7lnLIbc0xs-U",
        "outputId": "c9f80751-dccf-47f0-dc1d-9314504408da"
      },
      "execution_count": 67,
      "outputs": [
        {
          "output_type": "stream",
          "name": "stdout",
          "text": [
            "<!-- header ºÎºÐ JS¿¡¼­ PHP º¯°æ - by ysm - 13.03.20\n",
            "<meta http-equiv='Content-Type' content='text/html; charset=euc-kr'>\n",
            "<script type=\"text/javascript\" src=\"//vip.mk.co.kr/newSt/include/header_v2.php\"></script>\n",
            "-->\n",
            "<html lang='ko'>\n",
            "<head>\n",
            "    <!-- Google Tag Manager -->\n",
            "    <script>(function(w,d,s,l,i){w[l]=w[l]||[];w[l].push({'gtm.start':\n",
            "                new Date().getTime(),event:'gtm.js'});var f=d.getElementsByTagName(s)[0],\n",
            "            j=d.createElement(s),dl=l!='dataLayer'?'&l='+l:'';j.async=true;j.src=\n",
            "            'https://www.googletagmanager.com/gtm.js?id='+i+dl;f.parentNode.insertBefore(j,f);\n",
            "        })(window,document,'script','dataLayer','GTM-KTPV2SK');</script>\n",
            "    <!-- End Google Tag Manager -->\n",
            "\n",
            "<title>¿À´ÃÀÇ Áõ±Ç½Ã¼¼ - ¸ÅÀÏ°æÁ¦ Áõ±Ç¼¾ÅÍ</title>\n",
            "<meta name=\"google-site-verification\" content=\"nkDfjHqBsY1V7YxrQorGXQI_DoFid19LCSDHTF6QXnw\" />\n",
            "<meta http-equiv=\"Content-Type\" content=\"text/html; charset=euc-kr\">\n",
            "<meta http-equiv=\"X-UA-Compatible\" content=\"IE=edge,chrome=1\">\n",
            "<meta http-equiv=\"p3p\" content='CP=\"CAO DSP AND SO \" policyref=\"/w3c/p3p.xml\"'>\n",
            "<meta http-equiv=\"Cache-Control\" content=\"no-cache\">\n",
            "<meta http-equiv=\"Pragma\" content=\"no-cache\">\n",
            "<!-- 2012 12 28 hjkim °Ë»ö¿£Áø ÃÖÀûÈ­(SEO)¸¦ À§ÇÑ Å°¿öµå Ãß°¡ -->\n",
            "<meta name='classification' content='°æÁ¦'>\n",
            "<meta name='description' content='ÁÖ½Ä½Ã¼¼,ÇöÀç°¡,Áõ±Ç,Á¾¸ñ,ÄÚ½ºÇÇ,ÄÚ½º´Ú,´º½º,¸ÅÀÏ°æÁ¦,¸Å°æ,¸ÅÀÏ°æÁ¦½Å¹®,½Å¹®,¹æ¼Û,¸Å°æÀÎÅÍ³Ý,ºÎµ¿»ê,±ÝÀ¶,mbn,¸¸È­,Á¤Ä¡,»çÈ¸,±¹Á¦,¸Å°æÀÌÄÚ³ë¹Ì,,ÁÖ½Ä,¸Å¸Å,µ·,È¯À²,ÁÖ°¡,±â¾÷,º¥Ã³,Áß¼Ò±â¾÷,°æ¿µ,±â¾÷,»ê¾÷,Ã¢¾÷,Á¤ºÎ,Á¤Ã¥,Áö½Ä,ºñÁî´Ï½º'>\n",
            "<!-- 2013 03 27 hjkim SEO Ãß°¡-->\n",
            "<meta name=\"keywords\" content=\"ÁÖ½Ä½Ã¼¼,ÇöÀç°¡,Áõ±Ç,Á¾¸ñ,ÄÚ½ºÇÇ,ÄÚ½º´Ú,´º½º,¸ÅÀÏ°æÁ¦,¸Å°æ,¸ÅÀÏ°æÁ¦½Å¹®,½Å¹®,¹æ¼Û,¸Å°æÀÎÅÍ³Ý,ºÎµ¿»ê,±ÝÀ¶,mbn,¸¸È­,Á¤Ä¡,»çÈ¸,±¹Á¦,¸Å°æÀÌÄÚ³ë¹Ì,,ÁÖ½Ä,¸Å¸Å,µ·,È¯À²,ÁÖ°¡,±â¾÷,º¥Ã³,Áß¼Ò±â¾÷,°æ¿µ,±â¾÷,»ê¾÷,Ã¢¾÷,Á¤ºÎ,Á¤Ã¥,Áö½Ä,ºñÁî´Ï½º\" />\n",
            "<meta name=\"copyright\" content=\"stock.mk.co.kr, Inc\">\n",
            "<meta name=\"writer\" content=\"stock.mk.co.kr\">\n",
            "<meta name=\"subject\" content=\"ÁÖ½Ä °æÁ¦ ´º½º\">\n",
            "<meta name=\"author\" content=\"stock.mk.co.kr\">\n",
            "<link rel=\"stylesheet\" type=\"text/css\" href=\"//channel.mk.co.kr/stock/css/new_stock_hs2.css\">\n",
            "<link rel='stylesheet' type='text/css' href='//common.mk.co.kr/common/css/stock/stock_2020.css'/>\n",
            "<link rel='stylesheet' type='text/css' href='//common.mk.co.kr/common/css/top_header.css'/>\n",
            "<script type='text/javascript' src=\"//news.mk.co.kr/v4/lib/js/header.js\"></script>\n",
            "<!-- ÇØ¿ÜÁö¼ö ¸ð¹ÙÀÏ Ã¼Å© JSS -->\n",
            "<script type='text/javascript' src='//vip.mk.co.kr/common/include/stock2010/mobileCheck.js'></script>\n",
            "<!-- 2012.03.02 ¼­Á¦½ºÆ® -->\n",
            "<script src=\"//ajax.googleapis.com/ajax/libs/jquery/1.6.2/jquery.min.js\" type=\"text/javascript\"></script>\n",
            "<script src=\"//common.mk.co.kr/common/include/stock2010/showSuggest.ysm.js\" type=\"text/javascript\"></script>\n",
            "<style type=\"text/css\">\n",
            "#suggestbox {\n",
            "\tposition:absolute;\n",
            "\ttop:50px !important;\n",
            "\tleft:730px !important;\n",
            "\tpadding-left:0px;\n",
            "}\n",
            "\n",
            "#suggest {\n",
            "\tborder:1px solid #c6c4c4;\n",
            "\tbackground-color:#ffffff;\n",
            "\twidth:232px !important;\n",
            "\theight:95px !important;\n",
            "\toverflow-x:hidden;\n",
            "\toverflow-y:auto;\n",
            "\ttext-align:left;\n",
            "}\n",
            "\n",
            "#suggest div {\n",
            "\t/*¿É¼Ç CSS*/\t\n",
            "\tfont-family:±¼¸², Arial, Helvetica, sans-serif;\n",
            "\tfont-size:9pt;\t\n",
            "\theight:15px;\n",
            "\tcolor:#333333;\n",
            "\tcursor: pointer;\n",
            "\twhite-space: nowrap;\n",
            "\tpadding-left:10px;\n",
            "\tvertical-align: middle;\n",
            "\tline-height:15px;\n",
            "}\n",
            "#suggest div span {\n",
            "\tfont-size:9pt;\n",
            "\tcolor:#999999;\n",
            "}\n",
            "#suggest div a {\n",
            "\ttext-decoration:none;\n",
            "\tcolor:#333333;\n",
            "}\n",
            "#suggest div a:hover {\n",
            "\ttext-decoration:underline;\n",
            "}\n",
            ".active {\n",
            "\tbackground-color:#F0F0F0;\n",
            "}\n",
            "</style>\n",
            "<script type='text/javascript' src=\"//vip.mk.co.kr/common/js/stock2009/stockCommon.js\"></script>\n",
            "<script type='text/javascript' src=\"//vip.mk.co.kr/common/js/stock2009/stock_search.js\"></script>\n",
            "<script type='text/javascript' src=\"//vip.mk.co.kr/common/js/stock2009/stock_jsinclude.js\"></script>\n",
            "    <!-- Global site tag (gtag.js) - Google Analytics -->\n",
            "    <script async src=\"https://www.googletagmanager.com/gtag/js?id=UA-24472307-27\"></script>\n",
            "<script>\n",
            "    window.dataLayer = window.dataLayer || [];\n",
            "    function gtag(){dataLayer.push(arguments);}\n",
            "    gtag('js', new Date());\n",
            "\n",
            "    gtag('config', 'UA-24472307-27');</script>\n",
            "<!-- 20181119 ÅëÇÕ Æ®·¡ÇÈ GAÄÚµå Ãß°¡  -->\r\n",
            "<script async src=\"https://www.googletagmanager.com/gtag/js?id=UA-24472307-90\"></script>\r\n",
            "\r\n",
            "    <script>\r\n",
            "        window.dataLayer = window.dataLayer || [];\r\n",
            "\r\n",
            "        function gtag() {\r\n",
            "            dataLayer.push(arguments);\r\n",
            "        }\r\n",
            "\r\n",
            "        gtag('js', new Date());\r\n",
            "        gtag('config', 'UA-24472307-90', {\r\n",
            "            'linker': {\r\n",
            "                'domains': ['mk.co.kr', 'news.mk.co.kr', 'opinion.mk.co.kr', 'premium.mk.co.kr', 'star.mk.co.kr', 'sports.mk.co.kr', 'game.mk.co.kr', 'pulsenews.co.kr', 'uberin.mk.co.kr', 'mkbn.mk.co.kr', 'raythep.mk.co.kr',\r\n",
            "                    'vip.mk.co.kr', 'estate.mk.co.kr', 'mplay.mk.co.kr', 'm.mk.co.kr', 'm.pulsenews.co.kr', 'm.raythep.com', 'raythe.mk.co.kr', 'photos.mk.co.kr', 'www.mk.co.kr']\r\n",
            "            }\r\n",
            "        });\r\n",
            "    </script>\r\n",
            "    <!-- 20181119 ÅëÇÕ Æ®·¡ÇÈ GAÄÚµå Ãß°¡  -->\n",
            "<script type='text/javascript' src='//vip.mk.co.kr/newSt/menujsTmp.js?1=1'></script>\n",
            "\n",
            "<script type=\"application/ld+json\">\n",
            "{\n",
            "  \"@context\": \"https://schema.org\",\n",
            "  \"@type\": \"Organization\",\n",
            "  \"url\": \"https://www.mk.co.kr\",\n",
            "  \"logo\": \"https://img.mk.co.kr/main/2020/logo640240.png\"\n",
            "}\n",
            "</script>\n",
            "</head>\n",
            "<body>\n",
            "<!-- Google Tag Manager (noscript) -->\n",
            "<noscript><iframe src=\"https://www.googletagmanager.com/ns.html?id=GTM-KTPV2SK\"\n",
            "                  height=\"0\" width=\"0\" style=\"display:none;visibility:hidden\"></iframe></noscript>\n",
            "<!-- End Google Tag Manager (noscript) -->\n",
            "<script type='text/javascript' src='//news.mk.co.kr/v4/lib/js/header.js'></script>\n",
            "<script type='text/javascript'>\n",
            "    <!--\n",
            "    //´õº¸±â ´Ý±â\n",
            "    function toggleMoreDiv() {\n",
            "        var el = document.getElementById('more_div');\n",
            "        //console.log(el.style.display);\n",
            "        if (typeof el != 'undefined') {if (el.style.display == 'none') {el.style.display = 'block';} else {el.style.display = 'none';}}\n",
            "    }\n",
            "\n",
            "    // IE9, 10 bug·Î settimeoutÀ¸·Î »óÅÂ Ã¼Å©\n",
            "    !(function (fn) {\n",
            "        var loop = 0;\n",
            "        fn(fn, loop);\n",
            "    })(function (fn, loop) {\n",
            "        if (loop < 10) {\n",
            "            loop++;\n",
            "            setTimeout(function () {\n",
            "                if (typeof fn == 'function') {\n",
            "                    var tg = document.querySelector('.gnb_top'), min = 880, max = 1100, w, setted; // gnb width min, max\n",
            "                    var divs = document.querySelectorAll('div');\n",
            "\n",
            "                    try {\n",
            "                        for (var i = 0; i < divs.length; i++) {\n",
            "                            w = divs[i].offsetWidth;\n",
            "                            console.log(w + '|' + loop);\n",
            "                            if (w >= min && w <= max) {\n",
            "                                tg.style.width = w + 'px';\n",
            "                                setted = true;\n",
            "                                break;\n",
            "                            }\n",
            "                        }\n",
            "                    } catch (e) { }\n",
            "                    if (!tg.style || !setted) { fn(fn, loop); }\n",
            "                    else tg.style.display = 'block';\n",
            "                }\n",
            "            }, 100);\n",
            "        }\n",
            "    });\n",
            "    //-->\n",
            "</script>\n",
            "<style>\n",
            "    .gnb_wrap_new { position: relative; width: 100%; height: 30px; background: url(//img.mk.co.kr/news/2013/main/bg_header.gif) repeat-x 0 0; font-family: µ¸¿ò, Dotum, AppleGothic, sans-serif; z-index: 5000000000000 !important }\n",
            "    .gnb_wrap_new .gnb_top { position: relative; width: auto; height: 30px; clear: both; margin: 0 auto; z-index: 10000000 !important; overflow: inherit }\n",
            "    /* gnb_top */\n",
            "    .gnb_wrap_new .gnb_family { float: left; background: url(//img.mk.co.kr/news/2013/main/ic_logo_group.png) no-repeat 0 8px }\n",
            "    .gnb_wrap_new .gnb_family a { display: block; color: #656565; text-decoration: none; font-size: 11px; padding: 0 0 0 19px; margin: 8px 0 7px 0; font-family: µ¸¿ò, Dotum, AppleGothic, sans-serif; line-height: inherit; }\n",
            "    .gnb_wrap_new .gnb_family a:hover { display: block; color: #656565; text-decoration: none; font-size: 11px; }\n",
            "    .gnb_wrap_new .gnb_family a:visited { display: block; color: #656565; text-decoration: none; font-size: 11px; }\n",
            "    .gnb_wrap_new .gnb_family .gnb_go { padding: 0 0 1px 3px; width: 3px; height: 5px }\n",
            "    /*.gnb_utility {position:absolute; top:0; right:117px; white-space:nowrap; overflow:hidden; text-align:left}*/\n",
            "    /*.gnb_utility {position:absolute;top:0;left:557px; white-space:nowrap; overflow:hidden; text-align:left}*/\n",
            "\n",
            "    .gnb_wrap_new .gnb_utility { position: absolute; width: 345px; top: 0; right: 98px; text-align: left; left: inherit; }\n",
            "    .gnb_wrap_new .gnb_utility ul { overflow: hidden; font-family: inherit; list-style: none; margin: 0; padding: 0; }\n",
            "    .gnb_wrap_new .gnb_utility ul li { float: left; padding: 8px 0 7px 0; line-height: 18px; font-family: inherit; font-size: 11px; letter-spacing: -1px }\n",
            "    .gnb_wrap_new .gnb_utility ul li a { color: #656565; text-decoration: none; font-size: 11px; padding: 0 9px 0 0; letter-spacing: -1px; font-family: µ¸¿ò, Dotum, AppleGothic, sans-serif; }\n",
            "    .gnb_wrap_new .gnb_utility ul li a:hover { color: #656565; text-decoration: none; font-size: 11px; letter-spacing: -1px; }\n",
            "    .gnb_wrap_new .gnb_utility ul li a:visited { color: #656565; text-decoration: none; font-size: 11px; letter-spacing: -1px; }\n",
            "    .gnb_wrap_new .gnb_utility ul li a img { padding: 0 0 0 0; }\n",
            "    .gnb_wrap_new .gnb_utility .more { background: url(//img.mk.co.kr/news/2013/main/bnt_gnb_more.gif) no-repeat 100% 13px; color: #656565; text-decoration: none; font-size: 11px; z-index: 100 }\n",
            "    .gnb_wrap_new .gnb_user { float: right; display: inline-block; padding: 5px 0 7px 0 }\n",
            "    /* ·¹ÀÌ¾î */\n",
            "    .gnb_wrap_new .layer_family { position: absolute; left: 0; top: 0; background: #fbfbfb; text-align: left; height: 21px; padding-top: 8px; z-index: 1000000 !important }\n",
            "    .gnb_wrap_new .layer_family ul { overflow: hidden; font-family: inherit; list-style: none; margin: 0; padding: 0; }\n",
            "    .gnb_wrap_new .layer_family ul li { float: left; overflow: hidden; padding: 0 2px }\n",
            "    .gnb_wrap_new .layer_family .first { padding: 0; margin: 0; }\n",
            "    .gnb_wrap_new .layer_family .last { padding: 0; margin: 0 0 0 6px }\n",
            "    .gnb_wrap_new .layer_family .bar { color: #b7b7b7; padding: 0 5px }\n",
            "    .gnb_wrap_new .gnb_more { overflow: hidden; position: absolute; right: 0; top: 30px; background: #fff; text-align: left; width: 590px; border: 1px solid #4e4e4e; padding-bottom: 40px; z-index: 100000 !important; font-size: 12px }\n",
            "    .gnb_wrap_new .gnb_more a { color: #444; font-family: µ¸¿ò, Dotum, AppleGothic, sans-serif; }\n",
            "    .gnb_wrap_new .gnb_more a:hover { color: #d6600c; text-decoration: underline }\n",
            "    .gnb_wrap_new .gnb_more .tit { padding: 0 0 2px 0; font-family: µ¸¿ò, Dotum, AppleGothic, sans-serif; font-weight: bold }\n",
            "    .gnb_wrap_new .gnb_more .tit a { color: #d6600c }\n",
            "    .gnb_wrap_new .gnb_more li { line-height: 23px; height: 22px; overflow: hidden }\n",
            "    .gnb_wrap_new .gnb_more .wrap { background: url(//img.mk.co.kr/news/2013/main/bg_layer.gif) repeat-y; width: 515px; margin-top: 20px; overflow: hidden }\n",
            "    .gnb_wrap_new .gnb_more ul { padding: 0; }\n",
            "    .gnb_wrap_new .gnb_more .group_1 { float: left; overflow: hidden; width: 82px; margin: 0 0 0 20px; white-space: nowrap; }\n",
            "    .gnb_wrap_new .gnb_more .group_2 { float: left; overflow: hidden; width: 82px; margin: 0 0 0 20px; white-space: nowrap; }\n",
            "    .gnb_wrap_new .gnb_more .group_3 { float: left; overflow: hidden; width: 82px; margin: 0 0 0 20px; white-space: nowrap; }\n",
            "    .gnb_wrap_new .gnb_more .group_4 { float: left; overflow: hidden; width: 82px; margin: 0 0 0 20px; white-space: nowrap; }\n",
            "    .gnb_wrap_new .gnb_more .group_5 { float: left; overflow: hidden; width: 83px; margin: 0 0 0 20px; white-space: nowrap; }\n",
            "    .gnb_wrap_new .gnb_more .bottom { position: relative; position: absolute; bottom: 0; left: 0; width: 590px; height: 30px; background: #f4f5f7; clear: both; white-space: nowrap; overflow: hidden }\n",
            "    .gnb_wrap_new .bottom .txt { text-align: right; padding: 9px 21px 0 0; white-space: nowrap; overflow: hidden; margin-top: 0; line-height: inherit; }\n",
            "    .gnb_wrap_new .bottom .btn { position: absolute; top: 9px; right: 6px; margin-top: 0 }\n",
            "</style>\n",
            "\n",
            "<div class=\"gnb_wrap_new\">\n",
            "    <div class=\"gnb_top\" style=\"display: none\">\n",
            "        <!-- ¸Å°æ¹Ìµð¾î±×·ì -->\n",
            "        <div class='gnb_family' id='nc_gnb_family1'>\n",
            "            <a href='#' onclick=\"document.getElementById('nc_gnb_family1').style.display='none';document.getElementById('nc_gnb_family2').style.display='block';\">¸Å°æ¹Ìµð¾î±×·ì ¹Ù·Î°¡±â<img src='//img.mk.co.kr/news/2013/main/btn_gnb_go.gif' alt='' class='gnb_go'></a>\n",
            "        </div>\n",
            "        <div class='layer_family' id='nc_gnb_family2' style='display:none;'>\n",
            "            <ul>\n",
            "                <li class='first'><a href='http://mk.co.kr'><img src='//img.mk.co.kr/news/2013/main/im_gnb_mk.gif' alt='¸ÅÀÏ°æÁ¦' width='36' height='12'></a></li>\n",
            "                <li><img src='//img.mk.co.kr/news/2013/main/im_gnb_bar.gif' alt='' width='1' height='7'></li>\n",
            "                <li><a href='http://www.mbn.co.kr/'><img src='//img.mk.co.kr/news/2013/main/im_gnb_mbn.gif' alt='mbn' width='27' height='12'></a></li>\n",
            "                <li><img src='//img.mk.co.kr/news/2013/main/im_gnb_bar.gif' alt='' width='1' height='7'></li>\n",
            "                <li><a href='http://mbnmoney.mbn.co.kr/'><img src='//img.mk.co.kr/news/2013/main/im_gnb_mmoney_n.gif' alt='¸ÅÀÏ°æÁ¦TV' height='12'></a></li>\n",
            "                <li><img src='//img.mk.co.kr/news/2013/main/im_gnb_bar.gif' alt='' width='1' height='7'></li>\n",
            "                <li><a href='http://economy.mk.co.kr/'><img src='//img.mk.co.kr/news/2013/main/im_gnb_economy.gif' alt='¸Å°æÀÌÄÚ³ë¹Ì' width='51' height='12'></a></li>\n",
            "                <li><img src='//img.mk.co.kr/news/2013/main/im_gnb_bar.gif' alt='' width='1' height='7'></li>\n",
            "                <li><a href='http://luxmen.mk.co.kr/'><img src='//img.mk.co.kr/news/2013/main//im_gnb_luxman.gif' alt='luxmen' height='12'></a></li>\n",
            "\n",
            "\t\t\t\t<!-- <li><img src='//img.mk.co.kr/news/2013/main/im_gnb_bar.gif' alt='' width='1' height='7'></li>\n",
            "                <li><a href='http://sports.mk.co.kr/'><img src='//img.mk.co.kr/news/2013/main/im_gnb_mksports.gif' alt='MK½ºÆ÷Ã÷' width='50' height='12'></a></li> -->\n",
            "\n",
            "                <li><img src='//img.mk.co.kr/news/2013/main/im_gnb_bar.gif' alt='' width='1' height='7'></li>\n",
            "                <li><a href='https://www.mk.co.kr/news/special-edition/citylife/'><img src='//img.mk.co.kr/news/2013/main/im_gnb_citylife.gif' alt='citylife' width='35' height='12'></a>\n",
            "                </li>\n",
            "                <li><img src='//img.mk.co.kr/news/2013/main/im_gnb_bar.gif' alt='' width='1' height='7'></li>\n",
            "                <li><a href='http://gfw.mk.co.kr/'><img src='//img.mk.co.kr/news/2013/main/im_gnb_golfw.gif' alt='golf for women' height='12'></a></li>\n",
            "                <li><img src='//img.mk.co.kr/news/2013/main/im_gnb_bar.gif' alt='' width='1' height='7'></li>\n",
            "                <li><a href='http://m-print.mk.co.kr/'><img src='//img.mk.co.kr/news/2013/main/im_gnb_mprint.gif' alt='M-print' width='46' height='12'></a></li>\n",
            "                <li><img src='//img.mk.co.kr/news/2013/main/im_gnb_bar.gif' alt='' width='1' height='7'></li>\n",
            "                <li><a href='http://www.raythem.com/'><img src='//img.mk.co.kr/news/2013/main/im_gnb_raym.gif' alt='rayM' width='30' height='12'></a></li>\n",
            "                <li class='btn'>\n",
            "                    <a href='#' onclick=\"document.getElementById('nc_gnb_family1').style.display='block';document.getElementById('nc_gnb_family2').style.display='none';\"><img src='//img.mk.co.kr/news/2013/bt_sns_close.gif' alt='´Ý±â'></a>\n",
            "                </li>\n",
            "            </ul>\n",
            "        </div>\n",
            "        <!--// ¸Å°æ¹Ìµð¾î±×·ì -->\n",
            "\n",
            "        <!-- ¹Ù·Î°¡±â -->\n",
            "        <div class=\"gnb_utility\">\n",
            "            <ul>\n",
            "                <li><a href=\"http://mk.co.kr/\"><img src='//img.mk.co.kr/news/2013/main/im_home.gif' alt='È¨' width='14' height='13'></a></li>\n",
            "                <li><a href=\"https://www.mk.co.kr/news/\">´º½º</a></li>\n",
            "                <li><a href=\"http://stock.mk.co.kr/\">Áõ±Ç</a></li>\n",
            "                <li><a href=\"http://estate.mk.co.kr/\">ºÎµ¿»ê</a></li>\n",
            "                <!-- <li><a href=\"http://biz.mk.co.kr/\">ºñÁî&amp;</a></li> -->\n",
            "                <li><a href=\"https://www.mk.co.kr/premium/\">ÇÁ¸®¹Ì¾ö</a></li>\n",
            "                <li><a href=\"http://education.mk.co.kr\">±³À°</a></li>\n",
            "                <li><a href=\"https://pdf.mk.co.kr\">½Å¹®PDF</a></li>\n",
            "                <li><a href=\"http://subscribe.mk.co.kr/index.php?TM=S&MM=1\">±¸µ¶½ÅÃ»</a></li>\n",
            "                <li onclick='toggleMoreDiv()' style='background:url(//img.mk.co.kr/news/2013/main/bnt_gnb_more.gif) no-repeat 100% 13px;color:#656565;text-decoration:none;cursor:pointer;width:40px;'>´õº¸±â</li>\n",
            "            </ul>\n",
            "        </div>\n",
            "        <!--// ¹Ù·Î°¡±â -->\n",
            "\n",
            "        <!-- ·Î±×ÀÎ/¾Æ¿ô -->\n",
            "        <script language='JavaScript'>\n",
            "            login_check = document.cookie.indexOf('cUserID');\n",
            "\t\t\t/*\n",
            "            if (login_check == -1) {\n",
            "                document.write(\"<div class='gnb_user' style='cursor:pointer;'> <img src='//img.mk.co.kr/news/2013/main/btn_login.gif' alt='mk´º½º ·Î±×ÀÎ' onclick='loginMember()'/><img src='//img.mk.co.kr/news/2013/main/btn_member.gif' alt='mk´º½º È¸¿ø°¡ÀÔ' onclick='registMember()'> </div>\");\n",
            "            }\n",
            "            else {\n",
            "                document.write(\"<div class='gnb_user' style='cursor:pointer;'> <img src='//img.mk.co.kr/news/2013/main/btn_logout.gif' alt='mk´º½º ·Î±×¾Æ¿ô' onclick='logoutMember()'/><img src='//img.mk.co.kr/news/2013/main/btn_member_modify.gif' alt='mk´º½º Á¤º¸¼öÁ¤' onclick='modifyMember()'> </div>\");\n",
            "            }\n",
            "\t\t\t*/\n",
            "\t\t\tif (login_check == -1) {\n",
            "                document.write(\"<div class='gnb_user' style='cursor:pointer;'> <a href='https://member.mk.co.kr/mem/v1/login.php?successUrl=\" + document.location + \"'><img src='//img.mk.co.kr/news/2013/main/btn_login.gif' alt='mk´º½º ·Î±×ÀÎ' /></a><img src='//img.mk.co.kr/news/2013/main/btn_member.gif' alt='mk´º½º È¸¿ø°¡ÀÔ' onclick='registMember()'> </div>\");\n",
            "            }\n",
            "            else {\n",
            "                document.write(\"<div class='gnb_user' style='cursor:pointer;'> <a href='https://member.mk.co.kr/member_logoff.php?nextUrl=\" + document.location + \"'><img src='//img.mk.co.kr/news/2013/main/btn_logout.gif' alt='mk´º½º ·Î±×¾Æ¿ô' /></a><img src='//img.mk.co.kr/news/2013/main/btn_member_modify.gif' alt='mk´º½º Á¤º¸¼öÁ¤' onclick='modifyMember()'> </div>\");\n",
            "            }\n",
            "        </script>\n",
            "        <!--// ·Î±×ÀÎ/¾Æ¿ô -->\n",
            "\n",
            "        <!-- ´õº¸±â ·¹ÀÌ¾î -->\n",
            "        <div id='more_div' style='display:none;' class=\"gnb_more\">\n",
            "            <div class=\"wrap\">\n",
            "                <ul class=\"group_1\">\n",
            "                    <li class='tit'><strong style='color:#d6600c;font-weight:bold'>´º½º</strong></li>\n",
            "                    <li><a href='https://www.mk.co.kr/news/bestclick/\r' target='_blank' rel='noopener noreferrer'>ÀÎ±â´º½º</a></li><li><a href='https://www.mk.co.kr/opinion/\r' target='_blank' rel='noopener noreferrer'>¿ÀÇÇ´Ï¾ð</a></li><li><a href='https://www.mk.co.kr/news/feature-story/\r' target='_blank' rel='noopener noreferrer'>±âÈ¹¡¤¿¬Àç</a></li><li><a href='https://www.mk.co.kr/news/special-edition/\r' target='_blank' rel='noopener noreferrer'>½ºÆä¼È¿¡µð¼Ç</a></li><li><a href='https://www.mk.co.kr/star/\r' target='_blank' rel='noopener noreferrer'>½ºÅ¸Åõµ¥ÀÌ</a></li><li><a href='https://www.mk.co.kr/sports/\r' target='_blank' rel='noopener noreferrer'>½ºÆ÷Ã÷</a></li><li><a href='https://game.mk.co.kr/\r' target='_blank' rel='noopener noreferrer'>°ÔÀÓÁø</a></li><li><a href='https://www.pulsenews.co.kr/\r' target='_blank' rel='noopener noreferrer'>¿µ¹®´º½º</a></li><li><a href='https://china.mk.co.kr/\r' target='_blank' rel='noopener noreferrer'>MK China</a></li><li><a href='https://japan.mk.co.kr/\r' target='_blank' rel='noopener noreferrer'>MK Japan</a></li><li><a href='https://mkbn.mk.co.kr/\r' target='_blank' rel='noopener noreferrer'>MKºô¸®¾îµå´º½º</a></li><li><a href='https://mirakle.mk.co.kr/\r' target='_blank' rel='noopener noreferrer'>¹Ì¶óÅ¬¾îÇìµå</a></li><li><a href='https://www.mk.co.kr/esg/\r' target='_blank' rel='noopener noreferrer'>MK ESG</a></li><li><a href='' target='_blank' rel='noopener noreferrer'></a></li>                </ul>\n",
            "                <ul class=\"group_2\">\n",
            "                    <li class=\"tit\"><strong style='color:#d6600c;font-weight:bold'>ÇÁ¸®¹Ì¾ö</strong></li>\n",
            "                    <li><a href='https://digital.mk.co.kr\r' target='_blank' rel='noopener noreferrer'>¸Å°æe½Å¹®</a></li><li><a href='https://www.mk.co.kr/premium/\r' target='_blank' rel='noopener noreferrer'>¸Å°æÇÁ¸®¹Ì¾ö</a></li><li><a href='http://raythem.com/\r' target='_blank' rel='noopener noreferrer'>·¹ÀÌ´õM</a></li><li><a href='https://raythep.mk.co.kr/\r' target='_blank' rel='noopener noreferrer'>·¹ÀÌ´õP</a></li><li><a href='https://www.mk.co.kr/today-paper/\r' target='_blank' rel='noopener noreferrer'>¿À´ÃÀÇ ¸Å°æ</a></li><li><a href='https://www.mk.co.kr/newsletter/\r' target='_blank' rel='noopener noreferrer'>´º½º·¹ÅÍ</a></li><li><a href='https://www.mk.co.kr/readingnews/\r' target='_blank' rel='noopener noreferrer'>µé·ÁÁÖ´Â ´º½º</a></li><li><a href='' target='_blank' rel='noopener noreferrer'>\r</a></li><li><a href='' target='_blank' rel='noopener noreferrer'></a></li>                </ul>\n",
            "                <ul class=\"group_3\">\n",
            "                    <li class=\"tit\"><strong style='color:#d6600c;font-weight:bold'>ÀçÅ×Å©</strong></li>\n",
            "                    <li><a href='http://stock.mk.co.kr/\r' target='_blank' rel='noopener noreferrer'>Áõ±Ç</a></li><li><a href='http://estate.mk.co.kr/\r' target='_blank' rel='noopener noreferrer'>ºÎµ¿»ê</a></li><li><a href='http://dic.mk.co.kr/cp/pop/index.php\r' target='_blank' rel='noopener noreferrer'>°æÁ¦¿ë¾î</a></li><li><a href='https://www.mk.co.kr/news/business/new-corporation/' target='_blank' rel='noopener noreferrer'>½Å¼³¹ýÀÎ</a></li>                </ul>\n",
            "                <ul class=\"group_4\">\n",
            "                    <li class=\"tit\"><strong style='color:#d6600c;font-weight:bold'>¶óÀÌÇÁ</strong></li>\n",
            "                    <li><a href='https://golf.mk.co.kr/\r' target='_blank' rel='noopener noreferrer'>°ñÇÁ</a></li><li><a href='https://book.mk.co.kr/\r' target='_blank' rel='noopener noreferrer'>Book</a></li><li><a href='https://tripplus.co.kr/\r' target='_blank' rel='noopener noreferrer'>¿©Çà</a></li><li><a href='http://weather.mk.co.kr/\r' target='_blank' rel='noopener noreferrer'>³¯¾¾</a></li><li><a href='https://uberin.mk.co.kr/\r' target='_blank' rel='noopener noreferrer'>¿ì¹öìÑ»çÀÌÆ®</a></li><li><a href='https://senior.mk.co.kr/\r' target='_blank' rel='noopener noreferrer'>MK»ý¾Ö¼³°è¼¾ÅÍ</a></li><li><a href='https://luxurym.mk.co.kr/\r' target='_blank' rel='noopener noreferrer'>LUXURY M</a></li><li><a href='http://mplay.mk.co.kr/\r' target='_blank' rel='noopener noreferrer'>MÇÃ·¹ÀÌ</a></li><li><a href='https://www.mk.co.kr/car/' target='_blank' rel='noopener noreferrer'>Car</a></li>                </ul>\n",
            "                <ul class=\"group_5\">\n",
            "                    <li class=\"tit\"><strong style='color:#d6600c;font-weight:bold'>ºñÁî´Ï½º</strong></li>\n",
            "                    <li><a href='https://www.mk.co.kr/news/special-edition/the-biz-times/\r' target='_blank' rel='noopener noreferrer'>The Biz Times</a></li><li><a href='https://nikkei.mk.co.kr/\r' target='_blank' rel='noopener noreferrer'>´ÖÄÉÀÌÅÚ·¹ÄÞ</a></li><li><a href='https://dstreet.io/\r' target='_blank' rel='noopener noreferrer'>ºí·ÏÃ¼ÀÎ Æ®·»µå</a></li><li><a href='http://www.gunbbang.kr/home/main\r' target='_blank' rel='noopener noreferrer'>Áý²Ù¹Ì±â Å¥·¹ÀÌ¼Ç °Ç»§</a></li><li><a href='http://kdx.mbn.co.kr/\r' target='_blank' rel='noopener noreferrer'>ÇÑ±¹µ¥ÀÌÅÍ°Å·¡¼Ò</a></li><li><a href='https://medalshop.co.kr/' target='_blank' rel='noopener noreferrer'>Medal Shop</a></li>                </ul>\n",
            "            </div>\n",
            "            <div class=\"bottom\">\n",
            "                <p class=\"txt\"><a href=\"https://www.mk.co.kr/sitemap/\">¼­ºñ½º ÀüÃ¼º¸±â</a></p>\n",
            "                <p class=\"btn\"><img src=\"//img.mk.co.kr/news/2013/main/bt_sns_close.gif\" alt=\"´õº¸±â ´Ý±â\" width=\"12\" height=\"13\" onclick=\"toggleMoreDiv()\" style='cursor:pointer;'>\n",
            "                </p>\n",
            "            </div>\n",
            "        </div>\n",
            "        <!--// ´õº¸±â ·¹ÀÌ¾î -->\n",
            "    </div>\n",
            "</div>\n",
            "<div id=\"wrap\" style=\"text-align: center;\"> \n",
            "\t<!-- header -->\n",
            "\t<div id='header'>\n",
            "\t\t<!-- gnb -->\n",
            "\t\t<div class=\"gnb_stock\"> \n",
            "\t\t\t<!-- ·Î°í -->\n",
            "\t\t\t<h1>\n",
            "\t\t\t\t<a href=\"//mk.co.kr\"><img src=\"//img.mk.co.kr/news/2013/main/l_mk.gif\" alt=\"mk\"></a>\n",
            "\t\t\t\t<a href=\"//vip.mk.co.kr\"><img src=\"//img.mk.co.kr/stock/2013/t_stock_new.gif\" alt=\"Áõ±Ç\" style=\"padding-left:5px\"></a>\n",
            "\t\t\t</h1>\n",
            "\t\t\t<!-- //·Î°í --> \n",
            "\t\t\t<!-- À¯°ü¼­ºñ½º -->\n",
            "\t\t\t<ul class=\"snb_service\">\n",
            "\t\t\t\t<li><a href=\"http://estate.mk.co.kr/\"><img src=\"//img.mk.co.kr/stock/2013/im_snb_estate.gif\" alt=\"ºÎµ¿»ê\"></a></li>\n",
            "<!--\n",
            "\t\t\t\t<li><a href=\"http://money.mk.co.kr/v3/\"><img src=\"//img.mk.co.kr/stock/2013/im_snb_money.gif\" alt=\"±ÝÀ¶\"></a></li>\n",
            "\t\t\t\t<li><a href=\"http://changup.mk.co.kr/\"><img src=\"//img.mk.co.kr/stock/2013/im_snb_changup.gif\" alt=\"Ã¢¾÷\"></a></li>\n",
            "-->\n",
            "\t\t\t</ul>\n",
            "\t\t\t<!-- //À¯°ü¼­ºñ½º --> \n",
            "\t\t\t<!-- °Ë»ö -->\n",
            "\t\t\t<div class='gnb_search2'>\n",
            "\t\t\t\t<!-- 2012.03.02 jyj ¼­Á¦½ºÆ® ´Ü¾î·Î °Ë»ö½Ã Á¾¸ñ¸í°ú Á¾¸ñÄÚµå ºÐ¸® -->\n",
            "\t\t\t\t<script type='text/javascript' src='//vip.mk.co.kr/common/include/search/stockSearch.js'></script>\n",
            "\t\t\t\t<div class='select_bar2'>\n",
            "\t\t\t\t\t<form name='mkSearch' id='mkSearch' method='get' onsubmit=\"return setStockSearch()\"> \n",
            "\t\t\t\t\t\t<input type='hidden' name='s_kwd' />\n",
            "\t\t\t\t\t\t<input type='hidden' name='strKeyword' />\n",
            "\t\t\t\t\t\t<input type=\"hidden\" name=\"keyWord\" />\n",
            "\t\t\t\t\t\t<div class='search_barn02'>\n",
            "\t\t\t\t\t\t\t<span id='topSearchInput'>\n",
            "\t\t\t\t\t\t\t\t<label for='s_keyword'>\n",
            "                        \t\t\t<select class='select_o2' name='page' onchange=\"setSelectbox(this.value)\">\n",
            "                        \t\t\t\t<option value=\"stock\">ÇöÀç°¡</option>\n",
            "                            \t\t\t<option value=\"tech\">Áõ±ÇÁ¾ÇÕ</option>\n",
            "                            \t\t\t<option value=\"total\">ÅëÇÕ°Ë»ö</option>\n",
            "                        \t\t\t</select>\n",
            "                        \t\t</label>\n",
            "                        \t</span>\n",
            "\t\t\t\t\t\t</div>\n",
            "\t\t\t\t\t\t<div class='search_left2'>\n",
            "\t\t\t\t\t\t\t<input type='text' id='searchbox' title='°Ë»ö¾î' align='absmiddle' class='input_box_type2' name='s_keyword' />\n",
            "\t\t\t\t\t\t</div>\n",
            "\t\t\t\t\t</form>\n",
            "\t\t\t\t</div>\n",
            "\t\t\t\t<div>\n",
            "\t\t\t\t\t<img class='input_btn3' src='//img.mk.co.kr/2014/stock/btn_gnb_search2.gif' alt='°Ë»ö¹öÆ°' style='cursor:pointer;float:left;' onclick=\"setStockSearch()\"/>\n",
            "\t\t\t\t</div>\n",
            "\t\t\t\t<div class=\"tele\">\n",
            "\t\t\t\t\t<a href=\"#none\" onclick=\"stselect()\"><img src='//img.mk.co.kr/header/bt_search_stock1.gif' alt='Á¾¸ñ°Ë»ö' align='absmiddle'></a>\n",
            "\t\t\t\t</div>\n",
            "\t\t\t</div>\n",
            "\t\t\t<!-- 2012.03.02 ¼­Á¦½ºÆ® Ãâ·Â //-->\n",
            "\t\t\t<div id=\"suggestbox\"><div id=\"suggest\" style=\"display: none;\"></div></div> \n",
            "\t\t\t<!-- //°Ë»ö -->\n",
            "\t\t</div>\n",
            "\t\t<!-- gnb_menu -->\n",
            "\t\t<div class=\"gnb_menu\" style=\"text-align:center\">\n",
            "\t\t\t<a href=\"#container_left\" class=\"skip\">º»¹® ¹Ù·Î°¡±â</a>\n",
            "\t\t\t<ul>\n",
            "\t\t\t\t<li>\n",
            "\t\t\t\t\t<a href=\"//vip.mk.co.kr/newSt/index.php\"><img src=\"//img.mk.co.kr/stock/2013/im_gnb_01_off.gif\" alt=\"Áõ±ÇÈ¨\" id='gnb_img_1'></a>\n",
            "\t\t\t\t\t<ul id=\"ms1\" class=\"sub_menu1\" style=\"display:none;\">\n",
            "\t\t\t\t\t\t<li><a href='//vip.mk.co.kr/newSt/rate/item_all.php'>ÀüÁ¾¸ñ½Ã¼¼</a></li>\n",
            "\t\t\t\t\t\t<li><a href='//vip.mk.co.kr/newSt/mystock/invest.php'>MY STOCK</a></li>\n",
            "\t\t\t\t\t\t<li><a href='//vip.mk.co.kr/newSt/rate/kospikosdaq.php'>Áö¼ö/¾÷Á¾</a></li>\n",
            "\t\t\t\t\t\t<li><a href='//vip.mk.co.kr/newSt/dart/index.php'>±â¾÷°ø½Ã</a></li>\n",
            "\t\t\t\t\t</ul>\n",
            "\t\t\t\t</li>\n",
            "\t\t\t\t<li>\n",
            "\t\t\t\t\t<a href=\"//vip.mk.co.kr/newSt/price/price.php\"><img src=\"//img.mk.co.kr/stock/2013/im_gnb_02_off.gif\" alt=\"ÇöÀç°¡\" id='gnb_img_2'></a>\n",
            "\t\t\t\t\t<ul id=\"ms2\" class=\"sub_menu2\" style=\"display:none;\">\t\t\n",
            "\t\t\t\t\t\t<li><a href='//vip.mk.co.kr/newSt/price/price.php'>Á¾¸ñÇöÀç°¡</a></li>\n",
            "\t\t\t\t\t\t<li><a href='//vip.mk.co.kr/newSt/price/etf.php'>ETF</a></li>\n",
            "\t\t\t\t\t\t<li><a href='//vip.mk.co.kr/newSt/rate/future.php'>Áö¼ö¼±¹°</a></li>\n",
            "\t\t\t\t\t\t<li><a href='//vip.mk.co.kr/newSt/etc/service.php'>½Ç½Ã°£½ÅÃ»</a></li>\n",
            "\t\t\t\t\t\t<li><a href='//vip.mk.co.kr/newSt/rate/item_all.php'>ÀüÁ¾¸ñ½Ã¼¼</a></li>\n",
            "\t\t\t\t\t\t<li><a href='//vip.mk.co.kr/newSt/mystock/invest.php'>MY STOCK</a></li>\n",
            "\t\t\t\t\t</ul>\n",
            "\t\t\t\t</li>\n",
            "\t\t\t\t<li>\n",
            "\t\t\t\t\t<a href=\"//vip.mk.co.kr/newSt/rate/\"><img src=\"//img.mk.co.kr/stock/2013/im_gnb_03_off.gif\" alt=\"½Ã¼¼\" id='gnb_img_3'></a>\n",
            "\t\t\t\t\t<ul id=\"ms3\" class=\"sub_menu3\" style=\"display:none;\">\t\t\n",
            "\t\t\t\t\t\t<li><a href='//vip.mk.co.kr/newSt/rate/kospikosdaq.php'>Áö¼ö/¾÷Á¾</a></li>\n",
            "\t\t\t\t\t\t<li><a href='//vip.mk.co.kr/newSt/rate/today.php'>Áö±ÝÁõ½Ã´Â</a></li>\n",
            "\t\t\t\t\t\t<li><a href='//vip.mk.co.kr/newSt/rate/best.php'>ÀÎ±â°Ë»öÁ¾¸ñ</a></li>\n",
            "\t\t\t\t\t\t<li><a href='//vip.mk.co.kr/newSt/rate/trade.php'>ÅõÀÚÀÚº°¸Å¸Åµ¿Çâ</a></li>\n",
            "\t\t\t\t\t\t<li><a href='//vip.mk.co.kr/newSt/news/news_list.php?sCode=74&topGubun=2'>±â°ü¿Ü±¹ÀÎ¼ø¸Å¸Å</a></li>\n",
            "\t\t\t\t\t\t<li><a href='//vip.mk.co.kr/newSt/rate/newregi.php'>½Å±Ôµî·ÏÁ¾¸ñ</a></li>\n",
            "\t\t\t\t\t\t<li><a href='//vip.mk.co.kr/newSt/rate/ranking_up.php'>»ó½Â·ü»óÀ§</a></li>\n",
            "\t\t\t\t\t\t<li><a href='//vip.mk.co.kr/newSt/rate/ranking_up_limit.php'>»óÇÑ°¡</a></li>\n",
            "\t\t\t\t\t\t<li><a href='//vip.mk.co.kr/newSt/rate/monhigh.php'>½Å°í°¡</a></li>\n",
            "\t\t\t\t\t\t<li><a href='//vip.mk.co.kr/newSt/rate/arrange.php'>Á¤¹è</a></li>\n",
            "\t\t\t\t\t\t<li><a href='//vip.mk.co.kr/newSt/rate/sigachong.php'>½Ã°¡ÃÑ¾×</a></li>\n",
            "\t\t\t\t\t\t<li><a href='//vip.mk.co.kr/newSt/rate/pricelevel.php'>°¡°Ý´ëº°</a></li>\n",
            "\t\t\t\t\t\t<li><a href='//vip.mk.co.kr/newSt/rate/termrate.php'>±â°£º°µî¶ô·ü</a></li>\n",
            "\t\t\t\t\t</ul>\n",
            "\t\t\t\t</li>\n",
            "\t\t\t\t<li>\n",
            "\t\t\t\t\t<a href=\"http://quote.mk.co.kr/mk_world/world_main.html\"><img src=\"//img.mk.co.kr/stock/2013/im_gnb_04_off.gif\" alt=\"ÇØ¿ÜÁõ½Ã\" id='gnb_img_4'></a>\n",
            "\t\t\t\t\t<ul id=\"ms4\" class=\"sub_menu4\" style=\"display:none;\">\t\t\n",
            "\t\t\t\t\t\t<li><a href='http://quote.mk.co.kr/mk_world/world_sub_01.html'>¼¼°èÁõ½Ã</a></li>\n",
            "\t\t\t\t\t\t<li><a href='http://quote.mk.co.kr/mk_world/world_sub_03.html'>DR</a></li>\n",
            "\t\t\t\t\t\t<li><a href='http://quote.mk.co.kr/mk_world/world_sub_04.html'>½ÃÀåÁöÇ¥</a></li>\n",
            "\t\t\t\t\t\t<li><a href='http://quote.mk.co.kr/mk_world/world_sub_07.html'>Ä¶¸°´õ</a></li>\n",
            "\t\t\t\t\t</ul>\n",
            "\t\t\t\t</li>\n",
            "\t\t\t\t<li>\n",
            "\t\t\t\t\t<a href=\"//vip.mk.co.kr/newSt/news/\"><img src=\"//img.mk.co.kr/stock/2013/im_gnb_05_off.gif\" alt=\"´º½º\" id='gnb_img_5'></a>\n",
            "\t\t\t\t\t<ul id=\"ms5\" class=\"sub_menu5\" style=\"display:none;\">\t\t\n",
            "\t\t\t\t\t\t<li><a href='//vip.mk.co.kr/newSt/news/news_list.php?sCode=21'>ÀüÃ¼´º½º</a></li>\n",
            "\t\t\t\t\t\t<li><a href='//vip.mk.co.kr/newSt/news/news_list.php?sCode=121'>½ÃÈ²</a></li>\n",
            "\t\t\t\t\t\t<li><a href='//vip.mk.co.kr/newSt/news/news_list.php?sCode=26'>Á¾¸ñ¼Óº¸</a></li>\n",
            "\t\t\t\t\t\t<li><a href='//vip.mk.co.kr/newSt/news/news_list.php?sCode=10001'>Æ¯Â¡ÁÖ</a></li>\n",
            "\t\t\t\t\t\t<li><a href='//vip.mk.co.kr/newSt/news/news_list.php?sCode=10002'>ÅõÀÚÀÚº°¸Å¸Åµ¿Çâ</a></li>\n",
            "\t\t\t\t\t\t<li><a href='//vip.mk.co.kr/newSt/news/news_list.php?sCode=108'>ÇØ¿ÜÁõ½Ã</a></li>\n",
            "\t\t\t\t\t\t<li><a href='//vip.mk.co.kr/newSt/news/news_list.php?sCode=115'>°ø½Ã</a></li>\n",
            "\t\t\t\t\t\t<li><a href='//vip.mk.co.kr/newSt/news/news_list.php?sCode=109'>ÆÄ»ý»óÇ°</a></li>\n",
            "\t\t\t\t\t\t<li><a href='//vip.mk.co.kr/newSt/news/news_list2.php?sCode=110'>Áõ±Ç»ç¸®Æ÷Æ®</a></li>\n",
            "\t\t\t\t\t\t<li><a href='//vip.mk.co.kr/newSt/news/planning_news.php'>±âÈ¹±â»ç</a></li>\n",
            "\t\t\t\t\t\t<li><a href='//vip.mk.co.kr/newSt/dart/index.php'><img src=\"//img.mk.co.kr/stock/b_b_cp.gif\" alt=\"±â¾÷°ø½Ã\"></a></li>\n",
            "\t\t\t\t\t</ul>\n",
            "\t\t\t\t</li>\n",
            "\t\t\t\t<li>\n",
            "\t\t\t\t\t<a href=\"//vip.mk.co.kr/newSt/invest/\"><img src=\"//img.mk.co.kr/stock/2013/im_gnb_06_off.gif\" alt=\"ÅõÀÚÀü·«\" id='gnb_img_6'></a>\n",
            "\t\t\t\t\t<ul id=\"ms6\" class=\"sub_menu6\" style=\"display:none;\">\t\t\n",
            "\t\t\t\t\t\t<li><a href='//vip.mk.co.kr/newSt/invest/invest_list1.php?sCode=107'>ÁÖ½ÄÄ®·³</a></li>\n",
            "\t\t\t\t\t\t<li><a href='//vip.mk.co.kr/newSt/invest/invest_list1.php?sCode=141'>¼±¹°¡¤¿É¼ÇÄ®·³ </a></li>\n",
            "\t\t\t\t\t\t<li><a href='//vip.mk.co.kr/newSt/invest/invest_list2.php?sCode=68'>Á¾¸ñºÐ¼®½Ç</a></li>\n",
            "\t\t\t\t\t\t<!--<li><a href='//vip.mk.co.kr/newSt/invest/invest_list4.php'>Á¾¸ñÅ¬¸®´Ð</a></li>-->\n",
            "\t\t\t\t\t</ul>\n",
            "\t\t\t\t</li>\n",
            "\t\t\t\t<li>\n",
            "\t\t\t\t\t<a href=\"https://talk.mk.co.kr/\"><img src=\"//img.mk.co.kr/stock/2013/im_gnb_07_off.gif\" alt=\"Áõ±Ç»ý¹æ¼Û\" id='gnb_img_7'></a>\n",
            "\t\t\t\t\t<ul id=\"ms7\" class=\"sub_menu7\" style=\"display:none; left:100px;\">\n",
            "\t\t\t\t\t\t<li><a href='http://mbngold.mk.co.kr/mk/index.php'>Áõ±Ç»ý¹æ¼ÛÈ¨</a></li>\n",
            "\t\t\t\t\t\t<li><a href='http://mbngold.mk.co.kr/mk/live/index.php'>»ý»ýÁõ±Ç¹æ¼Û</a></li>\n",
            "\t\t\t\t\t\t<li><a href='http://mbngold.mk.co.kr/mk/live/index2.php'>»ý»ý¼±¹°¹æ¼Û</a></li>\n",
            "\t\t\t\t\t\t<li><a href='http://mbngold.mk.co.kr/mk/ars/index.php '>ARSÁ¾¸ñÃßÃµ</a></li>\n",
            "\t\t\t\t\t\t<li><a href='http://mbngold.mk.co.kr/mk/profit/investment.php'>Àü¹®°¡ºÐ¼®½Ç</a></li>\n",
            "\t\t\t\t\t\t<li><a href='http://mbngold.mk.co.kr/mk/profit/investReport.php'>°´Àå¸®Æ÷Æ®</a></li>\n",
            "\t\t\t\t\t\t<li><a href='http://mbngold.mk.co.kr/mk/custom/ethics.php'>À±¸®°­·É</a></li>\n",
            "\t\t\t\t\t\t<li><a href='http://mbngold.mk.co.kr/mk/custom/3po.php'>ÅõÀÚ3¿øÄ¢</a></li>\n",
            "\t\t\t\t\t</ul>\n",
            "\t\t\t\t</li>\n",
            "\t\t\t\t<li>\n",
            "\t\t\t\t\t<a href='#none' onmouseover=\"gnbImgChang(event);\" onfocus=\"gnbImgChang(event);\" onmouseout=\"gnbImgChang(event);\" onblur=\"gnbImgChang(event);\"><img src=\"//img.mk.co.kr/stock/2013/im_gnb_09_off.gif\"  alt=\"´õº¸±â\" id=\"snb_s111img\"></a>\n",
            "\t\t\t\t</li>\n",
            "\t\t\t\t<!--<li style=\"float:right\"><a href=\"//vip.mk.co.kr/newSt/mkf/intro_bond.php\"><img src=\"//img.mk.co.kr/stock/2013/im_gnb_right3.gif\"  alt=\"Ã¤±Ç\"></a></li>-->\n",
            "\t\t\t\t<li style=\"float:right\"><a href=\"//vip.mk.co.kr/newSt/rate/item_all.php\"><img src=\"//img.mk.co.kr/stock/2013/im_gnb_right2.gif\"  alt=\"ÀüÁ¾¸ñ ½Ã¼¼\"></a></li>\n",
            "\t\t\t\t<li style=\"float:right\"><a href=\"//vip.mk.co.kr/newSt/mystock/invest.php\"><img src=\"//img.mk.co.kr/stock/2013/im_gnb_right1.gif\"  alt=\"MY STOCK\"></a></li>\n",
            "\t\t\t</ul>\n",
            "\t\t\t<!-- menu JS //-->\n",
            "\t\t\t<script type='text/javascript' src='//vip.mk.co.kr/common/include/stock2010/stock_menu.js'></script>\n",
            "\t\t</div>\n",
            "\t\t<!-- Áõ±Ç ´õº¸±â ·¹ÀÌ¾î s-->\n",
            "\t\t<div class=\"stock_moreview\" style=\"visibility:hidden;\" id=\"gnb_sub_menu\" onmouseover=\"gnbImgChang(event);\" onfocus=\"gnbImgChang(event);\" onmouseout=\"gnbImgChang(event);\" onblur=\"gnbImgChang(event);\">\n",
            "\t\t\t<ul class=\"stock_moreview_box\">\n",
            "\t\t\t\t<li class=\"tit\">±âÅ¸ ÄÁÅÙÃ÷</li>\n",
            "\t\t\t\t<!--<li><a href=\"//news.mk.co.kr/breakingnews/index.php?menuCode=2\" onClick=\"window.open(this.href,'','width=968, height=823, scrollbars=yes,resizable=yes,toolbar=no,status=no,menubar=no'); return false;\" title=\"»õÃ¢À¸·Î ¿­¸³´Ï´Ù.\">½Ç½Ã°£ ¼Óº¸</a></li>-->\n",
            "                <li><a href=\"//vip.mk.co.kr/newSt/mkf/intro_bond.php\">Ã¤±Ç</a></li>\n",
            "\t\t\t\t<li><a href=\"http://stock3.mk.co.kr/market/total.php\">ºñ»óÀå</a></li>\n",
            "                <li><a href=\"//vip.mk.co.kr/newSt/exrate/\">È¯À²</a></li>\n",
            "\t\t\t</ul>\n",
            "\t\t\t<ul class=\"stock_moreview_box\">\n",
            "\t\t\t</ul>\n",
            "\t\t</div>\n",
            "\t\t<!-- Áõ±Ç ´õº¸±â ·¹ÀÌ¾î e-->\n",
            "\t\t<!-- ´õº¸±â ·¹ÀÌ¾î -->\n",
            "\t\t<div id='more_div' style='display:none;' class=\"gnb_more\">\n",
            "\t<div class=\"wrap\">\n",
            "\t\t<ul class=\"group_1\">\n",
            "\t\t\t<li class='tit'><strong style='color:#d6600c;'>´º½º</strong></li>\n",
            "\t\t\t<li><a href='https://www.mk.co.kr/news/' target='_blank'>´º½º¼¾ÅÍ</a></li>\n",
            "\t\t\t<li><a href='http://digital.mk.co.kr' target='_blank'>¸Å°æe½Å¹®</a></li>\n",
            "\t\t\t<li><a href='http://news.mk.co.kr/newsflash/index.php?sc=40300001' target='_blank'>½Ç½Ã°£¼Óº¸</a></li>\n",
            "\t\t\t<li><a href='https://www.mk.co.kr/news/bestclick/' target='_blank'>ÀÎ±â´º½º</a></li>\n",
            "\t\t\t<li><a href='http://china.mk.co.kr/china/' target='_blank'>Áß¹®´º½º</a></li>\n",
            "\t\t\t<li><a href='http://pulsenews.co.kr' target='_blank'>¿µ¹®´º½º</a></li>\n",
            "\t\t\t<li><a href='http://news.mk.co.kr/newsList.php?sc=50100028&sID=501' target='_blank'>½Å¼³¹ýÀÎ</a></li>\n",
            "\t\t\t<li><a href='http://raythep.mk.co.kr/' target='_blank'>·¹ÀÌ´õP</a></li>\n",
            "\t\t\t<li><a href='http://raythea.mk.co.kr/' target='_blank'>·¹ÀÌ´õA</a></li>\n",
            "\t\t</ul>\n",
            "\t\t<ul class=\"group_2\">\n",
            "\t\t\t<li class=\"tit\"><strong style='color:#d6600c;'>ÀçÅ×Å©</strong></li>\n",
            "\t\t\t<li><a href=\"http://stock.mk.co.kr\" target='_blank'>Áõ±Ç</a></li>\n",
            "\t\t\t<li><a href=\"http://estate.mk.co.kr\" target='_blank'>ºÎµ¿»ê</a></li>\n",
            "\t\t\t<li><a href=\"http://money.mk.co.kr\" target='_blank'>±ÝÀ¶</a></li>\n",
            "\t\t\t<li><a href=\"http://changup.mk.co.kr\" target='_blank'>Ã¢¾÷</a></li>\n",
            "\t\t</ul>\n",
            "\t\t<ul class=\"group_3\">\n",
            "\t\t\t<li class=\"tit\"><strong style='color:#d6600c;'>¶óÀÌÇÁ</strong></li>\n",
            "\t\t\t<!--<li><a href=\"http://www.mkhealth.co.kr\" target='_blank'>¸Å°æÇï½º</a></li>-->\n",
            "\t\t\t<!--<li><a href=\"http://politoktok.mk.co.kr/\" target='_blank'>Æú¸®ÅåÅå</a></li>-->\n",
            "\t\t\t<!--li><a href=\"http://car.mk.co.kr\" target='_blank'>Autoworld</a></li//-->\n",
            "\t\t\t<li><a href=\"http://book.mk.co.kr\" target='_blank'>Book</a></li>\n",
            "\t\t\t<li><a href=\"http://tour.mk.co.kr\" target='_blank'>¿©Çà</a></li>\n",
            "\t\t\t<li><a href=\"http://mzine.mk.co.kr\" target='_blank'>M¸Å°ÅÁø</a></li>\n",
            "\t\t\t<li><a href=\"http://golf.mk.co.kr\" target='_blank'>°ñÇÁ</a></li>\n",
            "\t\t\t<li><a href=\"http://uberin.mk.co.kr/\" target='_blank'>¿ì¹öìÑ»çÀÌÆ®</a></li>\n",
            "\t\t</ul>\n",
            "\t\t<ul class=\"group_4\">\n",
            "\t\t\t<li class=\"tit\"><strong style='color:#d6600c;'>ºñÁî´Ï½º</strong></li>\n",
            "\t\t\t<li><a href=\"http://education.mk.co.kr/v1/\" target='_blank'>±³À°</a></li>\n",
            "\t\t\t<li><a href=\"http://senior.mk.co.kr\" target='_blank'>»ý¾Ö¼³°è</a></li>\n",
            "\t\t\t<li><a href=\"http://www.raythem.com\" target='_blank'>·¹ÀÌ´õM</a></li>\n",
            "\t\t\t<!--li><a href=\"http://bizionshop.mk.co.kr/\" target='_blank'>ºñÀü¼¥</a></li//-->\n",
            "\t\t\t<li><a href=\"http://oc.mk.co.kr/\" target='_blank'>ÇØ¿ÜDB</a></li>\n",
            "\t\t\t<li><a href=\"http://graph.mk.co.kr/\" target='_blank'>°æÁ¦ÁöÇ¥</a></li>\n",
            "\t\t\t<!--<li><a href=\"http://www.oaasys.com/main.do\" target='_blank'>¿À¾Æ½Ã½º</a></li>-->\n",
            "\t\t</ul>\n",
            "\t\t<ul class=\"group_5\">\n",
            "\t\t\t<li class=\"tit\"><strong style='color:#d6600c;'>¸ð¹ÙÀÏ</strong></li>\n",
            "\t\t\t<li><a href=\"http://m.mk.co.kr/\" target='_blank'>M¸Å°æ</a></li>\n",
            "\t\t\t<li><a href=\"http://news.mk.co.kr/newsList.php?sc=40000106\" target='_blank'>¸ð¹ÙÀÏÆ®·»µå</a></li>\n",
            "\t\t\t<li><a href=\"https://twitter.com/maekyungsns\" target='_blank'>Æ®À§ÅÍ</a></li>\n",
            "\t\t\t<li><a href=\"https://twitter.com/maekyungsns\" target='_blank'>ÆäÀÌ½ººÏ</a></li>\n",
            "\t\t\t<li><a href=\"https://story.kakao.com/ch/mknews\" target='_blank'>Ä«Ä«¿À½ºÅä¸®</a></li>\n",
            "\t\t</ul>\n",
            "\t</div>\n",
            "\t<div class=\"bottom\">\n",
            "\t\t<p class=\"txt\"><a href=\"//channel.mk.co.kr/2016/sitemap.php\">¼­ºñ½º ÀüÃ¼º¸±â</a></p>\n",
            "        <p class=\"btn\"><img src=\"//img.mk.co.kr/news/2013/main/bt_sns_close.gif\" alt=\"´õº¸±â ´Ý±â\" onclick=\"toggleMoreDiv();\" style=\"cursor:pointer; width: 12px; height: 13px;\"></p>\n",
            "    </div>\n",
            "</div>\t\t<!-- //´õº¸±â ·¹ÀÌ¾î --> \n",
            "\t</div>\n",
            "\t<!--// header --> \n",
            "</div>\n",
            "<script type='text/javascript'>(function() {var useSSL = 'https:' == document.location.protocol;var src = (useSSL ? 'https:' : 'http:') +'//www.googletagservices.com/tag/js/gpt.js';document.write('<scr' + 'ipt src=\"' + src + '\"></scr' + 'ipt>');})();</script><script type='text/javascript'>\n",
            "    if(typeof googletag !='undefined'){\n",
            "        \n",
            "    \tgoogletag.defineSlot('/7450/MK_Website/stock/sub_pages', [[728,90],[970,90],[970,250]], 'google_dfp_TC_728x90,970x90').addService(googletag.pubads()).setTargeting('position', 'TC');\n",
            "    \tgoogletag.defineSlot('/7450/MK_Website/stock/sub_pages', [250,250], 'google_dfp_MC_250x250').addService(googletag.pubads()).setTargeting('position', 'MC');\n",
            "    \tgoogletag.defineSlot('/7450/MK_Website/stock/home', [[300,250],[300,450],[300,600],\"fluid\"], 'google_dfp_MR_300x250,300x450,300x600').addService(googletag.pubads()).setTargeting('position', 'MR');\n",
            "    \tvar google_dfp_MR='google_dfp_MR_300x250,300x450,300x600';\n",
            "    \tgoogletag.defineSlot('/7450/MK_Website/stock/sub_pages', [300,250], 'google_dfp_BR_300x250').addService(googletag.pubads()).setTargeting('position', 'BR');\n",
            "    \tvar google_dfp_BR='google_dfp_BR_300x250';\n",
            "    \tgoogletag.defineSlot('/7450/MK_Website/stock/sub_pages', [300,250], 'google_dfp_BL_300x250').addService(googletag.pubads()).setTargeting('position', 'BL');\n",
            "    \tvar google_dfp_BL='google_dfp_BL_300x250';\n",
            "        \n",
            "        var google_dfp_MR='google_dfp_MR_300x250,300x450,300x600';\n",
            "    \tvar category_id='null';\n",
            "    \tvar article_num='null';\n",
            "    \tvar publish_date='null';\n",
            "    \tvar journalist=null;\n",
            "    \tvar keywords='null';\n",
            "    \tvar domainStr='null';tmp1=document.location.href.split('/');if(tmp1.length>2) {domainStr=tmp1[2];}\n",
            "    \tvar refererStr='null';tmp2=document.referrer.split('/');if(tmp2.length>2) {refererStr=tmp2[2];}\n",
            "    \tvar mk_login='off';\n",
            "    \tvar login_type='unkown';\n",
            "    \tgoogletag.pubads().setTargeting('category_id',category_id);\n",
            "    \tgoogletag.pubads().setTargeting('article_num',article_num);\n",
            "    \tgoogletag.pubads().setTargeting('publish_date',publish_date);\n",
            "    \tgoogletag.pubads().setTargeting('journalist',journalist);\n",
            "    \tgoogletag.pubads().setTargeting('domain',domainStr);\n",
            "    \tgoogletag.pubads().setTargeting('referer',refererStr);\n",
            "    \tif(document.cookie.indexOf('cUserID')>0){mk_login='on';login_type='mk';}\n",
            "    \tgoogletag.pubads().setTargeting('mk_login',mk_login);\n",
            "    \tgoogletag.pubads().setTargeting('login_type',login_type);\n",
            "    \tif(keywords!='') googletag.pubads().setTargeting('keywords', keywords);\n",
            "    \t\n",
            "    \tgoogletag.pubads().collapseEmptyDivs();\n",
            "    \t//googletag.pubads().enableSyncRendering();\n",
            "    \tgoogletag.pubads().enableSingleRequest();\n",
            "    \tgoogletag.enableServices();\n",
            "    }\n",
            "</script><link rel=\"stylesheet\" type=\"text/css\" href=\"//channel.mk.co.kr/stock/css/new_stock_hs2.css\">\n",
            "<div style=\"width:100%; text-align:center\">\n",
            "<div style=\"position:relative; width:990px; margin:0 auto;\">\n",
            "\n",
            "<br>\n",
            "<!-- Google DFP TC ±¤°í ½ÃÀÛ-->\n",
            "<div><center><div id='google_dfp_TC_728x90,970x90'><script type='text/javascript'>googletag.display('google_dfp_TC_728x90,970x90'); </script></div></center></div>\n",
            "<!-- Google DFP  TC ±¤°í ³¡-->\n",
            "<br>\n",
            "\n",
            "<table width=\"990\" border=\"0\" align=\"center\" cellpadding=\"0\" cellspacing=\"0\">\n",
            "<tr>\n",
            "\t<!----º»¹® ³»¿ë µé¾î°¥ ½ÃÀÛ------------->\n",
            "\t<td width=\"670\" valign=\"top\">\n"
          ]
        }
      ]
    },
    {
      "cell_type": "markdown",
      "source": [
        "코인 방식과 그대로 거래량을 제외한 모든 값 제외"
      ],
      "metadata": {
        "id": "Z-5NSQbp4VmN"
      }
    },
    {
      "cell_type": "code",
      "source": [
        "ksp_sym_name=df_kospi[[\"Symbol\",\"Name\"]]\n",
        "print(ksp_sym_name.iloc[0,1])"
      ],
      "metadata": {
        "colab": {
          "base_uri": "https://localhost:8080/"
        },
        "id": "2MS5AF8h4tQU",
        "outputId": "dafca5b1-ae5d-45d7-8eac-dcce0a96d6b9"
      },
      "execution_count": 78,
      "outputs": [
        {
          "output_type": "stream",
          "name": "stdout",
          "text": [
            "AJ네트웍스\n"
          ]
        }
      ]
    },
    {
      "cell_type": "markdown",
      "source": [
        "4700개라 그런지 실행 도중에 오류가 나서 그냥 50개 종목코드를 가져오기로 했다.\n"
      ],
      "metadata": {
        "id": "-QUlhH4tGrCk"
      }
    },
    {
      "cell_type": "code",
      "source": [
        "df_code=pd.DataFrame({'code':['005930','005935','001440','004980','009540','034020','005380',\n",
        "   '090350','000660','033530','010140','005070','028260','018470',\n",
        "   '000220','066570','000720','006390','019170','015760','003670',\n",
        "   '007460','007660','006360','011200','005010','004985','025560',\n",
        "   '034220','020150','003060','009150','042670','009415','088980',\n",
        "   '036460','042660','088350','093370','097955','017550','028050',\n",
        "   '019175','000020','035420','012330','034830','008970','004250','038380']})"
      ],
      "metadata": {
        "id": "LVem3ukoLX99"
      },
      "execution_count": 128,
      "outputs": []
    },
    {
      "cell_type": "code",
      "source": [
        "print(str(df_code.iloc[1,0]))"
      ],
      "metadata": {
        "colab": {
          "base_uri": "https://localhost:8080/"
        },
        "id": "uoc3WeiBNgaE",
        "outputId": "592f25e6-1ef0-440d-ca53-47b0da6573a1"
      },
      "execution_count": 145,
      "outputs": [
        {
          "output_type": "stream",
          "name": "stdout",
          "text": [
            "005935\n"
          ]
        }
      ]
    },
    {
      "cell_type": "markdown",
      "source": [
        "\t삼성전자,삼성전자우,대한전선,성신양회,한국조선해양,두산중공업,현대차,노루페인트,SK하이닉스,세종공업,삼성중공업,\n",
        "\t\t코스모신소재,삼성물산,조일알미늄,유유제약,LG전자,현대건설,한일현대시멘트,신풍제약,한국전력,포스코케미칼,에이프로젠_MED,\n",
        "이수페타시스,GS건설,HMM,휴스틸,성신양회우,미래산업,LG디스플레이,일진머티리얼즈,에이프로젠제약,삼성전기,현대두산인프라코어,\n",
        "태영건설우,맥쿼리인프라,한국가스공사,대우조선해양,한화생명,후성,CJ제일제당_우,수산중공업,삼성엔지니어링,신풍제약우,동화약품,\n",
        "NAVER,현대모비스,한국토지신탁,동양철관,NPC,LX홀딩스1우"
      ],
      "metadata": {
        "id": "_9MRtdIYMWXt"
      }
    },
    {
      "cell_type": "code",
      "source": [
        "fdr.DataReader(df_code.iloc[0,0],'2021')"
      ],
      "metadata": {
        "colab": {
          "base_uri": "https://localhost:8080/",
          "height": 455
        },
        "id": "72VHckgbN8EN",
        "outputId": "0bbf2d80-1fce-4742-cd75-40cc1a1ab9ff"
      },
      "execution_count": 147,
      "outputs": [
        {
          "output_type": "execute_result",
          "data": {
            "text/html": [
              "<div>\n",
              "<style scoped>\n",
              "    .dataframe tbody tr th:only-of-type {\n",
              "        vertical-align: middle;\n",
              "    }\n",
              "\n",
              "    .dataframe tbody tr th {\n",
              "        vertical-align: top;\n",
              "    }\n",
              "\n",
              "    .dataframe thead th {\n",
              "        text-align: right;\n",
              "    }\n",
              "</style>\n",
              "<table border=\"1\" class=\"dataframe\">\n",
              "  <thead>\n",
              "    <tr style=\"text-align: right;\">\n",
              "      <th></th>\n",
              "      <th>Open</th>\n",
              "      <th>High</th>\n",
              "      <th>Low</th>\n",
              "      <th>Close</th>\n",
              "      <th>Volume</th>\n",
              "      <th>Change</th>\n",
              "    </tr>\n",
              "    <tr>\n",
              "      <th>Date</th>\n",
              "      <th></th>\n",
              "      <th></th>\n",
              "      <th></th>\n",
              "      <th></th>\n",
              "      <th></th>\n",
              "      <th></th>\n",
              "    </tr>\n",
              "  </thead>\n",
              "  <tbody>\n",
              "    <tr>\n",
              "      <th>2021-01-04</th>\n",
              "      <td>81000</td>\n",
              "      <td>84400</td>\n",
              "      <td>80200</td>\n",
              "      <td>83000</td>\n",
              "      <td>38655276</td>\n",
              "      <td>0.02469</td>\n",
              "    </tr>\n",
              "    <tr>\n",
              "      <th>2021-01-05</th>\n",
              "      <td>81600</td>\n",
              "      <td>83900</td>\n",
              "      <td>81600</td>\n",
              "      <td>83900</td>\n",
              "      <td>35335669</td>\n",
              "      <td>0.01084</td>\n",
              "    </tr>\n",
              "    <tr>\n",
              "      <th>2021-01-06</th>\n",
              "      <td>83300</td>\n",
              "      <td>84500</td>\n",
              "      <td>82100</td>\n",
              "      <td>82200</td>\n",
              "      <td>42089013</td>\n",
              "      <td>-0.02026</td>\n",
              "    </tr>\n",
              "    <tr>\n",
              "      <th>2021-01-07</th>\n",
              "      <td>82800</td>\n",
              "      <td>84200</td>\n",
              "      <td>82700</td>\n",
              "      <td>82900</td>\n",
              "      <td>32644642</td>\n",
              "      <td>0.00852</td>\n",
              "    </tr>\n",
              "    <tr>\n",
              "      <th>2021-01-08</th>\n",
              "      <td>83300</td>\n",
              "      <td>90000</td>\n",
              "      <td>83000</td>\n",
              "      <td>88800</td>\n",
              "      <td>59013307</td>\n",
              "      <td>0.07117</td>\n",
              "    </tr>\n",
              "    <tr>\n",
              "      <th>...</th>\n",
              "      <td>...</td>\n",
              "      <td>...</td>\n",
              "      <td>...</td>\n",
              "      <td>...</td>\n",
              "      <td>...</td>\n",
              "      <td>...</td>\n",
              "    </tr>\n",
              "    <tr>\n",
              "      <th>2021-12-06</th>\n",
              "      <td>75100</td>\n",
              "      <td>76700</td>\n",
              "      <td>74900</td>\n",
              "      <td>76300</td>\n",
              "      <td>16391250</td>\n",
              "      <td>0.00926</td>\n",
              "    </tr>\n",
              "    <tr>\n",
              "      <th>2021-12-07</th>\n",
              "      <td>76100</td>\n",
              "      <td>77700</td>\n",
              "      <td>75600</td>\n",
              "      <td>77400</td>\n",
              "      <td>19232453</td>\n",
              "      <td>0.01442</td>\n",
              "    </tr>\n",
              "    <tr>\n",
              "      <th>2021-12-08</th>\n",
              "      <td>78300</td>\n",
              "      <td>78600</td>\n",
              "      <td>77100</td>\n",
              "      <td>77400</td>\n",
              "      <td>21558340</td>\n",
              "      <td>0.00000</td>\n",
              "    </tr>\n",
              "    <tr>\n",
              "      <th>2021-12-09</th>\n",
              "      <td>77400</td>\n",
              "      <td>78200</td>\n",
              "      <td>77000</td>\n",
              "      <td>78200</td>\n",
              "      <td>21604528</td>\n",
              "      <td>0.01034</td>\n",
              "    </tr>\n",
              "    <tr>\n",
              "      <th>2021-12-10</th>\n",
              "      <td>77400</td>\n",
              "      <td>77600</td>\n",
              "      <td>76800</td>\n",
              "      <td>76900</td>\n",
              "      <td>9091202</td>\n",
              "      <td>-0.01662</td>\n",
              "    </tr>\n",
              "  </tbody>\n",
              "</table>\n",
              "<p>234 rows × 6 columns</p>\n",
              "</div>"
            ],
            "text/plain": [
              "             Open   High    Low  Close    Volume   Change\n",
              "Date                                                     \n",
              "2021-01-04  81000  84400  80200  83000  38655276  0.02469\n",
              "2021-01-05  81600  83900  81600  83900  35335669  0.01084\n",
              "2021-01-06  83300  84500  82100  82200  42089013 -0.02026\n",
              "2021-01-07  82800  84200  82700  82900  32644642  0.00852\n",
              "2021-01-08  83300  90000  83000  88800  59013307  0.07117\n",
              "...           ...    ...    ...    ...       ...      ...\n",
              "2021-12-06  75100  76700  74900  76300  16391250  0.00926\n",
              "2021-12-07  76100  77700  75600  77400  19232453  0.01442\n",
              "2021-12-08  78300  78600  77100  77400  21558340  0.00000\n",
              "2021-12-09  77400  78200  77000  78200  21604528  0.01034\n",
              "2021-12-10  77400  77600  76800  76900   9091202 -0.01662\n",
              "\n",
              "[234 rows x 6 columns]"
            ]
          },
          "metadata": {},
          "execution_count": 147
        }
      ]
    },
    {
      "cell_type": "code",
      "source": [
        "for i in range(len(df_code)-1): \n",
        "    vol_tem = fdr.DataReader(df_code.iloc[i,0],'2021')\n",
        "    vol_tem=vol_tem.drop(vol_tem.columns[[0,1,2,3,5]],axis=1)\n",
        "    if i==0:\n",
        "      vol=vol_tem\n",
        "    else:\n",
        "      vol=pd.concat([vol,vol_tem],axis=1)\n",
        "      \n",
        "print(vol)"
      ],
      "metadata": {
        "colab": {
          "base_uri": "https://localhost:8080/"
        },
        "id": "WBI8rAssyOCU",
        "outputId": "89314519-d613-4a77-fdab-214c281c3055"
      },
      "execution_count": 224,
      "outputs": [
        {
          "output_type": "stream",
          "name": "stdout",
          "text": [
            "              Volume   Volume    Volume  ...    Volume   Volume   Volume\n",
            "Date                                     ...                            \n",
            "2021-01-04  38655276  5455139   7805607  ...   1574398  1930670   104474\n",
            "2021-01-05  35335669  3870698   5897359  ...   2896714  8308044   111743\n",
            "2021-01-06  42089013  4103763  29401257  ...   1609673  3130039   123758\n",
            "2021-01-07  32644642  3858695  10472786  ...   1868086  2068682   148432\n",
            "2021-01-08  59013307  8225064   9385884  ...   1984318  2146102   102686\n",
            "...              ...      ...       ...  ...       ...      ...      ...\n",
            "2021-12-06  16391250  1724092   4104603  ...   1620653   468064   526904\n",
            "2021-12-07  19232453  1979792   5399236  ...  15805120   539118  1009748\n",
            "2021-12-08  21558340  1520011   9438780  ...   4563830   652278   426559\n",
            "2021-12-09  21604528  1415020   7080561  ...   4827551   390477   408933\n",
            "2021-12-10   9091202   759138   3087459  ...   1986591   532043   595946\n",
            "\n",
            "[234 rows x 49 columns]\n"
          ]
        }
      ]
    },
    {
      "cell_type": "code",
      "source": [
        "vol_sum=vol.sum(axis=1)\n",
        "vol_sum.plot()"
      ],
      "metadata": {
        "colab": {
          "base_uri": "https://localhost:8080/",
          "height": 394
        },
        "id": "C6KZsNurEgVt",
        "outputId": "ef979de2-1603-4965-9a26-ae61aaf5c0a5"
      },
      "execution_count": 225,
      "outputs": [
        {
          "output_type": "execute_result",
          "data": {
            "text/plain": [
              "<matplotlib.axes._subplots.AxesSubplot at 0x7ff248c62450>"
            ]
          },
          "metadata": {},
          "execution_count": 225
        },
        {
          "output_type": "display_data",
          "data": {
            "image/png": "[encoded data removed]",
            "text/plain": [
              "<Figure size 864x432 with 1 Axes>"
            ]
          },
          "metadata": {
            "needs_background": "light"
          }
        }
      ]
    },
    {
      "cell_type": "code",
      "source": [
        "plt.bar((vol_sum.index),vol_sum)"
      ],
      "metadata": {
        "colab": {
          "base_uri": "https://localhost:8080/",
          "height": 392
        },
        "id": "BSaFiOCSg4s2",
        "outputId": "f36e97a4-bee5-4196-e40f-4eb2f2cbb7fe"
      },
      "execution_count": 218,
      "outputs": [
        {
          "output_type": "execute_result",
          "data": {
            "text/plain": [
              "<BarContainer object of 234 artists>"
            ]
          },
          "metadata": {},
          "execution_count": 218
        },
        {
          "output_type": "display_data",
          "data": {
            "image/png": "[encoded data removed]",
            "text/plain": [
              "<Figure size 864x432 with 1 Axes>"
            ]
          },
          "metadata": {
            "needs_background": "light"
          }
        }
      ]
    },
    {
      "cell_type": "code",
      "source": [
        "plt.bar((volum_sum.index),volum_sum)"
      ],
      "metadata": {
        "colab": {
          "base_uri": "https://localhost:8080/",
          "height": 392
        },
        "id": "9wGd3_vGhKG2",
        "outputId": "df26ac03-69c7-4df4-e180-c1c27088059b"
      },
      "execution_count": 219,
      "outputs": [
        {
          "output_type": "execute_result",
          "data": {
            "text/plain": [
              "<BarContainer object of 12 artists>"
            ]
          },
          "metadata": {},
          "execution_count": 219
        },
        {
          "output_type": "display_data",
          "data": {
            "image/png": "[encoded data removed]",
            "text/plain": [
              "<Figure size 864x432 with 1 Axes>"
            ]
          },
          "metadata": {
            "needs_background": "light"
          }
        }
      ]
    },
    {
      "cell_type": "code",
      "source": [
        "volum_sum.plot()\n",
        "vol_sum.plot()"
      ],
      "metadata": {
        "colab": {
          "base_uri": "https://localhost:8080/",
          "height": 393
        },
        "id": "EXWh5MckpKWe",
        "outputId": "7a0ba4d0-bd49-48b7-e8b3-6e9206e2baf2"
      },
      "execution_count": 226,
      "outputs": [
        {
          "output_type": "execute_result",
          "data": {
            "text/plain": [
              "<matplotlib.axes._subplots.AxesSubplot at 0x7ff248ca0cd0>"
            ]
          },
          "metadata": {},
          "execution_count": 226
        },
        {
          "output_type": "display_data",
          "data": {
            "image/png": "[encoded data removed]",
            "text/plain": [
              "<Figure size 864x432 with 1 Axes>"
            ]
          },
          "metadata": {
            "needs_background": "light"
          }
        }
      ]
    },
    {
      "cell_type": "code",
      "source": [
        "import scipy.stats as ss\n",
        "\n",
        "tem_volum_sum = ss.zscore(volum_sum)\n",
        "for i in range(len(volum_sum)):\n",
        "    volum_sum[i]=tem_volum_sum[i]\n",
        "\n",
        "\n",
        "tem_vol_sum = ss.zscore(vol_sum)\n",
        "for i in range(len(vol_sum)):\n",
        "    vol_sum[i]=tem_vol_sum[i]\n",
        "\n",
        "volum_sum.plot()\n",
        "vol_sum.plot()"
      ],
      "metadata": {
        "colab": {
          "base_uri": "https://localhost:8080/",
          "height": 393
        },
        "id": "2YcqCCKUZR_u",
        "outputId": "bf1595a5-00a7-4d48-b47c-6deefcd946ff"
      },
      "execution_count": 216,
      "outputs": [
        {
          "output_type": "execute_result",
          "data": {
            "text/plain": [
              "<matplotlib.axes._subplots.AxesSubplot at 0x7ff24916e450>"
            ]
          },
          "metadata": {},
          "execution_count": 216
        },
        {
          "output_type": "display_data",
          "data": {
            "image/png": "[encoded data removed]",
            "text/plain": [
              "<Figure size 864x432 with 1 Axes>"
            ]
          },
          "metadata": {
            "needs_background": "light"
          }
        }
      ]
    }
  ]
}