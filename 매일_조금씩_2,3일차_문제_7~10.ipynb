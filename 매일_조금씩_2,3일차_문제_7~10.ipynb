{
  "nbformat": 4,
  "nbformat_minor": 0,
  "metadata": {
    "kernelspec": {
      "display_name": "Python 3",
      "language": "python",
      "name": "python3"
    },
    "language_info": {
      "codemirror_mode": {
        "name": "ipython",
        "version": 3
      },
      "file_extension": ".py",
      "mimetype": "text/x-python",
      "name": "python",
      "nbconvert_exporter": "python",
      "pygments_lexer": "ipython3",
      "version": "3.7.7"
    },
    "colab": {
      "name": "매일 조금씩 2,3일차  문제 7~10",
      "provenance": [],
      "collapsed_sections": [
        "ODJVmYvIP3x-",
        "cxZwPnfms0-9"
      ],
      "include_colab_link": true
    }
  },
  "cells": [
    {
      "cell_type": "markdown",
      "metadata": {
        "id": "view-in-github",
        "colab_type": "text"
      },
      "source": [
        "<a href=\"https://colab.research.google.com/github/LeeJeaHyuk/colab-sync-practice/blob/main/%EB%A7%A4%EC%9D%BC_%EC%A1%B0%EA%B8%88%EC%94%A9_2%2C3%EC%9D%BC%EC%B0%A8_%EB%AC%B8%EC%A0%9C_7~10.ipynb\" target=\"_parent\"><img src=\"https://colab.research.google.com/assets/colab-badge.svg\" alt=\"Open In Colab\"/></a>"
      ]
    },
    {
      "cell_type": "markdown",
      "metadata": {
        "id": "NqqLNJZjfi8U"
      },
      "source": [
        "# 주제 : 데이터 분석으로 심부전증을 예방할 수 있을까?\n",
        "----------\n",
        "\n",
        "## 실습 가이드\n",
        "    1. 데이터를 다운로드하여 Colab에 불러옵니다.\n",
        "    2. 필요한 라이브러리는 모두 코드로 작성되어 있습니다.\n",
        "    3. 코드는 위에서부터 아래로 순서대로 실행합니다.\n",
        "    \n",
        "    \n",
        "## 데이터 소개\n",
        "    - 이번 주제는 Heart Failure Prediction 데이터셋을 사용합니다.\n",
        "    \n",
        "    - 다음 1개의 csv 파일을 사용합니다.\n",
        "    heart_failure_clinical_records_dataset.csv\n",
        "    \n",
        "    - 각 파일의 컬럼은 아래와 같습니다.\n",
        "    age: 환자의 나이\n",
        "    anaemia: 환자의 빈혈증 여부 (0: 정상, 1: 빈혈)\n",
        "    creatinine_phosphokinase: 크레아틴키나제 검사 결과\n",
        "    diabetes: 당뇨병 여부 (0: 정상, 1: 당뇨)\n",
        "    ejection_fraction: 박출계수 (%)\n",
        "    high_blood_pressure: 고혈압 여부 (0: 정상, 1: 고혈압)\n",
        "    platelets: 혈소판 수 (kiloplatelets/mL)\n",
        "    serum_creatinine: 혈중 크레아틴 레벨 (mg/dL)\n",
        "    serum_sodium: 혈중 나트륨 레벨 (mEq/L)\n",
        "    sex: 성별 (0: 여성, 1: 남성)\n",
        "    smoking: 흡연 여부 (0: 비흡연, 1: 흡연)\n",
        "    time: 관찰 기간 (일)\n",
        "    DEATH_EVENT: 사망 여부 (0: 생존, 1: 사망)\n",
        "    \n",
        "    \n",
        "    \n",
        "- 데이터 출처: https://www.kaggle.com/andrewmvd/heart-failure-clinical-data\n",
        "\n",
        "\n",
        "## 최종 목표\n",
        "    - 의료 데이터와 그 분석에 대한 이해\n",
        "    - Colab 및 Pandas 라이브러리 사용법 이해\n",
        "    - 데이터 시각화를 통한 인사이트 습득 방법의 이해\n",
        "    - Scikit-learn 기반의 모델 학습 방법 습득\n",
        "    - Classification 모델의 학습과 평가 방법 이해\n",
        "\n",
        "- 출제자 : 신제용 강사\n",
        "---"
      ]
    },
    {
      "cell_type": "markdown",
      "metadata": {
        "id": "ODJVmYvIP3x-"
      },
      "source": [
        "## Step 0. 의료 데이터셋에 대하여"
      ]
    },
    {
      "cell_type": "markdown",
      "metadata": {
        "id": "c0iKTnLNsraM"
      },
      "source": [
        "### 의료 데이터의 수집\n"
      ]
    },
    {
      "cell_type": "markdown",
      "metadata": {
        "id": "cxZwPnfms0-9"
      },
      "source": [
        "### 의료 데이터 분석의 현재\n"
      ]
    },
    {
      "cell_type": "markdown",
      "metadata": {
        "id": "XEcB6i1os0y_"
      },
      "source": [
        "### Accuracy, Precision, 그리고 Recall"
      ]
    },
    {
      "cell_type": "markdown",
      "metadata": {
        "id": "IRssoNrgP7So"
      },
      "source": [
        "## Step 1. 데이터셋 준비하기"
      ]
    },
    {
      "cell_type": "code",
      "metadata": {
        "id": "g49RuFGrBvt7"
      },
      "source": [
        "import pandas as pd\n",
        "import numpy as np\n",
        "import matplotlib.pyplot as plt\n",
        "import seaborn as sns"
      ],
      "execution_count": null,
      "outputs": []
    },
    {
      "cell_type": "markdown",
      "metadata": {
        "id": "paInbv8Ys-Qy"
      },
      "source": [
        "### 문제 1. Colab Notebook에 Kaggle API 세팅하기\n"
      ]
    },
    {
      "cell_type": "code",
      "metadata": {
        "id": "RRXGYV60B7FX"
      },
      "source": [
        "import os"
      ],
      "execution_count": null,
      "outputs": []
    },
    {
      "cell_type": "code",
      "metadata": {
        "id": "mMKFOC0OBtHO"
      },
      "source": [
        "# os.environ을 이용하여 Kaggle API Username, Key 세팅하기\n",
        "os.environ['KAGGLE_USERNAME'] ='leejeahyuk'\n",
        "os.environ['KAGGLE_KEY'] ='909dc28f843ffc03b80b5291757fd8f0'\n"
      ],
      "execution_count": null,
      "outputs": []
    },
    {
      "cell_type": "markdown",
      "metadata": {
        "id": "zvbeoB_WtBi-"
      },
      "source": [
        "### 문제 2. 데이터 다운로드 및 압축 해제하기\n"
      ]
    },
    {
      "cell_type": "code",
      "metadata": {
        "id": "JSblp2NsCGbh",
        "colab": {
          "base_uri": "https://localhost:8080/"
        },
        "outputId": "b38a68d3-74f5-494d-e417-d0a1c180f1eb"
      },
      "source": [
        "# Linux 명령어로 Kaggle API를 이용하여 데이터셋 다운로드하기 (!kaggle ~)\n",
        "# Linux 명령어로 압축 해제하기\n",
        "!kaggle datasets download -d andrewmvd/heart-failure-clinical-data"
      ],
      "execution_count": null,
      "outputs": [
        {
          "output_type": "stream",
          "name": "stdout",
          "text": [
            "heart-failure-clinical-data.zip: Skipping, found more recently modified local copy (use --force to force download)\n"
          ]
        }
      ]
    },
    {
      "cell_type": "code",
      "source": [
        "!unzip '*.zip'"
      ],
      "metadata": {
        "colab": {
          "base_uri": "https://localhost:8080/"
        },
        "id": "JKJrE2tbGUIo",
        "outputId": "46feedf6-3c9e-46cf-b2c9-47ccf933f919"
      },
      "execution_count": null,
      "outputs": [
        {
          "output_type": "stream",
          "name": "stdout",
          "text": [
            "Archive:  heart-failure-clinical-data.zip\n",
            "replace heart_failure_clinical_records_dataset.csv? [y]es, [n]o, [A]ll, [N]one, [r]ename: \n",
            "error:  invalid response [{ENTER}]\n",
            "replace heart_failure_clinical_records_dataset.csv? [y]es, [n]o, [A]ll, [N]one, [r]ename: "
          ]
        }
      ]
    },
    {
      "cell_type": "code",
      "source": [
        "!ls"
      ],
      "metadata": {
        "colab": {
          "base_uri": "https://localhost:8080/"
        },
        "id": "2-MvGqNeGNxw",
        "outputId": "3ff1593a-c26f-4e62-bef2-94818ca4b3b1"
      },
      "execution_count": null,
      "outputs": [
        {
          "output_type": "stream",
          "name": "stdout",
          "text": [
            "heart-failure-clinical-data.zip\t\t    sample_data\n",
            "heart_failure_clinical_records_dataset.csv\n"
          ]
        }
      ]
    },
    {
      "cell_type": "markdown",
      "metadata": {
        "id": "aJ34SovLtFI8"
      },
      "source": [
        "### 문제 3. Pandas 라이브러리로 csv파일 읽어들이기\n"
      ]
    },
    {
      "cell_type": "code",
      "metadata": {
        "id": "RnJv-4YwCMSx"
      },
      "source": [
        "# pd.read_csv()로 csv파일 읽어들이기\n",
        "df = pd.read_csv('heart_failure_clinical_records_dataset.csv')"
      ],
      "execution_count": null,
      "outputs": []
    },
    {
      "cell_type": "markdown",
      "metadata": {
        "id": "9L3BNVM7tHN5"
      },
      "source": [
        "## Step 2. EDA 및 데이터 기초 통계 분석\n"
      ]
    },
    {
      "cell_type": "markdown",
      "metadata": {
        "id": "GD18QuastZy8"
      },
      "source": [
        "## Step 3. 모델 학습을 위한 데이터 전처리\n"
      ]
    },
    {
      "cell_type": "markdown",
      "source": [
        "2일차"
      ],
      "metadata": {
        "id": "oeCxHEkArTI-"
      }
    },
    {
      "cell_type": "markdown",
      "metadata": {
        "id": "Dev2yLeMta85"
      },
      "source": [
        "### 문제 7. StandardScaler를 이용하여 데이터 전처리하기\n"
      ]
    },
    {
      "cell_type": "code",
      "metadata": {
        "id": "8P7qVd6yEk3v"
      },
      "source": [
        "from sklearn.preprocessing import StandardScaler"
      ],
      "execution_count": null,
      "outputs": []
    },
    {
      "cell_type": "code",
      "source": [
        "df.columns"
      ],
      "metadata": {
        "colab": {
          "base_uri": "https://localhost:8080/"
        },
        "id": "4r2rPXtonYq8",
        "outputId": "ea1b75f9-5a85-4b42-a978-34c4e0510e91"
      },
      "execution_count": null,
      "outputs": [
        {
          "output_type": "execute_result",
          "data": {
            "text/plain": [
              "Index(['age', 'anaemia', 'creatinine_phosphokinase', 'diabetes',\n",
              "       'ejection_fraction', 'high_blood_pressure', 'platelets',\n",
              "       'serum_creatinine', 'serum_sodium', 'sex', 'smoking', 'time',\n",
              "       'DEATH_EVENT'],\n",
              "      dtype='object')"
            ]
          },
          "metadata": {},
          "execution_count": 98
        }
      ]
    },
    {
      "cell_type": "code",
      "metadata": {
        "id": "wZUdkt0lEndT"
      },
      "source": [
        "# 수치형 입력 데이터, 범주형 입력 데이터, 출력 데이터로 구분하기\n",
        "X_num = df[['age','creatinine_phosphokinase','ejection_fraction','platelets','serum_creatinine','time']]\n",
        "X_cat = df[['anaemia','diabetes','high_blood_pressure','sex','smoking']]\n",
        "y = df[['DEATH_EVENT']]\n"
      ],
      "execution_count": null,
      "outputs": []
    },
    {
      "cell_type": "code",
      "source": [
        "print(df.index)"
      ],
      "metadata": {
        "colab": {
          "base_uri": "https://localhost:8080/"
        },
        "id": "WEkEQeWzuLrY",
        "outputId": "e9d0efe1-3b33-46c6-a4f3-c00c8962ce96"
      },
      "execution_count": null,
      "outputs": [
        {
          "output_type": "stream",
          "name": "stdout",
          "text": [
            "RangeIndex(start=0, stop=299, step=1)\n"
          ]
        }
      ]
    },
    {
      "cell_type": "code",
      "metadata": {
        "id": "W3EO22NCE3wG",
        "colab": {
          "base_uri": "https://localhost:8080/",
          "height": 206
        },
        "outputId": "b49e97d7-dba7-469f-832f-20f7ccfd78a3"
      },
      "source": [
        "# 수치형 입력 데이터를 전처리하고 입력 데이터 통합하기\n",
        "scaler = StandardScaler()\n",
        "scaler.fit(X_num)\n",
        "X_scaled = scaler.transform(X_num)\n",
        "# transform을 통해서 scaled 하게 되면 numpy로 바뀌게 되므로 DataFrame으로 바꿔줘야 한다\n",
        "X_scaled = pd.DataFrame(data=X_scaled,index=X_num.index, columns=X_num.columns)  \n",
        "# index : 행 이름 설정 columns : 열 이름 설정\n",
        "X = pd.concat([X_scaled, X_cat], axis=1)\n",
        "# 수치형 데이터 이후에 concat을 사용해 범주형 데이터를 붙혀주었다\n",
        "X.head()"
      ],
      "execution_count": null,
      "outputs": [
        {
          "output_type": "execute_result",
          "data": {
            "text/plain": [
              "        age  creatinine_phosphokinase  ejection_fraction     platelets  \\\n",
              "0  1.192945                  0.000166          -1.530560  1.681648e-02   \n",
              "1 -0.491279                  7.514640          -0.007077  7.535660e-09   \n",
              "2  0.350833                 -0.449939          -1.530560 -1.038073e+00   \n",
              "3 -0.912335                 -0.486071          -1.530560 -5.464741e-01   \n",
              "4  0.350833                 -0.435486          -1.530560  6.517986e-01   \n",
              "\n",
              "   serum_creatinine      time  anaemia  diabetes  high_blood_pressure  sex  \\\n",
              "0          0.490057 -1.629502        0         0                    1    1   \n",
              "1         -0.284552 -1.603691        0         0                    0    1   \n",
              "2         -0.090900 -1.590785        0         0                    0    1   \n",
              "3          0.490057 -1.590785        1         0                    0    1   \n",
              "4          1.264666 -1.577879        1         1                    0    0   \n",
              "\n",
              "   smoking  \n",
              "0        0  \n",
              "1        0  \n",
              "2        1  \n",
              "3        0  \n",
              "4        0  "
            ],
            "text/html": [
              "\n",
              "  <div id=\"df-5c85ef77-e9f7-498e-8942-13d9ec1e6f98\">\n",
              "    <div class=\"colab-df-container\">\n",
              "      <div>\n",
              "<style scoped>\n",
              "    .dataframe tbody tr th:only-of-type {\n",
              "        vertical-align: middle;\n",
              "    }\n",
              "\n",
              "    .dataframe tbody tr th {\n",
              "        vertical-align: top;\n",
              "    }\n",
              "\n",
              "    .dataframe thead th {\n",
              "        text-align: right;\n",
              "    }\n",
              "</style>\n",
              "<table border=\"1\" class=\"dataframe\">\n",
              "  <thead>\n",
              "    <tr style=\"text-align: right;\">\n",
              "      <th></th>\n",
              "      <th>age</th>\n",
              "      <th>creatinine_phosphokinase</th>\n",
              "      <th>ejection_fraction</th>\n",
              "      <th>platelets</th>\n",
              "      <th>serum_creatinine</th>\n",
              "      <th>time</th>\n",
              "      <th>anaemia</th>\n",
              "      <th>diabetes</th>\n",
              "      <th>high_blood_pressure</th>\n",
              "      <th>sex</th>\n",
              "      <th>smoking</th>\n",
              "    </tr>\n",
              "  </thead>\n",
              "  <tbody>\n",
              "    <tr>\n",
              "      <th>0</th>\n",
              "      <td>1.192945</td>\n",
              "      <td>0.000166</td>\n",
              "      <td>-1.530560</td>\n",
              "      <td>1.681648e-02</td>\n",
              "      <td>0.490057</td>\n",
              "      <td>-1.629502</td>\n",
              "      <td>0</td>\n",
              "      <td>0</td>\n",
              "      <td>1</td>\n",
              "      <td>1</td>\n",
              "      <td>0</td>\n",
              "    </tr>\n",
              "    <tr>\n",
              "      <th>1</th>\n",
              "      <td>-0.491279</td>\n",
              "      <td>7.514640</td>\n",
              "      <td>-0.007077</td>\n",
              "      <td>7.535660e-09</td>\n",
              "      <td>-0.284552</td>\n",
              "      <td>-1.603691</td>\n",
              "      <td>0</td>\n",
              "      <td>0</td>\n",
              "      <td>0</td>\n",
              "      <td>1</td>\n",
              "      <td>0</td>\n",
              "    </tr>\n",
              "    <tr>\n",
              "      <th>2</th>\n",
              "      <td>0.350833</td>\n",
              "      <td>-0.449939</td>\n",
              "      <td>-1.530560</td>\n",
              "      <td>-1.038073e+00</td>\n",
              "      <td>-0.090900</td>\n",
              "      <td>-1.590785</td>\n",
              "      <td>0</td>\n",
              "      <td>0</td>\n",
              "      <td>0</td>\n",
              "      <td>1</td>\n",
              "      <td>1</td>\n",
              "    </tr>\n",
              "    <tr>\n",
              "      <th>3</th>\n",
              "      <td>-0.912335</td>\n",
              "      <td>-0.486071</td>\n",
              "      <td>-1.530560</td>\n",
              "      <td>-5.464741e-01</td>\n",
              "      <td>0.490057</td>\n",
              "      <td>-1.590785</td>\n",
              "      <td>1</td>\n",
              "      <td>0</td>\n",
              "      <td>0</td>\n",
              "      <td>1</td>\n",
              "      <td>0</td>\n",
              "    </tr>\n",
              "    <tr>\n",
              "      <th>4</th>\n",
              "      <td>0.350833</td>\n",
              "      <td>-0.435486</td>\n",
              "      <td>-1.530560</td>\n",
              "      <td>6.517986e-01</td>\n",
              "      <td>1.264666</td>\n",
              "      <td>-1.577879</td>\n",
              "      <td>1</td>\n",
              "      <td>1</td>\n",
              "      <td>0</td>\n",
              "      <td>0</td>\n",
              "      <td>0</td>\n",
              "    </tr>\n",
              "  </tbody>\n",
              "</table>\n",
              "</div>\n",
              "      <button class=\"colab-df-convert\" onclick=\"convertToInteractive('df-5c85ef77-e9f7-498e-8942-13d9ec1e6f98')\"\n",
              "              title=\"Convert this dataframe to an interactive table.\"\n",
              "              style=\"display:none;\">\n",
              "        \n",
              "  <svg xmlns=\"http://www.w3.org/2000/svg\" height=\"24px\"viewBox=\"0 0 24 24\"\n",
              "       width=\"24px\">\n",
              "    <path d=\"M0 0h24v24H0V0z\" fill=\"none\"/>\n",
              "    <path d=\"M18.56 5.44l.94 2.06.94-2.06 2.06-.94-2.06-.94-.94-2.06-.94 2.06-2.06.94zm-11 1L8.5 8.5l.94-2.06 2.06-.94-2.06-.94L8.5 2.5l-.94 2.06-2.06.94zm10 10l.94 2.06.94-2.06 2.06-.94-2.06-.94-.94-2.06-.94 2.06-2.06.94z\"/><path d=\"M17.41 7.96l-1.37-1.37c-.4-.4-.92-.59-1.43-.59-.52 0-1.04.2-1.43.59L10.3 9.45l-7.72 7.72c-.78.78-.78 2.05 0 2.83L4 21.41c.39.39.9.59 1.41.59.51 0 1.02-.2 1.41-.59l7.78-7.78 2.81-2.81c.8-.78.8-2.07 0-2.86zM5.41 20L4 18.59l7.72-7.72 1.47 1.35L5.41 20z\"/>\n",
              "  </svg>\n",
              "      </button>\n",
              "      \n",
              "  <style>\n",
              "    .colab-df-container {\n",
              "      display:flex;\n",
              "      flex-wrap:wrap;\n",
              "      gap: 12px;\n",
              "    }\n",
              "\n",
              "    .colab-df-convert {\n",
              "      background-color: #E8F0FE;\n",
              "      border: none;\n",
              "      border-radius: 50%;\n",
              "      cursor: pointer;\n",
              "      display: none;\n",
              "      fill: #1967D2;\n",
              "      height: 32px;\n",
              "      padding: 0 0 0 0;\n",
              "      width: 32px;\n",
              "    }\n",
              "\n",
              "    .colab-df-convert:hover {\n",
              "      background-color: #E2EBFA;\n",
              "      box-shadow: 0px 1px 2px rgba(60, 64, 67, 0.3), 0px 1px 3px 1px rgba(60, 64, 67, 0.15);\n",
              "      fill: #174EA6;\n",
              "    }\n",
              "\n",
              "    [theme=dark] .colab-df-convert {\n",
              "      background-color: #3B4455;\n",
              "      fill: #D2E3FC;\n",
              "    }\n",
              "\n",
              "    [theme=dark] .colab-df-convert:hover {\n",
              "      background-color: #434B5C;\n",
              "      box-shadow: 0px 1px 3px 1px rgba(0, 0, 0, 0.15);\n",
              "      filter: drop-shadow(0px 1px 2px rgba(0, 0, 0, 0.3));\n",
              "      fill: #FFFFFF;\n",
              "    }\n",
              "  </style>\n",
              "\n",
              "      <script>\n",
              "        const buttonEl =\n",
              "          document.querySelector('#df-5c85ef77-e9f7-498e-8942-13d9ec1e6f98 button.colab-df-convert');\n",
              "        buttonEl.style.display =\n",
              "          google.colab.kernel.accessAllowed ? 'block' : 'none';\n",
              "\n",
              "        async function convertToInteractive(key) {\n",
              "          const element = document.querySelector('#df-5c85ef77-e9f7-498e-8942-13d9ec1e6f98');\n",
              "          const dataTable =\n",
              "            await google.colab.kernel.invokeFunction('convertToInteractive',\n",
              "                                                     [key], {});\n",
              "          if (!dataTable) return;\n",
              "\n",
              "          const docLinkHtml = 'Like what you see? Visit the ' +\n",
              "            '<a target=\"_blank\" href=https://colab.research.google.com/notebooks/data_table.ipynb>data table notebook</a>'\n",
              "            + ' to learn more about interactive tables.';\n",
              "          element.innerHTML = '';\n",
              "          dataTable['output_type'] = 'display_data';\n",
              "          await google.colab.output.renderOutput(dataTable, element);\n",
              "          const docLink = document.createElement('div');\n",
              "          docLink.innerHTML = docLinkHtml;\n",
              "          element.appendChild(docLink);\n",
              "        }\n",
              "      </script>\n",
              "    </div>\n",
              "  </div>\n",
              "  "
            ]
          },
          "metadata": {},
          "execution_count": 101
        }
      ]
    },
    {
      "cell_type": "markdown",
      "source": [
        "3일차"
      ],
      "metadata": {
        "id": "otrVK8_Wv0xH"
      }
    },
    {
      "cell_type": "markdown",
      "metadata": {
        "id": "x93Tb6lptcA2"
      },
      "source": [
        "### 문제 8. 학습데이터와 테스트데이터 분리하기\n"
      ]
    },
    {
      "cell_type": "code",
      "metadata": {
        "id": "C9kMQI8SEche"
      },
      "source": [
        "from sklearn.model_selection import train_test_split"
      ],
      "execution_count": null,
      "outputs": []
    },
    {
      "cell_type": "code",
      "metadata": {
        "id": "F07QjOFwFNEw"
      },
      "source": [
        "# train_test_split() 함수로 학습 데이터와 테스트 데이터 분리하기\n",
        "# X = 전처리된 전체 데이터 y = 출력 데이터(DEATH_EVENT)\n",
        "# test_size : 테스트 데이터 비율 \n",
        "# stratify : Stratified sampling 무작위로 샘플링을 하는데 기존 데이터셋에서 클래스 비율을 동일하게 유지하면서 분리하는 것 대충 0과 1을 동일한 비율로 train/testset으로 분리해준다는 것 같다.\n",
        "# random_state random함수의 시드값을 고정시켜준다.그래서 shuffle과 같이 사용해서 섞어도 같은 값이 나온다.\n",
        "X_train, X_test, y_train, y_test = train_test_split(X,y,test_size=0.3,random_state=1, shuffle=True)  "
      ],
      "execution_count": null,
      "outputs": []
    },
    {
      "cell_type": "code",
      "source": [
        "X_train"
      ],
      "metadata": {
        "colab": {
          "base_uri": "https://localhost:8080/",
          "height": 423
        },
        "id": "B90YQgd5zD93",
        "outputId": "7c9331c7-b177-48da-d513-250f96a09000"
      },
      "execution_count": null,
      "outputs": [
        {
          "output_type": "execute_result",
          "data": {
            "text/plain": [
              "          age  creatinine_phosphokinase  ejection_fraction  platelets  \\\n",
              "14  -0.996547                 -0.518074          -0.684180   1.675963   \n",
              "210  0.771889                 -0.381804          -1.784473   1.286781   \n",
              "236  1.192945                 -0.477812           1.008578  -0.157292   \n",
              "44  -0.070223                  0.006360           1.854958  -0.710340   \n",
              "163 -0.912335                  1.808842          -0.260991  -1.929096   \n",
              "..        ...                       ...                ...        ...   \n",
              "203 -0.070223                 -0.539753          -1.107370  -0.525991   \n",
              "255 -0.743913                 -0.403483          -0.684180   0.723490   \n",
              "72   2.035057                  5.471619          -0.260991  -0.208500   \n",
              "235  1.361368                 -0.488136           1.008578   1.460889   \n",
              "37   1.782424                  0.281997           1.008578   0.590349   \n",
              "\n",
              "     serum_creatinine      time  anaemia  diabetes  high_blood_pressure  sex  \\\n",
              "14          -0.381379 -1.526256        1         0                    1    0   \n",
              "210         -0.381379  0.745172        0         1                    1    1   \n",
              "236         -0.284552  1.016195        0         0                    1    1   \n",
              "44          -0.284552 -1.255233        1         1                    0    0   \n",
              "163         -0.478205 -0.054990        1         1                    0    0   \n",
              "..                ...       ...      ...       ...                  ...  ...   \n",
              "203          2.039276  0.732266        0         0                    1    1   \n",
              "255         -0.381379  1.106535        1         1                    1    1   \n",
              "72          -0.381379 -0.751905        0         0                    0    1   \n",
              "235         -0.284552  1.016195        1         0                    1    1   \n",
              "37          -0.381379 -1.293951        1         1                    1    0   \n",
              "\n",
              "     smoking  \n",
              "14         0  \n",
              "210        1  \n",
              "236        0  \n",
              "44         0  \n",
              "163        0  \n",
              "..       ...  \n",
              "203        1  \n",
              "255        1  \n",
              "72         1  \n",
              "235        0  \n",
              "37         0  \n",
              "\n",
              "[209 rows x 11 columns]"
            ],
            "text/html": [
              "\n",
              "  <div id=\"df-5094ea10-e946-45f0-87a8-d0668ffcbf93\">\n",
              "    <div class=\"colab-df-container\">\n",
              "      <div>\n",
              "<style scoped>\n",
              "    .dataframe tbody tr th:only-of-type {\n",
              "        vertical-align: middle;\n",
              "    }\n",
              "\n",
              "    .dataframe tbody tr th {\n",
              "        vertical-align: top;\n",
              "    }\n",
              "\n",
              "    .dataframe thead th {\n",
              "        text-align: right;\n",
              "    }\n",
              "</style>\n",
              "<table border=\"1\" class=\"dataframe\">\n",
              "  <thead>\n",
              "    <tr style=\"text-align: right;\">\n",
              "      <th></th>\n",
              "      <th>age</th>\n",
              "      <th>creatinine_phosphokinase</th>\n",
              "      <th>ejection_fraction</th>\n",
              "      <th>platelets</th>\n",
              "      <th>serum_creatinine</th>\n",
              "      <th>time</th>\n",
              "      <th>anaemia</th>\n",
              "      <th>diabetes</th>\n",
              "      <th>high_blood_pressure</th>\n",
              "      <th>sex</th>\n",
              "      <th>smoking</th>\n",
              "    </tr>\n",
              "  </thead>\n",
              "  <tbody>\n",
              "    <tr>\n",
              "      <th>14</th>\n",
              "      <td>-0.996547</td>\n",
              "      <td>-0.518074</td>\n",
              "      <td>-0.684180</td>\n",
              "      <td>1.675963</td>\n",
              "      <td>-0.381379</td>\n",
              "      <td>-1.526256</td>\n",
              "      <td>1</td>\n",
              "      <td>0</td>\n",
              "      <td>1</td>\n",
              "      <td>0</td>\n",
              "      <td>0</td>\n",
              "    </tr>\n",
              "    <tr>\n",
              "      <th>210</th>\n",
              "      <td>0.771889</td>\n",
              "      <td>-0.381804</td>\n",
              "      <td>-1.784473</td>\n",
              "      <td>1.286781</td>\n",
              "      <td>-0.381379</td>\n",
              "      <td>0.745172</td>\n",
              "      <td>0</td>\n",
              "      <td>1</td>\n",
              "      <td>1</td>\n",
              "      <td>1</td>\n",
              "      <td>1</td>\n",
              "    </tr>\n",
              "    <tr>\n",
              "      <th>236</th>\n",
              "      <td>1.192945</td>\n",
              "      <td>-0.477812</td>\n",
              "      <td>1.008578</td>\n",
              "      <td>-0.157292</td>\n",
              "      <td>-0.284552</td>\n",
              "      <td>1.016195</td>\n",
              "      <td>0</td>\n",
              "      <td>0</td>\n",
              "      <td>1</td>\n",
              "      <td>1</td>\n",
              "      <td>0</td>\n",
              "    </tr>\n",
              "    <tr>\n",
              "      <th>44</th>\n",
              "      <td>-0.070223</td>\n",
              "      <td>0.006360</td>\n",
              "      <td>1.854958</td>\n",
              "      <td>-0.710340</td>\n",
              "      <td>-0.284552</td>\n",
              "      <td>-1.255233</td>\n",
              "      <td>1</td>\n",
              "      <td>1</td>\n",
              "      <td>0</td>\n",
              "      <td>0</td>\n",
              "      <td>0</td>\n",
              "    </tr>\n",
              "    <tr>\n",
              "      <th>163</th>\n",
              "      <td>-0.912335</td>\n",
              "      <td>1.808842</td>\n",
              "      <td>-0.260991</td>\n",
              "      <td>-1.929096</td>\n",
              "      <td>-0.478205</td>\n",
              "      <td>-0.054990</td>\n",
              "      <td>1</td>\n",
              "      <td>1</td>\n",
              "      <td>0</td>\n",
              "      <td>0</td>\n",
              "      <td>0</td>\n",
              "    </tr>\n",
              "    <tr>\n",
              "      <th>...</th>\n",
              "      <td>...</td>\n",
              "      <td>...</td>\n",
              "      <td>...</td>\n",
              "      <td>...</td>\n",
              "      <td>...</td>\n",
              "      <td>...</td>\n",
              "      <td>...</td>\n",
              "      <td>...</td>\n",
              "      <td>...</td>\n",
              "      <td>...</td>\n",
              "      <td>...</td>\n",
              "    </tr>\n",
              "    <tr>\n",
              "      <th>203</th>\n",
              "      <td>-0.070223</td>\n",
              "      <td>-0.539753</td>\n",
              "      <td>-1.107370</td>\n",
              "      <td>-0.525991</td>\n",
              "      <td>2.039276</td>\n",
              "      <td>0.732266</td>\n",
              "      <td>0</td>\n",
              "      <td>0</td>\n",
              "      <td>1</td>\n",
              "      <td>1</td>\n",
              "      <td>1</td>\n",
              "    </tr>\n",
              "    <tr>\n",
              "      <th>255</th>\n",
              "      <td>-0.743913</td>\n",
              "      <td>-0.403483</td>\n",
              "      <td>-0.684180</td>\n",
              "      <td>0.723490</td>\n",
              "      <td>-0.381379</td>\n",
              "      <td>1.106535</td>\n",
              "      <td>1</td>\n",
              "      <td>1</td>\n",
              "      <td>1</td>\n",
              "      <td>1</td>\n",
              "      <td>1</td>\n",
              "    </tr>\n",
              "    <tr>\n",
              "      <th>72</th>\n",
              "      <td>2.035057</td>\n",
              "      <td>5.471619</td>\n",
              "      <td>-0.260991</td>\n",
              "      <td>-0.208500</td>\n",
              "      <td>-0.381379</td>\n",
              "      <td>-0.751905</td>\n",
              "      <td>0</td>\n",
              "      <td>0</td>\n",
              "      <td>0</td>\n",
              "      <td>1</td>\n",
              "      <td>1</td>\n",
              "    </tr>\n",
              "    <tr>\n",
              "      <th>235</th>\n",
              "      <td>1.361368</td>\n",
              "      <td>-0.488136</td>\n",
              "      <td>1.008578</td>\n",
              "      <td>1.460889</td>\n",
              "      <td>-0.284552</td>\n",
              "      <td>1.016195</td>\n",
              "      <td>1</td>\n",
              "      <td>0</td>\n",
              "      <td>1</td>\n",
              "      <td>1</td>\n",
              "      <td>0</td>\n",
              "    </tr>\n",
              "    <tr>\n",
              "      <th>37</th>\n",
              "      <td>1.782424</td>\n",
              "      <td>0.281997</td>\n",
              "      <td>1.008578</td>\n",
              "      <td>0.590349</td>\n",
              "      <td>-0.381379</td>\n",
              "      <td>-1.293951</td>\n",
              "      <td>1</td>\n",
              "      <td>1</td>\n",
              "      <td>1</td>\n",
              "      <td>0</td>\n",
              "      <td>0</td>\n",
              "    </tr>\n",
              "  </tbody>\n",
              "</table>\n",
              "<p>209 rows × 11 columns</p>\n",
              "</div>\n",
              "      <button class=\"colab-df-convert\" onclick=\"convertToInteractive('df-5094ea10-e946-45f0-87a8-d0668ffcbf93')\"\n",
              "              title=\"Convert this dataframe to an interactive table.\"\n",
              "              style=\"display:none;\">\n",
              "        \n",
              "  <svg xmlns=\"http://www.w3.org/2000/svg\" height=\"24px\"viewBox=\"0 0 24 24\"\n",
              "       width=\"24px\">\n",
              "    <path d=\"M0 0h24v24H0V0z\" fill=\"none\"/>\n",
              "    <path d=\"M18.56 5.44l.94 2.06.94-2.06 2.06-.94-2.06-.94-.94-2.06-.94 2.06-2.06.94zm-11 1L8.5 8.5l.94-2.06 2.06-.94-2.06-.94L8.5 2.5l-.94 2.06-2.06.94zm10 10l.94 2.06.94-2.06 2.06-.94-2.06-.94-.94-2.06-.94 2.06-2.06.94z\"/><path d=\"M17.41 7.96l-1.37-1.37c-.4-.4-.92-.59-1.43-.59-.52 0-1.04.2-1.43.59L10.3 9.45l-7.72 7.72c-.78.78-.78 2.05 0 2.83L4 21.41c.39.39.9.59 1.41.59.51 0 1.02-.2 1.41-.59l7.78-7.78 2.81-2.81c.8-.78.8-2.07 0-2.86zM5.41 20L4 18.59l7.72-7.72 1.47 1.35L5.41 20z\"/>\n",
              "  </svg>\n",
              "      </button>\n",
              "      \n",
              "  <style>\n",
              "    .colab-df-container {\n",
              "      display:flex;\n",
              "      flex-wrap:wrap;\n",
              "      gap: 12px;\n",
              "    }\n",
              "\n",
              "    .colab-df-convert {\n",
              "      background-color: #E8F0FE;\n",
              "      border: none;\n",
              "      border-radius: 50%;\n",
              "      cursor: pointer;\n",
              "      display: none;\n",
              "      fill: #1967D2;\n",
              "      height: 32px;\n",
              "      padding: 0 0 0 0;\n",
              "      width: 32px;\n",
              "    }\n",
              "\n",
              "    .colab-df-convert:hover {\n",
              "      background-color: #E2EBFA;\n",
              "      box-shadow: 0px 1px 2px rgba(60, 64, 67, 0.3), 0px 1px 3px 1px rgba(60, 64, 67, 0.15);\n",
              "      fill: #174EA6;\n",
              "    }\n",
              "\n",
              "    [theme=dark] .colab-df-convert {\n",
              "      background-color: #3B4455;\n",
              "      fill: #D2E3FC;\n",
              "    }\n",
              "\n",
              "    [theme=dark] .colab-df-convert:hover {\n",
              "      background-color: #434B5C;\n",
              "      box-shadow: 0px 1px 3px 1px rgba(0, 0, 0, 0.15);\n",
              "      filter: drop-shadow(0px 1px 2px rgba(0, 0, 0, 0.3));\n",
              "      fill: #FFFFFF;\n",
              "    }\n",
              "  </style>\n",
              "\n",
              "      <script>\n",
              "        const buttonEl =\n",
              "          document.querySelector('#df-5094ea10-e946-45f0-87a8-d0668ffcbf93 button.colab-df-convert');\n",
              "        buttonEl.style.display =\n",
              "          google.colab.kernel.accessAllowed ? 'block' : 'none';\n",
              "\n",
              "        async function convertToInteractive(key) {\n",
              "          const element = document.querySelector('#df-5094ea10-e946-45f0-87a8-d0668ffcbf93');\n",
              "          const dataTable =\n",
              "            await google.colab.kernel.invokeFunction('convertToInteractive',\n",
              "                                                     [key], {});\n",
              "          if (!dataTable) return;\n",
              "\n",
              "          const docLinkHtml = 'Like what you see? Visit the ' +\n",
              "            '<a target=\"_blank\" href=https://colab.research.google.com/notebooks/data_table.ipynb>data table notebook</a>'\n",
              "            + ' to learn more about interactive tables.';\n",
              "          element.innerHTML = '';\n",
              "          dataTable['output_type'] = 'display_data';\n",
              "          await google.colab.output.renderOutput(dataTable, element);\n",
              "          const docLink = document.createElement('div');\n",
              "          docLink.innerHTML = docLinkHtml;\n",
              "          element.appendChild(docLink);\n",
              "        }\n",
              "      </script>\n",
              "    </div>\n",
              "  </div>\n",
              "  "
            ]
          },
          "metadata": {},
          "execution_count": 104
        }
      ]
    },
    {
      "cell_type": "markdown",
      "metadata": {
        "id": "DTqb-HqPtc4I"
      },
      "source": [
        "## Step 4. Classification 모델 학습하기\n"
      ]
    },
    {
      "cell_type": "markdown",
      "metadata": {
        "id": "Ckexl202tmZI"
      },
      "source": [
        "### 문제 9. Logistic Regression 모델 생성/학습하기\n"
      ]
    },
    {
      "cell_type": "code",
      "metadata": {
        "id": "2Wt_0AdNFfbN"
      },
      "source": [
        "from sklearn.linear_model import LogisticRegression"
      ],
      "execution_count": null,
      "outputs": []
    },
    {
      "cell_type": "code",
      "source": [
        "# LogisticRegression(penalty, dual, tol, C, fit_intercept, intercept_scaling, class_weight, random_state, \n",
        "#                    solver, max_iter, multi_class, verbose, warm_start, n_jobs, l1_ratio)\n",
        "# penalty : 규제에 사용 된 기준을 지정 (l1, l2, elasticnet, none) – default : l2\n",
        "# dual : 이중 또는 초기 공식\n",
        "# tol : 정밀도\n",
        "# C : 규제 강도\n",
        "# fit_intercept : 모형에 상수항 (절편)이 있는가 없는가를 결정하는 인수 (default : True)\n",
        "# intercept_scaling : 정규화 효과 정도\n",
        "# class_weight : 클래스의 가중치\n",
        "# random_state : 난수 seed 설정\n",
        "# solver : 최적화 문제에 사용하는 알고리즘\n",
        "# max_iter : 계산에 사용할 작업 수\n",
        "# multi_class : 다중 분류 시에 (ovr, multinomial, auto)로 설정\n",
        "# verbose : 동작 과정에 대한 출력 메시지 verbose=1,2 2로 해주면 1보다 조금 더 많이 보여줌\n",
        "# warm_start : 이전 모델을 초기화로 적합하게 사용할 것인지 여부\n",
        "# n_jobs : 병렬 처리 할 때 사용되는 CPU 코어 수\n",
        "# l1_ratio : L1 규제의 비율(Elastic-Net 믹싱 파라미터 경우에만 사용\n",
        "# https://inuplace.tistory.com/522"
      ],
      "metadata": {
        "id": "mNprdCoj1VUN"
      },
      "execution_count": null,
      "outputs": []
    },
    {
      "cell_type": "code",
      "metadata": {
        "id": "1lM57a_8Fdbh",
        "colab": {
          "base_uri": "https://localhost:8080/"
        },
        "outputId": "f27fab9b-8e6e-4cc4-8fe0-a84181a4a04b"
      },
      "source": [
        "# LogisticRegression 모델 생성/학습\n",
        "model_lr = LogisticRegression(C=3, max_iter=1000)\n",
        "model_lr.fit(X_train, y_train)\n",
        "\n",
        "model_lr.score(X_train, y_train), model_lr.score(X_test, y_test)\n",
        "#학습 데이터가 테스트 데이터보다 정확도가 높다."
      ],
      "execution_count": null,
      "outputs": [
        {
          "output_type": "stream",
          "name": "stderr",
          "text": [
            "/usr/local/lib/python3.7/dist-packages/sklearn/utils/validation.py:993: DataConversionWarning: A column-vector y was passed when a 1d array was expected. Please change the shape of y to (n_samples, ), for example using ravel().\n",
            "  y = column_or_1d(y, warn=True)\n"
          ]
        },
        {
          "output_type": "execute_result",
          "data": {
            "text/plain": [
              "(0.8277511961722488, 0.8222222222222222)"
            ]
          },
          "metadata": {},
          "execution_count": 112
        }
      ]
    },
    {
      "cell_type": "markdown",
      "metadata": {
        "id": "APOI7Hc9tnvr"
      },
      "source": [
        "### 문제 10. 모델 학습 결과 평가하기\n"
      ]
    },
    {
      "cell_type": "markdown",
      "source": [
        "![11111111111.png](data:image/png;base64,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)"
      ],
      "metadata": {
        "id": "xkndXVviEzgH"
      }
    },
    {
      "cell_type": "markdown",
      "source": [
        "Confusion Matrix"
      ],
      "metadata": {
        "id": "ONEjv-XSE2Nm"
      }
    },
    {
      "cell_type": "code",
      "source": [
        "# classification_report\n",
        "# precision 정밀도 : 양성 클래스라고 예측한 샘플 중 실제 양성 클레스에 속하는 샘플 \n",
        "# precision=TP/(TP+FP)\n",
        "# recall 재현율 : 양성 클레스에 속한 샘플 중 양성 클래스라고 예측한 샘플\n",
        "# recall=TP/(TP+FN)\n",
        "# accuracy 정확도 전체 샘플 중 맞게 예측한 샘플 수의 비율\n",
        "# (TP+TN)/(TN+TP+FN+FP)\n",
        "# f1-score precision,recall의 가중 조화평균\n",
        "# 가중치가 1일떄 F1임 \n",
        "# support:샘플 개수\n",
        "#https://blog.naver.com/PostView.naver?blogId=hannaurora&logNo=222498671200&parentCategoryNo=&categoryNo=41&viewDate=&isShowPopularPosts=true&from=search\n"
      ],
      "metadata": {
        "id": "su5IMYdsFcsX"
      },
      "execution_count": null,
      "outputs": []
    },
    {
      "cell_type": "code",
      "metadata": {
        "id": "2lIoyMjFFrif"
      },
      "source": [
        "from sklearn.metrics import classification_report"
      ],
      "execution_count": null,
      "outputs": []
    },
    {
      "cell_type": "code",
      "metadata": {
        "id": "1dD9JnN-FnpC",
        "colab": {
          "base_uri": "https://localhost:8080/"
        },
        "outputId": "c3e4d433-57a3-4195-d481-5be78e2ce2e1"
      },
      "source": [
        "# Predict를 수행하고 classification_report() 결과 출력하기\n",
        "# 학습된 테스트 데이터를 predict() 메서드로 예측\n",
        "pred = model_lr.predict(X_test)\n",
        "# def classification_report(y_true, y_pred, *, labels=None, target_names=None, sample_weight=None, digits=2, output_dict=False, zero_division='warn')\n",
        "print(classification_report(y_test, pred))\n",
        "# 90개의 데이터를 평가했을 때 82퍼센트의 정확도를 가지고 있음"
      ],
      "execution_count": null,
      "outputs": [
        {
          "output_type": "stream",
          "name": "stdout",
          "text": [
            "              precision    recall  f1-score   support\n",
            "\n",
            "           0       0.86      0.89      0.88        64\n",
            "           1       0.71      0.65      0.68        26\n",
            "\n",
            "    accuracy                           0.82        90\n",
            "   macro avg       0.79      0.77      0.78        90\n",
            "weighted avg       0.82      0.82      0.82        90\n",
            "\n"
          ]
        }
      ]
    }
  ]
}