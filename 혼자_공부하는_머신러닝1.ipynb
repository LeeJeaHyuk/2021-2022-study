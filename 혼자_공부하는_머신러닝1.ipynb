{
  "nbformat": 4,
  "nbformat_minor": 0,
  "metadata": {
    "colab": {
      "name": "혼자 공부하는 머신러닝1",
      "provenance": [],
      "toc_visible": true,
      "authorship_tag": "ABX9TyMOCy14XM8UUhjobYgjVK8d",
      "include_colab_link": true
    },
    "kernelspec": {
      "name": "python3",
      "display_name": "Python 3"
    }
  },
  "cells": [
    {
      "cell_type": "markdown",
      "metadata": {
        "id": "view-in-github",
        "colab_type": "text"
      },
      "source": [
        "<a href=\"https://colab.research.google.com/github/LeeJeaHyuk/colab-sync-practice/blob/main/%ED%98%BC%EC%9E%90_%EA%B3%B5%EB%B6%80%ED%95%98%EB%8A%94_%EB%A8%B8%EC%8B%A0%EB%9F%AC%EB%8B%9D1.ipynb\" target=\"_parent\"><img src=\"https://colab.research.google.com/assets/colab-badge.svg\" alt=\"Open In Colab\"/></a>"
      ]
    },
    {
      "cell_type": "markdown",
      "metadata": {
        "id": "WiiGxFVWAXeZ"
      },
      "source": [
        "# 물고기 분류(1장)\r\n",
        "\r\n"
      ]
    },
    {
      "cell_type": "code",
      "metadata": {
        "id": "6DG-N3u9av2o"
      },
      "source": [
        "bream_length = [25.4, 26.3, 26.5, 29.0, 29.0, 29.7, 29.7, 30.0, 30.0, 30.7, 31.0, 31.0, \r\n",
        "                31.5, 32.0, 32.0, 32.0, 33.0, 33.0, 33.5, 33.5, 34.0, 34.0, 34.5, 35.0, \r\n",
        "                35.0, 35.0, 35.0, 36.0, 36.0, 37.0, 38.5, 38.5, 39.5, 41.0, 41.0]\r\n",
        "bream_weight = [242.0, 290.0, 340.0, 363.0, 430.0, 450.0, 500.0, 390.0, 450.0, 500.0, 475.0, 500.0, \r\n",
        "                500.0, 340.0, 600.0, 600.0, 700.0, 700.0, 610.0, 650.0, 575.0, 685.0, 620.0, 680.0, \r\n",
        "                700.0, 725.0, 720.0, 714.0, 850.0, 1000.0, 920.0, 955.0, 925.0, 975.0, 950.0]\r\n"
      ],
      "execution_count": 6,
      "outputs": []
    },
    {
      "cell_type": "code",
      "metadata": {
        "colab": {
          "base_uri": "https://localhost:8080/",
          "height": 279
        },
        "id": "uNGnoX6CPWwC",
        "outputId": "ce3f92e4-44f8-4c8b-bcea-ecab34bb3b95"
      },
      "source": [
        "import matplotlib.pyplot as plt\r\n",
        "\r\n",
        "plt.scatter(bream_length, bream_weight)\r\n",
        "plt.xlabel('lenght')\r\n",
        "plt.ylabel('weight')\r\n",
        "plt.show()\r\n"
      ],
      "execution_count": 5,
      "outputs": [
        {
          "output_type": "display_data",
          "data": {
            "image/png": "[encoded data removed]",
            "text/plain": [
              "<Figure size 432x288 with 1 Axes>"
            ]
          },
          "metadata": {
            "tags": [],
            "needs_background": "light"
          }
        }
      ]
    },
    {
      "cell_type": "code",
      "metadata": {
        "id": "QDY6zJvsa7c4"
      },
      "source": [
        "smelt_length = [9.8, 10.5, 10.6, 11.0, 11.2, 11.3, 11.8, 11.8, 12.0, 12.2, 12.4, 13.0, 14.3, 15.0]\r\n",
        "smelt_weight = [6.7, 7.5, 7.0, 9.7, 9.8, 8.7, 10.0, 9.9, 9.8, 12.2, 13.4, 12.2, 19.7, 19.9]"
      ],
      "execution_count": 8,
      "outputs": []
    },
    {
      "cell_type": "code",
      "metadata": {
        "colab": {
          "base_uri": "https://localhost:8080/",
          "height": 279
        },
        "id": "L1sH10HbPjl5",
        "outputId": "1b8f967d-ceae-4e77-f36b-3201cb4a2a55"
      },
      "source": [
        "plt.scatter(bream_length, bream_weight)\r\n",
        "plt.scatter(smelt_length, smelt_weight)\r\n",
        "plt.xlabel('lenght')\r\n",
        "plt.ylabel('weight')\r\n",
        "plt.show()"
      ],
      "execution_count": 9,
      "outputs": [
        {
          "output_type": "display_data",
          "data": {
            "image/png": "[encoded data removed]",
            "text/plain": [
              "<Figure size 432x288 with 1 Axes>"
            ]
          },
          "metadata": {
            "tags": [],
            "needs_background": "light"
          }
        }
      ]
    },
    {
      "cell_type": "code",
      "metadata": {
        "id": "dIMjcUYwPwlk"
      },
      "source": [
        "lenght = bream_length + smelt_length\r\n",
        "weight = bream_weight +smelt_weight"
      ],
      "execution_count": 10,
      "outputs": []
    },
    {
      "cell_type": "code",
      "metadata": {
        "id": "FgzIJGofQGYX"
      },
      "source": [
        "fish_data = [[l,w] for l, w in zip(lenght,weight)]"
      ],
      "execution_count": 12,
      "outputs": []
    },
    {
      "cell_type": "markdown",
      "metadata": {
        "id": "NYl0X-YbQVwS"
      },
      "source": [
        "zip 함수 = 나열된 리스트 각각에서 하나씩 원소를 꺼내 반환하는 함수 \\\\\r\n",
        "리스트 내포 구문 =  [  ]를 사용해서 한번에 작성하는 것을 뜻하는 것 같다 \\\\\r\n",
        "위의 두 가지 방법을 사용하여 2차원 리스트(리스트의 리스트) 만들기 \\\\"
      ]
    },
    {
      "cell_type": "code",
      "metadata": {
        "colab": {
          "base_uri": "https://localhost:8080/"
        },
        "id": "1HCxaL549eqn",
        "outputId": "47e3022f-3b67-40b4-96d4-48a37ba81ded"
      },
      "source": [
        "print(fish_data)"
      ],
      "execution_count": 13,
      "outputs": [
        {
          "output_type": "stream",
          "text": [
            "[[25.4, 242.0], [26.3, 290.0], [26.5, 340.0], [29.0, 363.0], [29.0, 430.0], [29.7, 450.0], [29.7, 500.0], [30.0, 390.0], [30.0, 450.0], [30.7, 500.0], [31.0, 475.0], [31.0, 500.0], [31.5, 500.0], [32.0, 340.0], [32.0, 600.0], [32.0, 600.0], [33.0, 700.0], [33.0, 700.0], [33.5, 610.0], [33.5, 650.0], [34.0, 575.0], [34.0, 685.0], [34.5, 620.0], [35.0, 680.0], [35.0, 700.0], [35.0, 725.0], [35.0, 720.0], [36.0, 714.0], [36.0, 850.0], [37.0, 1000.0], [38.5, 920.0], [38.5, 955.0], [39.5, 925.0], [41.0, 975.0], [41.0, 950.0], [9.8, 6.7], [10.5, 7.5], [10.6, 7.0], [11.0, 9.7], [11.2, 9.8], [11.3, 8.7], [11.8, 10.0], [11.8, 9.9], [12.0, 9.8], [12.2, 12.2], [12.4, 13.4], [13.0, 12.2], [14.3, 19.7], [15.0, 19.9]]\n"
          ],
          "name": "stdout"
        }
      ]
    },
    {
      "cell_type": "code",
      "metadata": {
        "colab": {
          "base_uri": "https://localhost:8080/"
        },
        "id": "j16-iSX79-if",
        "outputId": "9b7ce679-770c-49e1-d94b-8be66d2b1811"
      },
      "source": [
        "# 정답 데이터 \r\n",
        "fish_taget = [1]*35+[0]*14\r\n",
        "print(fish_taget)\r\n"
      ],
      "execution_count": 15,
      "outputs": [
        {
          "output_type": "stream",
          "text": [
            "[1, 1, 1, 1, 1, 1, 1, 1, 1, 1, 1, 1, 1, 1, 1, 1, 1, 1, 1, 1, 1, 1, 1, 1, 1, 1, 1, 1, 1, 1, 1, 1, 1, 1, 1, 0, 0, 0, 0, 0, 0, 0, 0, 0, 0, 0, 0, 0, 0]\n"
          ],
          "name": "stdout"
        }
      ]
    },
    {
      "cell_type": "markdown",
      "metadata": {
        "id": "o_qRATB4-xnt"
      },
      "source": [
        "찾으려는 대상을 1로 놓고 나머지를 0으로 놓는다. \\\\\r\n",
        "위에서는 도미가 1 빙어가 0이다 \\\\\r\n"
      ]
    },
    {
      "cell_type": "code",
      "metadata": {
        "id": "jfZsX_7f-q7H"
      },
      "source": [
        "# KNeighborsClassifier 클래스\r\n",
        "from sklearn.neighbors import KNeighborsClassifier"
      ],
      "execution_count": 17,
      "outputs": []
    },
    {
      "cell_type": "code",
      "metadata": {
        "id": "SEJ1g6VX_SYu"
      },
      "source": [
        "# 객체 만들기\r\n",
        "kn = KNeighborsClassifier()"
      ],
      "execution_count": 18,
      "outputs": []
    },
    {
      "cell_type": "code",
      "metadata": {
        "colab": {
          "base_uri": "https://localhost:8080/"
        },
        "id": "Se7jHDIj_z1u",
        "outputId": "e7351d32-ce78-47fe-9d6e-95a8a6e2d966"
      },
      "source": [
        "# 훈련\r\n",
        "kn.fit(fish_data,fish_taget)\r\n",
        "kn.score(fish_data,fish_taget)"
      ],
      "execution_count": 19,
      "outputs": [
        {
          "output_type": "execute_result",
          "data": {
            "text/plain": [
              "1.0"
            ]
          },
          "metadata": {
            "tags": []
          },
          "execution_count": 19
        }
      ]
    },
    {
      "cell_type": "markdown",
      "metadata": {
        "id": "sTinCo43AEP3"
      },
      "source": [
        "fit() : 주어진 데이터로 알고리즘을 훈련하는 메서드 (어떻게 하는지는 모르겠음) \\\\\r\n",
        "score() : 사이킷런에서 모델을 평사는 메서드(0~1값을 반환) \\\\"
      ]
    },
    {
      "cell_type": "code",
      "metadata": {
        "colab": {
          "base_uri": "https://localhost:8080/"
        },
        "id": "Y5wl356kABRP",
        "outputId": "f2152ccb-cd3c-487f-d0a7-6e3c296bf804"
      },
      "source": [
        "# 알고리즘 테스트\r\n",
        "kn.predict([[30,600]])"
      ],
      "execution_count": 21,
      "outputs": [
        {
          "output_type": "execute_result",
          "data": {
            "text/plain": [
              "array([1])"
            ]
          },
          "metadata": {
            "tags": []
          },
          "execution_count": 21
        }
      ]
    },
    {
      "cell_type": "markdown",
      "metadata": {
        "id": "2w4MKUCvadtY"
      },
      "source": [
        "# 새 섹션"
      ]
    },
    {
      "cell_type": "markdown",
      "metadata": {
        "id": "-rfYWDerBT8f"
      },
      "source": [
        "30/600의 데이터를 1(도미)로 분류"
      ]
    },
    {
      "cell_type": "code",
      "metadata": {
        "id": "6CqaR1v-BNsh"
      },
      "source": [
        "print(kn._fit_X)\r\n",
        "print(kn._y)"
      ],
      "execution_count": null,
      "outputs": []
    },
    {
      "cell_type": "markdown",
      "metadata": {
        "id": "lswSTxvLB9gw"
      },
      "source": [
        "훈련한 데이터 저장소? \\\\\r\n",
        "_fit._X = fish_data \\\\\r\n",
        "_fit._y = fish_taget 값을 가지고 있음 \\\\"
      ]
    },
    {
      "cell_type": "code",
      "metadata": {
        "id": "1rAvoCOnBg5H"
      },
      "source": [
        "# 데이터 참고 개수 변화\r\n",
        "kn49 = KNeighborsClassifier(n_neighbors=49)\r\n",
        "# 가까운 49개의 데이터를 참고"
      ],
      "execution_count": null,
      "outputs": []
    },
    {
      "cell_type": "markdown",
      "metadata": {
        "id": "Sj77lR1mCs0X"
      },
      "source": [
        "모든 값을 가지고 있다가 새로운 데이터가 등장하면 가장 가까운 값 5개를 참고하여 구분한다. \\\\\r\n",
        "위의 방법을 사용하면 기존 35개의 값이 도미이므로 어떤 데이터를 집어넣어도 도미로 예측한다. = 49를 사용하려면 데이터량이 더 많아야 정확해진다? \\\\\r\n",
        "\r\n"
      ]
    },
    {
      "cell_type": "markdown",
      "metadata": {
        "id": "WrpGqWb1DXUh"
      },
      "source": [
        "# 훈련 세트와 데이터 세트(2장)"
      ]
    },
    {
      "cell_type": "markdown",
      "metadata": {
        "id": "XbJ3Ri0IDqrI"
      },
      "source": [
        "머신러닝 알고리즘\r\n",
        "\r\n",
        "1.  지도학습\r\n",
        " *   훈련 데이터 를 데이터와 정답이라고 한다  (혹은 입력,타깃)  \\\\\r\n",
        "        예시 : 도미인지 아닌지\r\n",
        " *   특성 \\\\\r\n",
        "        예시 : 길이 무게 등\r\n",
        "\r\n",
        "2.  비지도 학습\r\n",
        "\r\n"
      ]
    },
    {
      "cell_type": "markdown",
      "metadata": {
        "id": "QQH0NZl2FOGI"
      },
      "source": [
        "알고리즘 성능을 평가하기 위해서는 평가에 사용하는 테스트 세트와 훈련에 사용되는 훈련 세트 데이터가 각각 준비되어야 한다."
      ]
    },
    {
      "cell_type": "code",
      "metadata": {
        "id": "6OuusGpVDqaP"
      },
      "source": [
        "fish_length = [25.4, 26.3, 26.5, 29.0, 29.0, 29.7, 29.7, 30.0, 30.0, 30.7, 31.0, 31.0, \r\n",
        "                31.5, 32.0, 32.0, 32.0, 33.0, 33.0, 33.5, 33.5, 34.0, 34.0, 34.5, 35.0, \r\n",
        "                35.0, 35.0, 35.0, 36.0, 36.0, 37.0, 38.5, 38.5, 39.5, 41.0, 41.0, 9.8, \r\n",
        "                10.5, 10.6, 11.0, 11.2, 11.3, 11.8, 11.8, 12.0, 12.2, 12.4, 13.0, 14.3, 15.0]\r\n",
        "fish_weight = [242.0, 290.0, 340.0, 363.0, 430.0, 450.0, 500.0, 390.0, 450.0, 500.0, 475.0, 500.0, \r\n",
        "                500.0, 340.0, 600.0, 600.0, 700.0, 700.0, 610.0, 650.0, 575.0, 685.0, 620.0, 680.0, \r\n",
        "                700.0, 725.0, 720.0, 714.0, 850.0, 1000.0, 920.0, 955.0, 925.0, 975.0, 950.0, 6.7, \r\n",
        "                7.5, 7.0, 9.7, 9.8, 8.7, 10.0, 9.9, 9.8, 12.2, 13.4, 12.2, 19.7, 19.9]"
      ],
      "execution_count": 164,
      "outputs": []
    },
    {
      "cell_type": "code",
      "metadata": {
        "id": "Poyr99-PDmhQ"
      },
      "source": [
        "# 1장 내용 35개 도미 14개 빙어 데이터\r\n",
        "\r\n",
        "fish_data = [[l,w] for l, w in zip(fish_length, fish_weight)]\r\n",
        "fish_target = [1]*35 + [0]*14\r\n",
        "from sklearn.neighbors import KNeighborsClassifier\r\n",
        "kn = KNeighborsClassifier()"
      ],
      "execution_count": 165,
      "outputs": []
    },
    {
      "cell_type": "code",
      "metadata": {
        "colab": {
          "base_uri": "https://localhost:8080/"
        },
        "id": "lKUlfortGITA",
        "outputId": "6c3eebdd-38b8-405c-b5a2-49c97ad84b57"
      },
      "source": [
        "#인덱스 & 슬라이싱\r\n",
        "\r\n",
        "# 5번째 데이터\r\n",
        "print(fish_data[4])\r\n",
        "\r\n",
        "# 1~5번째 데이터 \r\n",
        "print(fish_data[0:5])\r\n",
        "print(fish_data[:5])\r\n",
        "#슬라이싱은 마지막 인덱스 원소를 포함하지 않는다.\r\n",
        "print(fish_data[44:])\r\n",
        "#49개의 데이터가 있으므로 44~48의 데이터를 출력"
      ],
      "execution_count": 166,
      "outputs": [
        {
          "output_type": "stream",
          "text": [
            "[29.0, 430.0]\n",
            "[[25.4, 242.0], [26.3, 290.0], [26.5, 340.0], [29.0, 363.0], [29.0, 430.0]]\n",
            "[[25.4, 242.0], [26.3, 290.0], [26.5, 340.0], [29.0, 363.0], [29.0, 430.0]]\n",
            "[[12.2, 12.2], [12.4, 13.4], [13.0, 12.2], [14.3, 19.7], [15.0, 19.9]]\n"
          ],
          "name": "stdout"
        }
      ]
    },
    {
      "cell_type": "code",
      "metadata": {
        "id": "0KAHPj1WIi0d"
      },
      "source": [
        "train_input = fish_data[:35]\r\n",
        "train_target = fish_target[:35]\r\n",
        "test_input = fish_data[35:]\r\n",
        "test_target = fish_target[35:]\r\n"
      ],
      "execution_count": 167,
      "outputs": []
    },
    {
      "cell_type": "code",
      "metadata": {
        "colab": {
          "base_uri": "https://localhost:8080/"
        },
        "id": "fL5V-JvXF7SR",
        "outputId": "79cec1e7-d16c-4859-8aee-1d35a2c71edf"
      },
      "source": [
        "kn = kn.fit(train_input, train_target)\r\n",
        "kn.score(test_input, test_target)"
      ],
      "execution_count": 168,
      "outputs": [
        {
          "output_type": "execute_result",
          "data": {
            "text/plain": [
              "0.0"
            ]
          },
          "metadata": {
            "tags": []
          },
          "execution_count": 168
        }
      ]
    },
    {
      "cell_type": "markdown",
      "metadata": {
        "id": "WrirQLqOMM8K"
      },
      "source": [
        "위의 방법은 도미와 빙어의 데이터가 몰려 있기 때문에 샘플링 편향 문제가 있다. "
      ]
    },
    {
      "cell_type": "code",
      "metadata": {
        "id": "bSZGDXErHUuP"
      },
      "source": [
        "import numpy as np"
      ],
      "execution_count": 169,
      "outputs": []
    },
    {
      "cell_type": "code",
      "metadata": {
        "id": "JnmHkz6tMYsS"
      },
      "source": [
        "input_arr = np.array(fish_data)\r\n",
        "target_arr = np.array(fish_target)"
      ],
      "execution_count": 170,
      "outputs": []
    },
    {
      "cell_type": "code",
      "metadata": {
        "colab": {
          "base_uri": "https://localhost:8080/"
        },
        "id": "sgYtTsS_Mkda",
        "outputId": "afd87ea3-5d9d-42e0-83f8-e2072e0c7adc"
      },
      "source": [
        "print(input_arr)\r\n",
        "print(input_arr.shape)\r\n",
        "#49개의 샘플과 2개의 특성"
      ],
      "execution_count": 171,
      "outputs": [
        {
          "output_type": "stream",
          "text": [
            "[[  25.4  242. ]\n",
            " [  26.3  290. ]\n",
            " [  26.5  340. ]\n",
            " [  29.   363. ]\n",
            " [  29.   430. ]\n",
            " [  29.7  450. ]\n",
            " [  29.7  500. ]\n",
            " [  30.   390. ]\n",
            " [  30.   450. ]\n",
            " [  30.7  500. ]\n",
            " [  31.   475. ]\n",
            " [  31.   500. ]\n",
            " [  31.5  500. ]\n",
            " [  32.   340. ]\n",
            " [  32.   600. ]\n",
            " [  32.   600. ]\n",
            " [  33.   700. ]\n",
            " [  33.   700. ]\n",
            " [  33.5  610. ]\n",
            " [  33.5  650. ]\n",
            " [  34.   575. ]\n",
            " [  34.   685. ]\n",
            " [  34.5  620. ]\n",
            " [  35.   680. ]\n",
            " [  35.   700. ]\n",
            " [  35.   725. ]\n",
            " [  35.   720. ]\n",
            " [  36.   714. ]\n",
            " [  36.   850. ]\n",
            " [  37.  1000. ]\n",
            " [  38.5  920. ]\n",
            " [  38.5  955. ]\n",
            " [  39.5  925. ]\n",
            " [  41.   975. ]\n",
            " [  41.   950. ]\n",
            " [   9.8    6.7]\n",
            " [  10.5    7.5]\n",
            " [  10.6    7. ]\n",
            " [  11.     9.7]\n",
            " [  11.2    9.8]\n",
            " [  11.3    8.7]\n",
            " [  11.8   10. ]\n",
            " [  11.8    9.9]\n",
            " [  12.     9.8]\n",
            " [  12.2   12.2]\n",
            " [  12.4   13.4]\n",
            " [  13.    12.2]\n",
            " [  14.3   19.7]\n",
            " [  15.    19.9]]\n",
            "(49, 2)\n"
          ],
          "name": "stdout"
        }
      ]
    },
    {
      "cell_type": "markdown",
      "metadata": {
        "id": "LKq_7pEDOjtL"
      },
      "source": [
        "데이터가 섞일 때 주의 사항 \\\\\r\n",
        "fish_data와 fish_target은 같은 인덱스를 가진 채로 섞여야 한다. \\\\\r\n",
        "그러기 위해서 arange()를 통해서 0~48까지 인덱스를 부여한다.\r\n"
      ]
    },
    {
      "cell_type": "code",
      "metadata": {
        "id": "uhhOeNKQN1XD"
      },
      "source": [
        "# 무작위 결과를 만드는 함수에서 일정한 결과를 얻기 위한 함수\r\n",
        "# 계속 실행해도 아래에 출력되는 랜덤 값만 출력된다.\r\n",
        "np.random.seed(42)\r\n",
        "index = np.arange(49)\r\n",
        "np.random.shuffle(index)"
      ],
      "execution_count": 172,
      "outputs": []
    },
    {
      "cell_type": "code",
      "metadata": {
        "colab": {
          "base_uri": "https://localhost:8080/"
        },
        "id": "myyk4gMEPoOV",
        "outputId": "8774eccb-ad7a-4076-a281-a0762c201e8c"
      },
      "source": [
        "print(index)"
      ],
      "execution_count": 173,
      "outputs": [
        {
          "output_type": "stream",
          "text": [
            "[13 45 47 44 17 27 26 25 31 19 12  4 34  8  3  6 40 41 46 15  9 16 24 33\n",
            " 30  0 43 32  5 29 11 36  1 21  2 37 35 23 39 10 22 18 48 20  7 42 14 28\n",
            " 38]\n"
          ],
          "name": "stdout"
        }
      ]
    },
    {
      "cell_type": "code",
      "metadata": {
        "colab": {
          "base_uri": "https://localhost:8080/"
        },
        "id": "MvpDqAvxPqjk",
        "outputId": "ebfcb29f-3939-445c-c4e9-ed26efa9a57a"
      },
      "source": [
        "# 배열 인덱싱 2,4번째 샘플 출력\r\n",
        "print(input_arr[[1,3]])"
      ],
      "execution_count": 174,
      "outputs": [
        {
          "output_type": "stream",
          "text": [
            "[[ 26.3 290. ]\n",
            " [ 29.  363. ]]\n"
          ],
          "name": "stdout"
        }
      ]
    },
    {
      "cell_type": "code",
      "metadata": {
        "colab": {
          "base_uri": "https://localhost:8080/"
        },
        "id": "3hytEuh-Xff9",
        "outputId": "3b8eedc5-6f0f-4cce-b863-c121c2cab9ac"
      },
      "source": [
        "# 랜덤으로 섞인 인덱스 배열의 35개의 샘플을 훈련 세트로 만들었다.\r\n",
        "train_input = input_arr[index[:35]]\r\n",
        "train_target = target_arr[index[:35]]\r\n",
        "# 기존 14번째 원소  / 섞인 첫 번째 원소\r\n",
        "print(input_arr[index[0]])\r\n",
        "print(input_arr[13], train_input[0])\r\n",
        "\r\n",
        "#테스트 세트 (35~48)\r\n",
        "test_input = input_arr[index[35:]]\r\n",
        "test_target = target_arr[index[35:]]"
      ],
      "execution_count": 175,
      "outputs": [
        {
          "output_type": "stream",
          "text": [
            "[ 32. 340.]\n",
            "[ 32. 340.] [ 32. 340.]\n"
          ],
          "name": "stdout"
        }
      ]
    },
    {
      "cell_type": "code",
      "metadata": {
        "colab": {
          "base_uri": "https://localhost:8080/",
          "height": 297
        },
        "id": "YOerAQTQXzaV",
        "outputId": "f9818e46-3757-40f9-90b4-73366a324f6d"
      },
      "source": [
        "import matplotlib.pyplot as plt\r\n",
        "# array임 [:,0] =  1열 전체, [:,1] = 2열 전체\r\n",
        "plt.scatter(train_input[:,0], train_input[:,1])\r\n",
        "plt.scatter(test_input[:,0], test_input[:,1])\r\n",
        "plt.xlabel('length')\r\n",
        "plt.ylabel('weight')\r\n",
        "plt.plot"
      ],
      "execution_count": 176,
      "outputs": [
        {
          "output_type": "execute_result",
          "data": {
            "text/plain": [
              "<function matplotlib.pyplot.plot>"
            ]
          },
          "metadata": {
            "tags": []
          },
          "execution_count": 176
        },
        {
          "output_type": "display_data",
          "data": {
            "image/png": "[encoded data removed]",
            "text/plain": [
              "<Figure size 432x288 with 1 Axes>"
            ]
          },
          "metadata": {
            "tags": [],
            "needs_background": "light"
          }
        }
      ]
    },
    {
      "cell_type": "code",
      "metadata": {
        "colab": {
          "base_uri": "https://localhost:8080/"
        },
        "id": "0uu0m1v2ZpU4",
        "outputId": "ff757782-5e87-402a-955a-37d17fb3eb90"
      },
      "source": [
        "kn = kn.fit(train_input, train_target)\r\n",
        "kn.score(test_input, test_target)"
      ],
      "execution_count": 177,
      "outputs": [
        {
          "output_type": "execute_result",
          "data": {
            "text/plain": [
              "1.0"
            ]
          },
          "metadata": {
            "tags": []
          },
          "execution_count": 177
        }
      ]
    },
    {
      "cell_type": "code",
      "metadata": {
        "colab": {
          "base_uri": "https://localhost:8080/"
        },
        "id": "z6GWNZc2aPDG",
        "outputId": "6e4c3e1a-ebf0-49ba-c707-19ae58709d08"
      },
      "source": [
        "# 테스트 / 실제값 비교\r\n",
        "print(kn.predict(test_input))\r\n",
        "print(test_target)"
      ],
      "execution_count": 178,
      "outputs": [
        {
          "output_type": "stream",
          "text": [
            "[0 0 1 0 1 1 1 0 1 1 0 1 1 0]\n",
            "[0 0 1 0 1 1 1 0 1 1 0 1 1 0]\n"
          ],
          "name": "stdout"
        }
      ]
    },
    {
      "cell_type": "code",
      "metadata": {
        "id": "oioUhJa5akY2"
      },
      "source": [
        "fish_length = [25.4, 26.3, 26.5, 29.0, 29.0, 29.7, 29.7, 30.0, 30.0, 30.7, 31.0, 31.0, \r\n",
        "                31.5, 32.0, 32.0, 32.0, 33.0, 33.0, 33.5, 33.5, 34.0, 34.0, 34.5, 35.0, \r\n",
        "                35.0, 35.0, 35.0, 36.0, 36.0, 37.0, 38.5, 38.5, 39.5, 41.0, 41.0, 9.8, \r\n",
        "                10.5, 10.6, 11.0, 11.2, 11.3, 11.8, 11.8, 12.0, 12.2, 12.4, 13.0, 14.3, 15.0]\r\n",
        "fish_weight = [242.0, 290.0, 340.0, 363.0, 430.0, 450.0, 500.0, 390.0, 450.0, 500.0, 475.0, 500.0, \r\n",
        "                500.0, 340.0, 600.0, 600.0, 700.0, 700.0, 610.0, 650.0, 575.0, 685.0, 620.0, 680.0, \r\n",
        "                700.0, 725.0, 720.0, 714.0, 850.0, 1000.0, 920.0, 955.0, 925.0, 975.0, 950.0, 6.7, \r\n",
        "                7.5, 7.0, 9.7, 9.8, 8.7, 10.0, 9.9, 9.8, 12.2, 13.4, 12.2, 19.7, 19.9]"
      ],
      "execution_count": 179,
      "outputs": []
    },
    {
      "cell_type": "code",
      "metadata": {
        "colab": {
          "base_uri": "https://localhost:8080/"
        },
        "id": "Y9pRBwU2bDju",
        "outputId": "3448c735-79c4-43cc-f98d-da2fb099a4f9"
      },
      "source": [
        "import numpy as np\r\n",
        "\r\n",
        "# column_stack() 전달받은 리스트를 일렬로 세운 다음 차례대로 나란히 연결한다.\r\n",
        "np.column_stack(([1,2,3],[4,5,6]))"
      ],
      "execution_count": 180,
      "outputs": [
        {
          "output_type": "execute_result",
          "data": {
            "text/plain": [
              "array([[1, 4],\n",
              "       [2, 5],\n",
              "       [3, 6]])"
            ]
          },
          "metadata": {
            "tags": []
          },
          "execution_count": 180
        }
      ]
    },
    {
      "cell_type": "code",
      "metadata": {
        "colab": {
          "base_uri": "https://localhost:8080/"
        },
        "id": "38O1EBKtbYXG",
        "outputId": "e335c3a7-3f63-413e-f9b0-e1ade483f11f"
      },
      "source": [
        "fish_data = np.column_stack((fish_length, fish_weight))\r\n",
        "print(fish_data[:5])"
      ],
      "execution_count": 181,
      "outputs": [
        {
          "output_type": "stream",
          "text": [
            "[[ 25.4 242. ]\n",
            " [ 26.3 290. ]\n",
            " [ 26.5 340. ]\n",
            " [ 29.  363. ]\n",
            " [ 29.  430. ]]\n"
          ],
          "name": "stdout"
        }
      ]
    },
    {
      "cell_type": "markdown",
      "metadata": {
        "id": "h9xJv9VCbdHG"
      },
      "source": [
        "두 개의 리스트를 (3,2) 크기의 배열로 만듦\r\n",
        "\r\n",
        "tuple : 리스트와 비슷하지만 튜플은 한 번 만들어지면 수정할 수 없음 \\\\\r\n",
        "(매개변수 값으로 많이 사용한다.)\r\n"
      ]
    },
    {
      "cell_type": "code",
      "metadata": {
        "colab": {
          "base_uri": "https://localhost:8080/"
        },
        "id": "_7T1iMhxcP_4",
        "outputId": "64d750ca-a191-4b84-9312-ded79c6a670f"
      },
      "source": [
        "#np.ones() / np.zeros()\r\n",
        "print(np.ones(5))\r\n",
        "fish_target = np.concatenate((np.ones(35), np.zeros(14)))\r\n",
        "print(fish_target)"
      ],
      "execution_count": 182,
      "outputs": [
        {
          "output_type": "stream",
          "text": [
            "[1. 1. 1. 1. 1.]\n",
            "[1. 1. 1. 1. 1. 1. 1. 1. 1. 1. 1. 1. 1. 1. 1. 1. 1. 1. 1. 1. 1. 1. 1. 1.\n",
            " 1. 1. 1. 1. 1. 1. 1. 1. 1. 1. 1. 0. 0. 0. 0. 0. 0. 0. 0. 0. 0. 0. 0. 0.\n",
            " 0.]\n"
          ],
          "name": "stdout"
        }
      ]
    },
    {
      "cell_type": "markdown",
      "metadata": {
        "id": "y-SDksFec8D3"
      },
      "source": [
        "np.ones() / np.zeros() \\\\\r\n",
        "원하는 만큼 1 / 0 을 채운 배열을 만드는 함수\r\n",
        "\r\n",
        "np.concatenate()함수는 차례대로 배열을 연결한다. "
      ]
    },
    {
      "cell_type": "code",
      "metadata": {
        "id": "hMz-55i2eG8A"
      },
      "source": [
        "# 훈련 세트와 테스트 세트 나누기\r\n",
        "from sklearn.model_selection import train_test_split\r\n"
      ],
      "execution_count": 183,
      "outputs": []
    },
    {
      "cell_type": "markdown",
      "metadata": {
        "id": "6g2I8POxedK3"
      },
      "source": [
        "train_test_split()함수 \r\n",
        "전달되는 리스트나 배열을 비율에 맞게 훈련 세트와 테스트 세트로 나누어 준다.(섞어서)\r\n",
        "기본적으로 25%를 테스트 세트로 떼어 낸다."
      ]
    },
    {
      "cell_type": "code",
      "metadata": {
        "colab": {
          "base_uri": "https://localhost:8080/"
        },
        "id": "c4dvLJzSeYvH",
        "outputId": "5780b484-50d2-4922-b45d-f86ccc3efa4a"
      },
      "source": [
        "#train_test_split()\r\n",
        "train_input, test_input, train_target, test_target = train_test_split(fish_data, fish_target, random_state=42)\r\n",
        "#shape로 입력 데이터 크기 확인\r\n",
        "print(train_input.shape, test_input.shape)\r\n",
        "print(train_target.shape, test_target.shape)\r\n",
        "print(test_target)"
      ],
      "execution_count": 184,
      "outputs": [
        {
          "output_type": "stream",
          "text": [
            "(36, 2) (13, 2)\n",
            "(36,) (13,)\n",
            "[1. 0. 0. 0. 1. 1. 1. 1. 1. 1. 1. 1. 1.]\n"
          ],
          "name": "stdout"
        }
      ]
    },
    {
      "cell_type": "markdown",
      "metadata": {
        "id": "NwdfSMnXfzun"
      },
      "source": [
        "샘플링 편향이 일어남 \\\\\r\n",
        "stratify 매개변수에 타깃 데이터를 전달하면 클래스 비율에 맞게 데이터 분리\r\n"
      ]
    },
    {
      "cell_type": "code",
      "metadata": {
        "colab": {
          "base_uri": "https://localhost:8080/"
        },
        "id": "2R5hAbNze_xJ",
        "outputId": "11ffa76c-2688-42d9-9fe4-e5679f2e5a88"
      },
      "source": [
        "#stratify\r\n",
        "train_input, test_input, train_target, test_target = train_test_split(fish_data, fish_target, stratify=fish_target,random_state=42)\r\n",
        "print(test_target)"
      ],
      "execution_count": 185,
      "outputs": [
        {
          "output_type": "stream",
          "text": [
            "[0. 0. 1. 0. 1. 0. 1. 1. 1. 1. 1. 1. 1.]\n"
          ],
          "name": "stdout"
        }
      ]
    },
    {
      "cell_type": "markdown",
      "metadata": {
        "id": "2COG9YVJhZ3S"
      },
      "source": [
        "#알고리즘이 잘못된 데이터를 인식할 때 어떻게 수정해야 하는가?"
      ]
    },
    {
      "cell_type": "code",
      "metadata": {
        "colab": {
          "base_uri": "https://localhost:8080/"
        },
        "id": "66OYfWGVgteo",
        "outputId": "551cd3ef-7ffa-4100-ba0a-4d4367ce7a2a"
      },
      "source": [
        "# 도미 데이터\r\n",
        "print(kn.predict([[25,150]]))"
      ],
      "execution_count": 186,
      "outputs": [
        {
          "output_type": "stream",
          "text": [
            "[0]\n"
          ],
          "name": "stdout"
        }
      ]
    },
    {
      "cell_type": "markdown",
      "metadata": {
        "id": "TP0JaB9vglvA"
      },
      "source": [
        "가장 가까운 값을 확인하고 싶을 때"
      ]
    },
    {
      "cell_type": "code",
      "metadata": {
        "colab": {
          "base_uri": "https://localhost:8080/",
          "height": 296
        },
        "id": "eUo6QD6AhgZN",
        "outputId": "6bb69971-c4e3-47d6-f360-54596f9cf571"
      },
      "source": [
        "# 25,150의 데이터와 가장 가까운 값 5개를 indexes라고 하기 \r\n",
        "distances, indexes = kn.kneighbors([[25,150]])\r\n",
        "\r\n",
        "import matplotlib.pyplot as plt\r\n",
        "plt.scatter(train_input[:,0], train_input[:,1])\r\n",
        "\r\n",
        "# '^' 삼각형으로 나타내기\r\n",
        "plt.scatter(25,150,marker='^')\r\n",
        "#가장 가까운 값을 마름모로 표현\r\n",
        "# 'D' 마름모로 나타내기\r\n",
        "plt.scatter(train_input[indexes,0], train_input[indexes,1],marker='D')\r\n",
        "\r\n",
        "\r\n",
        "plt.xlabel('length')\r\n",
        "plt.ylabel('weight')\r\n",
        "plt.plot"
      ],
      "execution_count": 187,
      "outputs": [
        {
          "output_type": "execute_result",
          "data": {
            "text/plain": [
              "<function matplotlib.pyplot.plot>"
            ]
          },
          "metadata": {
            "tags": []
          },
          "execution_count": 187
        },
        {
          "output_type": "display_data",
          "data": {
            "image/png": "[encoded data removed]",
            "text/plain": [
              "<Figure size 432x288 with 1 Axes>"
            ]
          },
          "metadata": {
            "tags": [],
            "needs_background": "light"
          }
        }
      ]
    },
    {
      "cell_type": "markdown",
      "metadata": {
        "id": "V8S1o5iwQzaD"
      },
      "source": [
        "x축의 범위를 동일하게 0~1000으로 맞춘 경우 \\\\\r\n",
        "두 특성의 스케일이 다르다. \\\\\r\n",
        "특성값을 일정한 기준으로 바꾸어 주는 데이터 전처리가 필요하다"
      ]
    },
    {
      "cell_type": "code",
      "metadata": {
        "colab": {
          "base_uri": "https://localhost:8080/",
          "height": 296
        },
        "id": "osuQPhD_gSso",
        "outputId": "825393c6-4a00-4059-8c21-44d13a3e74e5"
      },
      "source": [
        "plt.scatter(train_input[:,0], train_input[:,1])\r\n",
        "plt.scatter(25, 150, marker='^')\r\n",
        "plt.scatter(train_input[indexes,0], train_input[indexes,1],marker='D')\r\n",
        "# x축을 0~1000\r\n",
        "plt.xlim((0,1000))\r\n",
        "plt.xlabel('length')\r\n",
        "plt.ylabel('weight')\r\n",
        "plt.show"
      ],
      "execution_count": 188,
      "outputs": [
        {
          "output_type": "execute_result",
          "data": {
            "text/plain": [
              "<function matplotlib.pyplot.show>"
            ]
          },
          "metadata": {
            "tags": []
          },
          "execution_count": 188
        },
        {
          "output_type": "display_data",
          "data": {
            "image/png": "[encoded data removed]",
            "text/plain": [
              "<Figure size 432x288 with 1 Axes>"
            ]
          },
          "metadata": {
            "tags": [],
            "needs_background": "light"
          }
        }
      ]
    },
    {
      "cell_type": "code",
      "metadata": {
        "id": "RUYuEbXDSR4L"
      },
      "source": [
        "#표준편차를 사용하여 데이터 전처리\r\n",
        "\r\n",
        "#평균\r\n",
        "mean = np.mean(train_input, axis=0)\r\n",
        "mean2 = np.mean(train_input, axis=1)\r\n",
        "#표준편차\r\n",
        "std = np.std(train_input, axis=0)\r\n",
        "\r\n",
        "#axis = 0 을 통해서 행을 따라 각 열의 통계 값을 계산한다. "
      ],
      "execution_count": 189,
      "outputs": []
    },
    {
      "cell_type": "code",
      "metadata": {
        "colab": {
          "base_uri": "https://localhost:8080/"
        },
        "id": "Is4Wdlg6UmzE",
        "outputId": "93d81f7e-c89c-4a10-d48f-732cb795c15d"
      },
      "source": [
        "print(train_input)\r\n",
        "print(mean)\r\n",
        "print(mean2)"
      ],
      "execution_count": 190,
      "outputs": [
        {
          "output_type": "stream",
          "text": [
            "[[  29.7  500. ]\n",
            " [  12.2   12.2]\n",
            " [  33.   700. ]\n",
            " [  11.3    8.7]\n",
            " [  39.5  925. ]\n",
            " [  29.   430. ]\n",
            " [  36.   714. ]\n",
            " [  36.   850. ]\n",
            " [  31.   475. ]\n",
            " [  35.   720. ]\n",
            " [  37.  1000. ]\n",
            " [  11.2    9.8]\n",
            " [  34.5  620. ]\n",
            " [  12.     9.8]\n",
            " [  29.   363. ]\n",
            " [  33.   700. ]\n",
            " [  30.7  500. ]\n",
            " [  38.5  955. ]\n",
            " [  33.5  650. ]\n",
            " [  14.3   19.7]\n",
            " [  31.5  500. ]\n",
            " [  25.4  242. ]\n",
            " [   9.8    6.7]\n",
            " [  32.   600. ]\n",
            " [  10.5    7.5]\n",
            " [  33.5  610. ]\n",
            " [  10.6    7. ]\n",
            " [  35.   700. ]\n",
            " [  32.   600. ]\n",
            " [  35.   725. ]\n",
            " [  13.    12.2]\n",
            " [  30.   450. ]\n",
            " [  32.   340. ]\n",
            " [  15.    19.9]\n",
            " [  30.   390. ]\n",
            " [  41.   975. ]]\n",
            "[ 27.29722222 454.09722222]\n",
            "[264.85  12.2  366.5   10.   482.25 229.5  375.   443.   253.   377.5\n",
            " 518.5   10.5  327.25  10.9  196.   366.5  265.35 496.75 341.75  17.\n",
            " 265.75 133.7    8.25 316.     9.   321.75   8.8  367.5  316.   380.\n",
            "  12.6  240.   186.    17.45 210.   508.  ]\n"
          ],
          "name": "stdout"
        }
      ]
    },
    {
      "cell_type": "markdown",
      "metadata": {
        "id": "CVAVkccpTT0E"
      },
      "source": [
        "데이터 유형 찾아본 결과 \r\n",
        "http://taewan.kim/post/numpy_sum_axis/\r\n",
        "\r\n",
        "스칼라: scalar\r\n",
        "스칼라는 하나의 숫자만으로 이루어진 데이터를 의미합니다. \r\n",
        "\r\n",
        "벡터: vector\r\n",
        "벡터는 여러 숫자가 순서대로 모여 있는 것으로, 일반적인 일차원 배열이 벡터입니다.\r\n",
        "\r\n",
        "하나의 벡터를 이루는 데이터의 개수를 차원(dimension)이라고 합니다.\r\n",
        "\r\n",
        "행렬: matrix\r\n",
        "행렬은 복수의 차원을 가지는 데이터가 다시 여러 개 있는 경우의 데이터를 합쳐서 표기한 것이다. 일반적으로 2차원 배열이 행렬입니다. 특히 3차원 이상 배열은 텐서(tensor)라고 합니다."
      ]
    },
    {
      "cell_type": "code",
      "metadata": {
        "colab": {
          "base_uri": "https://localhost:8080/"
        },
        "id": "IrMktGiWWUIv",
        "outputId": "49ae82c6-925d-4d71-8b18-7f36e0377cae"
      },
      "source": [
        "print(mean, std)"
      ],
      "execution_count": 191,
      "outputs": [
        {
          "output_type": "stream",
          "text": [
            "[ 27.29722222 454.09722222] [  9.98244253 323.29893931]\n"
          ],
          "name": "stdout"
        }
      ]
    },
    {
      "cell_type": "markdown",
      "metadata": {
        "id": "MrI4ElfkVvEE"
      },
      "source": [
        "브로드캐스팅\r\n"
      ]
    },
    {
      "cell_type": "code",
      "metadata": {
        "colab": {
          "base_uri": "https://localhost:8080/"
        },
        "id": "uzokqyqNSnhL",
        "outputId": "3e9f087b-9d9e-41ec-dd82-84a85645ce4f"
      },
      "source": [
        "train_scaled = (train_input -mean ) / std\r\n",
        "print(train_scaled)"
      ],
      "execution_count": 192,
      "outputs": [
        {
          "output_type": "stream",
          "text": [
            "[[ 0.24070039  0.14198246]\n",
            " [-1.51237757 -1.36683783]\n",
            " [ 0.5712808   0.76060496]\n",
            " [-1.60253587 -1.37766373]\n",
            " [ 1.22242404  1.45655528]\n",
            " [ 0.17057727 -0.07453542]\n",
            " [ 0.87180845  0.80390854]\n",
            " [ 0.87180845  1.22457184]\n",
            " [ 0.37092904  0.06465464]\n",
            " [ 0.77163257  0.82246721]\n",
            " [ 0.97198434  1.68853872]\n",
            " [-1.61255346 -1.3742613 ]\n",
            " [ 0.72154463  0.51315596]\n",
            " [-1.53241275 -1.3742613 ]\n",
            " [ 0.17057727 -0.28177396]\n",
            " [ 0.5712808   0.76060496]\n",
            " [ 0.34087627  0.14198246]\n",
            " [ 1.12224816  1.54934866]\n",
            " [ 0.62136874  0.60594934]\n",
            " [-1.30200822 -1.34363949]\n",
            " [ 0.42101698  0.14198246]\n",
            " [-0.19005591 -0.65604058]\n",
            " [-1.75279969 -1.38384995]\n",
            " [ 0.47110492  0.45129371]\n",
            " [-1.68267658 -1.38137546]\n",
            " [ 0.62136874  0.48222484]\n",
            " [-1.67265899 -1.38292202]\n",
            " [ 0.77163257  0.76060496]\n",
            " [ 0.47110492  0.45129371]\n",
            " [ 0.77163257  0.83793278]\n",
            " [-1.43223687 -1.36683783]\n",
            " [ 0.27075315 -0.01267317]\n",
            " [ 0.47110492 -0.35291555]\n",
            " [-1.2318851  -1.34302087]\n",
            " [ 0.27075315 -0.19825992]\n",
            " [ 1.37268787  1.61121091]]\n"
          ],
          "name": "stdout"
        }
      ]
    },
    {
      "cell_type": "markdown",
      "metadata": {
        "id": "WADXQG5wXZid"
      },
      "source": [
        "샘플의 크기가 그대로임"
      ]
    },
    {
      "cell_type": "code",
      "metadata": {
        "colab": {
          "base_uri": "https://localhost:8080/",
          "height": 297
        },
        "id": "PA4ILP5xVk4c",
        "outputId": "570eb3ac-5c04-4495-8794-4685b67a9b27"
      },
      "source": [
        "plt.scatter(train_scaled[:,0], train_scaled[:,1])\r\n",
        "plt.scatter(25, 150, marker='^')\r\n",
        "plt.scatter(train_scaled[indexes,0], train_scaled[indexes,1],marker='D')\r\n",
        "plt.xlabel('length')\r\n",
        "plt.ylabel('weight')\r\n",
        "plt.show"
      ],
      "execution_count": 196,
      "outputs": [
        {
          "output_type": "execute_result",
          "data": {
            "text/plain": [
              "<function matplotlib.pyplot.show>"
            ]
          },
          "metadata": {
            "tags": []
          },
          "execution_count": 196
        },
        {
          "output_type": "display_data",
          "data": {
            "image/png": "[encoded data removed]",
            "text/plain": [
              "<Figure size 432x288 with 1 Axes>"
            ]
          },
          "metadata": {
            "tags": [],
            "needs_background": "light"
          }
        }
      ]
    },
    {
      "cell_type": "code",
      "metadata": {
        "colab": {
          "base_uri": "https://localhost:8080/",
          "height": 297
        },
        "id": "kpvhQijHXeCk",
        "outputId": "d5168bf4-969e-4d53-a515-f902a27e7de5"
      },
      "source": [
        "new=([25,100]-mean)/std\r\n",
        "plt.scatter(train_scaled[:,0], train_scaled[:,1])\r\n",
        "plt.scatter(new[0],new[1] , marker='^')\r\n",
        "plt.scatter(train_scaled[indexes,0], train_scaled[indexes,1],marker='D')\r\n",
        "plt.xlabel('length')\r\n",
        "plt.ylabel('weight')\r\n",
        "plt.show"
      ],
      "execution_count": 199,
      "outputs": [
        {
          "output_type": "execute_result",
          "data": {
            "text/plain": [
              "<function matplotlib.pyplot.show>"
            ]
          },
          "metadata": {
            "tags": []
          },
          "execution_count": 199
        },
        {
          "output_type": "display_data",
          "data": {
            "image/png": "[encoded data removed]",
            "text/plain": [
              "<Figure size 432x288 with 1 Axes>"
            ]
          },
          "metadata": {
            "tags": [],
            "needs_background": "light"
          }
        }
      ]
    },
    {
      "cell_type": "markdown",
      "metadata": {
        "id": "jBTdmZ1fYDXt"
      },
      "source": [
        "가장 가까운 값이 이상하게 나온다\r\n",
        "train_scaled로 훈련을 다시 해주어야 함"
      ]
    },
    {
      "cell_type": "code",
      "metadata": {
        "colab": {
          "base_uri": "https://localhost:8080/"
        },
        "id": "RmMk2xEoX32v",
        "outputId": "6a1e2a8b-3f2b-4141-8e6e-a2a5392e043d"
      },
      "source": [
        "#훈련 샘플 훈련하기(바꾸는건 아까함)\r\n",
        "kn.fit(train_scaled, train_target)\r\n",
        "# 테스트 샘플 바꾸기\r\n",
        "test_scaled = (test_input -mean)/std\r\n",
        "kn.score(test_scaled, test_target)"
      ],
      "execution_count": 201,
      "outputs": [
        {
          "output_type": "execute_result",
          "data": {
            "text/plain": [
              "1.0"
            ]
          },
          "metadata": {
            "tags": []
          },
          "execution_count": 201
        }
      ]
    },
    {
      "cell_type": "code",
      "metadata": {
        "colab": {
          "base_uri": "https://localhost:8080/",
          "height": 297
        },
        "id": "h-sqUwZlYjbl",
        "outputId": "2fd008fa-968b-4cdb-d6a7-dacdc814d158"
      },
      "source": [
        "distance, indexes = kn.kneighbors([new])\r\n",
        "plt.scatter(train_scaled[:,0], train_scaled[:,1])\r\n",
        "plt.scatter(new[0],new[1] , marker='^')\r\n",
        "plt.scatter(train_scaled[indexes,0], train_scaled[indexes,1],marker='D')\r\n",
        "plt.xlabel('length')\r\n",
        "plt.ylabel('weight')\r\n",
        "plt.show"
      ],
      "execution_count": 203,
      "outputs": [
        {
          "output_type": "execute_result",
          "data": {
            "text/plain": [
              "<function matplotlib.pyplot.show>"
            ]
          },
          "metadata": {
            "tags": []
          },
          "execution_count": 203
        },
        {
          "output_type": "display_data",
          "data": {
            "image/png": "[encoded data removed]",
            "text/plain": [
              "<Figure size 432x288 with 1 Axes>"
            ]
          },
          "metadata": {
            "tags": [],
            "needs_background": "light"
          }
        }
      ]
    },
    {
      "cell_type": "code",
      "metadata": {
        "id": "Utv09QV6ZZXV"
      },
      "source": [
        ""
      ],
      "execution_count": null,
      "outputs": []
    }
  ]
}