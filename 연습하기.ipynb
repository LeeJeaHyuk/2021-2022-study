{
  "nbformat": 4,
  "nbformat_minor": 0,
  "metadata": {
    "kernelspec": {
      "display_name": "conda_python3",
      "language": "python",
      "name": "conda_python3"
    },
    "language_info": {
      "codemirror_mode": {
        "name": "ipython",
        "version": 3
      },
      "file_extension": ".py",
      "mimetype": "text/x-python",
      "name": "python",
      "nbconvert_exporter": "python",
      "pygments_lexer": "ipython3",
      "version": "3.6.10"
    },
    "colab": {
      "name": "연습하기",
      "provenance": [],
      "include_colab_link": true
    }
  },
  "cells": [
    {
      "cell_type": "markdown",
      "metadata": {
        "id": "view-in-github",
        "colab_type": "text"
      },
      "source": [
        "<a href=\"https://colab.research.google.com/github/LeeJeaHyuk/colab-sync-practice/blob/main/%EC%97%B0%EC%8A%B5%ED%95%98%EA%B8%B0.ipynb\" target=\"_parent\"><img src=\"https://colab.research.google.com/assets/colab-badge.svg\" alt=\"Open In Colab\"/></a>"
      ]
    },
    {
      "cell_type": "markdown",
      "metadata": {
        "id": "FwMlrfKWo6Ox"
      },
      "source": [
        "# Python 치트 시트 "
      ]
    },
    {
      "cell_type": "markdown",
      "metadata": {
        "id": "pHSwCAzAo6O1"
      },
      "source": [
        "## 목차  \n",
        "1. <a href='#section1'>구문 및 공백</a>\n",
        "2. <a href='#section2'>주석</a>\n",
        "3. <a href='#section3'>숫자 및 연산</a>\n",
        "4. <a href='#section4'>문자열 조작</a>\n",
        "5. <a href='#section5'>리스트, 튜플 및 사전</a>\n",
        "6. <a href='#section6'>JSON</a>\n",
        "7. <a href='#section7'>루프</a>\n",
        "8. <a href='#section8'>파일 처리</a>\n",
        "9. <a href='#section9'>함수</a>\n",
        "10. <a href='#section10'>datetime 작업</a>\n",
        "11. <a href='#section11'>NumPy</a>\n",
        "12. <a href='#section12'>Pandas</a>"
      ]
    },
    {
      "cell_type": "markdown",
      "metadata": {
        "id": "YJpIhkhWo6O2"
      },
      "source": [
        "셀을 실행하려면 **Shift+Enter**를 누르거나 페이지 상단에서 **실행**을 클릭합니다."
      ]
    },
    {
      "cell_type": "markdown",
      "metadata": {
        "id": "eXIaNc3No6O3"
      },
      "source": [
        "<a id='section2'></a>\n",
        "\n",
        "## 2. 주석\n",
        "Python에서 주석은 해시 '#'로 시작하여 줄의 끝까지 이어집니다. '#'는 줄의 시작 부분이나 코드 뒤에 위치할 수 있습니다. "
      ]
    },
    {
      "cell_type": "code",
      "metadata": {
        "id": "GBAK3B0Po6O3"
      },
      "source": [
        "# hello world를 인쇄하는 코드입니다!\n",
        "\n",
        "print(\"Hello world!\") # hello world에 대한 인쇄 문\n",
        "print(\"# is not a comment in this case\")"
      ],
      "execution_count": null,
      "outputs": []
    },
    {
      "cell_type": "markdown",
      "metadata": {
        "id": "48tOm6Pao6O3"
      },
      "source": [
        "<a id='section3'></a>\n",
        "\n",
        "## 3. 숫자 및 연산\n",
        "\n",
        "다른 프로그래밍 언어와 마찬가지로 다음과 같은 네 가지 유형의 숫자가 있습니다. \n",
        "- *int*로 표시되는 정수(예: 1, 20, 45, 1000)\n",
        "- *float*로 표시되는 부동 소수점 수(예: 1.25, 20.35, 1000.00)\n",
        "- 긴 정수 \n",
        "- 복소수(예: x가 알려진 경우의 x+2y)"
      ]
    },
    {
      "cell_type": "markdown",
      "metadata": {
        "id": "xwSToNIuo6O3"
      },
      "source": [
        "연산 | 결과\n",
        "----------------|-------------------------------------               \n",
        "x + y | x와 y의 합계\t\n",
        "x – y | x와 y의 차이\t\n",
        "x * y | x와 y의 곱하기\t\n",
        "x / y | x와 y의 나누기\n",
        "x // y | x와 y의 나누기(소수점 제외)\n",
        "x % y | x/y의 나머지\n",
        "abs(x) | x의 절대값\t\n",
        "int(x) | x를 정수로 변환\n",
        "long(x) | x를 긴 정수로 변환\n",
        "float(x) | x를 부동 소수점으로 변환\t\n",
        "pow(x, y) | x의 y 제곱근\t\n",
        "x ** y | x의 y 제곱근\t"
      ]
    },
    {
      "cell_type": "code",
      "metadata": {
        "id": "41-e9bFIo6O4",
        "colab": {
          "base_uri": "https://localhost:8080/"
        },
        "outputId": "e502147c-9299-451d-bed7-5f1195e76812"
      },
      "source": [
        "# 숫자 예제\n",
        "a = 5 + 8\n",
        "print(\"Sum of int numbers: {} and number format is {}\".format(a, type(a)))\n",
        "\n",
        "b = 5 + 2.3\n",
        "print (\"Sum of int and {} and number format is {}\".format(b, type(b)))"
      ],
      "execution_count": 11,
      "outputs": [
        {
          "output_type": "stream",
          "text": [
            "Sum of int numbers: 13 and number format is <class 'int'>\n",
            "Sum of int and 7.3 and number format is <class 'float'>\n"
          ],
          "name": "stdout"
        }
      ]
    },
    {
      "cell_type": "markdown",
      "metadata": {
        "id": "gDFdGAdFo6O4"
      },
      "source": [
        "<a id='section4'></a>\n",
        "\n",
        "## 4. 문자열 조작\n",
        "\n",
        "Python에는 다른 프로그래밍 언어들처럼 문자열 조작을 위한 다양한 기능이 있습니다."
      ]
    },
    {
      "cell_type": "code",
      "metadata": {
        "id": "8oheqTUTo6O4",
        "colab": {
          "base_uri": "https://localhost:8080/"
        },
        "outputId": "bd600f04-0276-4d3e-fd69-11776a6b7ddc"
      },
      "source": [
        "# 변수에 문자열 저장\n",
        "test_word = \"hello world to everyone\"\n",
        "\n",
        "# test_word 값 인쇄\n",
        "print(test_word)\n",
        "\n",
        "# []를 사용하여 문자열의 문자에 액세스합니다. 첫 번째 문자는 '0'으로 표시됩니다.\n",
        "print(test_word[0])\n",
        "\n",
        "# len() 함수를 사용하여 문자열의 길이를 찾습니다.\n",
        "print(len(test_word))\n",
        "\n",
        "# 문자열에서 찾기를 보여주는 몇 가지 예제\n",
        "print(test_word.count('l')) # 문자열에서 I가 반복되는 횟수 계산\n",
        "print(test_word.find(\"o\")) # 문자열에서 글자 'o'를 찾습니다. 첫 번째로 일치한 위치를 반환합니다.\n",
        "print(test_word.count(' ')) # 문자열에서 공백 수를 계산\n",
        "print(test_word.upper()) # 문자열을 대문자로 변경\n",
        "print(test_word.lower()) # 문자열을 소문자로 변경\n",
        "print(test_word.replace(\"everyone\",\"you\")) # \"everyone\"이라는 단어를 \"you\"로 대체\n",
        "print(test_word.title()) # 문자열을 제목 형식으로 변경\n",
        "print(test_word + \"!!!\") # 문자열을 연결\n",
        "print(\":\".join(test_word)) # 각 글자 사이에 \":\" 추가\n",
        "print(\"\".join(reversed(test_word))) # 문자열을 반전시키기 "
      ],
      "execution_count": null,
      "outputs": [
        {
          "output_type": "stream",
          "text": [
            "hello world to everyone\n",
            "h\n",
            "23\n",
            "3\n",
            "4\n",
            "3\n",
            "HELLO WORLD TO EVERYONE\n",
            "hello world to everyone\n",
            "hello world to you\n",
            "Hello World To Everyone\n",
            "hello world to everyone!!!\n",
            "h:e:l:l:o: :w:o:r:l:d: :t:o: :e:v:e:r:y:o:n:e\n",
            "enoyreve ot dlrow olleh\n"
          ],
          "name": "stdout"
        }
      ]
    },
    {
      "cell_type": "code",
      "metadata": {
        "colab": {
          "base_uri": "https://localhost:8080/"
        },
        "id": "MZsgIZ5fW-qB",
        "outputId": "fd1e6340-ffc2-4ee6-9720-eeabe5fc4e0a"
      },
      "source": [
        "print(test_word)"
      ],
      "execution_count": null,
      "outputs": [
        {
          "output_type": "stream",
          "text": [
            "hello world to everyone\n"
          ],
          "name": "stdout"
        }
      ]
    },
    {
      "cell_type": "markdown",
      "metadata": {
        "id": "oh4DL1S2o6O4"
      },
      "source": [
        "<a id='section5'></a>\n",
        "\n",
        "## 5. 리스트, 튜플 및 사전\n",
        "\n",
        "Python은 리스트, 튜플, 사전 및 배열과 같은 데이터 유형을 지원합니다."
      ]
    },
    {
      "cell_type": "code",
      "metadata": {
        "id": "qjujBVUVo6O5"
      },
      "source": [
        "# Python 리스트는 배열과 비슷합니다. 빈 리스트도 생성할 수 있습니다.\n",
        "\n",
        "my_list = []\n",
        "\n",
        "first_list = [3, 5, 7, 10]\n",
        "second_list = [1, 'python', 3]"
      ],
      "execution_count": 1,
      "outputs": []
    },
    {
      "cell_type": "markdown",
      "metadata": {
        "id": "ezEBOxXjo6O4"
      },
      "source": [
        "### 리스트\n",
        "\n",
        "모든 항목(요소)을 대괄호 \\[ ] 안에 쉼표로 구분하여 배치하면 리스트가 생성됩니다. 리스트에는 여러 항목이 포함될 수 있으며, 다양한 유형(정수, 부동 소수점, 문자열 등)이 될 수 있습니다."
      ]
    },
    {
      "cell_type": "code",
      "metadata": {
        "id": "vNCbxsnno6O5",
        "colab": {
          "base_uri": "https://localhost:8080/"
        },
        "outputId": "06d52ce3-b8a1-4722-ba75-34d5f0dba907"
      },
      "source": [
        "# 여러 리스트 중첩\n",
        "nested_list = [first_list, second_list]\n",
        "nested_list"
      ],
      "execution_count": 2,
      "outputs": [
        {
          "output_type": "execute_result",
          "data": {
            "text/plain": [
              "[[3, 5, 7, 10], [1, 'python', 3]]"
            ]
          },
          "metadata": {
            "tags": []
          },
          "execution_count": 2
        }
      ]
    },
    {
      "cell_type": "code",
      "metadata": {
        "id": "9K6G2B9_o6O5",
        "colab": {
          "base_uri": "https://localhost:8080/"
        },
        "outputId": "687386a0-3b38-4930-defb-c44d984351b6"
      },
      "source": [
        "# 여러 리스트 결합\n",
        "combined_list = first_list + second_list\n",
        "combined_list"
      ],
      "execution_count": 3,
      "outputs": [
        {
          "output_type": "execute_result",
          "data": {
            "text/plain": [
              "[3, 5, 7, 10, 1, 'python', 3]"
            ]
          },
          "metadata": {
            "tags": []
          },
          "execution_count": 3
        }
      ]
    },
    {
      "cell_type": "code",
      "metadata": {
        "id": "m_xomtoOo6O5",
        "colab": {
          "base_uri": "https://localhost:8080/"
        },
        "outputId": "7e4778d0-1d73-4520-9811-4d0288eb2fc0"
      },
      "source": [
        "# 문자열과 마찬가지로 리스트도 분할 가능\n",
        "combined_list[0:3]"
      ],
      "execution_count": 4,
      "outputs": [
        {
          "output_type": "execute_result",
          "data": {
            "text/plain": [
              "[3, 5, 7]"
            ]
          },
          "metadata": {
            "tags": []
          },
          "execution_count": 4
        }
      ]
    },
    {
      "cell_type": "code",
      "metadata": {
        "id": "NLdo1xKpo6O5",
        "colab": {
          "base_uri": "https://localhost:8080/"
        },
        "outputId": "6a2bf399-4e08-40a0-87f8-0ae992f1ee00"
      },
      "source": [
        "# 리스트에 새 항목 추가\n",
        "combined_list.append(600)\n",
        "combined_list"
      ],
      "execution_count": 5,
      "outputs": [
        {
          "output_type": "execute_result",
          "data": {
            "text/plain": [
              "[3, 5, 7, 10, 1, 'python', 3, 600]"
            ]
          },
          "metadata": {
            "tags": []
          },
          "execution_count": 5
        }
      ]
    },
    {
      "cell_type": "code",
      "metadata": {
        "id": "fUN4RZ6mo6O5",
        "colab": {
          "base_uri": "https://localhost:8080/"
        },
        "outputId": "d95ff72d-d82e-4489-e95a-87724a4b49f5"
      },
      "source": [
        "# 리스트에서 마지막 항목 제거\n",
        "combined_list.pop()"
      ],
      "execution_count": 6,
      "outputs": [
        {
          "output_type": "execute_result",
          "data": {
            "text/plain": [
              "600"
            ]
          },
          "metadata": {
            "tags": []
          },
          "execution_count": 6
        }
      ]
    },
    {
      "cell_type": "code",
      "metadata": {
        "id": "JEYoYb6xo6O6"
      },
      "source": [
        "# 리스트 반복\n",
        " "
      ],
      "execution_count": 13,
      "outputs": []
    },
    {
      "cell_type": "code",
      "metadata": {
        "colab": {
          "base_uri": "https://localhost:8080/"
        },
        "id": "mzcOv5q5bsIY",
        "outputId": "ff5b8580-22d2-4083-8c04-105f22fb438f"
      },
      "source": [
        "print(item)\r\n",
        "print(combined_list)"
      ],
      "execution_count": 8,
      "outputs": [
        {
          "output_type": "stream",
          "text": [
            "3\n",
            "[3, 5, 7, 10, 1, 'python', 3]\n"
          ],
          "name": "stdout"
        }
      ]
    },
    {
      "cell_type": "markdown",
      "metadata": {
        "id": "9syF96x5o6O6"
      },
      "source": [
        "### 튜플\n",
        "\n",
        "튜플은 리스트와 유사하지만 대괄호 대신 괄호()와 함께 사용합니다. 가장 큰 차이점은 튜플은 변경 불가능하지만 리스트는 변경 가능하다는 것입니다."
      ]
    },
    {
      "cell_type": "code",
      "metadata": {
        "id": "iIhevMYFo6O6",
        "colab": {
          "base_uri": "https://localhost:8080/"
        },
        "outputId": "c90dae8f-4ccc-41c0-9b9c-8ea2c499c8ea"
      },
      "source": [
        "my_tuple = (1, 2, 3, 4, 5)\n",
        "my_tuple[1:4]"
      ],
      "execution_count": 14,
      "outputs": [
        {
          "output_type": "execute_result",
          "data": {
            "text/plain": [
              "(2, 3, 4)"
            ]
          },
          "metadata": {
            "tags": []
          },
          "execution_count": 14
        }
      ]
    },
    {
      "cell_type": "markdown",
      "metadata": {
        "id": "LiK4xE8yo6O6"
      },
      "source": [
        "### 딕셔너리\n",
        "\n",
        "딕셔너리는 연관 배열이라고도 합니다. 딕셔너리는 키–값 페어 모음으로 구성됩니다. 각 키–값 페어는 키를 연결된 값에 매핑합니다."
      ]
    },
    {
      "cell_type": "code",
      "metadata": {
        "id": "rSx8allSo6O6",
        "colab": {
          "base_uri": "https://localhost:8080/"
        },
        "outputId": "eaba0cb5-fafe-4942-f220-9c535a5a0396"
      },
      "source": [
        "desk_location = {'jack': 123, 'joe': 234, 'hary': 543}\n",
        "desk_location['jack']"
      ],
      "execution_count": 10,
      "outputs": [
        {
          "output_type": "execute_result",
          "data": {
            "text/plain": [
              "123"
            ]
          },
          "metadata": {
            "tags": []
          },
          "execution_count": 10
        }
      ]
    },
    {
      "cell_type": "markdown",
      "metadata": {
        "id": "7OCta5DOo6O6"
      },
      "source": [
        "<a id='section6'></a>\n",
        "\n",
        "## 6. JSON \n",
        "\n",
        "JSON은 JavaScript Object Notation으로 작성된 텍스트입니다. Python에는 JSON 데이터 작업에 사용할 수 있는 `json`이라는 기본 제공 패키지가 있습니다."
      ]
    },
    {
      "cell_type": "code",
      "metadata": {
        "id": "_Uw9RrjSo6O7"
      },
      "source": [
        "import json\n",
        "\n",
        "# JSON 데이터 샘플\n",
        "x = '{\"first_name\":\"Jane\", \"last_name\":\"Doe\", \"age\":25, \"city\":\"Chicago\"}'\n",
        "\n",
        "# JSON 데이터 읽기\n",
        "y = json.loads(x)\n",
        "\n",
        "# 사전과 유사한 출력 인쇄\n",
        "print(\"Employee name is \"+ y[\"first_name\"] + \" \" + y[\"last_name\"])"
      ],
      "execution_count": null,
      "outputs": []
    },
    {
      "cell_type": "markdown",
      "metadata": {
        "id": "0JkhFeVco6O7"
      },
      "source": [
        "<a id='section7'></a>\n",
        "\n",
        "## 7. 루프\n",
        "**If, Else, ElIf 루프**: Python은 다른 프로그래밍 언어와 마찬가지로 조건문을 지원합니다. Python은 들여쓰기(줄 시작 부분의 공백)를 사용하여 코드의 범위를 정의합니다. "
      ]
    },
    {
      "cell_type": "code",
      "metadata": {
        "id": "yF7GV0qfo6O7"
      },
      "source": [
        "a = 22\n",
        "b = 33\n",
        "c = 100\n",
        "\n",
        "# if ... else example\n",
        "if a > b:\n",
        "    print(\"a is greater than b\")\n",
        "else:\n",
        "    print(\"b is greater than a\")\n",
        "    \n",
        "    \n",
        "# if .. else .. elif example\n",
        "\n",
        "if a > b:\n",
        "    print(\"a is greater than b\")\n",
        "elif b > c:\n",
        "    print(\"b is greater than c\")\n",
        "else:\n",
        "    print(\"b is greater than a and c is greater than b\")"
      ],
      "execution_count": null,
      "outputs": []
    },
    {
      "cell_type": "markdown",
      "metadata": {
        "id": "WcoABI1Co6O7"
      },
      "source": [
        "**While 루프:** 조건이 true인 경우 일련의 문을 실행합니다."
      ]
    },
    {
      "cell_type": "code",
      "metadata": {
        "id": "3W7q7uKdo6O7"
      },
      "source": [
        "# while 예제 샘플\n",
        "i = 1\n",
        "while i < 10:\n",
        "    print(\"count is \" + str(i))\n",
        "    i += 1\n",
        "\n",
        "print(\"=\"*10)\n",
        "\n",
        "# x가 2인 경우 다음 반복으로 계속 진행합니다. 마지막으로 조건이 false이면 메시지를 인쇄합니다.\n",
        "\n",
        "x = 0\n",
        "while x < 5:\n",
        "    x += 1\n",
        "    if x == 2:\n",
        "        continue\n",
        "    print(x)\n",
        "else:\n",
        "    print(\"x is no longer less than 5\")"
      ],
      "execution_count": null,
      "outputs": []
    },
    {
      "cell_type": "markdown",
      "metadata": {
        "id": "F197V8mxo6O7"
      },
      "source": [
        "**For 루프:** '`For` 루프는 Python의 반복기와 비슷합니다. `For` 루프는 시퀀스(리스트, 튜플, 사전, 세트, 문자열 또는 범위)를 반복하는 데 사용됩니다."
      ]
    },
    {
      "cell_type": "code",
      "metadata": {
        "id": "34zxhTnBo6O8"
      },
      "source": [
        "# 루프 예제 샘플\n",
        "fruits = [\"orange\", \"banana\", \"apple\", \"grape\", \"cherry\"]\n",
        "for fruit in fruits:\n",
        "    print(fruit)\n",
        "\n",
        "print(\"\\n\")\n",
        "print(\"=\"*10)\n",
        "print(\"\\n\")\n",
        "\n",
        "# 범위 반복\n",
        "for x in range(1, 10, 2):\n",
        "    print(x)\n",
        "else:\n",
        "    print(\"task complete\")\n",
        "\n",
        "print(\"\\n\")\n",
        "print(\"=\"*10)\n",
        "print(\"\\n\")\n",
        "\n",
        "# 여러 리스트 반복\n",
        "traffic_lights = [\"red\", \"yellow\", \"green\"]\n",
        "action = [\"stop\", \"slow down\", \"go\"]\n",
        "\n",
        "for light in traffic_lights:\n",
        "    for task in action:\n",
        "        print(light, task)"
      ],
      "execution_count": null,
      "outputs": []
    },
    {
      "cell_type": "markdown",
      "metadata": {
        "id": "ou1v68aHo6O8"
      },
      "source": [
        "<a id='section8'></a>\n",
        "\n",
        "## 8. 파일 처리\n",
        "Python에서 파일 작업을 위한 핵심 함수는 `open()` 함수입니다. `open()` 함수는 파일 이름과 모드라는 두 가지 파라미터를 사용합니다.\n",
        "\n",
        "파일을 여는 메서드(모드)는 다음과 같이 네 가지가 있습니다.\n",
        "\n",
        "- \"r\" – 읽기\n",
        "- \"a\" – 추가\n",
        "- \"w\" – 쓰기\n",
        "- \"x\" – 생성\n",
        "\n",
        "또한 파일을 이진 또는 텍스트 모드로 처리할지 여부를 지정할 수 있습니다.\n",
        "\n",
        "- \"t\" – 텍스트\n",
        "- \"b\" – 이진"
      ]
    },
    {
      "cell_type": "code",
      "metadata": {
        "id": "10XZQW9-o6O8"
      },
      "source": [
        "# 검정 텍스트 파일을 생성하겠습니다.\n",
        "!echo \"This is a test file with text in it. This is the first line.\" > test.txt\n",
        "!echo \"This is the second line.\" >> test.txt\n",
        "!echo \"This is the third line.\" >> test.txt"
      ],
      "execution_count": null,
      "outputs": []
    },
    {
      "cell_type": "code",
      "metadata": {
        "id": "Bvp6qsA0o6O8"
      },
      "source": [
        "# 파일 읽기\n",
        "file = open('test.txt', 'r')\n",
        "print(file.read())\n",
        "file.close()\n",
        "\n",
        "print(\"\\n\")\n",
        "print(\"=\"*10)\n",
        "print(\"\\n\")\n",
        "\n",
        "# 파일의 처음 10자 읽기\n",
        "file = open('test.txt', 'r')\n",
        "print(file.read(10))\n",
        "file.close()\n",
        "\n",
        "print(\"\\n\")\n",
        "print(\"=\"*10)\n",
        "print(\"\\n\")\n",
        "\n",
        "# 파일에서 줄 읽기\n",
        "\n",
        "file = open('test.txt', 'r')\n",
        "print(file.readline())\n",
        "file.close()"
      ],
      "execution_count": null,
      "outputs": []
    },
    {
      "cell_type": "code",
      "metadata": {
        "id": "egPb9i6ao6O8"
      },
      "source": [
        "# 새로운 파일 생성\n",
        "\n",
        "file = open('test2.txt', 'w')\n",
        "file.write(\"This is content in the new test2 file.\")\n",
        "file.close()\n",
        "\n",
        "# 새로운 파일의 콘텐츠 읽기\n",
        "file = open('test2.txt', 'r')\n",
        "print(file.read())\n",
        "file.close()"
      ],
      "execution_count": null,
      "outputs": []
    },
    {
      "cell_type": "code",
      "metadata": {
        "id": "qdN5YbUzo6O8"
      },
      "source": [
        "# 파일 업데이트\n",
        "file = open('test2.txt', 'a')\n",
        "file.write(\"\\nThis is additional content in the new file.\")\n",
        "file.close()\n",
        "\n",
        "# 새로운 파일의 콘텐츠 읽기\n",
        "file = open('test2.txt', 'r')\n",
        "print(file.read())\n",
        "file.close()"
      ],
      "execution_count": null,
      "outputs": []
    },
    {
      "cell_type": "code",
      "metadata": {
        "id": "okInO2Glo6O9"
      },
      "source": [
        "# 파일 삭제\n",
        "import os\n",
        "file_names = [\"test.txt\", \"test2.txt\"]\n",
        "for item in file_names:\n",
        "    if os.path.exists(item):\n",
        "        os.remove(item)\n",
        "        print(f\"File {item} removed successfully!\")\n",
        "    else:\n",
        "        print(f\"{item} file does not exist.\")"
      ],
      "execution_count": null,
      "outputs": []
    },
    {
      "cell_type": "markdown",
      "metadata": {
        "id": "29T3AFjYo6O9"
      },
      "source": [
        "<a id='section9'></a>\n",
        "\n",
        "## 9. 함수\n",
        "\n",
        "함수는 호출될 때 실행되는 코드 블록입니다. 데이터 또는 *파라미터*를 함수에 전달할 수 있습니다. Python에서 함수는 `def`로 정의됩니다."
      ]
    },
    {
      "cell_type": "code",
      "metadata": {
        "id": "5ng2ZQeMo6O9"
      },
      "source": [
        "# 함수 정의\n",
        "\n",
        "\n",
        "# 함수 호출\n"
      ],
      "execution_count": null,
      "outputs": []
    },
    {
      "cell_type": "code",
      "metadata": {
        "id": "V0TgtcmBo6O9"
      },
      "source": [
        "# 파라미터를 사용한 함수 샘플\n",
        "\n",
        "def param_funct(first_name):\n",
        "    print(f\"Employee name is {first_name}.\")\n",
        "\n",
        "param_funct(\"Harry\")\n",
        "param_funct(\"Larry\")\n",
        "param_funct(\"Shally\")"
      ],
      "execution_count": null,
      "outputs": []
    },
    {
      "cell_type": "markdown",
      "metadata": {
        "id": "D_uO5cs0o6O9"
      },
      "source": [
        "**익명 함수(lambda):** Lambda는 작은 익명 함수입니다. Lambda 함수는 여러 개의 인수를 사용할 수 있지만 식은 하나만 사용할 수 있습니다."
      ]
    },
    {
      "cell_type": "code",
      "metadata": {
        "id": "CpFmbJ3Eo6O9"
      },
      "source": [
        "# Lambda 예제 샘플\n",
        "x = lambda y: y + 100\n",
        "print(x(15))\n",
        "\n",
        "print(\"\\n\")\n",
        "print(\"=\"*10)\n",
        "print(\"\\n\")\n",
        "\n",
        "x = lambda a, b: a*b/100\n",
        "print(x(2,4))"
      ],
      "execution_count": null,
      "outputs": []
    },
    {
      "cell_type": "markdown",
      "metadata": {
        "id": "DrFT70-Po6O-"
      },
      "source": [
        "<a id='section10'></a>\n",
        "\n",
        "## 10. datetime 작업 \n",
        "\n",
        "Python의 `datetime` 모듈은 날짜 객체 작업에 사용할 수 있습니다."
      ]
    },
    {
      "cell_type": "code",
      "metadata": {
        "id": "bbtpMJUfo6O-"
      },
      "source": [
        "import datetime\n",
        "\n",
        "x = datetime.datetime.now()\n",
        "\n",
        "print(x)\n",
        "print(x.year)\n",
        "print(x.strftime(\"%A\"))\n",
        "print(x.strftime(\"%B\"))\n",
        "print(x.strftime(\"%d\"))\n",
        "print(x.strftime(\"%H:%M:%S %p\"))"
      ],
      "execution_count": null,
      "outputs": []
    },
    {
      "cell_type": "markdown",
      "metadata": {
        "id": "sJpvofXno6PA"
      },
      "source": [
        "<a id='section11'></a>\n",
        "\n",
        "## 11. NumPy\n",
        "\n",
        "NumPy는 Python을 사용한 과학 컴퓨팅의 기본 패키지입니다. 무엇보다 여기에는 다음이 포함됩니다.\n",
        "\n",
        "- 강력한 N차원 배열 객체\n",
        "- 정교한(브로드캐스팅) 함수\n",
        "- C/C++ 및 Fortran 코드를 통합할 수 있는 도구\n",
        "- 유용한 선형 대수, 푸리에 변환 및 난수 기능"
      ]
    },
    {
      "cell_type": "code",
      "metadata": {
        "id": "AkCgsq_Mo6PB",
        "colab": {
          "base_uri": "https://localhost:8080/"
        },
        "outputId": "5a5d51e4-a8c2-4931-c41d-b65725c2dcb4"
      },
      "source": [
        "# pip를 사용하여 NumPy 설치\n",
        "!pip install numpy"
      ],
      "execution_count": null,
      "outputs": [
        {
          "output_type": "stream",
          "text": [
            "Requirement already satisfied: numpy in /usr/local/lib/python3.7/dist-packages (1.19.5)\n"
          ],
          "name": "stdout"
        }
      ]
    },
    {
      "cell_type": "code",
      "metadata": {
        "id": "lye50vYko6PB"
      },
      "source": [
        "# NumPy 모듈 가져오기\n",
        "import numpy as np"
      ],
      "execution_count": null,
      "outputs": []
    },
    {
      "cell_type": "code",
      "metadata": {
        "id": "_BeGNFV0clAD"
      },
      "source": [
        ""
      ],
      "execution_count": null,
      "outputs": []
    },
    {
      "cell_type": "markdown",
      "metadata": {
        "id": "B8-r0-9co6PB"
      },
      "source": [
        "### 배열 검사"
      ]
    },
    {
      "cell_type": "code",
      "metadata": {
        "id": "yj9EAvK5o6PB",
        "colab": {
          "base_uri": "https://localhost:8080/"
        },
        "outputId": "a73199a1-f3ac-4ce6-d498-14e199a95171"
      },
      "source": [
        "# 배열 생성\n",
        " # 0~14 범위의 배열을 3x5 차원으로 생성\n",
        "# 0으로 배열 생성\n",
        "# 1로 배열 생성 및 데이터 유형 정의\n",
        "((3,5))"
      ],
      "execution_count": 16,
      "outputs": [
        {
          "output_type": "execute_result",
          "data": {
            "text/plain": [
              "(3, 5)"
            ]
          },
          "metadata": {
            "tags": []
          },
          "execution_count": 16
        }
      ]
    },
    {
      "cell_type": "code",
      "metadata": {
        "id": "zHH3H3Oko6PC"
      },
      "source": [
        " # 배열 차원"
      ],
      "execution_count": null,
      "outputs": []
    },
    {
      "cell_type": "code",
      "metadata": {
        "id": "3MVSiInNo6PC"
      },
      "source": [
        " # 배열 길이"
      ],
      "execution_count": null,
      "outputs": []
    },
    {
      "cell_type": "code",
      "metadata": {
        "id": "FGQrd-Uto6PC"
      },
      "source": [
        " # 배열 차원 수"
      ],
      "execution_count": null,
      "outputs": []
    },
    {
      "cell_type": "code",
      "metadata": {
        "id": "Fo6ijh2jo6PC"
      },
      "source": [
        "# 배열 요소의 수"
      ],
      "execution_count": null,
      "outputs": []
    },
    {
      "cell_type": "code",
      "metadata": {
        "id": "RdAWZZV7o6PC"
      },
      "source": [
        " # 배열 요소의 데이터 형식"
      ],
      "execution_count": null,
      "outputs": []
    },
    {
      "cell_type": "code",
      "metadata": {
        "id": "at4JRV3Co6PC"
      },
      "source": [
        "# 데이터 유형 이름"
      ],
      "execution_count": null,
      "outputs": []
    },
    {
      "cell_type": "code",
      "metadata": {
        "id": "H8kn_wLxo6PC"
      },
      "source": [
        "# 배열 유형을 다른 유형으로 변환"
      ],
      "execution_count": null,
      "outputs": []
    },
    {
      "cell_type": "markdown",
      "metadata": {
        "id": "gQ7pGeLto6PC"
      },
      "source": [
        "### 기본 수학 연산"
      ]
    },
    {
      "cell_type": "code",
      "metadata": {
        "id": "HtELnbiCo6PD",
        "colab": {
          "base_uri": "https://localhost:8080/"
        },
        "outputId": "c20cdff3-cab5-4447-d4c4-49dc98690fa3"
      },
      "source": [
        "# 배열 생성\n",
        "# 0~14 범위의 배열을 3x5 차원으로 생성\n",
        "# 0으로 배열 생성\n",
        " # 1로 배열 생성 및 데이터 유형 정의\n"
      ],
      "execution_count": 15,
      "outputs": [
        {
          "output_type": "execute_result",
          "data": {
            "text/plain": [
              "(3, 5)"
            ]
          },
          "metadata": {
            "tags": []
          },
          "execution_count": 15
        }
      ]
    },
    {
      "cell_type": "code",
      "metadata": {
        "id": "I5Vpyfzlo6PD"
      },
      "source": [
        " # 더하기"
      ],
      "execution_count": null,
      "outputs": []
    },
    {
      "cell_type": "code",
      "metadata": {
        "id": "A0WVEEf-o6PD"
      },
      "source": [
        " # 빼기"
      ],
      "execution_count": null,
      "outputs": []
    },
    {
      "cell_type": "code",
      "metadata": {
        "id": "CoMRPXu7o6PD"
      },
      "source": [
        "# 나누기"
      ],
      "execution_count": null,
      "outputs": []
    },
    {
      "cell_type": "code",
      "metadata": {
        "id": "IUtUhQY7o6PD"
      },
      "source": [
        "# 곱하기"
      ],
      "execution_count": 19,
      "outputs": []
    },
    {
      "cell_type": "code",
      "metadata": {
        "id": "3yuFlFn2o6PD"
      },
      "source": [
        "# 비교 - 배열별"
      ],
      "execution_count": null,
      "outputs": []
    },
    {
      "cell_type": "markdown",
      "metadata": {
        "id": "1W-dgL4wo6PD"
      },
      "source": [
        "### 집계 함수"
      ]
    },
    {
      "cell_type": "code",
      "metadata": {
        "id": "9x6Eu2BUo6PE",
        "colab": {
          "base_uri": "https://localhost:8080/",
          "height": 242
        },
        "outputId": "968016ea-9020-41a9-f3e4-7fdc89e45926"
      },
      "source": [
        "# 배열 생성\n",
        "# 0~14 범위의 배열을 3x5 차원으로 생성\n",
        "# zeros로 배열 생성\n",
        "# ones로 배열 생성 및 데이터 유형 정의\n"
      ],
      "execution_count": 17,
      "outputs": [
        {
          "output_type": "error",
          "ename": "NameError",
          "evalue": "ignored",
          "traceback": [
            "\u001b[0;31m---------------------------------------------------------------------------\u001b[0m",
            "\u001b[0;31mNameError\u001b[0m                                 Traceback (most recent call last)",
            "\u001b[0;32m<ipython-input-17-747a61985727>\u001b[0m in \u001b[0;36m<module>\u001b[0;34m()\u001b[0m\n\u001b[1;32m      1\u001b[0m \u001b[0;31m# 배열 생성\u001b[0m\u001b[0;34m\u001b[0m\u001b[0;34m\u001b[0m\u001b[0;34m\u001b[0m\u001b[0m\n\u001b[0;32m----> 2\u001b[0;31m \u001b[0ma\u001b[0m \u001b[0;34m=\u001b[0m \u001b[0mnp\u001b[0m\u001b[0;34m.\u001b[0m\u001b[0marange\u001b[0m\u001b[0;34m(\u001b[0m\u001b[0;36m15\u001b[0m\u001b[0;34m)\u001b[0m\u001b[0;34m.\u001b[0m\u001b[0mreshape\u001b[0m\u001b[0;34m(\u001b[0m\u001b[0;36m3\u001b[0m\u001b[0;34m,\u001b[0m \u001b[0;36m5\u001b[0m\u001b[0;34m)\u001b[0m \u001b[0;31m# 0~14 범위의 배열을 3x5 차원으로 생성\u001b[0m\u001b[0;34m\u001b[0m\u001b[0;34m\u001b[0m\u001b[0m\n\u001b[0m\u001b[1;32m      3\u001b[0m \u001b[0mb\u001b[0m \u001b[0;34m=\u001b[0m \u001b[0mnp\u001b[0m\u001b[0;34m.\u001b[0m\u001b[0mzeros\u001b[0m\u001b[0;34m(\u001b[0m\u001b[0;34m(\u001b[0m\u001b[0;36m3\u001b[0m\u001b[0;34m,\u001b[0m\u001b[0;36m5\u001b[0m\u001b[0;34m)\u001b[0m\u001b[0;34m)\u001b[0m \u001b[0;31m# zeros로 배열 생성\u001b[0m\u001b[0;34m\u001b[0m\u001b[0;34m\u001b[0m\u001b[0m\n\u001b[1;32m      4\u001b[0m \u001b[0mc\u001b[0m \u001b[0;34m=\u001b[0m \u001b[0mnp\u001b[0m\u001b[0;34m.\u001b[0m\u001b[0mones\u001b[0m\u001b[0;34m(\u001b[0m \u001b[0;34m(\u001b[0m\u001b[0;36m2\u001b[0m\u001b[0;34m,\u001b[0m\u001b[0;36m3\u001b[0m\u001b[0;34m,\u001b[0m\u001b[0;36m4\u001b[0m\u001b[0;34m)\u001b[0m\u001b[0;34m,\u001b[0m \u001b[0mdtype\u001b[0m\u001b[0;34m=\u001b[0m\u001b[0mnp\u001b[0m\u001b[0;34m.\u001b[0m\u001b[0mint16\u001b[0m \u001b[0;34m)\u001b[0m \u001b[0;31m# ones로 배열 생성 및 데이터 유형 정의\u001b[0m\u001b[0;34m\u001b[0m\u001b[0;34m\u001b[0m\u001b[0m\n\u001b[1;32m      5\u001b[0m \u001b[0md\u001b[0m \u001b[0;34m=\u001b[0m \u001b[0mnp\u001b[0m\u001b[0;34m.\u001b[0m\u001b[0mones\u001b[0m\u001b[0;34m(\u001b[0m\u001b[0;34m(\u001b[0m\u001b[0;36m3\u001b[0m\u001b[0;34m,\u001b[0m\u001b[0;36m5\u001b[0m\u001b[0;34m)\u001b[0m\u001b[0;34m)\u001b[0m\u001b[0;34m\u001b[0m\u001b[0;34m\u001b[0m\u001b[0m\n",
            "\u001b[0;31mNameError\u001b[0m: name 'np' is not defined"
          ]
        }
      ]
    },
    {
      "cell_type": "code",
      "metadata": {
        "id": "zsRsUqe4o6PE",
        "colab": {
          "base_uri": "https://localhost:8080/",
          "height": 170
        },
        "outputId": "d28dbfcd-8600-4bff-e88f-6a3a2257e826"
      },
      "source": [
        " # 배열별 합계"
      ],
      "execution_count": 18,
      "outputs": [
        {
          "output_type": "error",
          "ename": "AttributeError",
          "evalue": "ignored",
          "traceback": [
            "\u001b[0;31m---------------------------------------------------------------------------\u001b[0m",
            "\u001b[0;31mAttributeError\u001b[0m                            Traceback (most recent call last)",
            "\u001b[0;32m<ipython-input-18-05c02d9b15a3>\u001b[0m in \u001b[0;36m<module>\u001b[0;34m()\u001b[0m\n\u001b[0;32m----> 1\u001b[0;31m \u001b[0ma\u001b[0m\u001b[0;34m.\u001b[0m\u001b[0msum\u001b[0m\u001b[0;34m(\u001b[0m\u001b[0;34m)\u001b[0m \u001b[0;31m# 배열별 합계\u001b[0m\u001b[0;34m\u001b[0m\u001b[0;34m\u001b[0m\u001b[0m\n\u001b[0m",
            "\u001b[0;31mAttributeError\u001b[0m: 'int' object has no attribute 'sum'"
          ]
        }
      ]
    },
    {
      "cell_type": "code",
      "metadata": {
        "id": "zGh7UPdWo6PE"
      },
      "source": [
        "# 배열별 최소값"
      ],
      "execution_count": null,
      "outputs": []
    },
    {
      "cell_type": "code",
      "metadata": {
        "id": "oKVynHZjo6PE"
      },
      "source": [
        "# 배열별 평균"
      ],
      "execution_count": null,
      "outputs": []
    },
    {
      "cell_type": "code",
      "metadata": {
        "id": "BlXlXWRdo6PE"
      },
      "source": [
        " # 배열 행의 최대값"
      ],
      "execution_count": null,
      "outputs": []
    },
    {
      "cell_type": "code",
      "metadata": {
        "id": "AGQ3tFl-o6PF"
      },
      "source": [
        "# 표준 편차"
      ],
      "execution_count": null,
      "outputs": []
    },
    {
      "cell_type": "markdown",
      "metadata": {
        "id": "5FUqj9mko6PF"
      },
      "source": [
        "### 하위 설정, 조각화 및 인덱싱"
      ]
    },
    {
      "cell_type": "code",
      "metadata": {
        "id": "B3HBKBlMo6PF"
      },
      "source": [
        "# 배열 생성\n",
        "# 0~14 범위의 배열을 3x5 차원으로 생성\n",
        "# zeros로 배열 생성\n",
        "# ones로 배열 생성 및 데이터 유형 정의\n"
      ],
      "execution_count": null,
      "outputs": []
    },
    {
      "cell_type": "code",
      "metadata": {
        "id": "Goo2Aduuo6PF"
      },
      "source": [
        " # 행 1과 열 2의 요소 선택"
      ],
      "execution_count": null,
      "outputs": []
    },
    {
      "cell_type": "code",
      "metadata": {
        "id": "oLjgwnb9o6PF"
      },
      "source": [
        " # 인덱스 0과 1에서 항목 선택"
      ],
      "execution_count": null,
      "outputs": []
    },
    {
      "cell_type": "code",
      "metadata": {
        "id": "wHOLMeJno6PF"
      },
      "source": [
        "# 행 0의 모든 항목 선택"
      ],
      "execution_count": null,
      "outputs": []
    },
    {
      "cell_type": "code",
      "metadata": {
        "id": "zG6QE0P-o6PG"
      },
      "source": [
        "# 마지막 행에서 모든 항목 선택"
      ],
      "execution_count": null,
      "outputs": []
    },
    {
      "cell_type": "code",
      "metadata": {
        "id": "sPO0nhXQo6PG"
      },
      "source": [
        " # 'a'에서 2보다 작은 요소 선택"
      ],
      "execution_count": null,
      "outputs": []
    },
    {
      "cell_type": "markdown",
      "metadata": {
        "id": "idqVU1Xvo6PG"
      },
      "source": [
        "### 배열 조작"
      ]
    },
    {
      "cell_type": "code",
      "metadata": {
        "id": "s_HnO8H5o6PG"
      },
      "source": [
        "# 배열 생성\n",
        "# 0~14 범위의 배열을 3x5 차원으로 생성\n",
        "# zeros로 배열 생성\n",
        "# ones로 배열 생성 및 데이터 유형 정의\n"
      ],
      "execution_count": null,
      "outputs": []
    },
    {
      "cell_type": "code",
      "metadata": {
        "id": "NHoHL8guo6PG"
      },
      "source": [
        "# 배열 'a' 바꾸기"
      ],
      "execution_count": null,
      "outputs": []
    },
    {
      "cell_type": "code",
      "metadata": {
        "id": "6cfBhqEYo6PG"
      },
      "source": [
        "# 배열 평면화"
      ],
      "execution_count": null,
      "outputs": []
    },
    {
      "cell_type": "code",
      "metadata": {
        "id": "-3ph8alZo6PH"
      },
      "source": [
        "# 형태를 변경하되 데이터는 변경하지 않음"
      ],
      "execution_count": null,
      "outputs": []
    },
    {
      "cell_type": "code",
      "metadata": {
        "id": "6IMzCRrTo6PH"
      },
      "source": [
        "# 항목을 배열에 추가"
      ],
      "execution_count": null,
      "outputs": []
    },
    {
      "cell_type": "code",
      "metadata": {
        "id": "cDqsQ0SLo6PH"
      },
      "source": [
        "# 배열 연결"
      ],
      "execution_count": null,
      "outputs": []
    },
    {
      "cell_type": "code",
      "metadata": {
        "id": "qEy2EJI2o6PH"
      },
      "source": [
        "# 3번째 인덱스에서 수직으로 배열 분할"
      ],
      "execution_count": null,
      "outputs": []
    },
    {
      "cell_type": "code",
      "metadata": {
        "id": "3BBed6uMo6PH"
      },
      "source": [
        "# 5번째 인덱스에서 수평으로 배열 분할"
      ],
      "execution_count": null,
      "outputs": []
    },
    {
      "cell_type": "markdown",
      "metadata": {
        "id": "k_KKqpSKo6PH"
      },
      "source": [
        "<a id='section12'></a>\n",
        "\n",
        "## Pandas\n",
        "\n",
        "Pandas는 Python 프로그래밍 언어를 위한 고성능의 사용이 간편한 데이터 구조와 데이터 분석 도구를 제공하는 BSD 라이선스 라이브러리로 오픈 소스입니다.\n",
        "\n",
        "Pandas DataFrames는 Python 내에서 가장 널리 사용되는 복잡한 데이터 모음의 인 메모리 표현입니다."
      ]
    },
    {
      "cell_type": "code",
      "metadata": {
        "id": "QERyc1zAo6PI",
        "colab": {
          "base_uri": "https://localhost:8080/"
        },
        "outputId": "be4f3bf5-3683-42d3-9e3b-ba7eba6a5b97"
      },
      "source": [
        "# pip를 사용하여 pandas, xlrd 및 openpyxl 설치\n",
        "!pip install pandas\n",
        "!pip install xlrd openpyxl"
      ],
      "execution_count": null,
      "outputs": [
        {
          "output_type": "stream",
          "text": [
            "Requirement already satisfied: pandas in /usr/local/lib/python3.7/dist-packages (1.1.5)\n",
            "Requirement already satisfied: pytz>=2017.2 in /usr/local/lib/python3.7/dist-packages (from pandas) (2018.9)\n",
            "Requirement already satisfied: numpy>=1.15.4 in /usr/local/lib/python3.7/dist-packages (from pandas) (1.19.5)\n",
            "Requirement already satisfied: python-dateutil>=2.7.3 in /usr/local/lib/python3.7/dist-packages (from pandas) (2.8.1)\n",
            "Requirement already satisfied: six>=1.5 in /usr/local/lib/python3.7/dist-packages (from python-dateutil>=2.7.3->pandas) (1.15.0)\n",
            "Requirement already satisfied: xlrd in /usr/local/lib/python3.7/dist-packages (1.1.0)\n",
            "Requirement already satisfied: openpyxl in /usr/local/lib/python3.7/dist-packages (2.5.9)\n",
            "Requirement already satisfied: jdcal in /usr/local/lib/python3.7/dist-packages (from openpyxl) (1.4.1)\n",
            "Requirement already satisfied: et-xmlfile in /usr/local/lib/python3.7/dist-packages (from openpyxl) (1.0.1)\n"
          ],
          "name": "stdout"
        }
      ]
    },
    {
      "cell_type": "code",
      "metadata": {
        "id": "IHnZHtoao6PI"
      },
      "source": [
        "# NumPy 및 Pandas 모듈 가져오기\n",
        "import numpy as np\n",
        "import pandas as pd"
      ],
      "execution_count": null,
      "outputs": []
    },
    {
      "cell_type": "code",
      "metadata": {
        "id": "mejaJciGo6PI",
        "colab": {
          "base_uri": "https://localhost:8080/",
          "height": 173
        },
        "outputId": "7e5113b2-6935-4530-ae4b-a627e125cab2"
      },
      "source": [
        "# dataframe df 샘플\n",
        "df = pd.DataFrame({'num_legs': [2, 4, np.nan, 0],\n",
        "                   'num_wings': [2, 0, 0, 0],\n",
        "                   'num_specimen_seen': [10, np.nan, 1, 8]},\n",
        "                   index=['falcon', 'dog', 'spider', 'fish'])\n",
        "df # dataframe df 표시"
      ],
      "execution_count": null,
      "outputs": [
        {
          "output_type": "execute_result",
          "data": {
            "text/html": [
              "<div>\n",
              "<style scoped>\n",
              "    .dataframe tbody tr th:only-of-type {\n",
              "        vertical-align: middle;\n",
              "    }\n",
              "\n",
              "    .dataframe tbody tr th {\n",
              "        vertical-align: top;\n",
              "    }\n",
              "\n",
              "    .dataframe thead th {\n",
              "        text-align: right;\n",
              "    }\n",
              "</style>\n",
              "<table border=\"1\" class=\"dataframe\">\n",
              "  <thead>\n",
              "    <tr style=\"text-align: right;\">\n",
              "      <th></th>\n",
              "      <th>num_legs</th>\n",
              "      <th>num_wings</th>\n",
              "      <th>num_specimen_seen</th>\n",
              "    </tr>\n",
              "  </thead>\n",
              "  <tbody>\n",
              "    <tr>\n",
              "      <th>falcon</th>\n",
              "      <td>2.0</td>\n",
              "      <td>2</td>\n",
              "      <td>10.0</td>\n",
              "    </tr>\n",
              "    <tr>\n",
              "      <th>dog</th>\n",
              "      <td>4.0</td>\n",
              "      <td>0</td>\n",
              "      <td>NaN</td>\n",
              "    </tr>\n",
              "    <tr>\n",
              "      <th>spider</th>\n",
              "      <td>NaN</td>\n",
              "      <td>0</td>\n",
              "      <td>1.0</td>\n",
              "    </tr>\n",
              "    <tr>\n",
              "      <th>fish</th>\n",
              "      <td>0.0</td>\n",
              "      <td>0</td>\n",
              "      <td>8.0</td>\n",
              "    </tr>\n",
              "  </tbody>\n",
              "</table>\n",
              "</div>"
            ],
            "text/plain": [
              "        num_legs  num_wings  num_specimen_seen\n",
              "falcon       2.0          2               10.0\n",
              "dog          4.0          0                NaN\n",
              "spider       NaN          0                1.0\n",
              "fish         0.0          0                8.0"
            ]
          },
          "metadata": {
            "tags": []
          },
          "execution_count": 39
        }
      ]
    },
    {
      "cell_type": "code",
      "metadata": {
        "id": "D7lWZS6No6PI",
        "colab": {
          "base_uri": "https://localhost:8080/",
          "height": 235
        },
        "outputId": "3056f855-d72b-4731-edc7-ebb38fa06d26"
      },
      "source": [
        "# 또 다른 dataframe df1 샘플 – datetime 인덱스 및 레이블이 지정된 열이 포함된 NumPy 배열 사용\n",
        "df1 = pd.date_range('20130101', periods=6)\n",
        "df1 = pd.DataFrame(np.random.randn(6, 4), index=df1, columns=list('ABCD'))\n",
        "df1 # dataframe df1 표시"
      ],
      "execution_count": null,
      "outputs": [
        {
          "output_type": "execute_result",
          "data": {
            "text/html": [
              "<div>\n",
              "<style scoped>\n",
              "    .dataframe tbody tr th:only-of-type {\n",
              "        vertical-align: middle;\n",
              "    }\n",
              "\n",
              "    .dataframe tbody tr th {\n",
              "        vertical-align: top;\n",
              "    }\n",
              "\n",
              "    .dataframe thead th {\n",
              "        text-align: right;\n",
              "    }\n",
              "</style>\n",
              "<table border=\"1\" class=\"dataframe\">\n",
              "  <thead>\n",
              "    <tr style=\"text-align: right;\">\n",
              "      <th></th>\n",
              "      <th>A</th>\n",
              "      <th>B</th>\n",
              "      <th>C</th>\n",
              "      <th>D</th>\n",
              "    </tr>\n",
              "  </thead>\n",
              "  <tbody>\n",
              "    <tr>\n",
              "      <th>2013-01-01</th>\n",
              "      <td>-0.069352</td>\n",
              "      <td>-0.238022</td>\n",
              "      <td>-0.633483</td>\n",
              "      <td>-1.801387</td>\n",
              "    </tr>\n",
              "    <tr>\n",
              "      <th>2013-01-02</th>\n",
              "      <td>-0.552343</td>\n",
              "      <td>-0.673864</td>\n",
              "      <td>1.325041</td>\n",
              "      <td>0.747855</td>\n",
              "    </tr>\n",
              "    <tr>\n",
              "      <th>2013-01-03</th>\n",
              "      <td>-1.484408</td>\n",
              "      <td>-0.474145</td>\n",
              "      <td>-0.192210</td>\n",
              "      <td>0.739584</td>\n",
              "    </tr>\n",
              "    <tr>\n",
              "      <th>2013-01-04</th>\n",
              "      <td>1.602488</td>\n",
              "      <td>1.300029</td>\n",
              "      <td>0.787278</td>\n",
              "      <td>1.731059</td>\n",
              "    </tr>\n",
              "    <tr>\n",
              "      <th>2013-01-05</th>\n",
              "      <td>-0.800662</td>\n",
              "      <td>-0.629526</td>\n",
              "      <td>0.379011</td>\n",
              "      <td>-0.402377</td>\n",
              "    </tr>\n",
              "    <tr>\n",
              "      <th>2013-01-06</th>\n",
              "      <td>-0.915916</td>\n",
              "      <td>0.028302</td>\n",
              "      <td>-1.077656</td>\n",
              "      <td>0.339479</td>\n",
              "    </tr>\n",
              "  </tbody>\n",
              "</table>\n",
              "</div>"
            ],
            "text/plain": [
              "                   A         B         C         D\n",
              "2013-01-01 -0.069352 -0.238022 -0.633483 -1.801387\n",
              "2013-01-02 -0.552343 -0.673864  1.325041  0.747855\n",
              "2013-01-03 -1.484408 -0.474145 -0.192210  0.739584\n",
              "2013-01-04  1.602488  1.300029  0.787278  1.731059\n",
              "2013-01-05 -0.800662 -0.629526  0.379011 -0.402377\n",
              "2013-01-06 -0.915916  0.028302 -1.077656  0.339479"
            ]
          },
          "metadata": {
            "tags": []
          },
          "execution_count": 38
        }
      ]
    },
    {
      "cell_type": "markdown",
      "metadata": {
        "id": "hwARplG6o6PI"
      },
      "source": [
        "### 데이터 보기"
      ]
    },
    {
      "cell_type": "code",
      "metadata": {
        "id": "lD8WD4Bxo6PI"
      },
      "source": [
        "df1 = pd.date_range('20130101', periods=6)\n",
        "df1 = pd.DataFrame(np.random.randn(6, 4), index=df1, columns=list('ABCD'))"
      ],
      "execution_count": null,
      "outputs": []
    },
    {
      "cell_type": "code",
      "metadata": {
        "id": "9ASSFeRbo6PI"
      },
      "source": [
        "df1.head(2) # 상위 데이터 보기"
      ],
      "execution_count": null,
      "outputs": []
    },
    {
      "cell_type": "code",
      "metadata": {
        "id": "lshHPUS5o6PI"
      },
      "source": [
        "df1.tail(2) # 하위 데이터 보기"
      ],
      "execution_count": null,
      "outputs": []
    },
    {
      "cell_type": "code",
      "metadata": {
        "id": "nwNfx0QMo6PJ"
      },
      "source": [
        "df1.index # 인덱스 열 표시"
      ],
      "execution_count": null,
      "outputs": []
    },
    {
      "cell_type": "code",
      "metadata": {
        "id": "MStUXpJ_o6PJ"
      },
      "source": [
        "df1.dtypes # 데이터 유형 검사"
      ],
      "execution_count": null,
      "outputs": []
    },
    {
      "cell_type": "code",
      "metadata": {
        "id": "_uBLhA--o6PJ"
      },
      "source": [
        "df1.describe() # 데이터의 빠른 통계 요약 표시"
      ],
      "execution_count": null,
      "outputs": []
    },
    {
      "cell_type": "markdown",
      "metadata": {
        "id": "PB1eJSAqo6PJ"
      },
      "source": [
        "### 하위 설정, 조각화 및 인덱싱"
      ]
    },
    {
      "cell_type": "code",
      "metadata": {
        "id": "ynN3wHmjo6PJ"
      },
      "source": [
        "df1 = pd.date_range('20130101', periods=6)\n",
        "df1 = pd.DataFrame(np.random.randn(6, 4), index=df1, columns=list('ABCD'))"
      ],
      "execution_count": null,
      "outputs": []
    },
    {
      "cell_type": "code",
      "metadata": {
        "id": "vicr0YEIo6PJ"
      },
      "source": [
        "df1.T # 데이터 바꾸기"
      ],
      "execution_count": null,
      "outputs": []
    },
    {
      "cell_type": "code",
      "metadata": {
        "id": "Rhy1ju3io6PJ"
      },
      "source": [
        "df1.sort_index(axis=1, ascending=False) # 축을 기준으로 정렬"
      ],
      "execution_count": null,
      "outputs": []
    },
    {
      "cell_type": "code",
      "metadata": {
        "id": "vFDyZ7ooo6PJ"
      },
      "source": [
        "df1.sort_values(by='B') # 값을 기준으로 정렬"
      ],
      "execution_count": null,
      "outputs": []
    },
    {
      "cell_type": "code",
      "metadata": {
        "id": "HbAW9w6to6PK"
      },
      "source": [
        "df1['A'] # 열 A 선택"
      ],
      "execution_count": null,
      "outputs": []
    },
    {
      "cell_type": "code",
      "metadata": {
        "id": "OM_PillXo6PK"
      },
      "source": [
        "df1[0:3] # 인덱스 0~2 선택"
      ],
      "execution_count": null,
      "outputs": []
    },
    {
      "cell_type": "code",
      "metadata": {
        "id": "gykbHk66o6PK"
      },
      "source": [
        "df1['20130102':'20130104'] # 값과 일치하는 인덱스에서 선택"
      ],
      "execution_count": null,
      "outputs": []
    },
    {
      "cell_type": "code",
      "metadata": {
        "id": "coIPfaooo6PK"
      },
      "source": [
        "df1.loc[:, ['A', 'B']] # 레이블로 다중 축 선택"
      ],
      "execution_count": null,
      "outputs": []
    },
    {
      "cell_type": "code",
      "metadata": {
        "id": "6brgsBoUo6PK"
      },
      "source": [
        "df1.iloc[3] # 전달된 정수의 위치를 통해 선택"
      ],
      "execution_count": null,
      "outputs": []
    },
    {
      "cell_type": "code",
      "metadata": {
        "id": "PeR5I9C8o6PK"
      },
      "source": [
        "df1[df1 > 0] # 부울 조건이 충족되는 DataFrame에서 값 선택"
      ],
      "execution_count": null,
      "outputs": []
    },
    {
      "cell_type": "code",
      "metadata": {
        "id": "Ga3l51ufo6PK"
      },
      "source": [
        "df2 = df1.copy() # df1 데이터 집합을 df2로 복사\n",
        "df2['E'] = ['one', 'one', 'two', 'three', 'four', 'three'] # 값과 함께 열 E 추가\n",
        "df2[df2['E'].isin(['two', 'four'])] # isin 메서드를 사용하여 필터링"
      ],
      "execution_count": null,
      "outputs": []
    },
    {
      "cell_type": "markdown",
      "metadata": {
        "id": "XT0Ct75Vo6PK"
      },
      "source": [
        "### 결측 데이터\n",
        "\n",
        "Pandas는 주로 `np.nan` 값을 사용하여 결측 데이터를 나타냅니다. 이는 기본적으로 계산에 포함되지 않습니다."
      ]
    },
    {
      "cell_type": "code",
      "metadata": {
        "id": "z4I02MZwo6PL"
      },
      "source": [
        "df = pd.DataFrame({'num_legs': [2, 4, np.nan, 0],\n",
        "                   'num_wings': [2, 0, 0, 0],\n",
        "                   'num_specimen_seen': [10, np.nan, 1, 8]},\n",
        "                   index=['falcon', 'dog', 'spider', 'fish'])"
      ],
      "execution_count": null,
      "outputs": []
    },
    {
      "cell_type": "code",
      "metadata": {
        "id": "0Fmik42Vo6PL"
      },
      "source": [
        "df.dropna(how='any') # 결측 데이터가 있는 모든 행 삭제"
      ],
      "execution_count": null,
      "outputs": []
    },
    {
      "cell_type": "code",
      "metadata": {
        "id": "aHGcRE9Lo6PL"
      },
      "source": [
        "df.dropna(how='any', axis=1) # 결측 데이터가 있는 모든 열 삭제"
      ],
      "execution_count": null,
      "outputs": []
    },
    {
      "cell_type": "code",
      "metadata": {
        "id": "SXn2yeqco6PL"
      },
      "source": [
        "df.fillna(value=5) # 결측 데이터를 값 5로 채우기"
      ],
      "execution_count": null,
      "outputs": []
    },
    {
      "cell_type": "code",
      "metadata": {
        "id": "O3uxjro9o6PL"
      },
      "source": [
        "pd.isna(df) # 결측 데이터가 있는 곳에 부울 마스크 가져오기"
      ],
      "execution_count": null,
      "outputs": []
    },
    {
      "cell_type": "markdown",
      "metadata": {
        "id": "LZwSm8DJo6PL"
      },
      "source": [
        "### 파일 처리"
      ]
    },
    {
      "cell_type": "code",
      "metadata": {
        "id": "BRhuhLQSo6PM"
      },
      "source": [
        "df = pd.DataFrame({'num_legs': [2, 4, np.nan, 0],\n",
        "                   'num_wings': [2, 0, 0, 0],\n",
        "                   'num_specimen_seen': [10, np.nan, 1, 8]},\n",
        "                   index=['falcon', 'dog', 'spider', 'fish'])"
      ],
      "execution_count": null,
      "outputs": []
    },
    {
      "cell_type": "code",
      "metadata": {
        "id": "HAcdr_dBo6PM"
      },
      "source": [
        "df.to_csv('foo.csv') # CSV 파일에 쓰기"
      ],
      "execution_count": null,
      "outputs": []
    },
    {
      "cell_type": "code",
      "metadata": {
        "id": "q0ssyI_uo6PM"
      },
      "source": [
        "pd.read_csv('foo.csv') # CSV 파일에서 읽기"
      ],
      "execution_count": null,
      "outputs": []
    },
    {
      "cell_type": "code",
      "metadata": {
        "id": "dp7s_QUho6PM"
      },
      "source": [
        "df.to_excel('foo.xlsx', sheet_name='Sheet1') # Microsoft Excel 파일에 쓰기"
      ],
      "execution_count": null,
      "outputs": []
    },
    {
      "cell_type": "code",
      "metadata": {
        "id": "N4qbQLXYo6PM"
      },
      "source": [
        "pd.read_excel('foo.xlsx', 'Sheet1', index_col=None, na_values=['NA']) # Microsoft Excel 파일에서 읽기"
      ],
      "execution_count": null,
      "outputs": []
    },
    {
      "cell_type": "markdown",
      "metadata": {
        "id": "ZkIj-8HPo6PM"
      },
      "source": [
        "### 그리기"
      ]
    },
    {
      "cell_type": "code",
      "metadata": {
        "id": "3sVa2xXPo6PM",
        "colab": {
          "base_uri": "https://localhost:8080/"
        },
        "outputId": "f5e69c8a-0e91-447e-9286-436e646689c6"
      },
      "source": [
        "# pip를 사용하여 Matplotlib 설치\n",
        "!pip install matplotlib"
      ],
      "execution_count": null,
      "outputs": [
        {
          "output_type": "stream",
          "text": [
            "Requirement already satisfied: matplotlib in /usr/local/lib/python3.7/dist-packages (3.2.2)\n",
            "Requirement already satisfied: python-dateutil>=2.1 in /usr/local/lib/python3.7/dist-packages (from matplotlib) (2.8.1)\n",
            "Requirement already satisfied: cycler>=0.10 in /usr/local/lib/python3.7/dist-packages (from matplotlib) (0.10.0)\n",
            "Requirement already satisfied: numpy>=1.11 in /usr/local/lib/python3.7/dist-packages (from matplotlib) (1.19.5)\n",
            "Requirement already satisfied: kiwisolver>=1.0.1 in /usr/local/lib/python3.7/dist-packages (from matplotlib) (1.3.1)\n",
            "Requirement already satisfied: pyparsing!=2.0.4,!=2.1.2,!=2.1.6,>=2.0.1 in /usr/local/lib/python3.7/dist-packages (from matplotlib) (2.4.7)\n",
            "Requirement already satisfied: six>=1.5 in /usr/local/lib/python3.7/dist-packages (from python-dateutil>=2.1->matplotlib) (1.15.0)\n"
          ],
          "name": "stdout"
        }
      ]
    },
    {
      "cell_type": "code",
      "metadata": {
        "id": "AT0Gx-uHo6PM"
      },
      "source": [
        "from matplotlib import pyplot as plt # Import Matplotlib module"
      ],
      "execution_count": null,
      "outputs": []
    },
    {
      "cell_type": "code",
      "metadata": {
        "id": "cLa4FEpSo6PN",
        "colab": {
          "base_uri": "https://localhost:8080/"
        },
        "outputId": "ead1edd2-8fce-4198-edd1-c7a4d6bee5d7"
      },
      "source": [
        "# 랜덤 시계열 데이터 생성\n",
        "ts = pd.Series(np.random.randn(1000),index=pd.date_range('1/1/2000', periods=1000)) \n",
        "ts.head()"
      ],
      "execution_count": null,
      "outputs": [
        {
          "output_type": "execute_result",
          "data": {
            "text/plain": [
              "2000-01-01    0.900902\n",
              "2000-01-02   -0.252614\n",
              "2000-01-03   -0.693306\n",
              "2000-01-04    0.729002\n",
              "2000-01-05   -1.976824\n",
              "Freq: D, dtype: float64"
            ]
          },
          "metadata": {
            "tags": []
          },
          "execution_count": 51
        }
      ]
    },
    {
      "cell_type": "code",
      "metadata": {
        "id": "wyHbO5kKo6PN",
        "colab": {
          "base_uri": "https://localhost:8080/",
          "height": 466
        },
        "outputId": "686bb94f-57c6-4742-b180-7674a57e0af9"
      },
      "source": [
        "ts = ts.cumsum()\n",
        "ts.plot() # 그래프 그리기\n",
        "plt.show()"
      ],
      "execution_count": null,
      "outputs": [
        {
          "output_type": "error",
          "ename": "NameError",
          "evalue": "ignored",
          "traceback": [
            "\u001b[0;31m---------------------------------------------------------------------------\u001b[0m",
            "\u001b[0;31mNameError\u001b[0m                                 Traceback (most recent call last)",
            "\u001b[0;32m<ipython-input-52-173ebb4875ca>\u001b[0m in \u001b[0;36m<module>\u001b[0;34m()\u001b[0m\n\u001b[1;32m      1\u001b[0m \u001b[0mts\u001b[0m \u001b[0;34m=\u001b[0m \u001b[0mts\u001b[0m\u001b[0;34m.\u001b[0m\u001b[0mcumsum\u001b[0m\u001b[0;34m(\u001b[0m\u001b[0;34m)\u001b[0m\u001b[0;34m\u001b[0m\u001b[0;34m\u001b[0m\u001b[0m\n\u001b[1;32m      2\u001b[0m \u001b[0mts\u001b[0m\u001b[0;34m.\u001b[0m\u001b[0mplot\u001b[0m\u001b[0;34m(\u001b[0m\u001b[0;34m)\u001b[0m \u001b[0;31m# 그래프 그리기\u001b[0m\u001b[0;34m\u001b[0m\u001b[0;34m\u001b[0m\u001b[0m\n\u001b[0;32m----> 3\u001b[0;31m \u001b[0mplt\u001b[0m\u001b[0;34m.\u001b[0m\u001b[0mshow\u001b[0m\u001b[0;34m(\u001b[0m\u001b[0;34m)\u001b[0m\u001b[0;34m\u001b[0m\u001b[0;34m\u001b[0m\u001b[0m\n\u001b[0m",
            "\u001b[0;31mNameError\u001b[0m: name 'plt' is not defined"
          ]
        },
        {
          "output_type": "display_data",
          "data": {
            "image/png": "[encoded data removed]",
            "text/plain": [
              "<Figure size 432x288 with 1 Axes>"
            ]
          },
          "metadata": {
            "tags": [],
            "needs_background": "light"
          }
        }
      ]
    },
    {
      "cell_type": "code",
      "metadata": {
        "id": "PiVJQkXNo6PN",
        "colab": {
          "base_uri": "https://localhost:8080/",
          "height": 204
        },
        "outputId": "89b16ed4-1a57-4528-aa76-a72c564a0396"
      },
      "source": [
        "# DataFrame에서 plot() 메서드는 모든 열을 레이블과 함께 그리는 데 편리합니다.\n",
        "df4 = pd.DataFrame(np.random.randn(1000, 4), index=ts.index,columns=['A', 'B', 'C', 'D'])\n",
        "df4 = df4.cumsum()\n",
        "df4.head()"
      ],
      "execution_count": null,
      "outputs": [
        {
          "output_type": "execute_result",
          "data": {
            "text/html": [
              "<div>\n",
              "<style scoped>\n",
              "    .dataframe tbody tr th:only-of-type {\n",
              "        vertical-align: middle;\n",
              "    }\n",
              "\n",
              "    .dataframe tbody tr th {\n",
              "        vertical-align: top;\n",
              "    }\n",
              "\n",
              "    .dataframe thead th {\n",
              "        text-align: right;\n",
              "    }\n",
              "</style>\n",
              "<table border=\"1\" class=\"dataframe\">\n",
              "  <thead>\n",
              "    <tr style=\"text-align: right;\">\n",
              "      <th></th>\n",
              "      <th>A</th>\n",
              "      <th>B</th>\n",
              "      <th>C</th>\n",
              "      <th>D</th>\n",
              "    </tr>\n",
              "  </thead>\n",
              "  <tbody>\n",
              "    <tr>\n",
              "      <th>2000-01-01</th>\n",
              "      <td>0.504310</td>\n",
              "      <td>-0.589294</td>\n",
              "      <td>0.007385</td>\n",
              "      <td>0.708775</td>\n",
              "    </tr>\n",
              "    <tr>\n",
              "      <th>2000-01-02</th>\n",
              "      <td>0.207402</td>\n",
              "      <td>0.708722</td>\n",
              "      <td>1.928494</td>\n",
              "      <td>-0.181725</td>\n",
              "    </tr>\n",
              "    <tr>\n",
              "      <th>2000-01-03</th>\n",
              "      <td>-2.329535</td>\n",
              "      <td>0.671987</td>\n",
              "      <td>0.748643</td>\n",
              "      <td>-0.257770</td>\n",
              "    </tr>\n",
              "    <tr>\n",
              "      <th>2000-01-04</th>\n",
              "      <td>-2.886993</td>\n",
              "      <td>0.973711</td>\n",
              "      <td>-0.202842</td>\n",
              "      <td>-0.537664</td>\n",
              "    </tr>\n",
              "    <tr>\n",
              "      <th>2000-01-05</th>\n",
              "      <td>-0.842046</td>\n",
              "      <td>0.919753</td>\n",
              "      <td>-0.593506</td>\n",
              "      <td>0.869064</td>\n",
              "    </tr>\n",
              "  </tbody>\n",
              "</table>\n",
              "</div>"
            ],
            "text/plain": [
              "                   A         B         C         D\n",
              "2000-01-01  0.504310 -0.589294  0.007385  0.708775\n",
              "2000-01-02  0.207402  0.708722  1.928494 -0.181725\n",
              "2000-01-03 -2.329535  0.671987  0.748643 -0.257770\n",
              "2000-01-04 -2.886993  0.973711 -0.202842 -0.537664\n",
              "2000-01-05 -0.842046  0.919753 -0.593506  0.869064"
            ]
          },
          "metadata": {
            "tags": []
          },
          "execution_count": 54
        }
      ]
    },
    {
      "cell_type": "code",
      "metadata": {
        "id": "QcoDYMyqo6PN",
        "colab": {
          "base_uri": "https://localhost:8080/",
          "height": 448
        },
        "outputId": "0a1c87c3-1cdb-4117-a50f-edfcd868e1c3"
      },
      "source": [
        "df4.plot()\n",
        "plt.show()"
      ],
      "execution_count": null,
      "outputs": [
        {
          "output_type": "error",
          "ename": "NameError",
          "evalue": "ignored",
          "traceback": [
            "\u001b[0;31m---------------------------------------------------------------------------\u001b[0m",
            "\u001b[0;31mNameError\u001b[0m                                 Traceback (most recent call last)",
            "\u001b[0;32m<ipython-input-55-10d0001442d9>\u001b[0m in \u001b[0;36m<module>\u001b[0;34m()\u001b[0m\n\u001b[1;32m      1\u001b[0m \u001b[0mdf4\u001b[0m\u001b[0;34m.\u001b[0m\u001b[0mplot\u001b[0m\u001b[0;34m(\u001b[0m\u001b[0;34m)\u001b[0m\u001b[0;34m\u001b[0m\u001b[0;34m\u001b[0m\u001b[0m\n\u001b[0;32m----> 2\u001b[0;31m \u001b[0mplt\u001b[0m\u001b[0;34m.\u001b[0m\u001b[0mshow\u001b[0m\u001b[0;34m(\u001b[0m\u001b[0;34m)\u001b[0m\u001b[0;34m\u001b[0m\u001b[0;34m\u001b[0m\u001b[0m\n\u001b[0m",
            "\u001b[0;31mNameError\u001b[0m: name 'plt' is not defined"
          ]
        },
        {
          "output_type": "display_data",
          "data": {
            "image/png": "[encoded data removed]",
            "text/plain": [
              "<Figure size 432x288 with 1 Axes>"
            ]
          },
          "metadata": {
            "tags": [],
            "needs_background": "light"
          }
        }
      ]
    }
  ]
}