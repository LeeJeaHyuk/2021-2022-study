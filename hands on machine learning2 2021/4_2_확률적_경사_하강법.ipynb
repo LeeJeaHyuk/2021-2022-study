{
  "nbformat": 4,
  "nbformat_minor": 0,
  "metadata": {
    "colab": {
      "name": "4-2 확률적 경사 하강법.ipynb",
      "provenance": [],
      "authorship_tag": "ABX9TyPIO4aBjSBR1waummJyCHag",
      "include_colab_link": true
    },
    "kernelspec": {
      "name": "python3",
      "display_name": "Python 3"
    },
    "language_info": {
      "name": "python"
    }
  },
  "cells": [
    {
      "cell_type": "markdown",
      "metadata": {
        "id": "view-in-github",
        "colab_type": "text"
      },
      "source": [
        "<a href=\"https://colab.research.google.com/github/LeeJeaHyuk/colab-sync-practice/blob/main/4_2_%ED%99%95%EB%A5%A0%EC%A0%81_%EA%B2%BD%EC%82%AC_%ED%95%98%EA%B0%95%EB%B2%95.ipynb\" target=\"_parent\"><img src=\"https://colab.research.google.com/assets/colab-badge.svg\" alt=\"Open In Colab\"/></a>"
      ]
    },
    {
      "cell_type": "markdown",
      "metadata": {
        "id": "KmHT3XBWWPRY"
      },
      "source": [
        "#4-2 확률적 경사 하강법"
      ]
    },
    {
      "cell_type": "code",
      "metadata": {
        "id": "FS4sJCpaWOuv",
        "colab": {
          "base_uri": "https://localhost:8080/",
          "height": 482
        },
        "outputId": "d62cd2d3-b287-4131-8fd5-a35801486411"
      },
      "source": [
        "import pandas as pd\n",
        "fish = pd.read_csv('https://bit.ly/fish_csv')\n",
        "\n",
        "fish_input = fish[['Weight', 'Length', 'Diagonal', 'Height', 'Width']].to_numpy()\n",
        "fish_target = fish['Species'].to_numpy()\n",
        "\n",
        "from sklearn.model_selection import train_test_split\n",
        "train_input, test_input, train_target, test_target= train_test_split(fish_input, fish_target, random_state=42)\n",
        "\n",
        "from sklearn.preprocessing import StandardScaler\n",
        "ss = StandardScaler()\n",
        "ss.fit(train_input)\n",
        "train_scaled = ss.transform(train_input)\n",
        "test_scaled = ss.transform(test_input)\n",
        "\n",
        "from sklearn.linear_model import SGDClassifier\n",
        "\n",
        "sc = SGDClassifier(loss='log', max_iter=10, random_state=42)\n",
        "sc.fit(train_scaled, train_target)\n",
        "print(sc.score(train_scaled,train_target))\n",
        "print(sc.score(test_scaled, test_target))\n",
        "\n",
        "sc.partial_fit(train_scaled, train_target)\n",
        "print(sc.score(train_scaled, train_target))\n",
        "print(sc.score(test_scaled, test_target))\n",
        "\n",
        "import numpy as np\n",
        "sc = SGDClassifier(loss='log', random_state=42)\n",
        "train_score = []\n",
        "test_score = []\n",
        "classes = np.unique(train_target)\n",
        "\n",
        "for _ in range(0,300):\n",
        "  sc.partial_fit(train_scaled, train_target, classes=classes)\n",
        "  train_score.append(sc.score(train_scaled, train_target))\n",
        "  test_score.append(sc.score(test_scaled, test_target))\n",
        "\n",
        "import matplotlib.pyplot as plt\n",
        "plt.plot(train_score)\n",
        "plt.plot(test_score)\n",
        "plt.xlabel('epoch')\n",
        "plt.ylabel('accuracy')\n",
        "plt.show()\n",
        "\n",
        "sc=SGDClassifier(loss='log', max_iter =100, tol=None, random_state=42)\n",
        "sc.fit(train_scaled, train_target)\n",
        "print(sc.score(train_scaled, train_target))\n",
        "print(sc.score(test_scaled, test_target))\n",
        "\n",
        "sc=SGDClassifier(loss='hinge', max_iter =100, tol=None, random_state=42)\n",
        "sc.fit(train_scaled, train_target)\n",
        "print(sc.score(train_scaled, train_target))\n",
        "print(sc.score(test_scaled, test_target))\n"
      ],
      "execution_count": 13,
      "outputs": [
        {
          "output_type": "stream",
          "text": [
            "/usr/local/lib/python3.7/dist-packages/sklearn/linear_model/_stochastic_gradient.py:557: ConvergenceWarning: Maximum number of iteration reached before convergence. Consider increasing max_iter to improve the fit.\n",
            "  ConvergenceWarning)\n"
          ],
          "name": "stderr"
        },
        {
          "output_type": "stream",
          "text": [
            "0.773109243697479\n",
            "0.775\n",
            "0.8151260504201681\n",
            "0.825\n"
          ],
          "name": "stdout"
        },
        {
          "output_type": "display_data",
          "data": {
            "image/png": "[encoded data removed]",
            "text/plain": [
              "<Figure size 432x288 with 1 Axes>"
            ]
          },
          "metadata": {
            "tags": [],
            "needs_background": "light"
          }
        },
        {
          "output_type": "stream",
          "text": [
            "0.957983193277311\n",
            "0.925\n",
            "0.9495798319327731\n",
            "0.925\n"
          ],
          "name": "stdout"
        }
      ]
    },
    {
      "cell_type": "markdown",
      "metadata": {
        "id": "geiN9nnnTeFp"
      },
      "source": [
        "#내용"
      ]
    },
    {
      "cell_type": "markdown",
      "metadata": {
        "id": "LdTXb3l4A58d"
      },
      "source": [
        "## 내용 1"
      ]
    },
    {
      "cell_type": "markdown",
      "metadata": {
        "id": "XsS7CAKYBKf8"
      },
      "source": [
        "데이터가 추가될때마다 새로운 모델을 계속 만드는 방법\n",
        "\n",
        "가중치와 절편을 유지하면서이터가 추가될때마다 새로운 모델을 계속 만드는 방법\n",
        "\n",
        "이터가 추가될때마다 새로운 모델을 계속 만드는 방법\n",
        "\n",
        "가중치와 절편을 유지하면서 새로운 데이터들을 업데이트하는 것 : 점진적인 학습\n"
      ]
    },
    {
      "cell_type": "markdown",
      "metadata": {
        "id": "GngWe1MAOBH6"
      },
      "source": [
        "확률적 경사 하강법\n",
        "\n",
        "랜덤 / 기울기 / 내려가기\n",
        "\n",
        "무작위하게 가파른 경사를 내려가는 것(조금씩) 최저점(최적점)에 내려가야 하는데 건너뛰는 것을 주의\n",
        "=훈련\n",
        "\n",
        "훈련 세트를 전부 1회 사용하는것 = 1에포크 완료\n",
        "에포크를 여러 번 반복하는 것\n",
        "\n",
        " \n",
        "확률적 경사하강법(훈련 세트를 한 개씩) \\\\\n",
        "미니배치 경사 하강법(여러 개씩 사용)\n",
        "\n",
        "\n",
        "\n",
        "\n"
      ]
    },
    {
      "cell_type": "markdown",
      "metadata": {
        "id": "951ryojUPMvJ"
      },
      "source": [
        "손실 함수\n",
        "\n",
        "나쁜 정도를 측정하는 함수(값이 낮을수록 좋다)"
      ]
    },
    {
      "cell_type": "markdown",
      "metadata": {
        "id": "XxZG9QN5PoiQ"
      },
      "source": [
        "분류\n",
        "\n",
        "분류 문제에서는 정확도를 많이 체크한다.\n",
        "이진분류의 경우에는 정확도가 0.5 /0.75.. 등인데 이는 연속적이지 않기때문에 손실함수로 사용할 수 없다\n",
        "\n",
        "미분가능한함수만 손실함수를 사용할 수 있다.\n",
        "\n",
        "분류에서는 정확도로 성능을 체크하고 \\\\\n",
        "로지스틱 손실 함수를 통해서 최적화를 한다(정확도로 손실함수 불가능)\n",
        "\n"
      ]
    },
    {
      "cell_type": "markdown",
      "metadata": {
        "id": "x2Y_KAHbQg2h"
      },
      "source": [
        "회귀\n",
        "\n",
        "평균 절댓값 오차 ,평균 제곱 오차 는 미분가능하므로 손실함수 사용가능\n",
        "\n",
        "손실함수 = 측정지표 : 손실함수를 통해서 성능 확인 및 최적화"
      ]
    },
    {
      "cell_type": "markdown",
      "metadata": {
        "id": "zMh0ZfI1QRbg"
      },
      "source": [
        "로지스틱 손실 함수\n",
        "\n",
        "$손실 : -예측*정답$ \\\\\n",
        "타깃(정답)이 0인경우는 곱할 수 없으므로 \\\\\n",
        "$손실 : (1-예측)*1$ \\\\\n",
        "\n",
        "로그값으로 하면 더 좋 다.\n",
        "(타깃값과 멀어질수록 값이 커지기 때문에) \\\\\n",
        "$ -log(예측 확률)$ \\\\\n",
        "$-log(1-예측 확률)$\n",
        "\n"
      ]
    },
    {
      "cell_type": "markdown",
      "metadata": {
        "id": "1qLU2e1gTSDi"
      },
      "source": [
        "## 내용 2 데이터 전처리"
      ]
    },
    {
      "cell_type": "code",
      "metadata": {
        "id": "UuL6f7GDyMyI"
      },
      "source": [
        "import pandas as pd\n",
        "fish = pd.read_csv('https://bit.ly/fish_csv')\n",
        "\n",
        "fish_input = fish[['Weight', 'Length', 'Diagonal', 'Height', 'Width']].to_numpy()\n",
        "fish_target = fish['Species'].to_numpy()\n",
        "\n",
        "from sklearn.model_selection import train_test_split\n",
        "train_input, test_input, train_target, test_target= train_test_split(fish_input, fish_target, random_state=42)\n",
        "\n",
        "from sklearn.preprocessing import StandardScaler\n",
        "ss = StandardScaler()\n",
        "ss.fit(train_input)\n",
        "train_scaled = ss.transform(train_input)\n",
        "test_scaled = ss.transform(test_input) "
      ],
      "execution_count": 13,
      "outputs": []
    },
    {
      "cell_type": "markdown",
      "metadata": {
        "id": "eInl052FTj94"
      },
      "source": [
        "가장 가파른 경사를 내려가기 위해서는 각각의 특성마다 스케일이 같아야 한다.\n",
        "\n",
        "스케일이 다르면 경사를 공평하게 예측할 수 없다."
      ]
    },
    {
      "cell_type": "markdown",
      "metadata": {
        "id": "IzGsIX2XT6cJ"
      },
      "source": [
        "StandardScaler 평균 / 표준편차를 계산한 후\n",
        "\n",
        "훈련 세트와 테스트 세트를 바꾼다(fit)."
      ]
    },
    {
      "cell_type": "markdown",
      "metadata": {
        "id": "sjOVGWGlUTdC"
      },
      "source": [
        "## 내용 3 SGDClassifier"
      ]
    },
    {
      "cell_type": "markdown",
      "metadata": {
        "id": "CE8ztlQcUaoh"
      },
      "source": [
        "SGDClassifier : 확률적 경사 하강법의 분류 알고리즘\n",
        "\n",
        "배치나 미니배치는 지원하지 않는다.\n",
        "한개씩 꺼내 씀GDClassifier : 확률적 경사 하강법의 분류 알고리즘\n",
        "\n",
        "배치나 미니배치는 지원하지 않는다.\n",
        "한개씩 꺼내 씀\n",
        "\n",
        "\n",
        "SGDRegressor :  확률적 경사 하강법의 회귀 알고리즘\n",
        "\n",
        "\n",
        "SGDRegressor :  확률적 경사 하강법의 회귀 알고리즘"
      ]
    },
    {
      "cell_type": "code",
      "metadata": {
        "colab": {
          "base_uri": "https://localhost:8080/"
        },
        "id": "FFYgMEnDTpkR",
        "outputId": "5ff431c8-407a-42c4-d5b5-2d4cb915e199"
      },
      "source": [
        "from sklearn.linear_model import SGDClassifier\n",
        "\n",
        "sc = SGDClassifier(loss='log', max_iter=10, random_state=42)\n",
        "sc.fit(train_scaled, train_target)\n",
        "\n",
        "# 정확도\n",
        "print(sc.score(train_scaled,train_target))\n",
        "print(sc.score(test_scaled, test_target))\n",
        "# 77퍼 정도가 나옴rom sklearn.linear_model import SGDClassifier\n",
        "\n",
        "sc = SGDClassifier(loss='log', max_iter=10, random_state=42)\n",
        "sc.fit(train_scaled, train_target)\n",
        "\n",
        "# 정확도\n",
        "print(sc.score(train_scaled,train_target))\n",
        "print(sc.score(test_scaled, test_target))\n",
        "# 77퍼 정도가 나옴\n",
        "\n",
        "# 정확도 향상\n",
        "sc.partial_fit(train_scaled, train_target)\n",
        "print(sc.score(train_scaled, train_target))\n",
        "print(sc.score(test_scaled, test_target))"
      ],
      "execution_count": 14,
      "outputs": [
        {
          "output_type": "stream",
          "text": [
            "0.773109243697479\n",
            "0.775\n",
            "0.8151260504201681\n",
            "0.825\n"
          ],
          "name": "stdout"
        },
        {
          "output_type": "stream",
          "text": [
            "/usr/local/lib/python3.7/dist-packages/sklearn/linear_model/_stochastic_gradient.py:557: ConvergenceWarning: Maximum number of iteration reached before convergence. Consider increasing max_iter to improve the fit.\n",
            "  ConvergenceWarning)\n"
          ],
          "name": "stderr"
        }
      ]
    },
    {
      "cell_type": "markdown",
      "metadata": {
        "id": "vtY5LJ8oUvLC"
      },
      "source": [
        "loss='log' : 로지스틱 손실 함수 지정\n",
        "로지스틱 회귀 모델(분류임) 훈련\n",
        "\n",
        "머신러닝 모델이 아니라 머신러닝 모델을 최적화하는 방법이기 때문에 위와 같이 지정을 해주어야 한다."
      ]
    },
    {
      "cell_type": "markdown",
      "metadata": {
        "id": "5OnnhHOAVW9C"
      },
      "source": [
        "max_iter : 10 (에포크와 동일)"
      ]
    },
    {
      "cell_type": "markdown",
      "metadata": {
        "id": "Znc5nOBhVpki"
      },
      "source": [
        "fit : 기존의 w,b(기울기,절편)을 버리고 학습\n",
        "\n",
        "partial_fit : 기존의 w,b를 유지한 체 학습"
      ]
    },
    {
      "cell_type": "markdown",
      "metadata": {
        "id": "sDa3d_xAV-uJ"
      },
      "source": [
        "## 내용 4 에포크와 과대 / 과소적합"
      ]
    },
    {
      "cell_type": "markdown",
      "metadata": {
        "id": "a4az4MmyWdK6"
      },
      "source": [
        "이전 내용\n",
        "\n",
        "규제가 낮아지면 훈련 세트에 과대적합되고 테스트 세트의 점수가 낮아진다.\n",
        "\n",
        "규제가 커지면 훈련 / 테스트세트의 점수가 낮아짐"
      ]
    },
    {
      "cell_type": "markdown",
      "metadata": {
        "id": "24Vuu63UW8Vy"
      },
      "source": [
        "에포크가 많아지면 훈련 세트에는 잘 맞지만  어느 순간부터 테스트 세트의 점수는 떨어진다.(과대적합)\n",
        "\n",
        "에포크가 적으면 과소적합 (둘 다 낮음)\n",
        "\n",
        "적절한 부분에서 멈추는 것 : 조기 종료"
      ]
    },
    {
      "cell_type": "markdown",
      "metadata": {
        "id": "KN96EDowXb1M"
      },
      "source": [
        "## 내용 5 조기 종료"
      ]
    },
    {
      "cell_type": "code",
      "metadata": {
        "colab": {
          "base_uri": "https://localhost:8080/",
          "height": 352
        },
        "id": "ljUSMb7CXbv5",
        "outputId": "cb0124ca-2a0e-4adb-8cc6-fce3e30d5581"
      },
      "source": [
        "sc = SGDClassifier(loss='log', random_state=42)\n",
        "train_score = []\n",
        "test_score = []\n",
        "\n",
        "classes = np.unique(train_target)\n",
        "\n",
        "for _ in range(0,300):\n",
        "  sc.partial_fit(train_scaled, train_target, classes=classes)\n",
        "  train_score.append(sc.score(train_scaled, train_target))\n",
        "  test_score.append(sc.score(test_scaled, test_target))\n",
        "\n",
        "import matplotlib.pyplot as plt\n",
        "plt.plot(train_score)\n",
        "plt.plot(test_score)\n",
        "plt.xlabel('epoch')\n",
        "plt.ylabel('accuracy')\n",
        "plt.show()\n",
        "\n",
        "#에포크를 100회정도로 지정하여 정확도 상승\n",
        "#로지스틱 회귀 모델(log)사용\n",
        "sc=SGDClassifier(loss='log', max_iter =100, tol=None, random_state=42)\n",
        "sc.fit(train_scaled, train_target)\n",
        "print(sc.score(train_scaled, train_target))\n",
        "print(sc.score(test_scaled, test_target))\n",
        "\n",
        "#hinge 사용\n",
        "sc=SGDClassifier(loss='hinge', max_iter =100, tol=None, random_state=42)\n",
        "sc.fit(train_scaled, train_target)\n",
        "print(sc.score(train_scaled, train_target))\n",
        "print(sc.score(test_scaled, test_target))"
      ],
      "execution_count": 15,
      "outputs": [
        {
          "output_type": "display_data",
          "data": {
            "image/png": "[encoded data removed]",
            "text/plain": [
              "<Figure size 432x288 with 1 Axes>"
            ]
          },
          "metadata": {
            "tags": [],
            "needs_background": "light"
          }
        },
        {
          "output_type": "stream",
          "text": [
            "0.957983193277311\n",
            "0.925\n",
            "0.9495798319327731\n",
            "0.925\n"
          ],
          "name": "stdout"
        }
      ]
    },
    {
      "cell_type": "markdown",
      "metadata": {
        "id": "588h8h0IX7mz"
      },
      "source": [
        "sc.partial_fit(train_scaled, train_target, classes=classes)\n",
        "\n",
        "partial_fit메소드 에서 클래스 매개변수를 사용하는 데 그 이유\n",
        "\n",
        "partial_fit메소드는 훈련 세트에 일부분만 사용할 수 있다고 가정한다.\n",
        "\n",
        "이전에 fit메소드를 사용하지 않으면 전체 셈플에 클래스의 개수(목록)를 알 수 없는 상황이 올 수 있기 때문에 classes의 개수를 알려주어야 한다.\n",
        "\n",
        "fit메소드를 쓰면 할 필요 없음"
      ]
    },
    {
      "cell_type": "markdown",
      "metadata": {
        "id": "m49vxi-pYv77"
      },
      "source": [
        "그래프를 보면서 자원이 적게 소모되는(가능한 한 빠른) 구간만큼 에포크 해준다."
      ]
    },
    {
      "cell_type": "markdown",
      "metadata": {
        "id": "uVvV0FztaMyL"
      },
      "source": [
        "# 내용 6"
      ]
    },
    {
      "cell_type": "markdown",
      "metadata": {
        "id": "ZLiuz9vkZ14T"
      },
      "source": [
        "classes는 타깃 값과 똑같은 타입으로 전달하면 된다. 위에서는 문자열lasses는 타깃 값과 똑같은 타입으로 전달하면 된다. 위에서는 문자열"
      ]
    },
    {
      "cell_type": "markdown",
      "metadata": {
        "id": "B6KeM_OdaO2L"
      },
      "source": [
        "분류 : 여러가지 개수 중 하나 선택\n",
        "\n",
        "회귀 : 임의의 실수값이 나오는 것들\n",
        "\n",
        "\n",
        "\n"
      ]
    },
    {
      "cell_type": "code",
      "metadata": {
        "id": "WWNccqgxU0Wi"
      },
      "source": [
        ""
      ],
      "execution_count": null,
      "outputs": []
    }
  ]
}
