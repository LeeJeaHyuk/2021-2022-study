{
  "nbformat": 4,
  "nbformat_minor": 0,
  "metadata": {
    "colab": {
      "name": "fish_market_Regression.ipynb",
      "provenance": [],
      "authorship_tag": "ABX9TyNAxqf33qc+k7P8YMZLFlxk",
      "include_colab_link": true
    },
    "kernelspec": {
      "name": "python3",
      "display_name": "Python 3"
    },
    "language_info": {
      "name": "python"
    }
  },
  "cells": [
    {
      "cell_type": "markdown",
      "metadata": {
        "id": "view-in-github",
        "colab_type": "text"
      },
      "source": [
        "<a href=\"https://colab.research.google.com/github/LeeJeaHyuk/2021-2022-study/blob/main/2022datascience/fish_market_Regression.ipynb\" target=\"_parent\"><img src=\"https://colab.research.google.com/assets/colab-badge.svg\" alt=\"Open In Colab\"/></a>"
      ]
    },
    {
      "cell_type": "code",
      "metadata": {
        "id": "g49RuFGrBvt7"
      },
      "source": [
        "import pandas as pd\n",
        "import numpy as np\n",
        "import matplotlib.pyplot as plt\n",
        "import seaborn as sns\n",
        "import tensorflow as tf"
      ],
      "execution_count": 33,
      "outputs": []
    },
    {
      "cell_type": "code",
      "metadata": {
        "id": "RRXGYV60B7FX"
      },
      "source": [
        "import os"
      ],
      "execution_count": 3,
      "outputs": []
    },
    {
      "cell_type": "code",
      "metadata": {
        "id": "mMKFOC0OBtHO"
      },
      "source": [
        "os.environ['KAGGLE_USERNAME'] ='leejeahyuk'\n",
        "os.environ['KAGGLE_KEY'] ='909dc28f843ffc03b80b5291757fd8f0'"
      ],
      "execution_count": 4,
      "outputs": []
    },
    {
      "cell_type": "code",
      "metadata": {
        "id": "JSblp2NsCGbh",
        "colab": {
          "base_uri": "https://localhost:8080/"
        },
        "outputId": "e7a6006c-7410-442e-8de1-5f49ad2d6476"
      },
      "source": [
        "!kaggle datasets download -d aungpyaeap/fish-market\n",
        "!unzip '*.zip'"
      ],
      "execution_count": 5,
      "outputs": [
        {
          "output_type": "stream",
          "name": "stdout",
          "text": [
            "Downloading fish-market.zip to /content\n",
            "\r  0% 0.00/2.39k [00:00<?, ?B/s]\n",
            "\r100% 2.39k/2.39k [00:00<00:00, 1.71MB/s]\n",
            "Archive:  fish-market.zip\n",
            "  inflating: Fish.csv                \n"
          ]
        }
      ]
    },
    {
      "cell_type": "code",
      "source": [
        "!ls"
      ],
      "metadata": {
        "colab": {
          "base_uri": "https://localhost:8080/"
        },
        "id": "2-MvGqNeGNxw",
        "outputId": "07f71d41-0877-4c38-ef6d-5d38c895ec8b"
      },
      "execution_count": 6,
      "outputs": [
        {
          "output_type": "stream",
          "name": "stdout",
          "text": [
            "Fish.csv  fish-market.zip  sample_data\n"
          ]
        }
      ]
    },
    {
      "cell_type": "code",
      "metadata": {
        "id": "RnJv-4YwCMSx"
      },
      "source": [
        "df = pd.read_csv('Fish.csv')"
      ],
      "execution_count": 7,
      "outputs": []
    },
    {
      "cell_type": "code",
      "source": [
        "y=df['Species']\n",
        "X=df.drop('Species', axis=1)"
      ],
      "metadata": {
        "id": "DmeNZ2yQ68mc"
      },
      "execution_count": 20,
      "outputs": []
    },
    {
      "cell_type": "code",
      "source": [
        "from sklearn.preprocessing import StandardScaler\n",
        "\n",
        "scaler = StandardScaler()\n",
        "X = pd.DataFrame(scaler.fit_transform(X), columns=X.columns)"
      ],
      "metadata": {
        "id": "r2XkKaIs68W-"
      },
      "execution_count": 21,
      "outputs": []
    },
    {
      "cell_type": "code",
      "source": [
        "from sklearn.preprocessing import LabelEncoder\n",
        "\n",
        "encoder = LabelEncoder()\n",
        "y = encoder.fit_transform(y)\n",
        "y_mapping = {index: label for index, label in enumerate(encoder.classes_)}"
      ],
      "metadata": {
        "id": "JDyfj_cQ8XWm"
      },
      "execution_count": 22,
      "outputs": []
    },
    {
      "cell_type": "code",
      "source": [
        "y_mapping\n",
        "# 수치형으로 변환"
      ],
      "metadata": {
        "colab": {
          "base_uri": "https://localhost:8080/"
        },
        "id": "84rp8FYR85cd",
        "outputId": "218c4798-9820-45d8-d380-8c7dc8b3546b"
      },
      "execution_count": 23,
      "outputs": [
        {
          "output_type": "execute_result",
          "data": {
            "text/plain": [
              "{0: 'Bream',\n",
              " 1: 'Parkki',\n",
              " 2: 'Perch',\n",
              " 3: 'Pike',\n",
              " 4: 'Roach',\n",
              " 5: 'Smelt',\n",
              " 6: 'Whitefish'}"
            ]
          },
          "metadata": {},
          "execution_count": 23
        }
      ]
    },
    {
      "cell_type": "code",
      "source": [
        "from sklearn.model_selection import train_test_split\n",
        "train_input,  test_input, train_target, test_target = train_test_split(X, y, test_size=0.3, random_state=42)"
      ],
      "metadata": {
        "id": "tWuXnDCB9srm"
      },
      "execution_count": 40,
      "outputs": []
    },
    {
      "cell_type": "code",
      "source": [
        "from sklearn.linear_model import LogisticRegression\n",
        "\n",
        "model_lr = LogisticRegression(max_iter=1000)\n",
        "model_lr.fit(train_input, train_target)\n",
        "\n",
        "model_lr.score(test_input,test_target)"
      ],
      "metadata": {
        "colab": {
          "base_uri": "https://localhost:8080/"
        },
        "id": "nQmpxRES94bN",
        "outputId": "1c1ed0dc-2b46-4030-c8f5-4e486867450f"
      },
      "execution_count": 42,
      "outputs": [
        {
          "output_type": "execute_result",
          "data": {
            "text/plain": [
              "0.8541666666666666"
            ]
          },
          "metadata": {},
          "execution_count": 42
        }
      ]
    },
    {
      "cell_type": "code",
      "source": [
        "\n",
        "inputs = tf.keras.Input(shape=(6,))\n",
        "x = tf.keras.layers.Dense(16, activation='relu')(inputs)\n",
        "x = tf.keras.layers.Dense(16, activation='relu')(x)\n",
        "outputs = tf.keras.layers.Dense(7, activation='softmax')(x)\n",
        "\n",
        "nn_model = tf.keras.Model(inputs=inputs, outputs=outputs)\n",
        "\n",
        "\n",
        "nn_model.compile(\n",
        "    optimizer='adam',\n",
        "    loss='sparse_categorical_crossentropy',\n",
        "    metrics=['accuracy']\n",
        ")\n",
        "\n",
        "\n",
        "batch_size = 32\n",
        "epochs = 1000\n",
        "\n",
        "history = nn_model.fit(\n",
        "    train_input,\n",
        "    train_target,\n",
        "    validation_split=0.2,\n",
        "    batch_size=batch_size,\n",
        "    epochs=epochs,\n",
        "    verbose=0\n",
        ")"
      ],
      "metadata": {
        "id": "etfu8XHj_J9e"
      },
      "execution_count": 44,
      "outputs": []
    },
    {
      "cell_type": "code",
      "source": [
        "plt.figure(figsize=(14, 10))\n",
        "\n",
        "epochs_range = range(1, epochs + 1)\n",
        "train_loss = history.history['loss']\n",
        "val_loss = history.history['val_loss']\n",
        "\n",
        "plt.plot(epochs_range, train_loss, label=\"Training Loss\")\n",
        "plt.plot(epochs_range, val_loss, label=\"Validation Loss\")\n",
        "\n",
        "plt.xlabel(\"Epoch\")\n",
        "plt.ylabel(\"Loss\")\n",
        "plt.legend()\n",
        "\n",
        "plt.show()\n"
      ],
      "metadata": {
        "colab": {
          "base_uri": "https://localhost:8080/",
          "height": 606
        },
        "id": "gPtGSr0mAdy9",
        "outputId": "8ddc4cf3-d23c-4845-e30a-01cbffed9570"
      },
      "execution_count": 45,
      "outputs": [
        {
          "output_type": "display_data",
          "data": {
            "text/plain": [
              "<Figure size 1008x720 with 1 Axes>"
            ],
            "image/png": "[encoded data removed]"
          },
          "metadata": {
            "needs_background": "light"
          }
        }
      ]
    },
    {
      "cell_type": "code",
      "source": [
        "np.argmin(val_loss)"
      ],
      "metadata": {
        "colab": {
          "base_uri": "https://localhost:8080/"
        },
        "id": "1Gm38BbzAfXN",
        "outputId": "5e14d09f-deb8-42da-f911-1085badac24d"
      },
      "execution_count": 46,
      "outputs": [
        {
          "output_type": "execute_result",
          "data": {
            "text/plain": [
              "542"
            ]
          },
          "metadata": {},
          "execution_count": 46
        }
      ]
    },
    {
      "cell_type": "code",
      "source": [
        "nn_model.evaluate(test_input, test_target)"
      ],
      "metadata": {
        "colab": {
          "base_uri": "https://localhost:8080/"
        },
        "id": "VMk_Z3JOAgVN",
        "outputId": "863c57f2-8a6c-4f53-838a-986b10db10a1"
      },
      "execution_count": 48,
      "outputs": [
        {
          "output_type": "stream",
          "name": "stdout",
          "text": [
            "2/2 [==============================] - 0s 7ms/step - loss: 0.5259 - accuracy: 0.9167\n"
          ]
        },
        {
          "output_type": "execute_result",
          "data": {
            "text/plain": [
              "[0.52594393491745, 0.9166666865348816]"
            ]
          },
          "metadata": {},
          "execution_count": 48
        }
      ]
    },
    {
      "cell_type": "markdown",
      "source": [
        "https://www.youtube.com/watch?v=n54LNfrIzXw"
      ],
      "metadata": {
        "id": "aS0vP1aRBSfc"
      }
    }
  ]
}