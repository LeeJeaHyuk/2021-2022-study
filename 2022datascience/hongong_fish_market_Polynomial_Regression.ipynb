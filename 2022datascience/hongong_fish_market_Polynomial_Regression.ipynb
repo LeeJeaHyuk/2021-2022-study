{
  "nbformat": 4,
  "nbformat_minor": 0,
  "metadata": {
    "colab": {
      "name": "hongong_fish_market_Polynomial_Regression",
      "provenance": [],
      "authorship_tag": "ABX9TyPyMpcgcfEfmz47/WfV7RJN",
      "include_colab_link": true
    },
    "kernelspec": {
      "name": "python3",
      "display_name": "Python 3"
    },
    "language_info": {
      "name": "python"
    }
  },
  "cells": [
    {
      "cell_type": "markdown",
      "metadata": {
        "id": "view-in-github",
        "colab_type": "text"
      },
      "source": [
        "<a href=\"https://colab.research.google.com/github/LeeJeaHyuk/2021-2022-study/blob/main/2022datascience/hongong_fish_market_Polynomial_Regression.ipynb\" target=\"_parent\"><img src=\"https://colab.research.google.com/assets/colab-badge.svg\" alt=\"Open In Colab\"/></a>"
      ]
    },
    {
      "cell_type": "code",
      "metadata": {
        "id": "g49RuFGrBvt7"
      },
      "source": [
        "import pandas as pd\n",
        "import numpy as np\n",
        "import matplotlib.pyplot as plt\n",
        "import seaborn as sns\n",
        "import tensorflow as tf"
      ],
      "execution_count": 1,
      "outputs": []
    },
    {
      "cell_type": "code",
      "metadata": {
        "id": "RRXGYV60B7FX"
      },
      "source": [
        "import os"
      ],
      "execution_count": 2,
      "outputs": []
    },
    {
      "cell_type": "code",
      "metadata": {
        "id": "mMKFOC0OBtHO"
      },
      "source": [
        "os.environ['KAGGLE_USERNAME'] ='leejeahyuk'\n",
        "os.environ['KAGGLE_KEY'] ='909dc28f843ffc03b80b5291757fd8f0'"
      ],
      "execution_count": 3,
      "outputs": []
    },
    {
      "cell_type": "code",
      "metadata": {
        "id": "JSblp2NsCGbh",
        "colab": {
          "base_uri": "https://localhost:8080/"
        },
        "outputId": "ac7b1585-8b83-49d0-e3f4-5de71969967e"
      },
      "source": [
        "!kaggle datasets download -d aungpyaeap/fish-market\n",
        "!unzip '*.zip'"
      ],
      "execution_count": 4,
      "outputs": [
        {
          "output_type": "stream",
          "name": "stdout",
          "text": [
            "Downloading fish-market.zip to /content\n",
            "\r  0% 0.00/2.39k [00:00<?, ?B/s]\n",
            "\r100% 2.39k/2.39k [00:00<00:00, 1.58MB/s]\n",
            "Archive:  fish-market.zip\n",
            "  inflating: Fish.csv                \n"
          ]
        }
      ]
    },
    {
      "cell_type": "code",
      "source": [
        "!ls"
      ],
      "metadata": {
        "colab": {
          "base_uri": "https://localhost:8080/"
        },
        "id": "2-MvGqNeGNxw",
        "outputId": "f95d313c-ea42-4e4c-df6e-32a6558dad5e"
      },
      "execution_count": 5,
      "outputs": [
        {
          "output_type": "stream",
          "name": "stdout",
          "text": [
            "Fish.csv  fish-market.zip  sample_data\n"
          ]
        }
      ]
    },
    {
      "cell_type": "code",
      "metadata": {
        "id": "RnJv-4YwCMSx"
      },
      "source": [
        "df = pd.read_csv('Fish.csv')"
      ],
      "execution_count": 6,
      "outputs": []
    },
    {
      "cell_type": "code",
      "source": [
        "y=df['Species']\n",
        "X=df.drop('Species', axis=1)"
      ],
      "metadata": {
        "id": "DmeNZ2yQ68mc"
      },
      "execution_count": 7,
      "outputs": []
    },
    {
      "cell_type": "markdown",
      "source": [
        "# 정규화"
      ],
      "metadata": {
        "id": "RZlS7AIxYnS7"
      }
    },
    {
      "cell_type": "code",
      "source": [
        "from sklearn.preprocessing import StandardScaler\n",
        "\n",
        "scaler = StandardScaler()\n",
        "X = pd.DataFrame(scaler.fit_transform(X), columns=X.columns)"
      ],
      "metadata": {
        "id": "r2XkKaIs68W-"
      },
      "execution_count": 8,
      "outputs": []
    },
    {
      "cell_type": "code",
      "source": [
        "from sklearn.preprocessing import LabelEncoder\n",
        "\n",
        "encoder = LabelEncoder()\n",
        "y = encoder.fit_transform(y)\n",
        "y_mapping = {index: label for index, label in enumerate(encoder.classes_)}"
      ],
      "metadata": {
        "id": "JDyfj_cQ8XWm"
      },
      "execution_count": 9,
      "outputs": []
    },
    {
      "cell_type": "code",
      "source": [
        "y_mapping\n",
        "# 수치형으로 변환"
      ],
      "metadata": {
        "colab": {
          "base_uri": "https://localhost:8080/"
        },
        "id": "84rp8FYR85cd",
        "outputId": "218c4798-9820-45d8-d380-8c7dc8b3546b"
      },
      "execution_count": null,
      "outputs": [
        {
          "output_type": "execute_result",
          "data": {
            "text/plain": [
              "{0: 'Bream',\n",
              " 1: 'Parkki',\n",
              " 2: 'Perch',\n",
              " 3: 'Pike',\n",
              " 4: 'Roach',\n",
              " 5: 'Smelt',\n",
              " 6: 'Whitefish'}"
            ]
          },
          "metadata": {},
          "execution_count": 23
        }
      ]
    },
    {
      "cell_type": "markdown",
      "source": [
        "# 훈련 데이터 나누기"
      ],
      "metadata": {
        "id": "K5URw42SYrOy"
      }
    },
    {
      "cell_type": "code",
      "source": [
        "from sklearn.model_selection import train_test_split\n",
        "train_input,  test_input, train_target, test_target = train_test_split(X, y, test_size=0.3, random_state=42)"
      ],
      "metadata": {
        "id": "tWuXnDCB9srm"
      },
      "execution_count": 10,
      "outputs": []
    },
    {
      "cell_type": "markdown",
      "source": [
        "# 다중 회귀"
      ],
      "metadata": {
        "id": "-x3Pjp-WYwiD"
      }
    },
    {
      "cell_type": "code",
      "source": [
        "from sklearn.preprocessing import PolynomialFeatures\n",
        "\n",
        "poly_features = PolynomialFeatures(degree=5, include_bias=False)\n",
        "poly_features.fit(train_input)\n",
        "train_poly = poly_features.transform(train_input)\n",
        "test_poly = poly_features.transform(test_input)"
      ],
      "metadata": {
        "id": "4Ao3GGHpX8CL"
      },
      "execution_count": 20,
      "outputs": []
    },
    {
      "cell_type": "markdown",
      "source": [
        "## 특성 개수"
      ],
      "metadata": {
        "id": "e4g04Dt-YzSB"
      }
    },
    {
      "cell_type": "code",
      "source": [
        "poly_features.get_feature_names_out()"
      ],
      "metadata": {
        "colab": {
          "base_uri": "https://localhost:8080/"
        },
        "id": "nxtARr87YYnj",
        "outputId": "8e6acdd5-409a-49d0-d7af-9b92b18a54b0"
      },
      "execution_count": 21,
      "outputs": [
        {
          "output_type": "execute_result",
          "data": {
            "text/plain": [
              "array(['Weight', 'Length1', 'Length2', 'Length3', 'Height', 'Width',\n",
              "       'Weight^2', 'Weight Length1', 'Weight Length2', 'Weight Length3',\n",
              "       'Weight Height', 'Weight Width', 'Length1^2', 'Length1 Length2',\n",
              "       'Length1 Length3', 'Length1 Height', 'Length1 Width', 'Length2^2',\n",
              "       'Length2 Length3', 'Length2 Height', 'Length2 Width', 'Length3^2',\n",
              "       'Length3 Height', 'Length3 Width', 'Height^2', 'Height Width',\n",
              "       'Width^2', 'Weight^3', 'Weight^2 Length1', 'Weight^2 Length2',\n",
              "       'Weight^2 Length3', 'Weight^2 Height', 'Weight^2 Width',\n",
              "       'Weight Length1^2', 'Weight Length1 Length2',\n",
              "       'Weight Length1 Length3', 'Weight Length1 Height',\n",
              "       'Weight Length1 Width', 'Weight Length2^2',\n",
              "       'Weight Length2 Length3', 'Weight Length2 Height',\n",
              "       'Weight Length2 Width', 'Weight Length3^2',\n",
              "       'Weight Length3 Height', 'Weight Length3 Width', 'Weight Height^2',\n",
              "       'Weight Height Width', 'Weight Width^2', 'Length1^3',\n",
              "       'Length1^2 Length2', 'Length1^2 Length3', 'Length1^2 Height',\n",
              "       'Length1^2 Width', 'Length1 Length2^2', 'Length1 Length2 Length3',\n",
              "       'Length1 Length2 Height', 'Length1 Length2 Width',\n",
              "       'Length1 Length3^2', 'Length1 Length3 Height',\n",
              "       'Length1 Length3 Width', 'Length1 Height^2',\n",
              "       'Length1 Height Width', 'Length1 Width^2', 'Length2^3',\n",
              "       'Length2^2 Length3', 'Length2^2 Height', 'Length2^2 Width',\n",
              "       'Length2 Length3^2', 'Length2 Length3 Height',\n",
              "       'Length2 Length3 Width', 'Length2 Height^2',\n",
              "       'Length2 Height Width', 'Length2 Width^2', 'Length3^3',\n",
              "       'Length3^2 Height', 'Length3^2 Width', 'Length3 Height^2',\n",
              "       'Length3 Height Width', 'Length3 Width^2', 'Height^3',\n",
              "       'Height^2 Width', 'Height Width^2', 'Width^3', 'Weight^4',\n",
              "       'Weight^3 Length1', 'Weight^3 Length2', 'Weight^3 Length3',\n",
              "       'Weight^3 Height', 'Weight^3 Width', 'Weight^2 Length1^2',\n",
              "       'Weight^2 Length1 Length2', 'Weight^2 Length1 Length3',\n",
              "       'Weight^2 Length1 Height', 'Weight^2 Length1 Width',\n",
              "       'Weight^2 Length2^2', 'Weight^2 Length2 Length3',\n",
              "       'Weight^2 Length2 Height', 'Weight^2 Length2 Width',\n",
              "       'Weight^2 Length3^2', 'Weight^2 Length3 Height',\n",
              "       'Weight^2 Length3 Width', 'Weight^2 Height^2',\n",
              "       'Weight^2 Height Width', 'Weight^2 Width^2', 'Weight Length1^3',\n",
              "       'Weight Length1^2 Length2', 'Weight Length1^2 Length3',\n",
              "       'Weight Length1^2 Height', 'Weight Length1^2 Width',\n",
              "       'Weight Length1 Length2^2', 'Weight Length1 Length2 Length3',\n",
              "       'Weight Length1 Length2 Height', 'Weight Length1 Length2 Width',\n",
              "       'Weight Length1 Length3^2', 'Weight Length1 Length3 Height',\n",
              "       'Weight Length1 Length3 Width', 'Weight Length1 Height^2',\n",
              "       'Weight Length1 Height Width', 'Weight Length1 Width^2',\n",
              "       'Weight Length2^3', 'Weight Length2^2 Length3',\n",
              "       'Weight Length2^2 Height', 'Weight Length2^2 Width',\n",
              "       'Weight Length2 Length3^2', 'Weight Length2 Length3 Height',\n",
              "       'Weight Length2 Length3 Width', 'Weight Length2 Height^2',\n",
              "       'Weight Length2 Height Width', 'Weight Length2 Width^2',\n",
              "       'Weight Length3^3', 'Weight Length3^2 Height',\n",
              "       'Weight Length3^2 Width', 'Weight Length3 Height^2',\n",
              "       'Weight Length3 Height Width', 'Weight Length3 Width^2',\n",
              "       'Weight Height^3', 'Weight Height^2 Width',\n",
              "       'Weight Height Width^2', 'Weight Width^3', 'Length1^4',\n",
              "       'Length1^3 Length2', 'Length1^3 Length3', 'Length1^3 Height',\n",
              "       'Length1^3 Width', 'Length1^2 Length2^2',\n",
              "       'Length1^2 Length2 Length3', 'Length1^2 Length2 Height',\n",
              "       'Length1^2 Length2 Width', 'Length1^2 Length3^2',\n",
              "       'Length1^2 Length3 Height', 'Length1^2 Length3 Width',\n",
              "       'Length1^2 Height^2', 'Length1^2 Height Width',\n",
              "       'Length1^2 Width^2', 'Length1 Length2^3',\n",
              "       'Length1 Length2^2 Length3', 'Length1 Length2^2 Height',\n",
              "       'Length1 Length2^2 Width', 'Length1 Length2 Length3^2',\n",
              "       'Length1 Length2 Length3 Height', 'Length1 Length2 Length3 Width',\n",
              "       'Length1 Length2 Height^2', 'Length1 Length2 Height Width',\n",
              "       'Length1 Length2 Width^2', 'Length1 Length3^3',\n",
              "       'Length1 Length3^2 Height', 'Length1 Length3^2 Width',\n",
              "       'Length1 Length3 Height^2', 'Length1 Length3 Height Width',\n",
              "       'Length1 Length3 Width^2', 'Length1 Height^3',\n",
              "       'Length1 Height^2 Width', 'Length1 Height Width^2',\n",
              "       'Length1 Width^3', 'Length2^4', 'Length2^3 Length3',\n",
              "       'Length2^3 Height', 'Length2^3 Width', 'Length2^2 Length3^2',\n",
              "       'Length2^2 Length3 Height', 'Length2^2 Length3 Width',\n",
              "       'Length2^2 Height^2', 'Length2^2 Height Width',\n",
              "       'Length2^2 Width^2', 'Length2 Length3^3',\n",
              "       'Length2 Length3^2 Height', 'Length2 Length3^2 Width',\n",
              "       'Length2 Length3 Height^2', 'Length2 Length3 Height Width',\n",
              "       'Length2 Length3 Width^2', 'Length2 Height^3',\n",
              "       'Length2 Height^2 Width', 'Length2 Height Width^2',\n",
              "       'Length2 Width^3', 'Length3^4', 'Length3^3 Height',\n",
              "       'Length3^3 Width', 'Length3^2 Height^2', 'Length3^2 Height Width',\n",
              "       'Length3^2 Width^2', 'Length3 Height^3', 'Length3 Height^2 Width',\n",
              "       'Length3 Height Width^2', 'Length3 Width^3', 'Height^4',\n",
              "       'Height^3 Width', 'Height^2 Width^2', 'Height Width^3', 'Width^4',\n",
              "       'Weight^5', 'Weight^4 Length1', 'Weight^4 Length2',\n",
              "       'Weight^4 Length3', 'Weight^4 Height', 'Weight^4 Width',\n",
              "       'Weight^3 Length1^2', 'Weight^3 Length1 Length2',\n",
              "       'Weight^3 Length1 Length3', 'Weight^3 Length1 Height',\n",
              "       'Weight^3 Length1 Width', 'Weight^3 Length2^2',\n",
              "       'Weight^3 Length2 Length3', 'Weight^3 Length2 Height',\n",
              "       'Weight^3 Length2 Width', 'Weight^3 Length3^2',\n",
              "       'Weight^3 Length3 Height', 'Weight^3 Length3 Width',\n",
              "       'Weight^3 Height^2', 'Weight^3 Height Width', 'Weight^3 Width^2',\n",
              "       'Weight^2 Length1^3', 'Weight^2 Length1^2 Length2',\n",
              "       'Weight^2 Length1^2 Length3', 'Weight^2 Length1^2 Height',\n",
              "       'Weight^2 Length1^2 Width', 'Weight^2 Length1 Length2^2',\n",
              "       'Weight^2 Length1 Length2 Length3',\n",
              "       'Weight^2 Length1 Length2 Height',\n",
              "       'Weight^2 Length1 Length2 Width', 'Weight^2 Length1 Length3^2',\n",
              "       'Weight^2 Length1 Length3 Height',\n",
              "       'Weight^2 Length1 Length3 Width', 'Weight^2 Length1 Height^2',\n",
              "       'Weight^2 Length1 Height Width', 'Weight^2 Length1 Width^2',\n",
              "       'Weight^2 Length2^3', 'Weight^2 Length2^2 Length3',\n",
              "       'Weight^2 Length2^2 Height', 'Weight^2 Length2^2 Width',\n",
              "       'Weight^2 Length2 Length3^2', 'Weight^2 Length2 Length3 Height',\n",
              "       'Weight^2 Length2 Length3 Width', 'Weight^2 Length2 Height^2',\n",
              "       'Weight^2 Length2 Height Width', 'Weight^2 Length2 Width^2',\n",
              "       'Weight^2 Length3^3', 'Weight^2 Length3^2 Height',\n",
              "       'Weight^2 Length3^2 Width', 'Weight^2 Length3 Height^2',\n",
              "       'Weight^2 Length3 Height Width', 'Weight^2 Length3 Width^2',\n",
              "       'Weight^2 Height^3', 'Weight^2 Height^2 Width',\n",
              "       'Weight^2 Height Width^2', 'Weight^2 Width^3', 'Weight Length1^4',\n",
              "       'Weight Length1^3 Length2', 'Weight Length1^3 Length3',\n",
              "       'Weight Length1^3 Height', 'Weight Length1^3 Width',\n",
              "       'Weight Length1^2 Length2^2', 'Weight Length1^2 Length2 Length3',\n",
              "       'Weight Length1^2 Length2 Height',\n",
              "       'Weight Length1^2 Length2 Width', 'Weight Length1^2 Length3^2',\n",
              "       'Weight Length1^2 Length3 Height',\n",
              "       'Weight Length1^2 Length3 Width', 'Weight Length1^2 Height^2',\n",
              "       'Weight Length1^2 Height Width', 'Weight Length1^2 Width^2',\n",
              "       'Weight Length1 Length2^3', 'Weight Length1 Length2^2 Length3',\n",
              "       'Weight Length1 Length2^2 Height',\n",
              "       'Weight Length1 Length2^2 Width',\n",
              "       'Weight Length1 Length2 Length3^2',\n",
              "       'Weight Length1 Length2 Length3 Height',\n",
              "       'Weight Length1 Length2 Length3 Width',\n",
              "       'Weight Length1 Length2 Height^2',\n",
              "       'Weight Length1 Length2 Height Width',\n",
              "       'Weight Length1 Length2 Width^2', 'Weight Length1 Length3^3',\n",
              "       'Weight Length1 Length3^2 Height',\n",
              "       'Weight Length1 Length3^2 Width',\n",
              "       'Weight Length1 Length3 Height^2',\n",
              "       'Weight Length1 Length3 Height Width',\n",
              "       'Weight Length1 Length3 Width^2', 'Weight Length1 Height^3',\n",
              "       'Weight Length1 Height^2 Width', 'Weight Length1 Height Width^2',\n",
              "       'Weight Length1 Width^3', 'Weight Length2^4',\n",
              "       'Weight Length2^3 Length3', 'Weight Length2^3 Height',\n",
              "       'Weight Length2^3 Width', 'Weight Length2^2 Length3^2',\n",
              "       'Weight Length2^2 Length3 Height',\n",
              "       'Weight Length2^2 Length3 Width', 'Weight Length2^2 Height^2',\n",
              "       'Weight Length2^2 Height Width', 'Weight Length2^2 Width^2',\n",
              "       'Weight Length2 Length3^3', 'Weight Length2 Length3^2 Height',\n",
              "       'Weight Length2 Length3^2 Width',\n",
              "       'Weight Length2 Length3 Height^2',\n",
              "       'Weight Length2 Length3 Height Width',\n",
              "       'Weight Length2 Length3 Width^2', 'Weight Length2 Height^3',\n",
              "       'Weight Length2 Height^2 Width', 'Weight Length2 Height Width^2',\n",
              "       'Weight Length2 Width^3', 'Weight Length3^4',\n",
              "       'Weight Length3^3 Height', 'Weight Length3^3 Width',\n",
              "       'Weight Length3^2 Height^2', 'Weight Length3^2 Height Width',\n",
              "       'Weight Length3^2 Width^2', 'Weight Length3 Height^3',\n",
              "       'Weight Length3 Height^2 Width', 'Weight Length3 Height Width^2',\n",
              "       'Weight Length3 Width^3', 'Weight Height^4',\n",
              "       'Weight Height^3 Width', 'Weight Height^2 Width^2',\n",
              "       'Weight Height Width^3', 'Weight Width^4', 'Length1^5',\n",
              "       'Length1^4 Length2', 'Length1^4 Length3', 'Length1^4 Height',\n",
              "       'Length1^4 Width', 'Length1^3 Length2^2',\n",
              "       'Length1^3 Length2 Length3', 'Length1^3 Length2 Height',\n",
              "       'Length1^3 Length2 Width', 'Length1^3 Length3^2',\n",
              "       'Length1^3 Length3 Height', 'Length1^3 Length3 Width',\n",
              "       'Length1^3 Height^2', 'Length1^3 Height Width',\n",
              "       'Length1^3 Width^2', 'Length1^2 Length2^3',\n",
              "       'Length1^2 Length2^2 Length3', 'Length1^2 Length2^2 Height',\n",
              "       'Length1^2 Length2^2 Width', 'Length1^2 Length2 Length3^2',\n",
              "       'Length1^2 Length2 Length3 Height',\n",
              "       'Length1^2 Length2 Length3 Width', 'Length1^2 Length2 Height^2',\n",
              "       'Length1^2 Length2 Height Width', 'Length1^2 Length2 Width^2',\n",
              "       'Length1^2 Length3^3', 'Length1^2 Length3^2 Height',\n",
              "       'Length1^2 Length3^2 Width', 'Length1^2 Length3 Height^2',\n",
              "       'Length1^2 Length3 Height Width', 'Length1^2 Length3 Width^2',\n",
              "       'Length1^2 Height^3', 'Length1^2 Height^2 Width',\n",
              "       'Length1^2 Height Width^2', 'Length1^2 Width^3',\n",
              "       'Length1 Length2^4', 'Length1 Length2^3 Length3',\n",
              "       'Length1 Length2^3 Height', 'Length1 Length2^3 Width',\n",
              "       'Length1 Length2^2 Length3^2', 'Length1 Length2^2 Length3 Height',\n",
              "       'Length1 Length2^2 Length3 Width', 'Length1 Length2^2 Height^2',\n",
              "       'Length1 Length2^2 Height Width', 'Length1 Length2^2 Width^2',\n",
              "       'Length1 Length2 Length3^3', 'Length1 Length2 Length3^2 Height',\n",
              "       'Length1 Length2 Length3^2 Width',\n",
              "       'Length1 Length2 Length3 Height^2',\n",
              "       'Length1 Length2 Length3 Height Width',\n",
              "       'Length1 Length2 Length3 Width^2', 'Length1 Length2 Height^3',\n",
              "       'Length1 Length2 Height^2 Width', 'Length1 Length2 Height Width^2',\n",
              "       'Length1 Length2 Width^3', 'Length1 Length3^4',\n",
              "       'Length1 Length3^3 Height', 'Length1 Length3^3 Width',\n",
              "       'Length1 Length3^2 Height^2', 'Length1 Length3^2 Height Width',\n",
              "       'Length1 Length3^2 Width^2', 'Length1 Length3 Height^3',\n",
              "       'Length1 Length3 Height^2 Width', 'Length1 Length3 Height Width^2',\n",
              "       'Length1 Length3 Width^3', 'Length1 Height^4',\n",
              "       'Length1 Height^3 Width', 'Length1 Height^2 Width^2',\n",
              "       'Length1 Height Width^3', 'Length1 Width^4', 'Length2^5',\n",
              "       'Length2^4 Length3', 'Length2^4 Height', 'Length2^4 Width',\n",
              "       'Length2^3 Length3^2', 'Length2^3 Length3 Height',\n",
              "       'Length2^3 Length3 Width', 'Length2^3 Height^2',\n",
              "       'Length2^3 Height Width', 'Length2^3 Width^2',\n",
              "       'Length2^2 Length3^3', 'Length2^2 Length3^2 Height',\n",
              "       'Length2^2 Length3^2 Width', 'Length2^2 Length3 Height^2',\n",
              "       'Length2^2 Length3 Height Width', 'Length2^2 Length3 Width^2',\n",
              "       'Length2^2 Height^3', 'Length2^2 Height^2 Width',\n",
              "       'Length2^2 Height Width^2', 'Length2^2 Width^3',\n",
              "       'Length2 Length3^4', 'Length2 Length3^3 Height',\n",
              "       'Length2 Length3^3 Width', 'Length2 Length3^2 Height^2',\n",
              "       'Length2 Length3^2 Height Width', 'Length2 Length3^2 Width^2',\n",
              "       'Length2 Length3 Height^3', 'Length2 Length3 Height^2 Width',\n",
              "       'Length2 Length3 Height Width^2', 'Length2 Length3 Width^3',\n",
              "       'Length2 Height^4', 'Length2 Height^3 Width',\n",
              "       'Length2 Height^2 Width^2', 'Length2 Height Width^3',\n",
              "       'Length2 Width^4', 'Length3^5', 'Length3^4 Height',\n",
              "       'Length3^4 Width', 'Length3^3 Height^2', 'Length3^3 Height Width',\n",
              "       'Length3^3 Width^2', 'Length3^2 Height^3',\n",
              "       'Length3^2 Height^2 Width', 'Length3^2 Height Width^2',\n",
              "       'Length3^2 Width^3', 'Length3 Height^4', 'Length3 Height^3 Width',\n",
              "       'Length3 Height^2 Width^2', 'Length3 Height Width^3',\n",
              "       'Length3 Width^4', 'Height^5', 'Height^4 Width',\n",
              "       'Height^3 Width^2', 'Height^2 Width^3', 'Height Width^4',\n",
              "       'Width^5'], dtype=object)"
            ]
          },
          "metadata": {},
          "execution_count": 21
        }
      ]
    },
    {
      "cell_type": "markdown",
      "source": [
        "## 모델 훈련"
      ],
      "metadata": {
        "id": "aXEHpRYbY1wI"
      }
    },
    {
      "cell_type": "code",
      "source": [
        "from sklearn.linear_model import LogisticRegression\n",
        "lr = LogisticRegression(max_iter=1000)\n",
        "\n",
        "lr.fit(train_poly, train_target)\n",
        "print(lr.score(train_poly, train_target))"
      ],
      "metadata": {
        "colab": {
          "base_uri": "https://localhost:8080/"
        },
        "id": "CRcpS2xuYFTs",
        "outputId": "12fa3bce-b7be-4a5c-ef94-b961b63bbf79"
      },
      "execution_count": 22,
      "outputs": [
        {
          "output_type": "stream",
          "name": "stdout",
          "text": [
            "0.9369369369369369\n"
          ]
        }
      ]
    },
    {
      "cell_type": "code",
      "source": [
        "print(lr.score(test_poly, test_target))"
      ],
      "metadata": {
        "colab": {
          "base_uri": "https://localhost:8080/"
        },
        "id": "gsuHYpugYhUj",
        "outputId": "376bc634-79f7-4a5f-e3bc-65369b8770d0"
      },
      "execution_count": 23,
      "outputs": [
        {
          "output_type": "stream",
          "name": "stdout",
          "text": [
            "0.9166666666666666\n"
          ]
        }
      ]
    },
    {
      "cell_type": "markdown",
      "source": [
        "# 규제"
      ],
      "metadata": {
        "id": "10JZ4DEsYkcS"
      }
    },
    {
      "cell_type": "markdown",
      "source": [
        "## 릿지"
      ],
      "metadata": {
        "id": "VF_7lOmiZBKU"
      }
    },
    {
      "cell_type": "code",
      "source": [
        "from sklearn.preprocessing import StandardScaler\n",
        "\n",
        "ss = StandardScaler()\n",
        "ss.fit(train_poly)\n",
        "\n",
        "train_scaled = ss.transform(train_poly)\n",
        "test_scaled = ss.transform(test_poly)"
      ],
      "metadata": {
        "id": "SqDGIauGZD1Z"
      },
      "execution_count": 24,
      "outputs": []
    },
    {
      "cell_type": "code",
      "source": [
        "from sklearn.linear_model import Ridge\n",
        "\n",
        "ridge = Ridge()\n",
        "ridge.fit(train_scaled, train_target)\n",
        "print(ridge.score(train_scaled, train_target))"
      ],
      "metadata": {
        "colab": {
          "base_uri": "https://localhost:8080/"
        },
        "id": "GEGHhDH5ZE06",
        "outputId": "d3a5d8c9-d893-4361-a11b-1bede4587662"
      },
      "execution_count": 25,
      "outputs": [
        {
          "output_type": "stream",
          "name": "stdout",
          "text": [
            "0.7687811119800768\n"
          ]
        }
      ]
    },
    {
      "cell_type": "code",
      "source": [
        "print(ridge.score(test_scaled, test_target))"
      ],
      "metadata": {
        "colab": {
          "base_uri": "https://localhost:8080/"
        },
        "id": "3h9ephpiZFgD",
        "outputId": "3c789b66-f850-4c94-e4f5-b9d1503830bf"
      },
      "execution_count": 26,
      "outputs": [
        {
          "output_type": "stream",
          "name": "stdout",
          "text": [
            "0.7050343160772852\n"
          ]
        }
      ]
    },
    {
      "cell_type": "code",
      "source": [
        "import matplotlib.pyplot as plt\n",
        "\n",
        "train_score = []\n",
        "test_score = []"
      ],
      "metadata": {
        "id": "W51a4q_lZGSD"
      },
      "execution_count": 27,
      "outputs": []
    },
    {
      "cell_type": "code",
      "source": [
        "alpha_list = [0.001, 0.01, 0.1, 1, 10, 100]\n",
        "for alpha in alpha_list:\n",
        "    # 릿지 모델을 만듭니다\n",
        "    ridge = Ridge(alpha=alpha)\n",
        "    # 릿지 모델을 훈련합니다\n",
        "    ridge.fit(train_scaled, train_target)\n",
        "    # 훈련 점수와 테스트 점수를 저장합니다\n",
        "    train_score.append(ridge.score(train_scaled, train_target))\n",
        "    test_score.append(ridge.score(test_scaled, test_target))"
      ],
      "metadata": {
        "id": "tXF4l6CCZRpv"
      },
      "execution_count": 28,
      "outputs": []
    },
    {
      "cell_type": "code",
      "source": [
        "plt.plot(np.log10(alpha_list), train_score)\n",
        "plt.plot(np.log10(alpha_list), test_score)\n",
        "plt.xlabel('alpha')\n",
        "plt.ylabel('R^2')\n",
        "plt.show()"
      ],
      "metadata": {
        "colab": {
          "base_uri": "https://localhost:8080/",
          "height": 279
        },
        "id": "HETBD41zZSXa",
        "outputId": "baf1efb9-2307-4c52-827b-a6427f5056d4"
      },
      "execution_count": 29,
      "outputs": [
        {
          "output_type": "display_data",
          "data": {
            "text/plain": [
              "<Figure size 432x288 with 1 Axes>"
            ],
            "image/png": "[encoded data removed]"
          },
          "metadata": {
            "needs_background": "light"
          }
        }
      ]
    },
    {
      "cell_type": "code",
      "source": [
        "ridge = Ridge(alpha=0.1)\n",
        "ridge.fit(train_scaled, train_target)\n",
        "\n",
        "print(ridge.score(train_scaled, train_target))\n",
        "print(ridge.score(test_scaled, test_target))"
      ],
      "metadata": {
        "colab": {
          "base_uri": "https://localhost:8080/"
        },
        "id": "lGRbLrmUZTUB",
        "outputId": "60da8091-3e83-4b4a-837d-0b4ce89a72cf"
      },
      "execution_count": 30,
      "outputs": [
        {
          "output_type": "stream",
          "name": "stdout",
          "text": [
            "0.8872235380891996\n",
            "0.680523394938029\n"
          ]
        }
      ]
    },
    {
      "cell_type": "markdown",
      "source": [
        "# 라쏘"
      ],
      "metadata": {
        "id": "MpJ105nWZKfz"
      }
    },
    {
      "cell_type": "code",
      "source": [
        "from sklearn.linear_model import Lasso\n",
        "\n",
        "lasso = Lasso()\n",
        "lasso.fit(train_scaled, train_target)\n",
        "print(lasso.score(train_scaled, train_target))"
      ],
      "metadata": {
        "colab": {
          "base_uri": "https://localhost:8080/"
        },
        "id": "NbsDhn-1ZXlh",
        "outputId": "da4aa069-35eb-44d5-f929-18587a6326cb"
      },
      "execution_count": 31,
      "outputs": [
        {
          "output_type": "stream",
          "name": "stdout",
          "text": [
            "0.07739589323303164\n"
          ]
        }
      ]
    },
    {
      "cell_type": "code",
      "source": [
        "print(lasso.score(test_scaled, test_target))"
      ],
      "metadata": {
        "colab": {
          "base_uri": "https://localhost:8080/"
        },
        "id": "24GqALScZYo5",
        "outputId": "1b1dc695-3e0b-4b01-ff71-e35bb1df24c0"
      },
      "execution_count": 32,
      "outputs": [
        {
          "output_type": "stream",
          "name": "stdout",
          "text": [
            "0.083669763955044\n"
          ]
        }
      ]
    },
    {
      "cell_type": "code",
      "source": [
        "train_score = []\n",
        "test_score = []\n",
        "\n",
        "alpha_list = [0.001, 0.01, 0.1, 1, 10, 100]\n",
        "for alpha in alpha_list:\n",
        "    # 라쏘 모델을 만듭니다\n",
        "    lasso = Lasso(alpha=alpha, max_iter=10000)\n",
        "    # 라쏘 모델을 훈련합니다\n",
        "    lasso.fit(train_scaled, train_target)\n",
        "    # 훈련 점수와 테스트 점수를 저장합니다\n",
        "    train_score.append(lasso.score(train_scaled, train_target))\n",
        "    test_score.append(lasso.score(test_scaled, test_target))"
      ],
      "metadata": {
        "colab": {
          "base_uri": "https://localhost:8080/"
        },
        "id": "bBhQ-5R7ZZkR",
        "outputId": "3a20cafd-bc80-49b7-f4d3-ff64ffc1ead7"
      },
      "execution_count": 33,
      "outputs": [
        {
          "output_type": "stream",
          "name": "stderr",
          "text": [
            "/usr/local/lib/python3.7/dist-packages/sklearn/linear_model/_coordinate_descent.py:648: ConvergenceWarning: Objective did not converge. You might want to increase the number of iterations, check the scale of the features or consider increasing regularisation. Duality gap: 2.022e+00, tolerance: 2.849e-02\n",
            "  coef_, l1_reg, l2_reg, X, y, max_iter, tol, rng, random, positive\n"
          ]
        }
      ]
    },
    {
      "cell_type": "code",
      "source": [
        "plt.plot(np.log10(alpha_list), train_score)\n",
        "plt.plot(np.log10(alpha_list), test_score)\n",
        "plt.xlabel('alpha')\n",
        "plt.ylabel('R^2')\n",
        "plt.show()"
      ],
      "metadata": {
        "colab": {
          "base_uri": "https://localhost:8080/",
          "height": 279
        },
        "id": "M5ZKV7RdZaap",
        "outputId": "f3c60b42-678c-4d45-f849-6ad842132d4d"
      },
      "execution_count": 34,
      "outputs": [
        {
          "output_type": "display_data",
          "data": {
            "text/plain": [
              "<Figure size 432x288 with 1 Axes>"
            ],
            "image/png": "[encoded data removed]"
          },
          "metadata": {
            "needs_background": "light"
          }
        }
      ]
    },
    {
      "cell_type": "code",
      "source": [
        "print(np.sum(lasso.coef_ == 0))"
      ],
      "metadata": {
        "colab": {
          "base_uri": "https://localhost:8080/"
        },
        "id": "h1hNGFGUZbDi",
        "outputId": "93748873-5ef5-476d-a242-8f1481cef9e6"
      },
      "execution_count": 35,
      "outputs": [
        {
          "output_type": "stream",
          "name": "stdout",
          "text": [
            "461\n"
          ]
        }
      ]
    }
  ]
}